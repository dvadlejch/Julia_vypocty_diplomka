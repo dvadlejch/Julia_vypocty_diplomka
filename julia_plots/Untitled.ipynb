{
 "cells": [
  {
   "cell_type": "code",
   "execution_count": 6,
   "metadata": {},
   "outputs": [
    {
     "name": "stdout",
     "output_type": "stream",
     "text": [
      "\u001b[32m\u001b[1m Resolving\u001b[22m\u001b[39m package versions...\n",
      "\u001b[32m\u001b[1m  Updating\u001b[22m\u001b[39m `C:\\Users\\Dan\\.juliapro\\JuliaPro_v1.2.0-1\\environments\\v1.2\\Project.toml`\n",
      " \u001b[90m [b964fa9f]\u001b[39m\u001b[92m + LaTeXStrings v1.0.3\u001b[39m\n",
      "\u001b[32m\u001b[1m  Updating\u001b[22m\u001b[39m `C:\\Users\\Dan\\.juliapro\\JuliaPro_v1.2.0-1\\environments\\v1.2\\Manifest.toml`\n",
      "\u001b[90m [no changes]\u001b[39m\n"
     ]
    }
   ],
   "source": [
    "import Pkg\n",
    "Pkg.add(\"LaTeXStrings\")"
   ]
  },
  {
   "cell_type": "code",
   "execution_count": 7,
   "metadata": {},
   "outputs": [
    {
     "data": {
      "text/plain": [
       "Dict{String,Union{Nothing, VersionNumber}} with 11 entries:\n",
       "  \"PhysicalConstants\"     => v\"0.2.0\"\n",
       "  \"Atom\"                  => v\"0.9.1\"\n",
       "  \"Juno\"                  => v\"0.7.1\"\n",
       "  \"DelimitedFiles\"        => nothing\n",
       "  \"PyCall\"                => v\"1.91.2\"\n",
       "  \"LaTeXStrings\"          => v\"1.0.3\"\n",
       "  \"IJulia\"                => v\"1.19.0\"\n",
       "  \"Plots\"                 => v\"0.27.0\"\n",
       "  \"PyPlot\"                => v\"2.8.2\"\n",
       "  \"Unitful\"               => v\"0.17.0\"\n",
       "  \"DifferentialEquations\" => v\"6.8.0\""
      ]
     },
     "execution_count": 7,
     "metadata": {},
     "output_type": "execute_result"
    }
   ],
   "source": [
    "Pkg.installed()"
   ]
  },
  {
   "cell_type": "code",
   "execution_count": 1,
   "metadata": {},
   "outputs": [
    {
     "name": "stdout",
     "output_type": "stream",
     "text": [
      "\u001b[32m\u001b[1m  Building\u001b[22m\u001b[39m Conda ─→ `C:\\Users\\Dan\\.juliapro\\JuliaPro_v1.2.0-1\\packages\\Conda\\kLXeC\\deps\\build.log`\n",
      "\u001b[32m\u001b[1m  Building\u001b[22m\u001b[39m PyCall → `C:\\Users\\Dan\\.juliapro\\JuliaPro_v1.2.0-1\\packages\\PyCall\\ttONZ\\deps\\build.log`\n"
     ]
    },
    {
     "name": "stderr",
     "output_type": "stream",
     "text": [
      "┌ Error: Error building `PyCall`: \n",
      "│ ┌ Info: Using the Python distribution in the Conda package by default.\n",
      "│ └ To use a different Python version, set ENV[\"PYTHON\"]=\"pythoncommand\" and re-run Pkg.build(\"PyCall\").\n",
      "│ ERROR: LoadError: IOError: could not spawn setenv(`'C:\\Users\\Dan\\AppData\\Local\\Temp\\python.exe' 'C:\\Users\\Dan\\.juliapro\\JuliaPro_v1.2.0-1\\packages\\PyCall\\ttONZ\\deps\\find_libpython.py' --list-all`,[\"PATH=C:\\\\JuliaPro-1.2.0-1\\\\Julia-1.2.0\\\\share\\\\julia\\\\stdlib\\\\v1.2\\\\MbedTLS;C:\\\\JuliaPro-1.2.0-1\\\\Julia-1.2.0\\\\share\\\\julia\\\\stdlib\\\\v1.2\\\\MbedTLS\\\\deps\\\\usr\\\\bin;C:\\\\JuliaPro-1.2.0-1\\\\Julia-1.2.0\\\\share\\\\julia\\\\stdlib\\\\v1.2\\\\MbedTLS;C:\\\\JuliaPro-1.2.0-1\\\\Julia-1.2.0\\\\share\\\\julia\\\\stdlib\\\\v1.2\\\\MbedTLS\\\\deps\\\\usr\\\\bin;C:\\\\WINDOWS;C:\\\\Program Files (x86)\\\\Common Files\\\\Intel\\\\Shared Libraries\\\\redist\\\\intel64_win\\\\mpirt;C:\\\\Program Files (x86)\\\\Common Files\\\\Intel\\\\Shared Libraries\\\\redist\\\\intel64_win\\\\compiler;C:\\\\Program Files (x86)\\\\Common Files\\\\Intel\\\\Shared Libraries\\\\redist\\\\ia32_win\\\\mpirt;C:\\\\Program Files (x86)\\\\Common Files\\\\Intel\\\\Shared Libraries\\\\redist\\\\ia32_win\\\\compiler;C:\\\\WINDOWS\\\\system32;C:\\\\WINDOWS;C:\\\\WINDOWS\\\\System32\\\\Wbem;C:\\\\WINDOWS\\\\System32\\\\WindowsPowerShell\\\\v1.0\\\\;C:\\\\Program Files\\\\MATLAB\\\\R2016a\\\\runtime\\\\win64;C:\\\\Program Files\\\\MATLAB\\\\R2016a\\\\bin;C:\\\\Program Files\\\\MATLAB\\\\R2016a\\\\polyspace\\\\bin;C:\\\\Program Files\\\\MiKTeX 2.9\\\\miktex\\\\bin\\\\x64\\\\;C:\\\\WINDOWS\\\\System32\\\\OpenSSH\\\\;C:\\\\Users\\\\Dan\\\\Anaconda3;C:\\\\Users\\\\Dan\\\\Anaconda3\\\\Library\\\\mingw-w64\\\\bin;C:\\\\Users\\\\Dan\\\\Anaconda3\\\\Library\\\\usr\\\\bin;C:\\\\Users\\\\Dan\\\\Anaconda3\\\\Library\\\\bin;C:\\\\Users\\\\Dan\\\\Anaconda3\\\\Scripts;C:\\\\Users\\\\Dan\\\\Anaconda3\\\\bin;C:\\\\Users\\\\Dan\\\\Anaconda3\\\\condabin;C:\\\\Program Files\\\\Git\\\\cmd;C:\\\\Strawberry\\\\c\\\\bin;C:\\\\Strawberry\\\\perl\\\\site\\\\bin;C:\\\\Strawberry\\\\perl\\\\bin;C:\\\\Users\\\\Dan\\\\AppData\\\\Local\\\\Microsoft\\\\WindowsApps;C:\\\\Users\\\\Dan\\\\AppData\\\\Roaming\\\\MiKTeX\\\\2.9\\\\miktex\\\\bin\\\\x64\\\\;\", \"USERDOMAIN_ROAMINGPROFILE=DESKTOP-HBJC31A\", \"DISABLE_FALLBACK=true\", \"HOMEPATH=\\\\Users\\\\Dan\", \"KERNEL_LAUNCH_TIMEOUT=40\", \"PATHEXT=.COM;.EXE;.BAT;.CMD;.VBS;.VBE;.JS;.JSE;.WSF;.WSH;.MSC\", \"SESSIONNAME=Console\", \"SYSTEMROOT=C:\\\\WINDOWS\", \"APPDATA=C:\\\\Users\\\\Dan\\\\AppData\\\\Roaming\", \"PSMODULEPATH=C:\\\\Program Files\\\\WindowsPowerShell\\\\Modules;C:\\\\WINDOWS\\\\system32\\\\WindowsPowerShell\\\\v1.0\\\\Modules\", \"COMMONPROGRAMW6432=C:\\\\Program Files\\\\Common Files\", \"PROGRAMDATA=C:\\\\ProgramData\", \"PUBLIC=C:\\\\Users\\\\Public\", \"USERDOMAIN=DESKTOP-HBJC31A\", \"OS=Windows_NT\", \"PROCESSOR_REVISION=4501\", \"TMP=C:\\\\Users\\\\Dan\\\\AppData\\\\Local\\\\Temp\", \"COMSPEC=C:\\\\WINDOWS\\\\system32\\\\cmd.exe\", \"ALLUSERSPROFILE=C:\\\\ProgramData\", \"COMPUTERNAME=DESKTOP-HBJC31A\", \"USERNAME=Dan\", \"COLUMNS=80\", \"IPY_INTERRUPT_EVENT=3164\", \"USERPROFILE=C:\\\\Users\\\\Dan\", \"PROCESSOR_LEVEL=6\", \"JULIA_PKG_TOKEN_PATH=C:\\\\Users\\\\Dan\\\\.juliapro\\\\token.toml\", \"LINES=30\", \"=C:=C:\\\\Users\\\\Dan\\\\.juliapro\\\\JuliaPro_v1.2.0-1\\\\packages\\\\PyCall\\\\ttONZ\\\\deps\", \"PROGRAMW6432=C:\\\\Program Files\", \"TEMP=C:\\\\Users\\\\Dan\\\\AppData\\\\Local\\\\Temp\", \"HOMEDRIVE=C:\", \"PYTHONIOENCODING=UTF-8\", \"WINDIR=C:\\\\WINDOWS\", \"JPY_INTERRUPT_EVENT=3164\", \"LOCALAPPDATA=C:\\\\Users\\\\Dan\\\\AppData\\\\Local\", \"PROCESSOR_IDENTIFIER=Intel64 Family 6 Model 69 Stepping 1, GenuineIntel\", \"NUMBER_OF_PROCESSORS=4\", \"ADSK_CLM_WPAD_PROXY_CHECK=FALSE\", \"PROMPT=\\$P\\$G\", \"JULIA_PKG_SERVER=https://pkg.juliacomputing.com/\", \"ONEDRIVECOMMERCIAL=D:\\\\škola-onedrive\\\\OneDrive - Vysoké učení technické v Brně\", \"COMMONPROGRAMFILES(X86)=C:\\\\Program Files (x86)\\\\Common Files\", \"COMMONPROGRAMFILES=C:\\\\Program Files\\\\Common Files\", \"GNUPLOT_LIB=C:\\\\Program Files\\\\gnuplot\\\\demo;C:\\\\Program Files\\\\gnuplot\\\\demo\\\\games;C:\\\\Program Files\\\\gnuplot\\\\share\", \"ONEDRIVE=D:\\\\škola-onedrive\\\\OneDrive - Vysoké učení technické v Brně\", \"PROGRAMFILES(X86)=C:\\\\Program Files (x86)\", \"INTEL_DEV_REDIST=C:\\\\Program Files (x86)\\\\Common Files\\\\Intel\\\\Shared Libraries\\\\\", \"JUNORC_PATH=C:\\\\JuliaPro-1.2.0-1\\\\.atom\", \"PROGRAMFILES=C:\\\\Program Files\", \"JPY_PARENT_PID=3232\", \"OMP_NUM_THREADS=4\", \"LOGONSERVER=\\\\\\\\DESKTOP-HBJC31A\", \"DRIVERDATA=C:\\\\Windows\\\\System32\\\\Drivers\\\\DriverData\", \"FPS_BROWSER_USER_PROFILE_STRING=Default\", \"JULIA_LOAD_PATH=@;C:\\\\Users\\\\Dan\\\\AppData\\\\Local\\\\Temp\\\\jl_crINFQ\", \"SYSTEMDRIVE=C:\", \"FPS_BROWSER_APP_PROFILE_STRING=Internet Explorer\", \"PROCESSOR_ARCHITECTURE=AMD64\", \"OPENBLAS_MAIN_FREE=1\", \"MIC_LD_LIBRARY_PATH=C:\\\\Program Files (x86)\\\\Common Files\\\\Intel\\\\Shared Libraries\\\\compiler\\\\lib\\\\intel64_win_mic\"]): no such file or directory (ENOENT)\n",
      "│ Stacktrace:\n",
      "│  [1] _spawn_primitive(::String, ::Cmd, ::Array{Any,1}) at .\\process.jl:401\n",
      "│  [2] #526 at .\\process.jl:414 [inlined]\n",
      "│  [3] setup_stdios(::getfield(Base, Symbol(\"##526#527\")){Cmd}, ::Array{Any,1}) at .\\process.jl:498\n",
      "│  [4] _spawn at .\\process.jl:413 [inlined]\n",
      "│  [5] #eachline#532(::Bool, ::typeof(eachline), ::Cmd) at .\\process.jl:619\n",
      "│  [6] eachline at .\\process.jl:618 [inlined]\n",
      "│  [7] #readlines#290 at .\\io.jl:427 [inlined]\n",
      "│  [8] readlines at .\\io.jl:427 [inlined]\n",
      "│  [9] exec_find_libpython at C:\\Users\\Dan\\.juliapro\\JuliaPro_v1.2.0-1\\packages\\PyCall\\ttONZ\\deps\\buildutils.jl:28 [inlined]\n",
      "│  [10] #find_libpython#3(::typeof(Libdl.dlopen), ::typeof(find_libpython), ::String) at C:\\Users\\Dan\\.juliapro\\JuliaPro_v1.2.0-1\\packages\\PyCall\\ttONZ\\deps\\buildutils.jl:43\n",
      "│  [11] find_libpython(::String) at C:\\Users\\Dan\\.juliapro\\JuliaPro_v1.2.0-1\\packages\\PyCall\\ttONZ\\deps\\buildutils.jl:41\n",
      "│  [12] top-level scope at C:\\Users\\Dan\\.juliapro\\JuliaPro_v1.2.0-1\\packages\\PyCall\\ttONZ\\deps\\build.jl:87\n",
      "│  [13] include at .\\boot.jl:328 [inlined]\n",
      "│  [14] include_relative(::Module, ::String) at .\\loading.jl:1094\n",
      "│  [15] include(::Module, ::String) at .\\Base.jl:31\n",
      "│  [16] include(::String) at .\\client.jl:431\n",
      "│  [17] top-level scope at none:5\n",
      "│ in expression starting at C:\\Users\\Dan\\.juliapro\\JuliaPro_v1.2.0-1\\packages\\PyCall\\ttONZ\\deps\\build.jl:43\n",
      "└ @ Pkg.Operations C:\\Users\\julia\\AppData\\Local\\Julia-1.2.0\\share\\julia\\stdlib\\v1.2\\Pkg\\src\\Operations.jl:1138\n"
     ]
    }
   ],
   "source": [
    "import Pkg\n",
    "Pkg.build(\"PyCall\")"
   ]
  },
  {
   "cell_type": "code",
   "execution_count": 3,
   "metadata": {},
   "outputs": [
    {
     "name": "stdout",
     "output_type": "stream",
     "text": [
      "\u001b[32m\u001b[1m  Building\u001b[22m\u001b[39m Conda ─→ `C:\\Users\\Dan\\.juliapro\\JuliaPro_v1.2.0-1\\packages\\Conda\\kLXeC\\deps\\build.log`\n",
      "\u001b[32m\u001b[1m  Building\u001b[22m\u001b[39m PyCall → `C:\\Users\\Dan\\.juliapro\\JuliaPro_v1.2.0-1\\packages\\PyCall\\ttONZ\\deps\\build.log`\n"
     ]
    }
   ],
   "source": [
    "ENV[\"PYTHON\"]=\"C:\\\\Users\\\\Dan\\\\Anaconda3\\\\python.exe\"\n",
    "Pkg.build(\"PyCall\")"
   ]
  },
  {
   "cell_type": "code",
   "execution_count": null,
   "metadata": {},
   "outputs": [],
   "source": []
  }
 ],
 "metadata": {
  "kernelspec": {
   "display_name": "Julia 1.2.0",
   "language": "julia",
   "name": "julia-1.2"
  },
  "language_info": {
   "file_extension": ".jl",
   "mimetype": "application/julia",
   "name": "julia",
   "version": "1.2.0"
  }
 },
 "nbformat": 4,
 "nbformat_minor": 4
}
