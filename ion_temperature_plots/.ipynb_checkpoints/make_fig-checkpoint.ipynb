{
 "cells": [
  {
   "cell_type": "code",
   "execution_count": 5,
   "metadata": {},
   "outputs": [
    {
     "ename": "ArgumentError",
     "evalue": "ArgumentError: invalid gui none",
     "output_type": "error",
     "traceback": [
      "ArgumentError: invalid gui none",
      "",
      "Stacktrace:",
      " [1] pygui(::Symbol) at /home/dan/.julia/packages/PyCall/ttONZ/src/gui.jl:59",
      " [2] pygui_start(::Symbol, ::Float64) at /home/dan/.julia/packages/PyCall/ttONZ/src/gui.jl:222 (repeats 2 times)",
      " [3] pygui(::Bool) at /home/dan/.julia/packages/PyPlot/4wzW1/src/init.jl:224",
      " [4] top-level scope at In[5]:3"
     ]
    }
   ],
   "source": [
    "using Plots\n",
    "using PhysicalConstants.CODATA2018\n",
    "using Unitful\n",
    "using Statistics\n",
    "using LaTeXStrings\n",
    "\n",
    "include(\"get_mathi_traj.jl\")\n",
    "\n",
    "# parametry pasti\n",
    "Vrf = 500  # napeti radialnich elektrod [V]\n",
    "Udc = 1300  # napeti axialnich elektrod [V]\n",
    "Ω = 2*pi * 30e6 # budici frekvence pasti [Hz]\n",
    "\n",
    "T = 0.5e-3 # teplota iontu\n",
    "E_ext = [0,1,0]\n",
    "delta_phi = [0,2e-4,0] # fazovy rozdil protejsich radialnich elektrod [x, y, 0]\n",
    "phi = [0,0,0]\n",
    "\n",
    "# casovy rozsah\n",
    "tspan = range(0, 2*pi/Ω * 3, length=601)  # drive freq.\n",
    "#tspan = range(0, 6.145235e-7, length=601)   # sekularni freq.\n",
    "# analyticke reseni\n",
    "(u_sec, u_IMM, u_EMM,u_EMM_phase, Per_sec) = get_mathi_traj(Vrf, Udc, Ω, T, E_ext,\n",
    "    delta_phi, phi, tspan, div=true, sym_type=false)\n",
    "\n",
    "u = u_sec + u_IMM + u_EMM + u_EMM_phase # celkovy pohyb iontu\n",
    "\n",
    "(E_kin_sec, T_kin_sec) = get_E_kin_1D(u_sec[:,2])\n",
    "(E_kin_IMM, T_kin_IMM) = get_E_kin_1D(u_IMM[:,2])\n",
    "(E_kin_EMM, T_kin_EMM) = get_E_kin_1D(u_EMM[:,2])\n",
    "(E_kin_EMM_phase, T_kin_EMM_phase) = get_E_kin_1D(u_EMM_phase[:,2])\n",
    "\n",
    "\n",
    "\n",
    "pyplot()\n",
    "#gr()\n",
    "\n",
    "plot(tspan/Per_sec[2], T_kin_EMM * 1e3, label=\"EMM - externi DC pole\", dpi=200, legend=:topright)\n",
    "plot!(tspan/Per_sec[2], T_kin_EMM_phase * 1e3, label=\"EMM - fazovy rozdil\")\n",
    "xlabel!(L\"$ t/T_{\\rm{sec}} $\")\n",
    "ylabel!(L\" \\rm{Teplota \\,\\,[mK]}\")\n",
    "#plot!(tspan, T_kin_EMM)\n",
    "hline!( [mean(T_kin_EMM)*1e3] , linestyle=:dash, label=L\"$ \\left< T_{\\rm{EMM}} \\right>;\\,\\,\\, E_{\\rm{dc}} = 1 \\, \\rm{V/m} $\")\n",
    "hline!([ mean(T_kin_EMM_phase)*1e3], linestyle=:dash, label=L\"$ \\left< T_{\\rm{ph}} \\right>;\\,\\,\\, \\varphi_{\\rm{ac}} = 0,2 \\, \\rm{mrad}  $\")\n",
    "\n",
    "#savefig(\"D:\\\\Onedrive_vut\\\\ÚPT\\\\diplomka\\\\Julia_vypocty_diplomka\\\\ion_temperature_plots\\\\temp_vs_t_sec_IMM.pdf\")\n",
    "savefig(\"/home/dan/diplomka_winfiles/Julia_vypocty_diplomka/ion_temperature_plots/temp_vs_t_EMM_EMMphase.svg\")\n"
   ]
  },
  {
   "cell_type": "code",
   "execution_count": null,
   "metadata": {},
   "outputs": [],
   "source": []
  }
 ],
 "metadata": {
  "kernelspec": {
   "display_name": "Julia 1.2.0",
   "language": "julia",
   "name": "julia-1.2"
  },
  "language_info": {
   "file_extension": ".jl",
   "mimetype": "application/julia",
   "name": "julia",
   "version": "1.2.0"
  }
 },
 "nbformat": 4,
 "nbformat_minor": 4
}
