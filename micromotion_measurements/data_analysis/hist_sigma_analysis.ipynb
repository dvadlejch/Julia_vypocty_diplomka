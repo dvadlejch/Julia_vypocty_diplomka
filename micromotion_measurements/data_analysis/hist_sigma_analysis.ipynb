{
 "cells": [
  {
   "cell_type": "markdown",
   "metadata": {},
   "source": [
    "# Nejistota bodu histogramu + vliv na $\\Delta S/S_0$"
   ]
  },
  {
   "cell_type": "code",
   "execution_count": 1,
   "metadata": {},
   "outputs": [],
   "source": [
    "# Setup some Jupyter env features\n",
    "%load_ext autoreload\n",
    "%autoreload 2\n",
    "%matplotlib inline"
   ]
  },
  {
   "cell_type": "code",
   "execution_count": 2,
   "metadata": {},
   "outputs": [],
   "source": [
    "# plot dat\n",
    "import matplotlib.pyplot as plt\n",
    "from matplotlib import rc\n",
    "from matplotlib import rcParams\n",
    "\n",
    "rcParams[\"font.size\"] = 16\n",
    "rcParams[\"mathtext.fontset\"] = \"cm\"\n",
    "rcParams[\"mathtext.rm\"] = \"serif\"\n",
    "rcParams[\"text.usetex\"] = \"true\";\n",
    "rc('text', usetex=True)\n",
    "\n",
    "my_dpi = 150\n",
    "siz = 100\n",
    "sizex = 16*siz\n",
    "sizey = 9*siz"
   ]
  },
  {
   "cell_type": "code",
   "execution_count": 65,
   "metadata": {},
   "outputs": [
    {
     "name": "stdout",
     "output_type": "stream",
     "text": [
      "(132, 7)\n",
      "[0.01315265 0.00829841 0.0055849  0.00458047 0.00328604 0.00267021\n",
      " 0.00224201]\n",
      "[11.7076822  14.87633441 20.44297741 32.9064444  35.99406263 50.60113255\n",
      " 57.87929953]\n",
      "[ 0.00000000e+00  0.00000000e+00  3.55271368e-15  0.00000000e+00\n",
      "  1.42108547e-14  0.00000000e+00 -1.42108547e-14]\n"
     ]
    }
   ],
   "source": [
    "import numpy as np\n",
    "\n",
    "####################### vstup\n",
    "\n",
    "# data z picoharpu ve formatu: array(  ) sloupce: jednotlive histogramy -- posledni radek nula\n",
    "# [data jednotlivych hist, cislo histogramy]\n",
    "fotkor = np.genfromtxt(\"sigma_hist_test_256_delim.txt\", delimiter=\"\\t\")[:,:-1] # signal bez MM \n",
    "\n",
    "# print(fotkor)\n",
    "\n",
    "# pomocne promene\n",
    "fotkor_shape = np.shape(fotkor)\n",
    "print(fotkor_shape)\n",
    "\n",
    "# parametry odecitani foton-korelacnich dat\n",
    "t_res = [ 256e-12, 256e-12, 256e-12, 256e-12, 256e-12, 256e-12, 256e-12]  # casove rozliseni histogramu v s\n",
    "t_measure = [5, 10, 20, 40, 60, 100, 150] # doba nacitani dat v s\n",
    "background_photocounts = [120, 120, 120, 120, 120, 120, 130]\n",
    "\n",
    "# casova skala foton-kor. dat\n",
    "# t_scale = np.array( range(0,fotkor_shape[0]) ) *t_res\n",
    "\n",
    "hist_sigmas = np.std(fotkor[:-2,:], axis=0)\n",
    "\n",
    "from EMM_min_func import get_hist_fit_single_photocountssum\n",
    "\n",
    "DeltaS_S_ratio = np.zeros(fotkor_shape[1])\n",
    "Delta_S_S_ratio_sigma_1 = np.zeros(fotkor_shape[1])\n",
    "photon_sum_1 = np.zeros(fotkor_shape[1])\n",
    "hist_sigmas_1 = np.zeros(fotkor_shape[1])\n",
    "# fot_phi_sigma = np.zeros(fotkor_shape[1])\n",
    "# x = np.zeros((3,fotkor_shape[1]))\n",
    "# Omega = np.zeros(fotkor_shape[1])\n",
    "# Omega_sigma = np.zeros(fotkor_shape[1])\n",
    "# nu = np.zeros(fotkor_shape[1])\n",
    "# t_scale = np.zeros(fotkor_shape[1])\n",
    "\n",
    "for i in range(fotkor_shape[1]):\n",
    "#     get_hist_fit_single(fotkor[:-2,i], t_res, t_measure[i], 0, hist_sigmas[i] )\n",
    "    DeltaS_S_ratio[i], Delta_S_S_ratio_sigma_1[i], photon_sum_1[i], hist_sigmas_1[i] = get_hist_fit_single_photocountssum(fotkor[:,i], t_res[i], t_measure[i], background_photocounts[i] )\n",
    "    \n",
    "print(Delta_S_S_ratio_sigma_1)\n",
    "print(hist_sigmas_1)\n",
    "print(hist_sigmas_1 - hist_sigmas)"
   ]
  },
  {
   "cell_type": "markdown",
   "metadata": {},
   "source": [
    "Predpokladam, ze $S(t)$ je konstantni. Odhad $\\sigma_{\\rm hist}$ by mela odpovidat klasickemu odhadu standardni odchylky"
   ]
  },
  {
   "cell_type": "code",
   "execution_count": 54,
   "metadata": {},
   "outputs": [
    {
     "data": {
      "text/plain": [
       "[<matplotlib.lines.Line2D at 0x7fe505a79a10>]"
      ]
     },
     "execution_count": 54,
     "metadata": {},
     "output_type": "execute_result"
    },
    {
     "data": {
      "image/png": "[encoded data removed]",
      "text/plain": [
       "<Figure size 432x288 with 1 Axes>"
      ]
     },
     "metadata": {
      "needs_background": "light"
     },
     "output_type": "display_data"
    }
   ],
   "source": [
    "plt.plot(t_measure, hist_sigmas, '.')"
   ]
  },
  {
   "cell_type": "code",
   "execution_count": 55,
   "metadata": {},
   "outputs": [
    {
     "data": {
      "text/plain": [
       "[<matplotlib.lines.Line2D at 0x7fe505a719d0>]"
      ]
     },
     "execution_count": 55,
     "metadata": {},
     "output_type": "execute_result"
    },
    {
     "data": {
      "image/png": "[encoded data removed]",
      "text/plain": [
       "<Figure size 432x288 with 1 Axes>"
      ]
     },
     "metadata": {
      "needs_background": "light"
     },
     "output_type": "display_data"
    }
   ],
   "source": [
    "plt.plot(t_measure, Delta_S_S_ratio_sigma_1, '.')"
   ]
  },
  {
   "cell_type": "code",
   "execution_count": 56,
   "metadata": {},
   "outputs": [
    {
     "data": {
      "text/plain": [
       "[<matplotlib.lines.Line2D at 0x7fe5059f7e90>]"
      ]
     },
     "execution_count": 56,
     "metadata": {},
     "output_type": "execute_result"
    },
    {
     "data": {
      "image/png": "[encoded data removed]",
      "text/plain": [
       "<Figure size 432x288 with 1 Axes>"
      ]
     },
     "metadata": {
      "needs_background": "light"
     },
     "output_type": "display_data"
    }
   ],
   "source": [
    "plt.plot(photon_sum_1, Delta_S_S_ratio_sigma_1, '.')"
   ]
  },
  {
   "cell_type": "markdown",
   "metadata": {},
   "source": [
    "## dalsi data"
   ]
  },
  {
   "cell_type": "code",
   "execution_count": 71,
   "metadata": {},
   "outputs": [
    {
     "name": "stdout",
     "output_type": "stream",
     "text": [
      "(132, 7)\n",
      "[0.01777636 0.01261711 0.00894065 0.00634617 0.00505239 0.00370068\n",
      " 0.00353968]\n",
      "[ 7.88610117 10.63332931 15.06561782 22.3490717  26.26755936 30.58373412\n",
      " 44.21215662]\n",
      "[2.66453526e-15 0.00000000e+00 0.00000000e+00 3.55271368e-15\n",
      " 0.00000000e+00 3.90798505e-14 7.10542736e-15]\n"
     ]
    },
    {
     "data": {
      "text/plain": [
       "[<matplotlib.lines.Line2D at 0x7fe50575c910>]"
      ]
     },
     "execution_count": 71,
     "metadata": {},
     "output_type": "execute_result"
    },
    {
     "data": {
      "image/png": "[encoded data removed]",
      "text/plain": [
       "<Figure size 432x288 with 1 Axes>"
      ]
     },
     "metadata": {
      "needs_background": "light"
     },
     "output_type": "display_data"
    }
   ],
   "source": [
    "import numpy as np\n",
    "\n",
    "####################### vstup\n",
    "\n",
    "# data z picoharpu ve formatu: array(  ) sloupce: jednotlive histogramy -- posledni radek nula\n",
    "# [data jednotlivych hist, cislo histogramy]\n",
    "fotkor = np.genfromtxt(\"sigma_hist_test_256_pulcount_delim.txt\", delimiter=\"\\t\")[:,:-1] # signal bez MM \n",
    "\n",
    "# print(fotkor)\n",
    "\n",
    "# pomocne promene\n",
    "fotkor_shape = np.shape(fotkor)\n",
    "print(fotkor_shape)\n",
    "\n",
    "# parametry odecitani foton-korelacnich dat\n",
    "t_res = [ 256e-12, 256e-12, 256e-12, 256e-12, 256e-12, 256e-12, 256e-12]  # casove rozliseni histogramu v s\n",
    "t_measure = [5, 10, 20, 40, 60, 100, 150] # doba nacitani dat v s\n",
    "background_photocounts = [120, 120, 120, 120, 120, 120, 120]\n",
    "\n",
    "# casova skala foton-kor. dat\n",
    "# t_scale = np.array( range(0,fotkor_shape[0]) ) *t_res\n",
    "\n",
    "hist_sigmas = np.std(fotkor[:-2,:], axis=0)\n",
    "\n",
    "from EMM_min_func import get_hist_fit_single_photocountssum\n",
    "\n",
    "DeltaS_S_ratio = np.zeros(fotkor_shape[1])\n",
    "Delta_S_S_ratio_sigma_2 = np.zeros(fotkor_shape[1])\n",
    "photon_sum_2 = np.zeros(fotkor_shape[1])\n",
    "hist_sigmas_2 = np.zeros(fotkor_shape[1])\n",
    "# fot_phi_sigma = np.zeros(fotkor_shape[1])\n",
    "# x = np.zeros((3,fotkor_shape[1]))\n",
    "# Omega = np.zeros(fotkor_shape[1])\n",
    "# Omega_sigma = np.zeros(fotkor_shape[1])\n",
    "# nu = np.zeros(fotkor_shape[1])\n",
    "# t_scale = np.zeros(fotkor_shape[1])\n",
    "\n",
    "for i in range(fotkor_shape[1]):\n",
    "#     get_hist_fit_single(fotkor[:-2,i], t_res, t_measure[i], 0, hist_sigmas[i] )\n",
    "    DeltaS_S_ratio[i], Delta_S_S_ratio_sigma_2[i], photon_sum_2[i], hist_sigmas_2[i] = get_hist_fit_single_photocountssum(fotkor[:,i], t_res[i], t_measure[i], background_photocounts[i])\n",
    "    \n",
    "# print(DeltaS_S_ratio)\n",
    "print(Delta_S_S_ratio_sigma_2)\n",
    "\n",
    "print(hist_sigmas_2)\n",
    "print(hist_sigmas_2 - hist_sigmas)\n",
    "\n",
    "plt.plot(t_measure, hist_sigmas_2, '.')"
   ]
  },
  {
   "cell_type": "code",
   "execution_count": 72,
   "metadata": {},
   "outputs": [
    {
     "data": {
      "text/plain": [
       "[<matplotlib.lines.Line2D at 0x7fe50572c750>]"
      ]
     },
     "execution_count": 72,
     "metadata": {},
     "output_type": "execute_result"
    },
    {
     "data": {
      "image/png": "[encoded data removed]",
      "text/plain": [
       "<Figure size 432x288 with 1 Axes>"
      ]
     },
     "metadata": {
      "needs_background": "light"
     },
     "output_type": "display_data"
    }
   ],
   "source": [
    "plt.plot(t_measure, Delta_S_S_ratio_sigma_2, '.')"
   ]
  },
  {
   "cell_type": "markdown",
   "metadata": {},
   "source": [
    "## dalsi data"
   ]
  },
  {
   "cell_type": "code",
   "execution_count": 73,
   "metadata": {},
   "outputs": [
    {
     "name": "stdout",
     "output_type": "stream",
     "text": [
      "(262, 7)\n",
      "[0.01107274 0.00830648 0.00625607 0.00438676 0.00346031 0.00279141\n",
      " 0.00212174]\n",
      "[ 6.77349079  9.90363256 14.64589124 20.91033655 24.51003417 31.40645239\n",
      " 38.55764147]\n",
      "[ 3.55271368e-15  1.77635684e-15 -3.55271368e-15  3.55271368e-15\n",
      " -7.10542736e-15  3.90798505e-14  0.00000000e+00]\n"
     ]
    },
    {
     "data": {
      "text/plain": [
       "[<matplotlib.lines.Line2D at 0x7fe505681b90>]"
      ]
     },
     "execution_count": 73,
     "metadata": {},
     "output_type": "execute_result"
    },
    {
     "data": {
      "image/png": "[encoded data removed]",
      "text/plain": [
       "<Figure size 432x288 with 1 Axes>"
      ]
     },
     "metadata": {
      "needs_background": "light"
     },
     "output_type": "display_data"
    }
   ],
   "source": [
    "import numpy as np\n",
    "\n",
    "####################### vstup\n",
    "\n",
    "# data z picoharpu ve formatu: array(  ) sloupce: jednotlive histogramy -- posledni radek nula\n",
    "# [data jednotlivych hist, cislo histogramy]\n",
    "fotkor = np.genfromtxt(\"sigma_hist_test_128_delim.txt\", delimiter=\"\\t\")[:,:-1] # signal bez MM \n",
    "\n",
    "# print(fotkor)\n",
    "\n",
    "# pomocne promene\n",
    "fotkor_shape = np.shape(fotkor)\n",
    "print(fotkor_shape)\n",
    "\n",
    "# parametry odecitani foton-korelacnich dat\n",
    "t_res = [ 128e-12, 128e-12, 128e-12, 128e-12, 128e-12, 128e-12, 128e-12]  # casove rozliseni histogramu v s\n",
    "t_measure = [5, 10, 20, 40, 60, 100, 150] # doba nacitani dat v s\n",
    "background_photocounts = [120, 120, 120, 120, 120, 120, 120]\n",
    "\n",
    "# casova skala foton-kor. dat\n",
    "# t_scale = np.array( range(0,fotkor_shape[0]) ) *t_res\n",
    "\n",
    "hist_sigmas = np.std(fotkor[:-2,:], axis=0)\n",
    "# print(hist_sigmas_3)\n",
    "from EMM_min_func import get_hist_fit_single_photocountssum\n",
    "\n",
    "DeltaS_S_ratio = np.zeros(fotkor_shape[1])\n",
    "Delta_S_S_ratio_sigma_3 = np.zeros(fotkor_shape[1])\n",
    "photon_sum_3 = np.zeros(fotkor_shape[1])\n",
    "hist_sigmas_3 = np.zeros(fotkor_shape[1])\n",
    "# fot_phi_sigma = np.zeros(fotkor_shape[1])\n",
    "# x = np.zeros((3,fotkor_shape[1]))\n",
    "# Omega = np.zeros(fotkor_shape[1])\n",
    "# Omega_sigma = np.zeros(fotkor_shape[1])\n",
    "# nu = np.zeros(fotkor_shape[1])\n",
    "# t_scale = np.zeros(fotkor_shape[1])\n",
    "\n",
    "for i in range(fotkor_shape[1]):\n",
    "#     get_hist_fit_single(fotkor[:-2,i], t_res, t_measure[i], 0, hist_sigmas[i] )\n",
    "    DeltaS_S_ratio[i], Delta_S_S_ratio_sigma_3[i], photon_sum_3[i], hist_sigmas_3[i] = get_hist_fit_single_photocountssum(fotkor[:,i], t_res[i], t_measure[i], background_photocounts[i] )\n",
    "    \n",
    "# print(DeltaS_S_ratio)\n",
    "print(Delta_S_S_ratio_sigma_3)\n",
    "\n",
    "print(hist_sigmas_3)\n",
    "print(hist_sigmas_3 - hist_sigmas)\n",
    "\n",
    "\n",
    "plt.plot(t_measure, hist_sigmas_3, '.')"
   ]
  },
  {
   "cell_type": "code",
   "execution_count": 74,
   "metadata": {},
   "outputs": [
    {
     "data": {
      "text/plain": [
       "[<matplotlib.lines.Line2D at 0x7fe505667950>]"
      ]
     },
     "execution_count": 74,
     "metadata": {},
     "output_type": "execute_result"
    },
    {
     "data": {
      "image/png": "[encoded data removed]",
      "text/plain": [
       "<Figure size 432x288 with 1 Axes>"
      ]
     },
     "metadata": {
      "needs_background": "light"
     },
     "output_type": "display_data"
    }
   ],
   "source": [
    "\n",
    "\n",
    "plt.plot(t_measure, Delta_S_S_ratio_sigma_3, '.')"
   ]
  },
  {
   "cell_type": "code",
   "execution_count": 75,
   "metadata": {},
   "outputs": [
    {
     "data": {
      "text/plain": [
       "<matplotlib.legend.Legend at 0x7fe5093b5e50>"
      ]
     },
     "execution_count": 75,
     "metadata": {},
     "output_type": "execute_result"
    },
    {
     "data": {
      "image/png": "[encoded data removed]",
      "text/plain": [
       "<Figure size 432x288 with 1 Axes>"
      ]
     },
     "metadata": {
      "needs_background": "light"
     },
     "output_type": "display_data"
    }
   ],
   "source": [
    "# plt.figure(figsize=(sizex/my_dpi, sizey/my_dpi), dpi=my_dpi)\n",
    "plt.plot(t_measure, hist_sigmas_2, '.', label='1500 ph/s')\n",
    "plt.plot(t_measure, hist_sigmas_1, '.', label='3200 ph/s')\n",
    "plt.plot(t_measure, hist_sigmas_3, '.', label='128 ps -- 3000 ph/s')\n",
    "\n",
    "plt.legend()"
   ]
  },
  {
   "cell_type": "code",
   "execution_count": 76,
   "metadata": {},
   "outputs": [
    {
     "data": {
      "text/plain": [
       "<matplotlib.legend.Legend at 0x7fe50559ce90>"
      ]
     },
     "execution_count": 76,
     "metadata": {},
     "output_type": "execute_result"
    },
    {
     "data": {
      "image/png": "[encoded data removed]",
      "text/plain": [
       "<Figure size 432x288 with 1 Axes>"
      ]
     },
     "metadata": {
      "needs_background": "light"
     },
     "output_type": "display_data"
    }
   ],
   "source": [
    "plt.plot(t_measure, Delta_S_S_ratio_sigma_2, '.', label='1500 ph/s')\n",
    "plt.plot(t_measure, Delta_S_S_ratio_sigma_1, '.', label='3200 ph/s')\n",
    "plt.plot(t_measure, Delta_S_S_ratio_sigma_3, '.', label='128 ps -- 3000 ph/s')\n",
    "\n",
    "plt.legend()"
   ]
  },
  {
   "cell_type": "markdown",
   "metadata": {},
   "source": [
    "vypada to, ze zavisi pouze na fotocountu a casu, tedy na celkovem poctu nascitanych fotonu?"
   ]
  },
  {
   "cell_type": "code",
   "execution_count": 77,
   "metadata": {},
   "outputs": [
    {
     "data": {
      "text/plain": [
       "<matplotlib.legend.Legend at 0x7fe505507310>"
      ]
     },
     "execution_count": 77,
     "metadata": {},
     "output_type": "execute_result"
    },
    {
     "data": {
      "image/png": "[encoded data removed]",
      "text/plain": [
       "<Figure size 432x288 with 1 Axes>"
      ]
     },
     "metadata": {
      "needs_background": "light"
     },
     "output_type": "display_data"
    }
   ],
   "source": [
    "plt.plot(photon_sum_2, Delta_S_S_ratio_sigma_2, '.', label='1500 ph/s')\n",
    "plt.plot(photon_sum_1, Delta_S_S_ratio_sigma_1, '.', label='3200 ph/s')\n",
    "plt.plot(photon_sum_3, Delta_S_S_ratio_sigma_3, '.', label='128 ps -- 3000 ph/s')\n",
    "\n",
    "plt.legend()"
   ]
  },
  {
   "cell_type": "markdown",
   "metadata": {},
   "source": [
    "Potvrzeno"
   ]
  },
  {
   "cell_type": "markdown",
   "metadata": {},
   "source": [
    "# Prepocet sigmy na sigmu modulacniho indexu"
   ]
  },
  {
   "cell_type": "markdown",
   "metadata": {},
   "source": [
    "jen odhad"
   ]
  },
  {
   "cell_type": "code",
   "execution_count": 78,
   "metadata": {},
   "outputs": [],
   "source": [
    "# parametry vypoctu beta\n",
    "\n",
    "decay_rate = 2*np.pi * 21.008e6  # decay rate dle tabulek NISTu\n",
    "laser_detun = -32e6 * 2*np.pi  # detuning \n",
    "laser_detun_sigma = 4e6 * 2*np.pi # sigma detun\n",
    "Omega =2* np.pi * 30e6  # cca\n",
    "Omega_sigma = 2*np.pi * 230898.38519217444 #cca\n",
    "\n",
    "# numericke reseni deltaS/S -> beta\n",
    "\n",
    "from scipy.optimize import fsolve\n",
    "from scipy.special import j0, j1\n",
    "\n",
    "def get_A(decay_rate, detun):\n",
    "    # returns driven oscillator amplitude in point given by detun param.\n",
    "    return 1 / 2 * (decay_rate / 2 - detun * 1j) / (detun ** 2 + (decay_rate / 2) ** 2)\n",
    "\n",
    "def fl_signal(beta, laser_detun, Omega, decay_rate):\n",
    "    # function calculates deltaS/S0 photon-correlation signal\n",
    "    # input: beta, laser detuning, RF drive freq, decay rate\n",
    "    A_minus = get_A(decay_rate, laser_detun - Omega)\n",
    "    A_plus = get_A(decay_rate, laser_detun + Omega)\n",
    "    A = get_A(decay_rate, laser_detun)\n",
    "\n",
    "    numer = 2 * j0(beta) * j1(beta) * np.abs(np.conj(A) * A_plus - A * np.conj(A_minus))\n",
    "    denom = j0(beta) ** 2 * np.abs(A) ** 2 + j1(beta) ** 2 * (np.abs(A_plus) ** 2 + np.abs(A_minus) ** 2)\n",
    "\n",
    "    return numer / denom\n",
    "\n",
    "def get_beta(Omega, decay_rate, laser_detun, norm_mod_amp):\n",
    "    # function calculates the corresponding beta for given known parameters\n",
    "    # input: drive frequency, decay_rate, laser detuning, normalized modulation amplitude given by ph_corr_signal\n",
    "    # output: float value of beta\n",
    "    def root_func(beta, laser_detun, Omega, decay_rate, norm_mod_amp):\n",
    "        return fl_signal(beta, laser_detun, Omega, decay_rate) - norm_mod_amp\n",
    "\n",
    "    sol = fsolve(root_func, np.array([0.01]), args=(laser_detun, Omega, decay_rate, norm_mod_amp), full_output=1)\n",
    "    return float(sol[0])\n",
    "\n",
    "from scipy.optimize import approx_fprime, check_grad\n",
    "\n",
    "def root_func(x):\n",
    "    [beta, norm_mod_amp, Omega, laser_detun, decay_rate] = x\n",
    "    return fl_signal(beta, laser_detun, Omega, decay_rate) - norm_mod_amp\n",
    "\n",
    "def root_func_grad(x):\n",
    "#     [beta, norm_mod_amp, Omega, laser_detun, decay_rate] = x\n",
    "    epsilon = 5e-6\n",
    "    return( approx_fprime(x, root_func, x*epsilon ) )"
   ]
  },
  {
   "cell_type": "code",
   "execution_count": 79,
   "metadata": {},
   "outputs": [],
   "source": [
    "from scipy.optimize import approx_fprime, check_grad\n",
    "\n",
    "# get beta\n",
    "beta = np.zeros(fotkor_shape[1])\n",
    "beta_sigma_1 = np.zeros(fotkor_shape[1])\n",
    "beta_sigma_2 = np.zeros(fotkor_shape[1])\n",
    "beta_sigma_3 = np.zeros(fotkor_shape[1])\n",
    "for k in range(fotkor_shape[1]):\n",
    "    beta[k] = get_beta(Omega, decay_rate, laser_detun, 0.00001)\n",
    "    \n",
    "    # get sigma beta\n",
    "    jacob_F = root_func_grad( np.array([beta[k], 0.00001, Omega, laser_detun, decay_rate]) ) \n",
    "    # [dF/dbeta, dF/ddeltaS/S, dF/dOmega, dF/dDelta, dF/dGamma]\n",
    "    \n",
    "    # variance-cov parametru\n",
    "    Sigma_param_1 = np.diag([Delta_S_S_ratio_sigma_1[k]**2, Omega_sigma**2, laser_detun_sigma**2])\n",
    "    \n",
    "    beta_sigma_1[k] = np.sqrt( jacob_F[0]**-2 * jacob_F[1:-1] @ Sigma_param_1 @ np.transpose( jacob_F[1:-1] ) )\n",
    "    \n",
    "    # variance-cov parametru\n",
    "    Sigma_param_2 = np.diag([Delta_S_S_ratio_sigma_2[k]**2, Omega_sigma**2, laser_detun_sigma**2])\n",
    "    \n",
    "    beta_sigma_2[k] = np.sqrt( jacob_F[0]**-2 * jacob_F[1:-1] @ Sigma_param_2 @ np.transpose( jacob_F[1:-1] ) )\n",
    "    \n",
    "    # variance-cov parametru\n",
    "    Sigma_param_3 = np.diag([Delta_S_S_ratio_sigma_3[k]**2, Omega_sigma**2, laser_detun_sigma**2])\n",
    "    \n",
    "    beta_sigma_3[k] = np.sqrt( jacob_F[0]**-2 * jacob_F[1:-1] @ Sigma_param_3 @ np.transpose( jacob_F[1:-1] ) )"
   ]
  },
  {
   "cell_type": "code",
   "execution_count": 80,
   "metadata": {},
   "outputs": [
    {
     "data": {
      "text/plain": [
       "<matplotlib.legend.Legend at 0x7fe5054edd90>"
      ]
     },
     "execution_count": 80,
     "metadata": {},
     "output_type": "execute_result"
    },
    {
     "data": {
      "image/png": "[encoded data removed]",
      "text/plain": [
       "<Figure size 1600x900 with 1 Axes>"
      ]
     },
     "metadata": {
      "needs_background": "light"
     },
     "output_type": "display_data"
    }
   ],
   "source": [
    "plt.figure(figsize=(sizex/my_dpi, sizey/my_dpi), dpi=my_dpi)\n",
    "\n",
    "plt.plot(photon_sum_2, beta_sigma_2, '.', label='1500 ph/s')\n",
    "plt.plot(photon_sum_1, beta_sigma_1, '.', label='3200 ph/s')\n",
    "plt.plot(photon_sum_3, beta_sigma_3, '.', label='128 ps -- 3000 ph/s')\n",
    "\n",
    "plt.xlabel(\"celkovy pocet fotonu\")\n",
    "plt.ylabel(r'$\\sigma_{\\beta}$')\n",
    "plt.legend()"
   ]
  },
  {
   "cell_type": "markdown",
   "metadata": {},
   "source": [
    "budu cilit na cca 250 000 countu"
   ]
  },
  {
   "cell_type": "code",
   "execution_count": null,
   "metadata": {},
   "outputs": [],
   "source": []
  }
 ],
 "metadata": {
  "kernelspec": {
   "display_name": "Python 3",
   "language": "python",
   "name": "python3"
  },
  "language_info": {
   "codemirror_mode": {
    "name": "ipython",
    "version": 3
   },
   "file_extension": ".py",
   "mimetype": "text/x-python",
   "name": "python",
   "nbconvert_exporter": "python",
   "pygments_lexer": "ipython3",
   "version": "3.7.4"
  }
 },
 "nbformat": 4,
 "nbformat_minor": 4
}
