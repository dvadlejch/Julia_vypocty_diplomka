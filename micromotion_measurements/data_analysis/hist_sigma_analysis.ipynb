{
 "cells": [
  {
   "cell_type": "markdown",
   "metadata": {},
   "source": [
    "# Nejistota bodu histogramu + vliv na $\\Delta S/S_0$"
   ]
  },
  {
   "cell_type": "code",
   "execution_count": 13,
   "metadata": {},
   "outputs": [
    {
     "name": "stdout",
     "output_type": "stream",
     "text": [
      "The autoreload extension is already loaded. To reload it, use:\n",
      "  %reload_ext autoreload\n"
     ]
    }
   ],
   "source": [
    "# Setup some Jupyter env features\n",
    "%load_ext autoreload\n",
    "%autoreload 2\n",
    "%matplotlib inline"
   ]
  },
  {
   "cell_type": "code",
   "execution_count": 14,
   "metadata": {},
   "outputs": [],
   "source": [
    "# plot dat\n",
    "import matplotlib.pyplot as plt\n",
    "from matplotlib import rc\n",
    "from matplotlib import rcParams\n",
    "\n",
    "rcParams[\"font.size\"] = 16\n",
    "rcParams[\"mathtext.fontset\"] = \"cm\"\n",
    "rcParams[\"mathtext.rm\"] = \"serif\"\n",
    "rcParams[\"text.usetex\"] = \"true\";\n",
    "rc('text', usetex=True)\n",
    "\n",
    "my_dpi = 150\n",
    "siz = 100\n",
    "sizex = 16*siz\n",
    "sizey = 9*siz"
   ]
  },
  {
   "cell_type": "code",
   "execution_count": 15,
   "metadata": {},
   "outputs": [],
   "source": [
    "import numpy as np\n",
    "\n",
    "####################### vstup\n",
    "\n",
    "# data z picoharpu ve formatu: array(  ) sloupce: jednotlive histogramy -- posledni radek nula\n",
    "# [data jednotlivych hist, cislo histogramy]\n",
    "fotkor = np.genfromtxt(\"axial_EMM_10_03_2020_part2_delim.txt\", delimiter=\"\\t\")[:,:4] # signal bez MM \n",
    "\n",
    "# pomocne promene\n",
    "fotkor_shape = np.shape(fotkor)\n",
    "\n",
    "# parametry odecitani foton-korelacnich dat\n",
    "t_res = [ 256e-12, 256e-12, 256e-12, 256e-12]  # casove rozliseni histogramu v s\n",
    "t_measure = [150, 150, 150, 150] # doba nacitani dat v s\n",
    "\n",
    "# casova skala foton-kor. dat\n",
    "# t_scale = np.array( range(0,fotkor_shape[0]) ) *t_res\n"
   ]
  },
  {
   "cell_type": "markdown",
   "metadata": {},
   "source": [
    "Predpokladam, ze $S(t)$ je konstantni. Odhad $\\sigma_{\\rm hist}$ by mela odpovidat klasickemu odhadu standardni odchylky"
   ]
  },
  {
   "cell_type": "code",
   "execution_count": 16,
   "metadata": {},
   "outputs": [
    {
     "data": {
      "text/plain": [
       "array([222.11458808, 101.43546524, 299.06996084, 631.30673702])"
      ]
     },
     "execution_count": 16,
     "metadata": {},
     "output_type": "execute_result"
    }
   ],
   "source": [
    "hist_sigmas = np.std(fotkor[:-2,:], axis=0)\n",
    "hist_sigmas"
   ]
  },
  {
   "cell_type": "code",
   "execution_count": 17,
   "metadata": {},
   "outputs": [
    {
     "data": {
      "text/plain": [
       "[<matplotlib.lines.Line2D at 0x7fae8945b5d0>]"
      ]
     },
     "execution_count": 17,
     "metadata": {},
     "output_type": "execute_result"
    },
    {
     "data": {
      "image/png": "[encoded data removed]",
      "text/plain": [
       "<Figure size 432x288 with 1 Axes>"
      ]
     },
     "metadata": {
      "needs_background": "light"
     },
     "output_type": "display_data"
    }
   ],
   "source": [
    "plt.plot(t_measure, hist_sigmas, '.')"
   ]
  },
  {
   "cell_type": "code",
   "execution_count": 21,
   "metadata": {},
   "outputs": [
    {
     "name": "stdout",
     "output_type": "stream",
     "text": [
      "[0.04033839 0.00976944 0.05503211 0.121621  ]\n",
      "[0.00376963 0.0017709  0.00509037 0.01095741]\n"
     ]
    }
   ],
   "source": [
    "from EMM_min_func import get_hist_fit_single\n",
    "\n",
    "DeltaS_S_ratio = np.zeros(fotkor_shape[1])\n",
    "Delta_S_S_ratio_sigma = np.zeros(fotkor_shape[1])\n",
    "# fot_phi = np.zeros(fotkor_shape[1])\n",
    "# fot_phi_sigma = np.zeros(fotkor_shape[1])\n",
    "# x = np.zeros((3,fotkor_shape[1]))\n",
    "# Omega = np.zeros(fotkor_shape[1])\n",
    "# Omega_sigma = np.zeros(fotkor_shape[1])\n",
    "# nu = np.zeros(fotkor_shape[1])\n",
    "# t_scale = np.zeros(fotkor_shape[1])\n",
    "\n",
    "for i in range(fotkor_shape[1]):\n",
    "#     get_hist_fit_single(fotkor[:-2,i], t_res, t_measure[i], 0, hist_sigmas[i] )\n",
    "    DeltaS_S_ratio[i], Delta_S_S_ratio_sigma[i] = get_hist_fit_single(fotkor[:-2,i], t_res[i], t_measure[i], 0, hist_sigmas[i] )\n",
    "    \n",
    "print(DeltaS_S_ratio)\n",
    "print(Delta_S_S_ratio_sigma)"
   ]
  },
  {
   "cell_type": "code",
   "execution_count": 83,
   "metadata": {},
   "outputs": [
    {
     "data": {
      "text/plain": [
       "[<matplotlib.lines.Line2D at 0x7f220149fa10>]"
      ]
     },
     "execution_count": 83,
     "metadata": {},
     "output_type": "execute_result"
    },
    {
     "data": {
      "image/png": "[encoded data removed]",
      "text/plain": [
       "<Figure size 432x288 with 1 Axes>"
      ]
     },
     "metadata": {
      "needs_background": "light"
     },
     "output_type": "display_data"
    }
   ],
   "source": [
    "plt.plot(t_measure, Delta_S_S_ratio_sigma, '.')"
   ]
  },
  {
   "cell_type": "code",
   "execution_count": null,
   "metadata": {},
   "outputs": [],
   "source": []
  }
 ],
 "metadata": {
  "kernelspec": {
   "display_name": "Python 3",
   "language": "python",
   "name": "python3"
  },
  "language_info": {
   "codemirror_mode": {
    "name": "ipython",
    "version": 3
   },
   "file_extension": ".py",
   "mimetype": "text/x-python",
   "name": "python",
   "nbconvert_exporter": "python",
   "pygments_lexer": "ipython3",
   "version": "3.7.4"
  }
 },
 "nbformat": 4,
 "nbformat_minor": 4
}
