{
 "cells": [
  {
   "cell_type": "markdown",
   "metadata": {},
   "source": [
    "# Nejistota bodu histogramu + vliv na $\\Delta S/S_0$"
   ]
  },
  {
   "cell_type": "code",
   "execution_count": 1,
   "metadata": {},
   "outputs": [],
   "source": [
    "# Setup some Jupyter env features\n",
    "%load_ext autoreload\n",
    "%autoreload 2\n",
    "%matplotlib inline"
   ]
  },
  {
   "cell_type": "code",
   "execution_count": 2,
   "metadata": {},
   "outputs": [],
   "source": [
    "# plot dat\n",
    "import matplotlib.pyplot as plt\n",
    "from matplotlib import rc\n",
    "from matplotlib import rcParams\n",
    "\n",
    "rcParams[\"font.size\"] = 16\n",
    "rcParams[\"mathtext.fontset\"] = \"cm\"\n",
    "rcParams[\"mathtext.rm\"] = \"serif\"\n",
    "rcParams[\"text.usetex\"] = \"true\";\n",
    "rc('text', usetex=True)\n",
    "\n",
    "my_dpi = 150\n",
    "siz = 100\n",
    "sizex = 16*siz\n",
    "sizey = 9*siz"
   ]
  },
  {
   "cell_type": "code",
   "execution_count": 79,
   "metadata": {},
   "outputs": [
    {
     "name": "stdout",
     "output_type": "stream",
     "text": [
      "(132, 7)\n"
     ]
    }
   ],
   "source": [
    "import numpy as np\n",
    "\n",
    "####################### vstup\n",
    "\n",
    "# data z picoharpu ve formatu: array(  ) sloupce: jednotlive histogramy -- posledni radek nula\n",
    "# [data jednotlivych hist, cislo histogramy]\n",
    "fotkor = np.genfromtxt(\"sigma_hist_test_256_delim.txt\", delimiter=\"\\t\")[:,:-1] # signal bez MM \n",
    "\n",
    "# print(fotkor)\n",
    "\n",
    "# pomocne promene\n",
    "fotkor_shape = np.shape(fotkor)\n",
    "print(fotkor_shape)\n",
    "\n",
    "# parametry odecitani foton-korelacnich dat\n",
    "t_res = [ 256e-12, 256e-12, 256e-12, 256e-12, 256e-12, 256e-12, 256e-12]  # casove rozliseni histogramu v s\n",
    "t_measure = [5, 10, 20, 40, 60, 100, 150] # doba nacitani dat v s\n",
    "background_photocounts = [120, 120, 120, 120, 120, 120, 130]\n",
    "\n",
    "# casova skala foton-kor. dat\n",
    "# t_scale = np.array( range(0,fotkor_shape[0]) ) *t_res\n"
   ]
  },
  {
   "cell_type": "markdown",
   "metadata": {},
   "source": [
    "Predpokladam, ze $S(t)$ je konstantni. Odhad $\\sigma_{\\rm hist}$ by mela odpovidat klasickemu odhadu standardni odchylky"
   ]
  },
  {
   "cell_type": "code",
   "execution_count": 80,
   "metadata": {},
   "outputs": [
    {
     "data": {
      "text/plain": [
       "array([11.7076822 , 14.87633441, 20.44297741, 32.9064444 , 35.99406263,\n",
       "       50.60113255, 57.87929953])"
      ]
     },
     "execution_count": 80,
     "metadata": {},
     "output_type": "execute_result"
    }
   ],
   "source": [
    "hist_sigmas_1 = np.std(fotkor[:-2,:], axis=0)\n",
    "hist_sigmas_1"
   ]
  },
  {
   "cell_type": "code",
   "execution_count": 81,
   "metadata": {},
   "outputs": [
    {
     "data": {
      "text/plain": [
       "[<matplotlib.lines.Line2D at 0x7fa637e14e90>]"
      ]
     },
     "execution_count": 81,
     "metadata": {},
     "output_type": "execute_result"
    },
    {
     "data": {
      "image/png": "[encoded data removed]",
      "text/plain": [
       "<Figure size 432x288 with 1 Axes>"
      ]
     },
     "metadata": {
      "needs_background": "light"
     },
     "output_type": "display_data"
    }
   ],
   "source": [
    "plt.plot(t_measure, hist_sigmas_1, '.')"
   ]
  },
  {
   "cell_type": "code",
   "execution_count": 82,
   "metadata": {},
   "outputs": [
    {
     "name": "stdout",
     "output_type": "stream",
     "text": [
      "[0.01326811 0.00820548 0.00561315 0.00467491 0.00336042 0.00269518\n",
      " 0.00227634]\n",
      "[ 14320.  29520.  58441. 116168. 173672. 305577. 417375.]\n"
     ]
    }
   ],
   "source": [
    "from EMM_min_func import get_hist_fit_single_photocountssum\n",
    "\n",
    "DeltaS_S_ratio = np.zeros(fotkor_shape[1])\n",
    "Delta_S_S_ratio_sigma_1 = np.zeros(fotkor_shape[1])\n",
    "photon_sum_1 = np.zeros(fotkor_shape[1])\n",
    "# fot_phi = np.zeros(fotkor_shape[1])\n",
    "# fot_phi_sigma = np.zeros(fotkor_shape[1])\n",
    "# x = np.zeros((3,fotkor_shape[1]))\n",
    "# Omega = np.zeros(fotkor_shape[1])\n",
    "# Omega_sigma = np.zeros(fotkor_shape[1])\n",
    "# nu = np.zeros(fotkor_shape[1])\n",
    "# t_scale = np.zeros(fotkor_shape[1])\n",
    "\n",
    "for i in range(fotkor_shape[1]):\n",
    "#     get_hist_fit_single(fotkor[:-2,i], t_res, t_measure[i], 0, hist_sigmas[i] )\n",
    "    DeltaS_S_ratio[i], Delta_S_S_ratio_sigma_1[i], photon_sum_1[i] = get_hist_fit_single_photocountssum(fotkor[:-2,i], t_res[i], t_measure[i], background_photocounts[i], hist_sigmas_1[i] )\n",
    "    \n",
    "# print(DeltaS_S_ratio)\n",
    "print(Delta_S_S_ratio_sigma_1)\n",
    "print(photon_sum_1)"
   ]
  },
  {
   "cell_type": "code",
   "execution_count": 83,
   "metadata": {},
   "outputs": [
    {
     "data": {
      "text/plain": [
       "[<matplotlib.lines.Line2D at 0x7fa639605cd0>]"
      ]
     },
     "execution_count": 83,
     "metadata": {},
     "output_type": "execute_result"
    },
    {
     "data": {
      "image/png": "[encoded data removed]",
      "text/plain": [
       "<Figure size 432x288 with 1 Axes>"
      ]
     },
     "metadata": {
      "needs_background": "light"
     },
     "output_type": "display_data"
    }
   ],
   "source": [
    "plt.plot(t_measure, Delta_S_S_ratio_sigma_1, '.')"
   ]
  },
  {
   "cell_type": "code",
   "execution_count": 84,
   "metadata": {},
   "outputs": [
    {
     "data": {
      "text/plain": [
       "[<matplotlib.lines.Line2D at 0x7fa6386e5250>]"
      ]
     },
     "execution_count": 84,
     "metadata": {},
     "output_type": "execute_result"
    },
    {
     "data": {
      "image/png": "[encoded data removed]",
      "text/plain": [
       "<Figure size 432x288 with 1 Axes>"
      ]
     },
     "metadata": {
      "needs_background": "light"
     },
     "output_type": "display_data"
    }
   ],
   "source": [
    "plt.plot(photon_sum_1, Delta_S_S_ratio_sigma_1, '.')"
   ]
  },
  {
   "cell_type": "markdown",
   "metadata": {},
   "source": [
    "## dalsi data"
   ]
  },
  {
   "cell_type": "code",
   "execution_count": 85,
   "metadata": {},
   "outputs": [
    {
     "name": "stdout",
     "output_type": "stream",
     "text": [
      "(132, 7)\n",
      "[ 7.88610117 10.63332931 15.06561782 22.3490717  26.26755936 30.58373412\n",
      " 44.21215662]\n"
     ]
    },
    {
     "data": {
      "text/plain": [
       "[<matplotlib.lines.Line2D at 0x7fa6380c0f10>]"
      ]
     },
     "execution_count": 85,
     "metadata": {},
     "output_type": "execute_result"
    },
    {
     "data": {
      "image/png": "[encoded data removed]",
      "text/plain": [
       "<Figure size 432x288 with 1 Axes>"
      ]
     },
     "metadata": {
      "needs_background": "light"
     },
     "output_type": "display_data"
    }
   ],
   "source": [
    "import numpy as np\n",
    "\n",
    "####################### vstup\n",
    "\n",
    "# data z picoharpu ve formatu: array(  ) sloupce: jednotlive histogramy -- posledni radek nula\n",
    "# [data jednotlivych hist, cislo histogramy]\n",
    "fotkor = np.genfromtxt(\"sigma_hist_test_256_pulcount_delim.txt\", delimiter=\"\\t\")[:,:-1] # signal bez MM \n",
    "\n",
    "# print(fotkor)\n",
    "\n",
    "# pomocne promene\n",
    "fotkor_shape = np.shape(fotkor)\n",
    "print(fotkor_shape)\n",
    "\n",
    "# parametry odecitani foton-korelacnich dat\n",
    "t_res = [ 256e-12, 256e-12, 256e-12, 256e-12, 256e-12, 256e-12, 256e-12]  # casove rozliseni histogramu v s\n",
    "t_measure = [5, 10, 20, 40, 60, 100, 150] # doba nacitani dat v s\n",
    "background_photocounts = [120, 120, 120, 120, 120, 120, 120]\n",
    "\n",
    "# casova skala foton-kor. dat\n",
    "# t_scale = np.array( range(0,fotkor_shape[0]) ) *t_res\n",
    "\n",
    "hist_sigmas_2 = np.std(fotkor[:-2,:], axis=0)\n",
    "print(hist_sigmas_2)\n",
    "\n",
    "plt.plot(t_measure, hist_sigmas_2, '.')"
   ]
  },
  {
   "cell_type": "code",
   "execution_count": 86,
   "metadata": {},
   "outputs": [
    {
     "name": "stdout",
     "output_type": "stream",
     "text": [
      "[0.01793529 0.01263912 0.00878923 0.00653723 0.00516197 0.00376442\n",
      " 0.00354639]\n"
     ]
    },
    {
     "data": {
      "text/plain": [
       "[<matplotlib.lines.Line2D at 0x7fa638251a90>]"
      ]
     },
     "execution_count": 86,
     "metadata": {},
     "output_type": "execute_result"
    },
    {
     "data": {
      "image/png": "[encoded data removed]",
      "text/plain": [
       "<Figure size 432x288 with 1 Axes>"
      ]
     },
     "metadata": {
      "needs_background": "light"
     },
     "output_type": "display_data"
    }
   ],
   "source": [
    "from EMM_min_func import get_hist_fit_single_photocountssum\n",
    "\n",
    "DeltaS_S_ratio = np.zeros(fotkor_shape[1])\n",
    "Delta_S_S_ratio_sigma_2 = np.zeros(fotkor_shape[1])\n",
    "photon_sum_2 = np.zeros(fotkor_shape[1])\n",
    "# fot_phi = np.zeros(fotkor_shape[1])\n",
    "# fot_phi_sigma = np.zeros(fotkor_shape[1])\n",
    "# x = np.zeros((3,fotkor_shape[1]))\n",
    "# Omega = np.zeros(fotkor_shape[1])\n",
    "# Omega_sigma = np.zeros(fotkor_shape[1])\n",
    "# nu = np.zeros(fotkor_shape[1])\n",
    "# t_scale = np.zeros(fotkor_shape[1])\n",
    "\n",
    "for i in range(fotkor_shape[1]):\n",
    "#     get_hist_fit_single(fotkor[:-2,i], t_res, t_measure[i], 0, hist_sigmas[i] )\n",
    "    DeltaS_S_ratio[i], Delta_S_S_ratio_sigma_2[i], photon_sum_2[i] = get_hist_fit_single_photocountssum(fotkor[:-2,i], t_res[i], t_measure[i], background_photocounts[i], hist_sigmas_2[i] )\n",
    "    \n",
    "# print(DeltaS_S_ratio)\n",
    "print(Delta_S_S_ratio_sigma_2)\n",
    "\n",
    "plt.plot(t_measure, Delta_S_S_ratio_sigma_2, '.')"
   ]
  },
  {
   "cell_type": "markdown",
   "metadata": {},
   "source": [
    "## dalsi data"
   ]
  },
  {
   "cell_type": "code",
   "execution_count": 87,
   "metadata": {},
   "outputs": [
    {
     "name": "stdout",
     "output_type": "stream",
     "text": [
      "(262, 7)\n",
      "[ 6.77349079  9.90363256 14.64589124 20.91033655 24.51003417 31.40645239\n",
      " 38.55764147]\n"
     ]
    },
    {
     "data": {
      "text/plain": [
       "[<matplotlib.lines.Line2D at 0x7fa637d70f90>]"
      ]
     },
     "execution_count": 87,
     "metadata": {},
     "output_type": "execute_result"
    },
    {
     "data": {
      "image/png": "[encoded data removed]",
      "text/plain": [
       "<Figure size 432x288 with 1 Axes>"
      ]
     },
     "metadata": {
      "needs_background": "light"
     },
     "output_type": "display_data"
    }
   ],
   "source": [
    "import numpy as np\n",
    "\n",
    "####################### vstup\n",
    "\n",
    "# data z picoharpu ve formatu: array(  ) sloupce: jednotlive histogramy -- posledni radek nula\n",
    "# [data jednotlivych hist, cislo histogramy]\n",
    "fotkor = np.genfromtxt(\"sigma_hist_test_128_delim.txt\", delimiter=\"\\t\")[:,:-1] # signal bez MM \n",
    "\n",
    "# print(fotkor)\n",
    "\n",
    "# pomocne promene\n",
    "fotkor_shape = np.shape(fotkor)\n",
    "print(fotkor_shape)\n",
    "\n",
    "# parametry odecitani foton-korelacnich dat\n",
    "t_res = [ 128e-12, 128e-12, 128e-12, 128e-12, 128e-12, 128e-12, 128e-12]  # casove rozliseni histogramu v s\n",
    "t_measure = [5, 10, 20, 40, 60, 100, 150] # doba nacitani dat v s\n",
    "background_photocounts = [120, 120, 120, 120, 120, 120, 120]\n",
    "\n",
    "# casova skala foton-kor. dat\n",
    "# t_scale = np.array( range(0,fotkor_shape[0]) ) *t_res\n",
    "\n",
    "hist_sigmas_3 = np.std(fotkor[:-2,:], axis=0)\n",
    "print(hist_sigmas_3)\n",
    "\n",
    "plt.plot(t_measure, hist_sigmas_3, '.')"
   ]
  },
  {
   "cell_type": "code",
   "execution_count": 89,
   "metadata": {},
   "outputs": [
    {
     "name": "stdout",
     "output_type": "stream",
     "text": [
      "[0.01360536 0.00899082 0.0064517  0.00465999 0.00372463 0.00273847\n",
      " 0.00245921]\n",
      "[ 13270.  27171.  53336. 107133. 161156. 263317. 408880.]\n"
     ]
    },
    {
     "data": {
      "text/plain": [
       "[<matplotlib.lines.Line2D at 0x7fa6389b8810>]"
      ]
     },
     "execution_count": 89,
     "metadata": {},
     "output_type": "execute_result"
    },
    {
     "data": {
      "image/png": "[encoded data removed]",
      "text/plain": [
       "<Figure size 432x288 with 1 Axes>"
      ]
     },
     "metadata": {
      "needs_background": "light"
     },
     "output_type": "display_data"
    }
   ],
   "source": [
    "from EMM_min_func import get_hist_fit_single_photocountssum\n",
    "\n",
    "DeltaS_S_ratio = np.zeros(fotkor_shape[1])\n",
    "Delta_S_S_ratio_sigma_3 = np.zeros(fotkor_shape[1])\n",
    "photon_sum_3 = np.zeros(fotkor_shape[1])\n",
    "# fot_phi = np.zeros(fotkor_shape[1])\n",
    "# fot_phi_sigma = np.zeros(fotkor_shape[1])\n",
    "# x = np.zeros((3,fotkor_shape[1]))\n",
    "# Omega = np.zeros(fotkor_shape[1])\n",
    "# Omega_sigma = np.zeros(fotkor_shape[1])\n",
    "# nu = np.zeros(fotkor_shape[1])\n",
    "# t_scale = np.zeros(fotkor_shape[1])\n",
    "\n",
    "for i in range(fotkor_shape[1]):\n",
    "#     get_hist_fit_single(fotkor[:-2,i], t_res, t_measure[i], 0, hist_sigmas[i] )\n",
    "    DeltaS_S_ratio[i], Delta_S_S_ratio_sigma_3[i], photon_sum_3[i] = get_hist_fit_single_photocountssum(fotkor[:-2,i], t_res[i], t_measure[i], background_photocounts[i], hist_sigmas_2[i] )\n",
    "    \n",
    "# print(DeltaS_S_ratio)\n",
    "print(Delta_S_S_ratio_sigma_3)\n",
    "print(photon_sum_3)\n",
    "\n",
    "plt.plot(t_measure, Delta_S_S_ratio_sigma_3, '.')"
   ]
  },
  {
   "cell_type": "code",
   "execution_count": 90,
   "metadata": {},
   "outputs": [
    {
     "data": {
      "text/plain": [
       "<matplotlib.legend.Legend at 0x7fa637c9c050>"
      ]
     },
     "execution_count": 90,
     "metadata": {},
     "output_type": "execute_result"
    },
    {
     "data": {
      "image/png": "[encoded data removed]",
      "text/plain": [
       "<Figure size 432x288 with 1 Axes>"
      ]
     },
     "metadata": {
      "needs_background": "light"
     },
     "output_type": "display_data"
    }
   ],
   "source": [
    "# plt.figure(figsize=(sizex/my_dpi, sizey/my_dpi), dpi=my_dpi)\n",
    "plt.plot(t_measure, hist_sigmas_2, '.', label='1500 ph/s')\n",
    "plt.plot(t_measure, hist_sigmas_1, '.', label='3200 ph/s')\n",
    "plt.plot(t_measure, hist_sigmas_3, '.', label='128 ps -- 3000 ph/s')\n",
    "\n",
    "plt.legend()"
   ]
  },
  {
   "cell_type": "code",
   "execution_count": 91,
   "metadata": {},
   "outputs": [
    {
     "data": {
      "text/plain": [
       "<matplotlib.legend.Legend at 0x7fa6379e4350>"
      ]
     },
     "execution_count": 91,
     "metadata": {},
     "output_type": "execute_result"
    },
    {
     "data": {
      "image/png": "[encoded data removed]",
      "text/plain": [
       "<Figure size 432x288 with 1 Axes>"
      ]
     },
     "metadata": {
      "needs_background": "light"
     },
     "output_type": "display_data"
    }
   ],
   "source": [
    "plt.plot(t_measure, Delta_S_S_ratio_sigma_2, '.', label='1500 ph/s')\n",
    "plt.plot(t_measure, Delta_S_S_ratio_sigma_1, '.', label='3200 ph/s')\n",
    "plt.plot(t_measure, Delta_S_S_ratio_sigma_3, '.', label='128 ps -- 3000 ph/s')\n",
    "\n",
    "plt.legend()"
   ]
  },
  {
   "cell_type": "markdown",
   "metadata": {},
   "source": [
    "vypada to, ze zavisi pouze na fotocountu a casu, tedy na celkovem poctu nascitanych fotonu?"
   ]
  },
  {
   "cell_type": "code",
   "execution_count": 93,
   "metadata": {},
   "outputs": [
    {
     "data": {
      "text/plain": [
       "<matplotlib.legend.Legend at 0x7fa637a64bd0>"
      ]
     },
     "execution_count": 93,
     "metadata": {},
     "output_type": "execute_result"
    },
    {
     "data": {
      "image/png": "[encoded data removed]",
      "text/plain": [
       "<Figure size 432x288 with 1 Axes>"
      ]
     },
     "metadata": {
      "needs_background": "light"
     },
     "output_type": "display_data"
    }
   ],
   "source": [
    "plt.plot(photon_sum_2, Delta_S_S_ratio_sigma_2, '.', label='1500 ph/s')\n",
    "plt.plot(photon_sum_1, Delta_S_S_ratio_sigma_1, '.', label='3200 ph/s')\n",
    "plt.plot(photon_sum_3, Delta_S_S_ratio_sigma_3, '.', label='128 ps -- 3000 ph/s')\n",
    "\n",
    "plt.legend()"
   ]
  },
  {
   "cell_type": "markdown",
   "metadata": {},
   "source": [
    "Potvrzeno"
   ]
  },
  {
   "cell_type": "code",
   "execution_count": null,
   "metadata": {},
   "outputs": [],
   "source": []
  }
 ],
 "metadata": {
  "kernelspec": {
   "display_name": "Python 3",
   "language": "python",
   "name": "python3"
  },
  "language_info": {
   "codemirror_mode": {
    "name": "ipython",
    "version": 3
   },
   "file_extension": ".py",
   "mimetype": "text/x-python",
   "name": "python",
   "nbconvert_exporter": "python",
   "pygments_lexer": "ipython3",
   "version": "3.7.4"
  }
 },
 "nbformat": 4,
 "nbformat_minor": 4
}
