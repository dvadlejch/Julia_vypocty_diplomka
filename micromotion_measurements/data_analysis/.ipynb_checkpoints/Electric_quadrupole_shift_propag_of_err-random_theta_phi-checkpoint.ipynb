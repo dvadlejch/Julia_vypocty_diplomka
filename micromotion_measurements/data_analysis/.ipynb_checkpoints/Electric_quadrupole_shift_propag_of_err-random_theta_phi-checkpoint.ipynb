{
 "cells": [
  {
   "cell_type": "markdown",
   "metadata": {},
   "source": [
    "Introduction\n",
    "=============\n",
    "\n",
    "The interaction of the atomic quadrupole moment with electric field gradient leads to frequency shift, which is related to the angle between these two by relation\n",
    "\\begin{equation}\n",
    "\t\\label{eq:f_shift}\n",
    "\t\\Delta f \\sim 3\\cos^2{\\beta}- 1\n",
    "\\end{equation}\n",
    "where $ \\beta $ refers to the angle between electric field gradient and the atomic quadrupole moment. Simultaneously, the atomic quadrupole moment direction is determined by direction of applied external magnetic field at the location of an ion (...have a look why!...), and therefore $ \\beta $ denotes the angle between net magnetic field and electric field gradient at the ion location.\n",
    "\n",
    "The above implies that the following model describing the transition frequency can be adopted\n",
    "\\begin{equation}\n",
    "\t\\label{eq:freq_model}\n",
    "\tf = f_0 + \\alpha(3\\cos^2{\\beta}- 1)\n",
    "\\end{equation}\n",
    "where $ f_0 $ denotes the unperturbed transition frequency and $ \\alpha $ is simply scaling factor. In general, \\cref{eq:freq_model} can be rewritten by means of its mean value as follows\n",
    "\\begin{equation}\n",
    "\t\\label{eq:freq_model_mean}\n",
    "\t\\left<f\\right> - f_0 = \\alpha \\left< 3\\cos^2{\\beta}- 1 \\right> = \\left<\\Delta f\\right>\n",
    "\\end{equation}\n",
    "where $ \\alpha $ is considered to have a constant value. If the averaging is evaluated over three mutually perpendicular magnetic field directions while holding the electric field direction fixed, the frequency shift average vanishes and \\cref{eq:freq_model_mean} implies that $ \\left<f\\right> = f_0 $. However, a real magnetic field acting on an trapped ion is never perfectly controlled and therefore the averaging uncertainty must be determined."
   ]
  },
  {
   "cell_type": "markdown",
   "metadata": {},
   "source": [
    "# Method\n",
    "As a consequence of the above, the mean value of $ \\left<\\Delta f\\right> $ is chosen as a measure of electric quadrupole contribution to frequency shift uncertainty. To evaluate this, the parameters in the adopted model - \\cref{eq:freq_model} have to be estimated. This process is divided into two parts. In the first part, magnetic field direction is estimated for the set of three orthogonal measurements where values of the transition frequency are known. Afterwards, the transition frequency model \\cref{eq:freq_model} is fitted to these values. The estimated parameters are then used to evaluate frequency shifts for each set of orthogonal measurements."
   ]
  },
  {
   "cell_type": "markdown",
   "metadata": {},
   "source": [
    "# The estimation of magnetic field directions\n",
    "\n",
    "The used experimental setup has a set of coils available to control magnetic field within the ion trap. Three values of currents can be set, each of them is supposed to induce magnetic field in direction perpendicular to the others. However again, the directions are certainly not perfectly perpendicular. The model of net magnetic field at the ion location, described as a superposition of the induced and background field, is of the form\n",
    "\\begin{equation}\n",
    "\t\\vec{B} = \\mathcal{A}\\vec{I} + \\vec{B}_0\n",
    "\\end{equation}\n",
    "where $ \\vec{B}_0 $ denotes background magnetic field which considers environmental field effects and matrix $ \\mathcal{A} $ refers to the properties of the coils setup.\n",
    "\n",
    "Considering one set of three orthogonal magnetic field measurements, three values of magnitude of the net magnetic field $ B_i $ at ion location and the corresponding vector of currents are available. Knowing this, system of three equations can be solved for $ \\vec{B}_0 $. These equations are\n",
    "\\begin{equation}\n",
    "\tB_i =  \\sqrt{B_{ix}^2 + B_{iy}^2 + B_{iz}^2}\n",
    "\\end{equation}\n",
    "where $\\vec{B}_i =  \\mathcal{A}\\vec{I}_i + \\vec{B}_0$ and index $ i = 0,\\;1,\\; 2$ refers to each perpendicular direction. Background field $ \\vec{B}_0 $ is considered to be constant during the acquirement of one set of $ B_i $ values - which is certainly not valid, however provided that background field change is not 'too big', this could be good estimation. This approach to magnetic field treatment is adapted from Ref.\\ \\cite{Baynham2018_thesis}."
   ]
  },
  {
   "cell_type": "markdown",
   "metadata": {},
   "source": [
    "Importing packages and B-fields and currents data available."
   ]
  },
  {
   "cell_type": "code",
   "execution_count": 1,
   "metadata": {},
   "outputs": [],
   "source": [
    "# Setup some Jupyter env features\n",
    "%load_ext autoreload\n",
    "%autoreload 2\n",
    "%matplotlib inline\n",
    "\n",
    "import glob\n",
    "import numpy as np\n",
    "import scipy.optimize as sciop\n",
    "import random as rd\n",
    "import pandas as pd\n",
    "import matplotlib.pyplot as plt"
   ]
  },
  {
   "cell_type": "code",
   "execution_count": 2,
   "metadata": {},
   "outputs": [
    {
     "name": "stdout",
     "output_type": "stream",
     "text": [
      "B_magnitude [uT]\n"
     ]
    },
    {
     "data": {
      "text/html": [
       "<div>\n",
       "<style scoped>\n",
       "    .dataframe tbody tr th:only-of-type {\n",
       "        vertical-align: middle;\n",
       "    }\n",
       "\n",
       "    .dataframe tbody tr th {\n",
       "        vertical-align: top;\n",
       "    }\n",
       "\n",
       "    .dataframe thead th {\n",
       "        text-align: right;\n",
       "    }\n",
       "</style>\n",
       "<table border=\"1\" class=\"dataframe\">\n",
       "  <thead>\n",
       "    <tr style=\"text-align: right;\">\n",
       "      <th></th>\n",
       "      <th>0</th>\n",
       "      <th>1</th>\n",
       "      <th>2</th>\n",
       "      <th>3</th>\n",
       "      <th>4</th>\n",
       "      <th>5</th>\n",
       "      <th>6</th>\n",
       "      <th>7</th>\n",
       "      <th>8</th>\n",
       "      <th>9</th>\n",
       "      <th>10</th>\n",
       "      <th>11</th>\n",
       "      <th>12</th>\n",
       "      <th>13</th>\n",
       "      <th>14</th>\n",
       "      <th>15</th>\n",
       "      <th>16</th>\n",
       "      <th>17</th>\n",
       "      <th>18</th>\n",
       "      <th>19</th>\n",
       "    </tr>\n",
       "  </thead>\n",
       "  <tbody>\n",
       "    <tr>\n",
       "      <th>0</th>\n",
       "      <td>2.966</td>\n",
       "      <td>3.053</td>\n",
       "      <td>3.050</td>\n",
       "      <td>3.021</td>\n",
       "      <td>3.053</td>\n",
       "      <td>3.062</td>\n",
       "      <td>3.000</td>\n",
       "      <td>2.992</td>\n",
       "      <td>2.998</td>\n",
       "      <td>2.983</td>\n",
       "      <td>3.010</td>\n",
       "      <td>3.000</td>\n",
       "      <td>3.06</td>\n",
       "      <td>2.98</td>\n",
       "      <td>2.98</td>\n",
       "      <td>3.00</td>\n",
       "      <td>2.96</td>\n",
       "      <td>9.96</td>\n",
       "      <td>2.99</td>\n",
       "      <td>3.04</td>\n",
       "    </tr>\n",
       "    <tr>\n",
       "      <th>1</th>\n",
       "      <td>2.962</td>\n",
       "      <td>2.985</td>\n",
       "      <td>2.952</td>\n",
       "      <td>3.009</td>\n",
       "      <td>3.048</td>\n",
       "      <td>3.035</td>\n",
       "      <td>2.984</td>\n",
       "      <td>2.986</td>\n",
       "      <td>3.030</td>\n",
       "      <td>3.028</td>\n",
       "      <td>2.969</td>\n",
       "      <td>2.969</td>\n",
       "      <td>2.89</td>\n",
       "      <td>3.24</td>\n",
       "      <td>2.87</td>\n",
       "      <td>3.15</td>\n",
       "      <td>3.14</td>\n",
       "      <td>9.98</td>\n",
       "      <td>3.03</td>\n",
       "      <td>2.95</td>\n",
       "    </tr>\n",
       "    <tr>\n",
       "      <th>2</th>\n",
       "      <td>2.883</td>\n",
       "      <td>2.997</td>\n",
       "      <td>3.030</td>\n",
       "      <td>3.025</td>\n",
       "      <td>3.024</td>\n",
       "      <td>3.021</td>\n",
       "      <td>3.029</td>\n",
       "      <td>2.960</td>\n",
       "      <td>2.984</td>\n",
       "      <td>3.003</td>\n",
       "      <td>3.036</td>\n",
       "      <td>3.004</td>\n",
       "      <td>2.73</td>\n",
       "      <td>3.17</td>\n",
       "      <td>3.12</td>\n",
       "      <td>2.92</td>\n",
       "      <td>3.26</td>\n",
       "      <td>10.03</td>\n",
       "      <td>3.01</td>\n",
       "      <td>3.00</td>\n",
       "    </tr>\n",
       "  </tbody>\n",
       "</table>\n",
       "</div>"
      ],
      "text/plain": [
       "      0      1      2      3      4      5      6      7      8      9   \\\n",
       "0  2.966  3.053  3.050  3.021  3.053  3.062  3.000  2.992  2.998  2.983   \n",
       "1  2.962  2.985  2.952  3.009  3.048  3.035  2.984  2.986  3.030  3.028   \n",
       "2  2.883  2.997  3.030  3.025  3.024  3.021  3.029  2.960  2.984  3.003   \n",
       "\n",
       "      10     11    12    13    14    15    16     17    18    19  \n",
       "0  3.010  3.000  3.06  2.98  2.98  3.00  2.96   9.96  2.99  3.04  \n",
       "1  2.969  2.969  2.89  3.24  2.87  3.15  3.14   9.98  3.03  2.95  \n",
       "2  3.036  3.004  2.73  3.17  3.12  2.92  3.26  10.03  3.01  3.00  "
      ]
     },
     "execution_count": 2,
     "metadata": {},
     "output_type": "execute_result"
    }
   ],
   "source": [
    "data = pd.read_excel('B_fields_data_dec2018.xlsx').values\n",
    "\n",
    "N = 3\n",
    "M = int( np.shape(data)[1]/4 )\n",
    "currents = np.zeros((N,M,3))\n",
    "B_atom_norm = np.zeros((N,M))\n",
    "B_atom_norm_weights = np.zeros((N,M))\n",
    "sigma_B_magnitude = 0.1 # unc. of B_mag. data\n",
    "\n",
    "# ----- ordering the data into chosen shape\n",
    "for i in range(N):\n",
    "    for j in range(M):\n",
    "        currents[i,j,:] = np.array([data[i,4*j], data[i,4*j+1], data[i,4*j+2]])\n",
    "        B_atom_norm[i,j] = data[i, 4*j+3]\n",
    "        B_atom_norm_weights[i,j] = 1/sigma_B_magnitude**2\n",
    "#------------------------------------------\n",
    "\n",
    "freq_measured = np.zeros(np.shape(B_atom_norm))\n",
    "freq_measured_unc = np.zeros(np.shape(B_atom_norm))\n",
    "for j in range(M):\n",
    "    freq_measured[:,j] = np.array( [-0.29889313, 0.48482039, -0.18592726]  )\n",
    "    freq_measured_unc[:,j] = np.array( [0.02366855828068858, 0.017271600762984268, 0.05881323141428985]  )\n",
    "# here I know only one set of measured frequency, but I've left this piece of code as it was - frequencies are\n",
    "# ordered in an array\n",
    "print('B_magnitude [uT]')\n",
    "pd.DataFrame(B_atom_norm)\n",
    "\n",
    "#print('\\ncurrents + B_magnitudes')\n",
    "#pd.read_excel('B_fields_data_dec2018.xlsx').head()\n"
   ]
  },
  {
   "cell_type": "code",
   "execution_count": 3,
   "metadata": {},
   "outputs": [
    {
     "name": "stdout",
     "output_type": "stream",
     "text": [
      "currents [mA] + B_magnitudes [uT]\n"
     ]
    },
    {
     "data": {
      "text/html": [
       "<div>\n",
       "<style scoped>\n",
       "    .dataframe tbody tr th:only-of-type {\n",
       "        vertical-align: middle;\n",
       "    }\n",
       "\n",
       "    .dataframe tbody tr th {\n",
       "        vertical-align: top;\n",
       "    }\n",
       "\n",
       "    .dataframe thead th {\n",
       "        text-align: right;\n",
       "    }\n",
       "</style>\n",
       "<table border=\"1\" class=\"dataframe\">\n",
       "  <thead>\n",
       "    <tr style=\"text-align: right;\">\n",
       "      <th></th>\n",
       "      <th>0</th>\n",
       "      <th>1</th>\n",
       "      <th>2</th>\n",
       "      <th>3</th>\n",
       "      <th>4</th>\n",
       "      <th>5</th>\n",
       "      <th>6</th>\n",
       "      <th>7</th>\n",
       "      <th>8</th>\n",
       "      <th>9</th>\n",
       "      <th>...</th>\n",
       "      <th>70</th>\n",
       "      <th>71</th>\n",
       "      <th>72</th>\n",
       "      <th>73</th>\n",
       "      <th>74</th>\n",
       "      <th>75</th>\n",
       "      <th>76</th>\n",
       "      <th>77</th>\n",
       "      <th>78</th>\n",
       "      <th>79</th>\n",
       "    </tr>\n",
       "  </thead>\n",
       "  <tbody>\n",
       "    <tr>\n",
       "      <th>0</th>\n",
       "      <td>10.4</td>\n",
       "      <td>4.2</td>\n",
       "      <td>126.9</td>\n",
       "      <td>2.966</td>\n",
       "      <td>11.0</td>\n",
       "      <td>3.5</td>\n",
       "      <td>128.0</td>\n",
       "      <td>3.053</td>\n",
       "      <td>11.0</td>\n",
       "      <td>3.5</td>\n",
       "      <td>...</td>\n",
       "      <td>183.4</td>\n",
       "      <td>9.96</td>\n",
       "      <td>10.4</td>\n",
       "      <td>3.0</td>\n",
       "      <td>127.7</td>\n",
       "      <td>2.99</td>\n",
       "      <td>-72.9</td>\n",
       "      <td>-5.7</td>\n",
       "      <td>79.9</td>\n",
       "      <td>3.04</td>\n",
       "    </tr>\n",
       "    <tr>\n",
       "      <th>1</th>\n",
       "      <td>-4.9</td>\n",
       "      <td>-10.0</td>\n",
       "      <td>70.9</td>\n",
       "      <td>2.962</td>\n",
       "      <td>-4.3</td>\n",
       "      <td>-10.6</td>\n",
       "      <td>72.1</td>\n",
       "      <td>2.985</td>\n",
       "      <td>-4.3</td>\n",
       "      <td>-10.6</td>\n",
       "      <td>...</td>\n",
       "      <td>-3.1</td>\n",
       "      <td>9.98</td>\n",
       "      <td>-4.9</td>\n",
       "      <td>-11.1</td>\n",
       "      <td>71.7</td>\n",
       "      <td>3.03</td>\n",
       "      <td>-57.6</td>\n",
       "      <td>8.5</td>\n",
       "      <td>135.9</td>\n",
       "      <td>2.95</td>\n",
       "    </tr>\n",
       "    <tr>\n",
       "      <th>2</th>\n",
       "      <td>-35.9</td>\n",
       "      <td>-15.3</td>\n",
       "      <td>130.4</td>\n",
       "      <td>2.883</td>\n",
       "      <td>-35.3</td>\n",
       "      <td>-16.0</td>\n",
       "      <td>131.5</td>\n",
       "      <td>2.997</td>\n",
       "      <td>-35.3</td>\n",
       "      <td>-16.0</td>\n",
       "      <td>...</td>\n",
       "      <td>195.2</td>\n",
       "      <td>10.03</td>\n",
       "      <td>-35.9</td>\n",
       "      <td>-16.5</td>\n",
       "      <td>131.2</td>\n",
       "      <td>3.01</td>\n",
       "      <td>-26.6</td>\n",
       "      <td>13.8</td>\n",
       "      <td>76.4</td>\n",
       "      <td>3.00</td>\n",
       "    </tr>\n",
       "  </tbody>\n",
       "</table>\n",
       "<p>3 rows × 80 columns</p>\n",
       "</div>"
      ],
      "text/plain": [
       "     0     1      2      3     4     5      6      7     8     9   ...   \\\n",
       "0  10.4   4.2  126.9  2.966  11.0   3.5  128.0  3.053  11.0   3.5  ...    \n",
       "1  -4.9 -10.0   70.9  2.962  -4.3 -10.6   72.1  2.985  -4.3 -10.6  ...    \n",
       "2 -35.9 -15.3  130.4  2.883 -35.3 -16.0  131.5  2.997 -35.3 -16.0  ...    \n",
       "\n",
       "      70     71    72    73     74    75    76    77     78    79  \n",
       "0  183.4   9.96  10.4   3.0  127.7  2.99 -72.9  -5.7   79.9  3.04  \n",
       "1   -3.1   9.98  -4.9 -11.1   71.7  3.03 -57.6   8.5  135.9  2.95  \n",
       "2  195.2  10.03 -35.9 -16.5  131.2  3.01 -26.6  13.8   76.4  3.00  \n",
       "\n",
       "[3 rows x 80 columns]"
      ]
     },
     "execution_count": 3,
     "metadata": {},
     "output_type": "execute_result"
    }
   ],
   "source": [
    "print('currents [mA] + B_magnitudes [uT]')\n",
    "pd.read_excel('B_fields_data_dec2018.xlsx')"
   ]
  },
  {
   "cell_type": "markdown",
   "metadata": {},
   "source": [
    "In case of columns 72, 73, 74, 75 I know transition frequencies for each B-field direction with uncertainties."
   ]
  },
  {
   "cell_type": "code",
   "execution_count": 4,
   "metadata": {},
   "outputs": [
    {
     "name": "stdout",
     "output_type": "stream",
     "text": [
      "frequencies = \n"
     ]
    },
    {
     "data": {
      "text/plain": [
       "array([-0.29889313,  0.48482039, -0.18592726])"
      ]
     },
     "execution_count": 4,
     "metadata": {},
     "output_type": "execute_result"
    }
   ],
   "source": [
    "print('frequencies = ')\n",
    "freq_measured[:,18]"
   ]
  },
  {
   "cell_type": "code",
   "execution_count": 5,
   "metadata": {},
   "outputs": [
    {
     "name": "stdout",
     "output_type": "stream",
     "text": [
      "freq_unc = \n"
     ]
    },
    {
     "data": {
      "text/plain": [
       "array([0.02366856, 0.0172716 , 0.05881323])"
      ]
     },
     "execution_count": 5,
     "metadata": {},
     "output_type": "execute_result"
    }
   ],
   "source": [
    "print('freq_unc = ')\n",
    "freq_measured_unc[:,18]"
   ]
  },
  {
   "cell_type": "markdown",
   "metadata": {},
   "source": [
    "In order to find $\\alpha$ and direction of E-field gradient, I am going to calculate B-field corresponding to known transition frequencies. A-matrix in $\\vec{B} = \\mathcal{A}\\vec{I} + \\vec{B}_0$ has been adopted from previous measurements (excel file)."
   ]
  },
  {
   "cell_type": "code",
   "execution_count": 6,
   "metadata": {},
   "outputs": [],
   "source": [
    "A_mat = np.array([ [-0.0602866812718258, 0, 0], [0, -0.162095155020535, 0], [0, 0, 0.0620022558154306] ])\n",
    "\n",
    "def get_B_0(currents_values, B_atom_norm_values, A, B_norm_weights):\n",
    "    # function which estimates background field at the atom's position\n",
    "    # input:\n",
    "    #       currents data in format: [B-field axis, measurement number, coil number], B_atom_norm in format: [B-field axis, measurement number]\n",
    "    #       A matrix, which satisfies: B_coils = A * I\n",
    "    # output:\n",
    "    #       background B-field in format: [component, measurement number], B-field at the atom's positon in format: [B-field main direction axis, measurement number, component of solution]\n",
    "    def resid_b_atom(B, B_norm, currents, A, B_norm_weight):\n",
    "        B_1 = A@currents[:3] + B\n",
    "        B_2 = A@currents[3:6] + B\n",
    "        B_3 = A@currents[6:9] + B\n",
    "        B_r = np.array( [np.linalg.norm(B_1), np.linalg.norm(B_2), np.linalg.norm(B_3)] )\n",
    "        return B_norm_weight*(B_norm - B_r)\n",
    "    \n",
    "    def jac_b_atom(B, B_norm, currents, A, B_norm_weight):\n",
    "        # function which calculates jacobian matrix for function B_norm - norm(B_i)\n",
    "        jac = np.zeros((3,3))\n",
    "        for i in range(3):\n",
    "            jac[i,:] = -B_norm_weight[i]*(A@currents[3*i:3*i+3] + B)/B_norm[i]\n",
    "        return jac\n",
    "    \n",
    "    B_background_sol = np.zeros(np.shape(B_atom_norm_values))\n",
    "    B_background_sol_unc = np.zeros(np.shape(B_atom_norm_values))\n",
    "    B_atom_sol = np.zeros((np.shape(B_atom_norm_values)[0],np.shape(B_atom_norm_values)[1],3))\n",
    "    Ca_mat = np.zeros((3,3,np.shape(B_atom_norm_values)[1]))\n",
    "    for i in range(np.shape(B_atom_norm_values)[1]):\n",
    "        B_norm = B_atom_norm_values[:,i]\n",
    "        B_norm_weight = B_norm_weights[:,i]\n",
    "        currents = np.append(currents_values[0,i,:], np.append(currents_values[1,i,:], currents_values[2,i,:]))\n",
    "        eq_solution = sciop.root(resid_b_atom, np.array([-1.83092,-0.155338,-6.4772]), jac=jac_b_atom, args=(B_norm, currents, A, B_norm_weight), method='lm' )\n",
    "        #print(eq_solution)\n",
    "        B_background_sol[:,i] = eq_solution.x\n",
    "        Ca_mat[:,:,i] = np.linalg.inv( np.transpose(eq_solution.fjac)@np.diag(B_norm_weight)@eq_solution.fjac )\n",
    "        B_background_sol_unc[:,i] = np.array( [np.sqrt(Ca_mat[0,0,i]), np.sqrt(Ca_mat[1,1,i]), np.sqrt(Ca_mat[2,2,i])] )\n",
    "        B_atom_sol[0,i,:] = A@currents_values[0,i,:] + B_background_sol[:,i]\n",
    "        B_atom_sol[1,i,:] = A@currents_values[1,i,:] + B_background_sol[:,i]\n",
    "        B_atom_sol[2,i,:] = A@currents_values[2,i,:] + B_background_sol[:,i]\n",
    "    \n",
    "\n",
    "        \n",
    "    return B_background_sol, B_atom_sol, B_background_sol_unc, Ca_mat"
   ]
  },
  {
   "cell_type": "code",
   "execution_count": 7,
   "metadata": {},
   "outputs": [
    {
     "name": "stdout",
     "output_type": "stream",
     "text": [
      "The background B-field in case of known transition frequencies [uT]: \n"
     ]
    },
    {
     "data": {
      "text/plain": [
       "array([-1.89224489, -0.19071729, -6.45643321])"
      ]
     },
     "execution_count": 7,
     "metadata": {},
     "output_type": "execute_result"
    }
   ],
   "source": [
    "#------B-field calculation for all data-------------\n",
    "B_background_sol, B_atom_sol, B_background_sol_unc, Ca_mat = get_B_0(currents, B_atom_norm, A_mat, B_atom_norm_weights) # estimated background field and B-field at atom's position\n",
    "\n",
    "print('The background B-field in case of known transition frequencies [uT]: ')\n",
    "B_background_sol[:,18]"
   ]
  },
  {
   "cell_type": "code",
   "execution_count": 8,
   "metadata": {},
   "outputs": [
    {
     "name": "stdout",
     "output_type": "stream",
     "text": [
      "Background B-field uncertainty in case of known transition frequencies [uT]:\n",
      "this error is propagated from uncertainty in B-field magnitudes\n"
     ]
    },
    {
     "data": {
      "text/plain": [
       "array([0.00099305, 0.00100219, 0.00100508])"
      ]
     },
     "execution_count": 8,
     "metadata": {},
     "output_type": "execute_result"
    }
   ],
   "source": [
    "print('Background B-field uncertainty in case of known transition frequencies [uT]:')\n",
    "print('this error is propagated from uncertainty in B-field magnitudes')\n",
    "B_background_sol_unc[:,18]"
   ]
  },
  {
   "cell_type": "markdown",
   "metadata": {},
   "source": [
    "Now I know B-field vectors and their variance-covariance matrices for each penperdicular direction of my dataset. I'm going to use calculated B-field in the case of known transition frequencies to fit the quadrupole frequency shift model\n",
    "\\begin{equation}\n",
    "\\Delta f = \\alpha \\left[ 3\\left(\\frac{\\vec{B}\\cdot\\vec{k^{\\prime}}}{B}\\right)^2 - 1\\right].\n",
    "\\end{equation}\n",
    "I've used $f_0 = 0$ since used frequency values are chosen as their mean value is a zero. The propagation of errors from B-fields and transition frequencies is performed using variance-covariance matrix constructed for each input parametr, which are three values of $f$ and three vectors $\\vec{B}$."
   ]
  },
  {
   "cell_type": "code",
   "execution_count": 9,
   "metadata": {},
   "outputs": [],
   "source": [
    "#----------- constructing variance-covariance matrix to asses unc. in alpha and k_prime due to unc. in delta_f and B_fields\n",
    "Ca_freq_B_field = np.zeros((12,12))\n",
    "for i in range(3):\n",
    "    Ca_freq_B_field[:3,:3] = np.diag(freq_measured_unc[:,18]**2)\n",
    "    Ca_freq_B_field[3:6,3:6] = Ca_mat[:,:,18]\n",
    "    Ca_freq_B_field[6:9,6:9] = Ca_mat[:,:,18]\n",
    "    Ca_freq_B_field[9:12,9:12] = Ca_mat[:,:,18]"
   ]
  },
  {
   "cell_type": "markdown",
   "metadata": {},
   "source": [
    "I need a function, which will find desired parameters $\\alpha$ and $\\vec{k}$ and simultaniously return jacobian matrix in a point of the solution w. r. t. my input parameters. This matrix is of the form\n",
    "\\begin{equation}\n",
    "\t\\mathcal{J} = \n",
    "\t\\begin{pmatrix}\n",
    "\t\t\\frac{\\partial \\alpha}{\\partial f_1} & \\dots      & \\frac{\\partial \\alpha}{\\partial B_{1x}}  & \\dots & \\frac{\\partial \\alpha}{\\partial B_{3z}} \\\\\n",
    "\t\t\\frac{\\partial k_1}{\\partial f_1} & \\dots      & \\frac{\\partial k_1}{\\partial B_{1x}}  & \\dots & \\frac{\\partial k_1}{\\partial B_{3z}} \\\\\n",
    "        \\frac{\\partial k_2}{\\partial f_1} & \\dots      & \\frac{\\partial k_2}{\\partial B_{1x}}  & \\dots & \\frac{\\partial k_2}{\\partial B_{3z}}\n",
    "    \\end{pmatrix}\n",
    "\t\\quad .\n",
    "\\end{equation}\n"
   ]
  },
  {
   "cell_type": "code",
   "execution_count": 10,
   "metadata": {
    "scrolled": false
   },
   "outputs": [
    {
     "name": "stdout",
     "output_type": "stream",
     "text": [
      "   Iteration     Total nfev        Cost      Cost reduction    Step norm     Optimality   \n",
      "       0              1         1.4966e+06                                    1.40e+07    \n",
      "       1              2         6.4478e+05      8.52e+05       1.01e+00       3.91e+06    \n",
      "       2              3         1.7016e+05      4.75e+05       7.78e-01       1.25e+06    \n",
      "       3              4         1.5457e+04      1.55e+05       4.22e-01       9.19e+05    \n",
      "       4              5         1.6915e+02      1.53e+04       5.16e-02       8.43e+04    \n",
      "       5              6         5.9741e-04      1.69e+02       5.74e-03       1.55e+02    \n",
      "       6              7         9.4237e-14      5.97e-04       9.98e-06       1.79e-03    \n",
      "       7              8         2.8206e-25      9.42e-14       1.61e-10       2.95e-09    \n",
      "`gtol` termination condition is satisfied.\n",
      "Function evaluations 8, initial cost 1.4966e+06, final cost 2.8206e-25, first-order optimality 2.95e-09.\n",
      " active_mask: array([0., 0., 0.])\n",
      "        cost: 2.8206406264827147e-25\n",
      "         fun: array([9.90915507e-14, 7.44346318e-13, 1.60483413e-14])\n",
      "        grad: array([1.64622060e-09, 2.94937334e-09, 3.71760193e-10])\n",
      "         jac: array([[ -759.80315507, -1879.71003437,  1291.21375548],\n",
      "       [ 2314.43223336,  4214.25153468,   332.65956178],\n",
      "       [  -76.54586906,   -76.3870064 ,  -236.91547491]])\n",
      "     message: '`gtol` termination condition is satisfied.'\n",
      "        nfev: 8\n",
      "        njev: 8\n",
      "  optimality: 2.9493733445801794e-09\n",
      "      status: 1\n",
      "     success: True\n",
      "           x: array([-0.70221682,  2.73324915, -0.53963924])\n",
      "alpha = \n"
     ]
    },
    {
     "data": {
      "text/plain": [
       "-0.7022168194845689"
      ]
     },
     "execution_count": 10,
     "metadata": {},
     "output_type": "execute_result"
    }
   ],
   "source": [
    "def fit_unknown_aplha_and_k_vec_one_set(f_shift, B_atom_sol, f_shift_unc):\n",
    "    f_shift = f_shift.flatten()                                                                                                                                                                                                                                                                                                                                                                                                                                            \n",
    "    f_shift_unc = f_shift_unc.flatten()\n",
    "    B_atom_sol = B_atom_sol.reshape((len(f_shift),3))\n",
    "    \n",
    "    #--- calculating weights -----\n",
    "    f_shift_weights = 1/f_shift_unc**2\n",
    "    \n",
    "    def resid_freq_fit_unknown_alpha(params, f_atom_column, B_atom_vec, f_shift_weights):\n",
    "        # params[0] = alpha\n",
    "        # params[1] = theta\n",
    "        # params[2] = phi\n",
    "        right_side = np.zeros(len(f_atom_column))\n",
    "        for i in range(len(f_atom_column)):\n",
    "            dot_prod = np.sin(params[1])*np.cos(params[2]) * B_atom_vec[i,0] + np.sin(params[1])* np.sin(params[2]) * B_atom_vec[i,1] + np.cos(params[1])*B_atom_vec[i,2]\n",
    "            right_side[i] = params[0]* ( 3*(dot_prod/np.linalg.norm(B_atom_vec[i,:]))**2 - 1 )\n",
    "        return f_shift_weights*(f_atom_column - right_side)\n",
    "    \n",
    "    \n",
    "    def jacob_matrix(alpha, k_prime, B_field):\n",
    "        # input: alpha coef, k1 and k2, three vectors of B_field, three frequency shifts\n",
    "        \n",
    "        jac = np.zeros((3,12))\n",
    "        # -----defining derivatives\n",
    "        def df_dalpha(B_field, k_prime):\n",
    "            return 3*(np.dot(B_field,k_prime)/np.linalg.norm(B_field))**2 - 1\n",
    "        \n",
    "        def df_dBx(alpha, k_prime, B_vec):\n",
    "            up = 6*alpha*(np.dot(B_vec,k_prime))*(-B_vec[1]**2*k_prime[0] + B_vec[0]*B_vec[1]*k_prime[1] + B_vec[2]*(B_vec[0]*k_prime[2]-B_vec[2]*k_prime[0]))\n",
    "            \n",
    "            return -up/np.linalg.norm(B_vec)**4\n",
    "        \n",
    "        def df_dBy(alpha, k_prime, B_vec):\n",
    "            up = 6*alpha*(np.dot(B_vec,k_prime))*(-B_vec[0]*B_vec[1]*k_prime[0] + B_vec[0]**2*k_prime[1] + B_vec[2]*(B_vec[2]*k_prime[1]-B_vec[1]*k_prime[2]))\n",
    "            \n",
    "            return up/np.linalg.norm(B_vec)**4\n",
    "        \n",
    "        def df_dBz(alpha, k_prime, B_vec):\n",
    "            up = 6*alpha*(np.dot(B_vec,k_prime))*(-B_vec[0]*B_vec[2]*k_prime[0] + B_vec[0]**2*k_prime[2] + B_vec[1]*(B_vec[1]*k_prime[2]-B_vec[2]*k_prime[1]))\n",
    "            \n",
    "            return up/np.linalg.norm(B_vec)**4\n",
    "        \n",
    "        def df_dk1(alpha, k_prime, B_vec):\n",
    "            up = 6*alpha*(B_vec[0] - B_vec[2]*k_prime[0]/k_prime[2])*np.dot(B_vec,k_prime)\n",
    "            return up/np.linalg.norm(B_vec)**2\n",
    "        \n",
    "        def df_dk2(alpha, k_prime, B_vec):\n",
    "            up = 6*alpha*(B_vec[1] - B_vec[2]*k_prime[1]/k_prime[2])*np.dot(B_vec,k_prime)\n",
    "            return up/np.linalg.norm(B_vec)**2\n",
    "        \n",
    "        \n",
    "        for i in range(3):\n",
    "            jac[0,i] = 1/df_dalpha(B_field[i,:],k_prime)\n",
    "        for i in range(3):\n",
    "            jac[0,3*i+3] = df_dBx(alpha, k_prime, B_field[i,:])*1/df_dalpha(k_prime,B_field[i,:])\n",
    "        for i in range(3):\n",
    "            jac[0,3*i+4] = df_dBy(alpha, k_prime, B_field[i,:])*1/df_dalpha(k_prime,B_field[i,:])\n",
    "        for i in range(3):\n",
    "            jac[0,3*i+5] = df_dBz(alpha, k_prime, B_field[i,:])*1/df_dalpha(k_prime,B_field[i,:])\n",
    "        # second row\n",
    "        for i in range(3):\n",
    "            jac[1,i] = 1/df_dk1(alpha, k_prime, B_field[i,:])\n",
    "        for i in range(3):\n",
    "            jac[1,3*i+3] = df_dBx(alpha,k_prime,B_field[i,:])/df_dk1(alpha, k_prime, B_field[i,:])\n",
    "        for i in range(3):\n",
    "            jac[1,3*i+4] = df_dBy(alpha,k_prime,B_field[i,:])/df_dk1(alpha, k_prime, B_field[i,:])\n",
    "        for i in range(3):\n",
    "            jac[1,3*i+5] = df_dBz(alpha,k_prime,B_field[i,:])/df_dk1(alpha, k_prime, B_field[i,:])\n",
    "        #third row\n",
    "        for i in range(3):\n",
    "            jac[2,i] = 1/df_dk2(alpha, k_prime, B_field[i,:])\n",
    "        for i in range(3):\n",
    "            jac[2,3*i+3] = df_dBx(alpha,k_prime,B_field[i,:])/df_dk2(alpha, k_prime, B_field[i,:])\n",
    "        for i in range(3):\n",
    "            jac[2,3*i+4] = df_dBy(alpha,k_prime,B_field[i,:])/df_dk2(alpha, k_prime, B_field[i,:])\n",
    "        for i in range(3):\n",
    "            jac[2,3*i+5] = df_dBz(alpha,k_prime,B_field[i,:])/df_dk2(alpha, k_prime, B_field[i,:])\n",
    "        \n",
    "        \n",
    "        return jac\n",
    "    \n",
    "\n",
    "    fit_solution = sciop.least_squares(resid_freq_fit_unknown_alpha, np.array([-1, 3, 0]), args=(f_shift, B_atom_sol, f_shift_weights),\n",
    "                                       ftol=1e-10,\n",
    "                                       verbose=2,)\n",
    "#    Ca = np.linalg.inv( np.transpose(fit_solution.jac)@np.diag(f_shift_weights)@fit_solution.jac )\n",
    "#    sol_unc = np.sqrt(np.diag(Ca))\n",
    "    print(fit_solution)\n",
    "    alpha = fit_solution.x[0]\n",
    "    #k_prime = np.append(fit_solution.x[1:], np.sqrt(1-np.linalg.norm(fit_solution.x[1:])**2))\n",
    "    k_prime = np.array( [np.sin(fit_solution.x[1])*np.cos(fit_solution.x[2]), np.sin(fit_solution.x[1])* np.sin(fit_solution.x[2]), np.cos(fit_solution.x[1])] )\n",
    "    jac_matrix = jacob_matrix(alpha, k_prime, B_atom_sol)\n",
    "    \n",
    "    return fit_solution.x, jac_matrix\n",
    "\n",
    "#============ determining alpha coefficient and E-field direction==================\n",
    "# I know frequencies only for one set of magnetic fields\n",
    "freq_params, jacob = fit_unknown_aplha_and_k_vec_one_set(freq_measured[:,18], B_atom_sol[:,18,:], freq_measured_unc[:,18])\n",
    "#freq_params, jacob = fit_unknown_aplha_and_k_vec_one_set(freq_measured[:,18], np.array([ [1, 0, 0], [0,1,0], [0,0,1] ]), freq_measured_unc[:,18])\n",
    "alpha = freq_params[0]\n",
    "#k_prime = np.append(freq_params[1:], np.sqrt(1 - np.linalg.norm(freq_params[1:])**2 ))\n",
    "k_prime = np.array( [np.sin(freq_params[1])*np.cos(freq_params[2]), np.sin(freq_params[1])* np.sin(freq_params[2]), np.cos(freq_params[1])] )\n",
    "\n",
    "Ca_params = jacob @ Ca_freq_B_field @ np.transpose(jacob)  # variance-covariance matrix for alpha, k1, k2\n",
    "#==================================================================================\n",
    "print('alpha = ')\n",
    "alpha"
   ]
  },
  {
   "cell_type": "code",
   "execution_count": 11,
   "metadata": {
    "scrolled": true
   },
   "outputs": [
    {
     "name": "stdout",
     "output_type": "stream",
     "text": [
      "k_prime = \n"
     ]
    },
    {
     "data": {
      "text/plain": [
       "array([ 0.34066081, -0.20403516, -0.91777986])"
      ]
     },
     "execution_count": 11,
     "metadata": {},
     "output_type": "execute_result"
    }
   ],
   "source": [
    "print('k_prime = ')\n",
    "k_prime"
   ]
  },
  {
   "cell_type": "code",
   "execution_count": 12,
   "metadata": {
    "scrolled": true
   },
   "outputs": [
    {
     "name": "stdout",
     "output_type": "stream",
     "text": [
      "vaciance-covariance matrix for alpha and k_prime: \n"
     ]
    },
    {
     "data": {
      "text/plain": [
       "array([[0.0530588 , 0.01496256, 0.00592794],\n",
       "       [0.01496256, 0.00565301, 0.00220641],\n",
       "       [0.00592794, 0.00220641, 0.00188604]])"
      ]
     },
     "execution_count": 12,
     "metadata": {},
     "output_type": "execute_result"
    }
   ],
   "source": [
    "print('vaciance-covariance matrix for alpha and k_prime: ')\n",
    "Ca_params"
   ]
  },
  {
   "cell_type": "markdown",
   "metadata": {},
   "source": [
    "Once I have estimate of $\\alpha$ and $\\vec{k^{\\prime}}$, I'll try to perform the Bootstrap method in order to estimate statistics of the averaging over perpendicular B-fields of frequency shifts. During the Bootstrap loop I will resample previously calculated B-fields and calculate the mean value of averaged $\\Delta f$ over perpendicular B-fields for each set of measurement with coresponding uncertainty as well. Then I will take the mean value of $\\Delta f$ and the mean value of its standard deviation for each resampled B-fields. The Lower and upper bounds to $\\Delta f$ then will be evaluated as $\\left<\\Delta f \\right> - \\left<\\sigma(\\Delta f) \\right>$ and $\\left<\\Delta f \\right> +\\left<\\sigma(\\Delta f) \\right>$."
   ]
  },
  {
   "cell_type": "code",
   "execution_count": 13,
   "metadata": {},
   "outputs": [],
   "source": [
    "#================ resampling with replacement ==============\n",
    "def resample_B_fields(B_atom_sol, n_samples ):\n",
    "    # function returns resampled array from given data\n",
    "    ind_max = np.shape(B_atom_sol)[1]\n",
    "    indices = [rd.randint(0,ind_max-1) for i in range(n_samples)]\n",
    "    \n",
    "    B_atom_resample = np.zeros((np.shape(B_atom_sol)[0], n_samples, np.shape(B_atom_sol)[2]))\n",
    "    for i in range(n_samples):\n",
    "        B_atom_resample[:,i,:] = B_atom_sol[:,indices[i],:]\n",
    "    return B_atom_resample"
   ]
  },
  {
   "cell_type": "code",
   "execution_count": 14,
   "metadata": {},
   "outputs": [],
   "source": [
    "#================ getting delta_f with unc. using jacobian========\n",
    "def get_delta_f_unc(B_atom_sol, alpha, k_prime, Ca_mat):\n",
    "    # function calculates mean values of f_shift for given alpha, B-fields, E-field gradient direction and measured frequency data(needed just for shape info)\n",
    "    # Ca_mat denotes covariance matrix for model parameters alpha,k[0],k[1]\n",
    "    #------- jacobi matrix function----------\n",
    "    def delta_f_jac(B_atom_vec, alpha, k_prime):\n",
    "        jac = np.zeros((3,3))\n",
    "        for i in range(3):\n",
    "            jac[i,0] = 3*(np.dot(B_atom_vec[i,:],k_prime)/np.linalg.norm(B_atom_vec[i,:]))**2 - 1\n",
    "            jac[i,1] = 6*alpha*(B_atom_vec[i,0] - B_atom_vec[i,2]*k_prime[0]/k_prime[2])*np.dot(B_atom_vec[i,:],k_prime)/np.linalg.norm(B_atom_vec[i,:])**2\n",
    "            jac[i,2] = 6*alpha*(B_atom_vec[i,1] - B_atom_vec[i,2]*k_prime[1]/k_prime[2])*np.dot(B_atom_vec[i,:],k_prime)/np.linalg.norm(B_atom_vec[i,:])**2\n",
    "        return jac\n",
    "    \n",
    "    \n",
    "    delta_f = np.zeros(np.shape(B_atom_sol)[1])\n",
    "    delta_f_unc = np.zeros(np.shape(B_atom_sol)[1])\n",
    "    for i in range(len(delta_f)):\n",
    "        #print('f=',alpha*(3* (np.dot(B_atom_sol[:,i,:], k_prime)/np.linalg.norm(B_atom_sol[:,i,:], axis=1) )**2 - 1 ))\n",
    "        delta_f[i] = alpha*(3* (np.dot(B_atom_sol[:,i,:], k_prime)/np.linalg.norm(B_atom_sol[:,i,:], axis=1) )**2 - 1 ).mean()\n",
    "        jac = delta_f_jac(B_atom_sol[:,i,:], alpha, k_prime)\n",
    "        Ca_f = jac @ Ca_mat @ np.transpose(jac)\n",
    "        delta_f_unc_all = np.sqrt(np.diag(Ca_f))\n",
    "        delta_f_unc[i] = 1/3 * delta_f_unc_all.mean()\n",
    "    # calculating delta_f_unc for calculated frequencies\n",
    "    \n",
    "    \n",
    "    return delta_f, delta_f_unc"
   ]
  },
  {
   "cell_type": "code",
   "execution_count": 15,
   "metadata": {},
   "outputs": [],
   "source": [
    "#-------- bootstrap------------------\n",
    "N = 10000\n",
    "delta_f_mean = np.zeros(N)\n",
    "delta_f_min = np.zeros(N)\n",
    "delta_f_max = np.zeros(N)\n",
    "delta_f_unc_mean = np.zeros(N)\n",
    "\n",
    "for i in range(N):\n",
    "    \n",
    "    #alpha = rd.normalvariate(freq_params[0], freq_params_unc[0])\n",
    "#    theta = np.pi*rd.random()\n",
    "#    phi = 2*np.pi*rd.random()\n",
    "#    k_prime = np.array( [np.sin(theta)*np.cos(phi), np.sin(theta)* np.sin(phi), np.cos(theta)] )\n",
    "    B_atom_resampled = resample_B_fields(B_atom_sol, np.shape(B_atom_sol)[1])\n",
    "    #B_atom_resampled = B_atom_sol\n",
    "    \n",
    "    delta_f, delta_f_unc = get_delta_f_unc(B_atom_resampled, alpha, k_prime, Ca_params)\n",
    "    delta_f_mean[i] = delta_f.mean()\n",
    "    delta_f_unc_mean[i] = delta_f_unc.mean()\n",
    "    delta_f_min[i] = delta_f_mean[i] - delta_f_unc_mean[i]\n",
    "    delta_f_max[i] = delta_f_mean[i] + delta_f_unc_mean[i]"
   ]
  },
  {
   "cell_type": "markdown",
   "metadata": {},
   "source": [
    "Now I can draw histogram of the mean values of averaged $\\Delta f$ which are results of the Bootstrapping process. The lower and upper bounds of averaged $\\Delta f$ are also shown in the same histogram."
   ]
  },
  {
   "cell_type": "code",
   "execution_count": 16,
   "metadata": {
    "scrolled": true
   },
   "outputs": [
    {
     "data": {
      "image/png": "[encoded data removed]",
      "text/plain": [
       "<Figure size 432x288 with 1 Axes>"
      ]
     },
     "metadata": {
      "needs_background": "light"
     },
     "output_type": "display_data"
    }
   ],
   "source": [
    "#---------transition frequencies ---------\n",
    "lamb_E3 = 467e-9 #E3 laser\n",
    "lamb_E2 = 436e-9 #E2 laser\n",
    "freq_E3 = 299792458/lamb_E3 # [Hz]\n",
    "freq_E2 = 299792458/lamb_E2 # [Hz]\n",
    "\n",
    "\n",
    "plt.figure(1)\n",
    "plt.hist(delta_f_mean/freq_E2, bins=100)\n",
    "plt.hist(delta_f_min/freq_E2, bins=100)\n",
    "plt.hist(delta_f_max/freq_E2, bins=100)\n",
    "plt.plot((delta_f_max.mean()+delta_f_max.std())/freq_E2,10,'*', (delta_f_min.mean()-delta_f_min.std())/freq_E2,10,'*')\n",
    "plt.show()"
   ]
  },
  {
   "cell_type": "markdown",
   "metadata": {},
   "source": [
    "The resulting mean value of averaged $\\Delta f$ is:"
   ]
  },
  {
   "cell_type": "code",
   "execution_count": 17,
   "metadata": {
    "scrolled": false
   },
   "outputs": [
    {
     "name": "stdout",
     "output_type": "stream",
     "text": [
      "delta_f_mean = \n"
     ]
    },
    {
     "data": {
      "text/plain": [
       "-7.72463447323386e-18"
      ]
     },
     "execution_count": 17,
     "metadata": {},
     "output_type": "execute_result"
    }
   ],
   "source": [
    "print('delta_f_mean = ')\n",
    "delta_f_mean.mean()/freq_E2"
   ]
  },
  {
   "cell_type": "markdown",
   "metadata": {},
   "source": [
    "The uncertainty of frequency shift is determined by 'distance' between lower one-sigma bound of the lower bound and upper one-sigma bound of the upper bound of $\\Delta f$. These points are denoted as stars on the histogram."
   ]
  },
  {
   "cell_type": "code",
   "execution_count": 18,
   "metadata": {},
   "outputs": [
    {
     "name": "stdout",
     "output_type": "stream",
     "text": [
      "delta_f_std = \n"
     ]
    },
    {
     "data": {
      "text/plain": [
       "7.301540621926946e-17"
      ]
     },
     "execution_count": 18,
     "metadata": {},
     "output_type": "execute_result"
    }
   ],
   "source": [
    "print('delta_f_std = ')\n",
    "delta_f_std_boot_E3 = 0.041/2.08*(delta_f_max.mean()+delta_f_max.std() - delta_f_min.mean()+delta_f_min.std())/2\n",
    "(delta_f_max.mean()+delta_f_max.std() - delta_f_min.mean()+delta_f_min.std())/2/freq_E2"
   ]
  },
  {
   "cell_type": "code",
   "execution_count": 19,
   "metadata": {},
   "outputs": [
    {
     "name": "stdout",
     "output_type": "stream",
     "text": [
      "delta_f_std_E3 =  1.5415776981302402e-18\n"
     ]
    }
   ],
   "source": [
    "print('delta_f_std_E3 = ', delta_f_std_boot_E3/freq_E3)"
   ]
  },
  {
   "cell_type": "markdown",
   "metadata": {},
   "source": [
    "## Uncertainty check using random sampling\n",
    "In order to check the resulting frequency uncertainty given by propagation of errors and the Bootstrap method, random sampling of measured magnetic field magnitudes and measured transition frequencies will be used. The whole process of calculation of the transition frequency shift, which is described above, will be done for every resampled input data. This method should guarantee the uncertainties in measured magnetic field magnitudes and transition frequencies are propagated throughout calculation to resulting frequency shift."
   ]
  },
  {
   "cell_type": "markdown",
   "metadata": {},
   "source": [
    "First of all, functions generating random samples, according to estimated uncertainties in input data, are needed. Adjusted versions of previously used functions are defined as well."
   ]
  },
  {
   "cell_type": "code",
   "execution_count": 20,
   "metadata": {},
   "outputs": [],
   "source": [
    "def gen_rand_B_field(B_atom_norm, sigma_B_magnitude):\n",
    "    #function generates B_norm values according to real measured values and given sigma\n",
    "    # outputs random resampled B_mag. values\n",
    "    shape = np.shape(B_atom_norm)\n",
    "    B_atom_norm_rand = np.zeros(shape)\n",
    "    \n",
    "    for i in range(shape[0]):\n",
    "        for j in range(shape[1]):\n",
    "            B_atom_norm_rand[i,j] = rd.normalvariate(B_atom_norm[i,j], sigma_B_magnitude)\n",
    "            #B_atom_norm_rand[i,j] = rd.uniform(B_atom_norm[i,j]-sigma_B_magnitude, B_atom_norm[i,j]+sigma_B_magnitude)\n",
    "    return B_atom_norm_rand"
   ]
  },
  {
   "cell_type": "code",
   "execution_count": 21,
   "metadata": {},
   "outputs": [],
   "source": [
    "def gen_rand_freq(freq_measured, freq_measured_unc):\n",
    "    shape = np.shape(freq_measured)\n",
    "    freq_measured_rand = np.zeros(shape)\n",
    "    \n",
    "    for i in range(shape[0]):\n",
    "        for j in range(shape[1]):\n",
    "            freq_measured_rand[i,j] = rd.normalvariate(freq_measured[i,j], freq_measured_unc[i,j])\n",
    "    return freq_measured_rand\n"
   ]
  },
  {
   "cell_type": "code",
   "execution_count": 22,
   "metadata": {},
   "outputs": [],
   "source": [
    "def get_B_0_random_ver(currents_values, B_atom_norm_values, A):\n",
    "    # function which estimates background field at the atom's position\n",
    "    # input:\n",
    "    #       currents data in format: [B-field axis, measurement number, coil number], B_atom_norm in format: [B-field axis, measurement number]\n",
    "    #       A matrix, which satisfies: B_coils = A * I\n",
    "    # output:\n",
    "    #       background B-field in format: [component, measurement number], B-field at the atom's positon in format: [B-field main direction axis, measurement number, component of solution]\n",
    "    def resid_b_atom(B, B_norm, currents, A):\n",
    "        B_1 = A@currents[:3] + B\n",
    "        B_2 = A@currents[3:6] + B\n",
    "        B_3 = A@currents[6:9] + B\n",
    "        B_r = np.array( [np.linalg.norm(B_1), np.linalg.norm(B_2), np.linalg.norm(B_3)] )\n",
    "        return B_norm - B_r\n",
    "    \n",
    "    def jac_b_atom(B, B_norm, currents, A):\n",
    "        # function which calculates jacobian matrix for function B_norm - norm(B_i)\n",
    "        jac = np.zeros((3,3))\n",
    "        for i in range(3):\n",
    "            jac[i,:] = -1*(A@currents[3*i:3*i+3] + B)/B_norm[i]\n",
    "        return jac\n",
    "    \n",
    "    B_background_sol = np.zeros(np.shape(B_atom_norm_values))\n",
    "    B_atom_sol = np.zeros((np.shape(B_atom_norm_values)[0],np.shape(B_atom_norm_values)[1],3))\n",
    "    for i in range(np.shape(B_atom_norm_values)[1]):\n",
    "        B_norm = B_atom_norm_values[:,i]\n",
    "        currents = np.append(currents_values[0,i,:], np.append(currents_values[1,i,:], currents_values[2,i,:]))\n",
    "        eq_solution = sciop.root(resid_b_atom, np.array([-1.83092,-0.155338,-6.4772]), jac=jac_b_atom, args=(B_norm, currents, A), method='lm' )\n",
    "        #print(eq_solution)\n",
    "        B_background_sol[:,i] = eq_solution.x\n",
    "        B_atom_sol[0,i,:] = A@currents_values[0,i,:] + B_background_sol[:,i]\n",
    "        B_atom_sol[1,i,:] = A@currents_values[1,i,:] + B_background_sol[:,i]\n",
    "        B_atom_sol[2,i,:] = A@currents_values[2,i,:] + B_background_sol[:,i]\n",
    "    \n",
    "\n",
    "        \n",
    "    return B_background_sol, B_atom_sol"
   ]
  },
  {
   "cell_type": "code",
   "execution_count": 23,
   "metadata": {},
   "outputs": [],
   "source": [
    "def fit_unknown_aplha_and_k_vec_random_ver_theta_phi(f_shift, B_atom_sol, f_shift_unc):\n",
    "    f_shift = f_shift.flatten()                                                                                                                                                                                                                                                                                                                                                                                                                                            \n",
    "    f_shift_unc = f_shift_unc.flatten()\n",
    "    B_atom_sol = B_atom_sol.reshape((len(f_shift),3))\n",
    "    \n",
    "    #--- calculating weights -----\n",
    "    f_shift_weights = 1/f_shift_unc**2\n",
    "    \n",
    "    def resid_freq_fit_unknown_alpha(params, f_atom_column, B_atom_vec, f_shift_weights):\n",
    "        # params[0] = alpha\n",
    "        # params[1] = theta\n",
    "        # params[2] = phi\n",
    "        right_side = np.zeros(len(f_atom_column))\n",
    "        for i in range(len(f_atom_column)):\n",
    "            dot_prod = np.sin(params[1])*np.cos(params[2]) * B_atom_vec[i,0] + np.sin(params[1])* np.sin(params[2]) * B_atom_vec[i,1] + np.cos(params[1])*B_atom_vec[i,2]\n",
    "            right_side[i] = params[0]* ( 3*(dot_prod/np.linalg.norm(B_atom_vec[i,:]))**2 - 1 )\n",
    "        return f_shift_weights*(f_atom_column - right_side)\n",
    "    \n",
    "    \n",
    "    \n",
    "    \n",
    "    fit_solution = sciop.least_squares(resid_freq_fit_unknown_alpha, np.array([-0.7, 0.1, 0.1]), args=(f_shift, B_atom_sol, f_shift_weights), ftol=1e-10)\n",
    "    \n",
    "    if fit_solution.status == 2:\n",
    "        fit_solution = sciop.least_squares(resid_freq_fit_unknown_alpha, np.array([0.7, 0.1, 0.1]), args=(f_shift, B_atom_sol, f_shift_weights), ftol=1e-10)\n",
    "    \n",
    "    if fit_solution.status == 2:\n",
    "        #print(fit_solution)\n",
    "        raise Exception('The solution has not been found!')\n",
    "   \n",
    "    if fit_solution.status == 0:\n",
    "        print(fit_solution)\n",
    "        raise Exception('The solution has not been found!')\n",
    "    \n",
    "    #print(fit_solution)\n",
    "    return fit_solution.x, fit_solution.optimality"
   ]
  },
  {
   "cell_type": "code",
   "execution_count": 24,
   "metadata": {},
   "outputs": [],
   "source": [
    "def get_delta_f(B_atom_sol, alpha, k_prime):\n",
    "    # function calculates mean values of f_shift for given alpha, B-fields, E-field gradient direction and measured frequency data(needed just for shape info)\n",
    "    delta_f = np.zeros(np.shape(B_atom_sol)[1])\n",
    "    for i in range(len(delta_f)):\n",
    "        #print('f=',alpha*(3* (np.dot(B_atom_sol[:,i,:], k_prime)/np.linalg.norm(B_atom_sol[:,i,:], axis=1) )**2 - 1 ))\n",
    "        delta_f[i] = alpha*(3* (np.dot(B_atom_sol[:,i,:], k_prime)/np.linalg.norm(B_atom_sol[:,i,:], axis=1) )**2 - 1 ).mean()\n",
    "        \n",
    "    return delta_f"
   ]
  },
  {
   "cell_type": "markdown",
   "metadata": {},
   "source": [
    "Then calculation of the average of $\\Delta f$ is done during resampling of the input data. During this loop, the Bootstrap resampling is done in order to capture uncertainty due to not perfectly orthogonal magnetic fields acting on the ion. Without the Bootstrap resampling, a perfectly precise measurement of the magnetic field magnitudes and frequencies would lead to perfectly known average of the frequency shift (in case of method used)."
   ]
  },
  {
   "cell_type": "code",
   "execution_count": 25,
   "metadata": {
    "scrolled": true
   },
   "outputs": [
    {
     "name": "stdout",
     "output_type": "stream",
     "text": [
      " active_mask: array([0., 0., 0.])\n",
      "        cost: 0.48179337649020737\n",
      "         fun: array([-0.16335403, -0.04440177, -0.96691814])\n",
      "        grad: array([  13.93174385, 1666.45010808,   45.29985671])\n",
      "         jac: array([[-1.07436921e+02, -1.70881109e+04,  3.19036755e+03],\n",
      "       [ 3.35932223e+02,  4.27182495e+04,  2.35768020e+03],\n",
      "       [-1.16840038e+01, -7.98210493e+02, -6.94106782e+02]])\n",
      "     message: 'The maximum number of function evaluations is exceeded.'\n",
      "        nfev: 300\n",
      "        njev: 225\n",
      "  optimality: 1666.4501080795203\n",
      "      status: 0\n",
      "     success: False\n",
      "           x: array([-4.855859  , -0.17760877, -0.4556662 ])\n",
      " active_mask: array([0., 0., 0.])\n",
      "        cost: 194.86299991234367\n",
      "         fun: array([ -3.52833095,  -0.5340319 , -19.41627386])\n",
      "        grad: array([ 7.70114130e+01, -3.19349394e+05, -6.29989357e+04])\n",
      "         jac: array([[-1.90955812e+01,  6.28480513e+04,  1.25944199e+05],\n",
      "       [ 5.87919342e+01, -2.66967186e+05, -1.65962640e+04],\n",
      "       [-2.11331234e+00,  1.23695032e+04, -1.91855012e+04]])\n",
      "     message: 'The maximum number of function evaluations is exceeded.'\n",
      "        nfev: 300\n",
      "        njev: 248\n",
      "  optimality: 319349.3935236375\n",
      "      status: 0\n",
      "     success: False\n",
      "           x: array([-28.34017469,  -1.35383065,  -0.70945015])\n",
      " active_mask: array([0., 0., 0.])\n",
      "        cost: 0.32816655766639385\n",
      "         fun: array([0.08124482, 0.18143303, 0.78537536])\n",
      "        grad: array([  38.24853609, 6091.88664786,  156.28578385])\n",
      "         jac: array([[-9.98213011e+01, -2.02263511e+04,  2.56968457e+03],\n",
      "       [ 2.98992120e+02,  4.70108166e+04,  2.27908335e+03],\n",
      "       [-1.00443021e+01, -1.01116253e+03, -5.93332559e+02]])\n",
      "     message: 'The maximum number of function evaluations is exceeded.'\n",
      "        nfev: 300\n",
      "        njev: 239\n",
      "  optimality: 6091.886647860041\n",
      "      status: 0\n",
      "     success: False\n",
      "           x: array([-5.39175311, -0.13748844, -0.44434227])\n",
      " active_mask: array([0., 0., 0.])\n",
      "        cost: 26.068403933935272\n",
      "         fun: array([-1.13905037, -0.55556837, -7.10849604])\n",
      "        grad: array([ 27.08596255, 839.33572801,  20.9673421 ])\n",
      "         jac: array([[ -201.49903113, -8248.6834345 ,  1925.031749  ],\n",
      "       [  671.68780877, 20555.46520462,  1208.40043062],\n",
      "       [  -24.01871205,  -402.84698141,  -405.85582435]])\n",
      "     message: 'The maximum number of function evaluations is exceeded.'\n",
      "        nfev: 300\n",
      "        njev: 226\n",
      "  optimality: 839.3357280097721\n",
      "      status: 0\n",
      "     success: False\n",
      "           x: array([-2.40279812, -0.20848256, -0.47167063])\n",
      " active_mask: array([0., 0., 0.])\n",
      "        cost: 7.645030375212162\n",
      "         fun: array([-0.83087959,  0.10192889, -3.81959558])\n",
      "        grad: array([   151.36290681, -24137.45519647,  -5938.91267951])\n",
      "         jac: array([[-1.00422003e+02,  1.27979966e+04,  2.37083711e+04],\n",
      "       [ 2.89181671e+02, -4.96615138e+04, -5.27658920e+03],\n",
      "       [-1.00660781e+01,  2.21016018e+03, -3.74325645e+03]])\n",
      "     message: 'The maximum number of function evaluations is exceeded.'\n",
      "        nfev: 300\n",
      "        njev: 225\n",
      "  optimality: 24137.455196469422\n",
      "      status: 0\n",
      "     success: False\n",
      "           x: array([-5.39702922, -1.32173138, -0.74418672])\n",
      " active_mask: array([0., 0., 0.])\n",
      "        cost: 40.43361276406261\n",
      "         fun: array([1.39064515, 0.8403062 , 8.84461515])\n",
      "        grad: array([  37.82187568, 2357.4676044 ,   80.15062259])\n",
      "         jac: array([[-1.59988252e+02, -1.30462917e+04,  1.96032063e+03],\n",
      "       [ 4.65800110e+02,  2.86076480e+04,  1.84931239e+03],\n",
      "       [-1.48232520e+01, -4.00125288e+02, -4.74859376e+02]])\n",
      "     message: 'The maximum number of function evaluations is exceeded.'\n",
      "        nfev: 300\n",
      "        njev: 247\n",
      "  optimality: 2357.4676043952536\n",
      "      status: 0\n",
      "     success: False\n",
      "           x: array([-3.35715909, -0.17358582, -0.37392249])\n",
      " active_mask: array([0., 0., 0.])\n",
      "        cost: 0.5996888555275816\n",
      "         fun: array([-0.27867047,  0.2404123 , -1.03146614])\n",
      "        grad: array([   45.7328251 , 41719.35251915,   926.80895355])\n",
      "         jac: array([[-4.67340976e+01, -4.23290164e+04,  9.37713105e+03],\n",
      "       [ 1.25516344e+02,  1.15989339e+05,  6.36213444e+03],\n",
      "       [-2.45644425e+00, -1.97606277e+03, -1.94907326e+03]])\n",
      "     message: 'The maximum number of function evaluations is exceeded.'\n",
      "        nfev: 300\n",
      "        njev: 244\n",
      "  optimality: 41719.35251915353\n",
      "      status: 0\n",
      "     success: False\n",
      "           x: array([-12.86778758,  -0.18931176,  -0.4766037 ])\n",
      " active_mask: array([0., 0., 0.])\n",
      "        cost: 3.438340442974433\n",
      "         fun: array([-0.45288446, -0.17896159, -2.57673229])\n",
      "        grad: array([  22.22816823, 1923.20413533,   91.9339604 ])\n",
      "         jac: array([[-1.37861451e+02, -1.80763396e+04,  2.42764506e+03],\n",
      "       [ 3.90218379e+02,  3.64062500e+04,  2.96602330e+03],\n",
      "       [-1.14978805e+01, -9.78103729e+01, -6.68358491e+02]])\n",
      "     message: 'The maximum number of function evaluations is exceeded.'\n",
      "        nfev: 300\n",
      "        njev: 235\n",
      "  optimality: 1923.2041353260202\n",
      "      status: 0\n",
      "     success: False\n",
      "           x: array([-4.33134397, -0.18810984, -0.24968981])\n",
      " active_mask: array([0., 0., 0.])\n",
      "        cost: 31.210147322730535\n",
      "         fun: array([-1.42003337, -0.2456116 , -7.76810626])\n",
      "        grad: array([    62.06353959, -45039.58334665,  -8913.7794583 ])\n",
      "         jac: array([[-3.87980259e+01,  2.45962290e+04,  5.07929096e+04],\n",
      "       [ 1.36846049e+02, -1.05875952e+05, -8.27899644e+03],\n",
      "       [-5.22392764e+00,  4.64932869e+03, -7.87584870e+03]])\n",
      "     message: 'The maximum number of function evaluations is exceeded.'\n",
      "        nfev: 300\n",
      "        njev: 235\n",
      "  optimality: 45039.58334665457\n",
      "      status: 0\n",
      "     success: False\n",
      "           x: array([-11.32307932,  -1.35990927,  -0.72571925])\n",
      " active_mask: array([0., 0., 0.])\n",
      "        cost: 49.61146819163085\n",
      "         fun: array([-1.68382267, -0.51032742, -9.80445019])\n",
      "        grad: array([    91.24219316, -20508.60882504,  -3985.22677482])\n",
      "         jac: array([[-7.94350496e+01,  1.38269094e+04,  2.83944498e+04],\n",
      "       [ 2.48618344e+02, -5.87986330e+04, -3.40361834e+03],\n",
      "       [-8.60470621e+00,  2.77762641e+03, -4.29284977e+03]])\n",
      "     message: 'The maximum number of function evaluations is exceeded.'\n",
      "        nfev: 300\n",
      "        njev: 247\n",
      "  optimality: 20508.6088250424\n",
      "      status: 0\n",
      "     success: False\n",
      "           x: array([-6.33992925, -1.32909838, -0.69974124])\n",
      " active_mask: array([0., 0., 0.])\n",
      "        cost: 24.79576539712162\n",
      "         fun: array([-1.07404117, -0.50333931, -6.94151395])\n",
      "        grad: array([  29.66707334, 2192.59426309,   40.53589728])\n",
      "         jac: array([[-1.45263370e+02, -1.18189818e+04,  2.57091356e+03],\n",
      "       [ 4.32808144e+02,  3.19700115e+04,  1.53053457e+03],\n",
      "       [-1.31812147e+01, -8.05340840e+02, -5.14611242e+02]])\n",
      "     message: 'The maximum number of function evaluations is exceeded.'\n",
      "        nfev: 300\n",
      "        njev: 247\n",
      "  optimality: 2192.594263089988\n",
      "      status: 0\n",
      "     success: False\n",
      "           x: array([-3.62593052, -0.17922271, -0.54037899])\n",
      " active_mask: array([0., 0., 0.])\n",
      "        cost: 63.3489816343767\n",
      "         fun: array([ -2.11060864,   0.22641642, -11.05405039])\n",
      "        grad: array([  316.59901181, 80685.88021849,  2047.42917426])\n",
      "         jac: array([[-8.18491888e+01, -2.51806320e+04,  3.53037044e+03],\n",
      "       [ 2.38178054e+02,  6.04497586e+04,  2.98752697e+03],\n",
      "       [-8.13457344e+00, -1.25316988e+03, -7.98099705e+02]])\n",
      "     message: 'The maximum number of function evaluations is exceeded.'\n",
      "        nfev: 300\n",
      "        njev: 238\n",
      "  optimality: 80685.8802184872\n",
      "      status: 0\n",
      "     success: False\n",
      "           x: array([-6.86891292, -0.14524053, -0.4506125 ])\n",
      " active_mask: array([0., 0., 0.])\n",
      "        cost: 21.950055591631298\n",
      "         fun: array([-1.02317895, -0.39510623, -6.53430234])\n",
      "        grad: array([ 114.53945143, 3491.00368207,   41.37235645])\n",
      "         jac: array([[ -220.35829685, -7355.69740255,  1934.55405739],\n",
      "       [  688.8800463 , 20929.74795392,   901.83579194],\n",
      "       [  -24.67811705,  -648.00838846,  -363.7860865 ]])\n",
      "     message: 'The maximum number of function evaluations is exceeded.'\n",
      "        nfev: 300\n",
      "        njev: 230\n",
      "  optimality: 3491.0036820749556\n",
      "      status: 0\n",
      "     success: False\n",
      "           x: array([-2.41778293, -0.19181584, -0.60492428])\n",
      " active_mask: array([0., 0., 0.])\n",
      "        cost: 22.14253595826828\n",
      "         fun: array([-1.05990831, -0.51275547, -6.54971359])\n",
      "        grad: array([  10.97156568, 3544.6011362 ,  125.48259531])\n",
      "         jac: array([[-5.95784763e+01, -3.27005159e+04,  4.32312052e+03],\n",
      "       [ 1.93841693e+02,  7.39605421e+04,  4.33858544e+03],\n",
      "       [-7.20905302e+00, -1.03954549e+03, -1.05840161e+03]])\n",
      "     message: 'The maximum number of function evaluations is exceeded.'\n",
      "        nfev: 300\n",
      "        njev: 235\n",
      "  optimality: 3544.601136204862\n",
      "      status: 0\n",
      "     success: False\n",
      "           x: array([-8.48212844, -0.15399919, -0.3724856 ])\n"
     ]
    },
    {
     "name": "stdout",
     "output_type": "stream",
     "text": [
      " active_mask: array([0., 0., 0.])\n",
      "        cost: 32.89895579992566\n",
      "         fun: array([-1.4061703 , -0.35389759, -7.98093686])\n",
      "        grad: array([    46.42519925, -41664.8141307 ,  -8541.19204643])\n",
      "         jac: array([[-4.30164203e+01,  2.80972184e+04,  5.69327262e+04],\n",
      "       [ 1.25114907e+02, -1.19593185e+05, -7.25876509e+03],\n",
      "       [-3.78585263e+00,  5.57316527e+03, -8.63896789e+03]])\n",
      "     message: 'The maximum number of function evaluations is exceeded.'\n",
      "        nfev: 300\n",
      "        njev: 250\n",
      "  optimality: 41664.814130697894\n",
      "      status: 0\n",
      "     success: False\n",
      "           x: array([-12.76178934,  -1.34583824,  -0.70478946])\n",
      " active_mask: array([0., 0., 0.])\n",
      "        cost: 0.07129999789681819\n",
      "         fun: array([0.04126991, 0.07837858, 0.36708798])\n",
      "        grad: array([  10.92681892, 4001.00157848,   85.09205481])\n",
      "         jac: array([[-5.84024295e+01, -2.94622550e+04,  4.26309641e+03],\n",
      "       [ 2.02728329e+02,  7.59409199e+04,  3.06444484e+03],\n",
      "       [-6.95330971e+00, -2.00288547e+03, -9.01779413e+02]])\n",
      "     message: 'The maximum number of function evaluations is exceeded.'\n",
      "        nfev: 300\n",
      "        njev: 232\n",
      "  optimality: 4001.001578476538\n",
      "      status: 0\n",
      "     success: False\n",
      "           x: array([-8.49860292, -0.13506676, -0.51680364])\n",
      " active_mask: array([0., 0., 0.])\n",
      "        cost: 149.7059010139788\n",
      "         fun: array([ -2.7381298 ,  -1.43447298, -17.02517943])\n",
      "        grad: array([  29.76514042, -332.20676775,  -82.02579296])\n",
      "         jac: array([[  -397.02876398,   2964.58666803,   7059.63857931],\n",
      "       [  1084.14195506, -12819.81673144,   -913.92974024],\n",
      "       [   -29.2402902 ,    622.86946099,  -1053.56736851]])\n",
      "     message: 'The maximum number of function evaluations is exceeded.'\n",
      "        nfev: 300\n",
      "        njev: 217\n",
      "  optimality: 332.20676775042375\n",
      "      status: 0\n",
      "     success: False\n",
      "           x: array([-1.52942215, -1.23277574, -0.66782319])\n",
      " active_mask: array([0., 0., 0.])\n",
      "        cost: 0.2961009260418343\n",
      "         fun: array([0.10620363, 0.08193402, 0.7577661 ])\n",
      "        grad: array([  8.62937157, 450.67618097,   6.00727813])\n",
      "         jac: array([[-1.77121739e+02, -1.01021864e+04,  1.69104817e+03],\n",
      "       [ 5.11706529e+02,  2.64546728e+04,  9.89672278e+02],\n",
      "       [-1.91164928e+01, -8.49830404e+02, -3.36087872e+02]])\n",
      "     message: 'The maximum number of function evaluations is exceeded.'\n",
      "        nfev: 300\n",
      "        njev: 297\n",
      "  optimality: 450.67618096865885\n",
      "      status: 0\n",
      "     success: False\n",
      "           x: array([-3.02066744, -0.14292844, -0.57648987])\n"
     ]
    }
   ],
   "source": [
    "#-------------- random resampling ---------------------------------------------\n",
    "N = 2000\n",
    "delta_f_mean = np.zeros(N)\n",
    "k_prime_rand = np.zeros((3,N))\n",
    "alpha_rand = np.zeros(N)\n",
    "optim = np.zeros(N)\n",
    "for k in range(N):\n",
    "    \n",
    "    success = False\n",
    "    while success is False:\n",
    "    \n",
    "        try:\n",
    "            B_atom_norm_resamp = gen_rand_B_field(B_atom_norm, sigma_B_magnitude)\n",
    "            freq_measured_resamp = gen_rand_freq(freq_measured, freq_measured_unc)\n",
    "            #freq_measured_resamp = freq_measured\n",
    "            B_background_sol, B_atom_sol = get_B_0_random_ver(currents, B_atom_norm_resamp, A_mat) # estimated background field and B-field at atom's position\n",
    "    \n",
    "            #============ determining alpha coefficient and E-field direction==================\n",
    "            # I know frequencies only for one set of magnetic fields\n",
    "            freq_params, optim[k] = fit_unknown_aplha_and_k_vec_random_ver_theta_phi(freq_measured_resamp[:,18], B_atom_sol[:,18,:], freq_measured_unc[:,18])\n",
    "            success = True\n",
    "        except:\n",
    "            pass\n",
    "    \n",
    "    \n",
    "    #freq_params, sol_unc, Ca = func.fit_unknown_aplha_and_k_vec(freq_measured_resamp[:,18], B_atom_sol[:,18,:], freq_measured_unc[:,18])\n",
    "    alpha_rand[k] = freq_params[0]\n",
    "    #k_prime = np.append(freq_params[1:], np.sqrt(1 - np.linalg.norm(freq_params[1:])**2 ))\n",
    "    k_prime = np.array( [np.sin(freq_params[1])*np.cos(freq_params[2]), np.sin(freq_params[1])* np.sin(freq_params[2]), np.cos(freq_params[1])] )\n",
    "    \n",
    "    k_prime_rand[:,k] = k_prime\n",
    "    # ----------- random generation of alpha an k_prime\n",
    "    #alpha_rand[k] = rd.normalvariate(-0.7, 10)\n",
    "#    theta = np.pi*rd.random()\n",
    "#    phi = 2*np.pi*rd.random()\n",
    "#    k_prime = np.array( [np.sin(theta)*np.cos(phi), np.sin(theta)* np.sin(phi), np.cos(theta)] )\n",
    "    #--------------------------------------------\n",
    "    \n",
    "    #==================================================================================\n",
    "    B_atom_sol = resample_B_fields(B_atom_sol, 20)\n",
    "    \n",
    "    delta_f = get_delta_f(B_atom_sol, alpha_rand[k], k_prime)\n",
    "    delta_f_mean[k] = delta_f.mean()"
   ]
  },
  {
   "cell_type": "markdown",
   "metadata": {},
   "source": [
    "A distribution of resulting $\\alpha$ and $\\vec{k^{\\prime}}$ parameter obtained by random variation of the input data can also be shown."
   ]
  },
  {
   "cell_type": "code",
   "execution_count": 26,
   "metadata": {},
   "outputs": [
    {
     "data": {
      "image/png": "[encoded data removed]",
      "text/plain": [
       "<Figure size 432x288 with 1 Axes>"
      ]
     },
     "metadata": {
      "needs_background": "light"
     },
     "output_type": "display_data"
    },
    {
     "data": {
      "image/png": "[encoded data removed]",
      "text/plain": [
       "<Figure size 432x288 with 1 Axes>"
      ]
     },
     "metadata": {
      "needs_background": "light"
     },
     "output_type": "display_data"
    },
    {
     "data": {
      "image/png": "[encoded data removed]",
      "text/plain": [
       "<Figure size 432x288 with 1 Axes>"
      ]
     },
     "metadata": {
      "needs_background": "light"
     },
     "output_type": "display_data"
    },
    {
     "data": {
      "image/png": "[encoded data removed]",
      "text/plain": [
       "<Figure size 432x288 with 1 Axes>"
      ]
     },
     "metadata": {
      "needs_background": "light"
     },
     "output_type": "display_data"
    }
   ],
   "source": [
    "plt.figure()\n",
    "plt.title('alpha')\n",
    "plt.hist(alpha_rand, bins=300, range=(alpha_rand.mean()-0.5*alpha_rand.std(), alpha_rand.mean()+0.5*alpha_rand.std()))\n",
    "plt.show()\n",
    "\n",
    "plt.figure()\n",
    "plt.title('k_prime[0]')\n",
    "plt.hist(k_prime_rand[0,:], bins=300, range=(k_prime_rand[0,:].mean()-0.5*k_prime_rand[0,:].std(), k_prime_rand[0,:].mean()+0.5*k_prime_rand[0,:].std()))\n",
    "plt.show()\n",
    "\n",
    "plt.figure()\n",
    "plt.title('k_prime[1]')\n",
    "plt.hist(k_prime_rand[1,:], bins=300, range=(k_prime_rand[1,:].mean()-0.5*k_prime_rand[1,:].std(), k_prime_rand[1,:].mean()+0.5*k_prime_rand[1,:].std()))\n",
    "plt.show()\n",
    "\n",
    "plt.figure()\n",
    "plt.title('k_prime[2]')\n",
    "plt.hist(k_prime_rand[2,:], bins=300, range=(k_prime_rand[2,:].mean()-0.5*k_prime_rand[2,:].std(), k_prime_rand[2,:].mean()+0.5*k_prime_rand[2,:].std()))\n",
    "plt.show()\n"
   ]
  },
  {
   "cell_type": "markdown",
   "metadata": {},
   "source": [
    "The above histogram shows that our fitting algorithm provides two different solutions for $\\alpha$. Note that these solutions have oposite signs. The 'optimality' of every solution can be checked as follows"
   ]
  },
  {
   "cell_type": "code",
   "execution_count": 27,
   "metadata": {},
   "outputs": [
    {
     "name": "stdout",
     "output_type": "stream",
     "text": [
      "0.004420743127411697\n"
     ]
    },
    {
     "data": {
      "image/png": "[encoded data removed]",
      "text/plain": [
       "<Figure size 432x288 with 1 Axes>"
      ]
     },
     "metadata": {
      "needs_background": "light"
     },
     "output_type": "display_data"
    }
   ],
   "source": [
    "plt.plot(optim,'*')\n",
    "plt.yscale('log')\n",
    "print(optim.max())"
   ]
  },
  {
   "cell_type": "code",
   "execution_count": 28,
   "metadata": {},
   "outputs": [
    {
     "name": "stdout",
     "output_type": "stream",
     "text": [
      "shift unc E2 random sampling =  1.0769870104026345e-16\n",
      "shift unc E3 random sampling =  2.2738477293775628e-18\n"
     ]
    }
   ],
   "source": [
    "delta_f = delta_f_mean.mean()\n",
    "delta_f_std = delta_f_mean.std()\n",
    "#delta_f_std = (delta_f_max.mean() - delta_f_min.mean())/2\n",
    "\n",
    "delta_f_mean_E3 = -0.041/2.08 * delta_f\n",
    "delta_f_std_E3 = 0.041/2.08 * delta_f_std\n",
    "delta_f_mean_E3_frac = delta_f_mean_E3/freq_E3\n",
    "delta_f_std_E3_frac = delta_f_std_E3/freq_E3\n",
    "delta_f_mean_E2_frac = delta_f/freq_E2\n",
    "delta_f_std_E2_frac = delta_f_std/freq_E2\n",
    "\n",
    "print('shift unc E2 random sampling = ', delta_f_std_E2_frac)\n",
    "print('shift unc E3 random sampling = ', delta_f_std_E3_frac)"
   ]
  },
  {
   "cell_type": "markdown",
   "metadata": {},
   "source": [
    "The resulting histogram of the averaged values of $\\Delta f$:"
   ]
  },
  {
   "cell_type": "code",
   "execution_count": 29,
   "metadata": {
    "scrolled": true
   },
   "outputs": [
    {
     "data": {
      "image/png": "[encoded data removed]",
      "text/plain": [
       "<Figure size 432x288 with 1 Axes>"
      ]
     },
     "metadata": {
      "needs_background": "light"
     },
     "output_type": "display_data"
    }
   ],
   "source": [
    "plt.figure(1)\n",
    "plt.hist(delta_f_mean/freq_E2, bins=200, range=(delta_f/freq_E2-2*delta_f_mean.std()/freq_E2, delta_f/freq_E2+2*delta_f_mean.std()/freq_E2))\n",
    "plt.show()"
   ]
  },
  {
   "cell_type": "markdown",
   "metadata": {},
   "source": [
    "The both results presented here are not valid. The used model for fitting $\\alpha$ and $\\vec{k^{\\prime}}$ is unconstrained and both fitting processes can pick arbitrary parameters which are consistent with measured data. Therefore, neither of these resulting uncertainties can't be claimed as the correnct answer."
   ]
  },
  {
   "cell_type": "code",
   "execution_count": null,
   "metadata": {},
   "outputs": [],
   "source": []
  }
 ],
 "metadata": {
  "kernelspec": {
   "display_name": "Python 3",
   "language": "python",
   "name": "python3"
  },
  "language_info": {
   "codemirror_mode": {
    "name": "ipython",
    "version": 3
   },
   "file_extension": ".py",
   "mimetype": "text/x-python",
   "name": "python",
   "nbconvert_exporter": "python",
   "pygments_lexer": "ipython3",
   "version": "3.7.1"
  }
 },
 "nbformat": 4,
 "nbformat_minor": 2
}
