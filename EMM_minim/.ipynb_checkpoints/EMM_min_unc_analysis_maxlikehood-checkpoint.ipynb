{
 "cells": [
  {
   "cell_type": "markdown",
   "metadata": {},
   "source": [
    "# Analyza nejistot minimalizace EMM"
   ]
  },
  {
   "cell_type": "code",
   "execution_count": 1,
   "metadata": {},
   "outputs": [],
   "source": [
    "# Setup some Jupyter env features\n",
    "%load_ext autoreload\n",
    "%autoreload 2\n",
    "%matplotlib inline\n",
    "\n",
    "from pandas import DataFrame"
   ]
  },
  {
   "cell_type": "markdown",
   "metadata": {},
   "source": [
    "Nejprve načtu histogramy odpovídající jednotlivým měřením"
   ]
  },
  {
   "cell_type": "code",
   "execution_count": 2,
   "metadata": {},
   "outputs": [
    {
     "name": "stdout",
     "output_type": "stream",
     "text": [
      "[581.8 418.2  50.   50. ]\n",
      "[581.8 418.2  43.1  50. ]\n",
      "[581.8 418.2  43.1  39. ]\n"
     ]
    },
    {
     "data": {
      "text/plain": [
       "array([1148778., 1233134.,  935000.])"
      ]
     },
     "execution_count": 2,
     "metadata": {},
     "output_type": "execute_result"
    }
   ],
   "source": [
    "import numpy as np\n",
    "\n",
    "\n",
    "# fotkor_z = np.genfromtxt(\"axial_EMM_10_03_2020_part2_delim.txt\", delimiter=\"\\t\")[:,1]\n",
    "# voltages_z = np.genfromtxt(\"axial_EMM_10_03_2020_part2_voltages.txt\", delimiter=\"\\t\")[1,:]\n",
    "# fotkor_xz = np.genfromtxt(\"sikmy_EMM_10_03_2020_part1_delim.txt\", delimiter=\"\\t\")[:,5]\n",
    "# voltages_xz = np.genfromtxt(\"sikmy_EMM_10_03_2020_part1_voltages.txt\", delimiter=\"\\t\")[5,:]\n",
    "\n",
    "# nacteni dat pouze v minimu EMM\n",
    "# fotkor_z = np.genfromtxt(\"23_05_20_EMM_min_z_final_delim.txt\", delimiter=\"\\t\")[:,0]\n",
    "# voltages_z = np.genfromtxt(\"23_05_20_EMM_min_z_final_voltages.txt\", delimiter=\"\\t\")[0,:]\n",
    "# fotkor_xz = np.genfromtxt(\"23_05_20_EMM_min_xz_multiple_delim.txt\", delimiter=\"\\t\")[:,6]\n",
    "# voltages_xz = np.genfromtxt(\"23_05_20_EMM_min_xz_multiple_voltages.txt\", delimiter=\"\\t\")[6,:]\n",
    "# fotkor_xy = np.genfromtxt(\"23_05_20_EMM_min_xy_multiple_delim.txt\", delimiter=\"\\t\")[:,5]\n",
    "# voltages_xy = np.genfromtxt(\"23_05_20_EMM_min_xy_multiple_voltages.txt\", delimiter=\"\\t\")[5,:]\n",
    "# fotkor_z = np.genfromtxt(\"24_05_20_EMM_min_overeni_delim.txt\", delimiter=\"\\t\")[:,0]\n",
    "# voltages_z = np.genfromtxt(\"24_05_20_EMM_min_overeni_voltages.txt\", delimiter=\"\\t\")[0,:]\n",
    "# fotkor_xz = np.genfromtxt(\"24_05_20_EMM_min_overeni_delim.txt\", delimiter=\"\\t\")[:,1]\n",
    "# voltages_xz = np.genfromtxt(\"24_05_20_EMM_min_overeni_voltages.txt\", delimiter=\"\\t\")[1,:]\n",
    "# fotkor_xy = np.genfromtxt(\"24_05_20_EMM_min_overeni_delim.txt\", delimiter=\"\\t\")[:,2]\n",
    "# voltages_xy = np.genfromtxt(\"24_05_20_EMM_min_overeni_voltages.txt\", delimiter=\"\\t\")[2,:]\n",
    "\n",
    "fotkor_z = np.genfromtxt(\"24_05_20_EMM_min_z_multiple_delim.txt\", delimiter=\"\\t\")[:,6]\n",
    "voltages_z = np.genfromtxt(\"24_05_20_EMM_min_z_multiple_voltages.txt\", delimiter=\"\\t\")[6,:]\n",
    "fotkor_xz = np.genfromtxt(\"24_05_20_EMM_min_xz_multiple_delim.txt\", delimiter=\"\\t\")[:,6]\n",
    "voltages_xz = np.genfromtxt(\"24_05_20_EMM_min_xz_multiple_voltages.txt\", delimiter=\"\\t\")[6,:]\n",
    "fotkor_xy = np.genfromtxt(\"24_05_20_EMM_min_xy_multiple_delim.txt\", delimiter=\"\\t\")[:,7]\n",
    "voltages_xy = np.genfromtxt(\"24_05_20_EMM_min_xy_multiple_voltages.txt\", delimiter=\"\\t\")[7,:]\n",
    "\n",
    "print(voltages_z)\n",
    "print(voltages_xz)\n",
    "print(voltages_xy)\n",
    "\n",
    "# pomocne promene\n",
    "fotkor_z_shape = np.shape(fotkor_z)\n",
    "fotkor_xz_shape = np.shape(fotkor_xz)\n",
    "fotkor_xy_shape = np.shape(fotkor_xy)\n",
    "# dale predpokladam, ze signaly maji stejny pocet binu\n",
    "# fotkor_shape = np.array( [fotkor_z_shape, fotkor_xz_shape] )\n",
    "\n",
    "# parametry odecitani foton-korelacnich dat\n",
    "t_res = 256e-12  # casove rozliseni histogramu v s\n",
    "t_measure = [400, 400, 550] # doba nacitani dat v s\n",
    "\n",
    "# casova skala foton-kor. dat\n",
    "t_scale_z = np.array( range(0,fotkor_z_shape[0]) ) *t_res\n",
    "t_scale_xz = np.array( range(0,fotkor_xz_shape[0]) ) *t_res\n",
    "t_scale_xy = np.array( range(0,fotkor_xy_shape[0]) ) *t_res\n",
    "t_scale = t_scale_z\n",
    "\n",
    "# background_photocounts = [270, 170] # ph/s  tyto fotony jsou rovnomerne rozdeleny v prubehu RF periody\n",
    "background_photocounts = [220, 170]\n",
    "iont_photocounts = 1700  # pro svazek xy, kde jsou problemy s kolisanim intenzity\n",
    "\n",
    "#---------- odecet pozadi v ose z\n",
    "bg_ph_sum = background_photocounts[0] * t_measure[0]  # celkovy pocet fotonu pozadi za cas mereni\n",
    "\n",
    "last_bin_ratio_z = fotkor_z[fotkor_z_shape[0]-2] / fotkor_z[fotkor_z_shape[0]-3]  # pomer mezi county v poslednim/predposlednim binu\n",
    "bg_ph_per_bin_z = bg_ph_sum/(fotkor_z_shape[0]-2 + last_bin_ratio_z)\n",
    "\n",
    "fotkor_z[:fotkor_z_shape[0]-2] = fotkor_z[:fotkor_z_shape[0]-2] - bg_ph_per_bin_z \n",
    "fotkor_z[fotkor_z_shape[0]-2] = fotkor_z[fotkor_z_shape[0]-2] - bg_ph_per_bin_z * last_bin_ratio_z\n",
    "#--------------------\n",
    "#--------- odecet pozadi v ose xz\n",
    "bg_ph_sum = background_photocounts[1] * t_measure[1]  # celkovy pocet fotonu pozadi za cas mereni\n",
    "last_bin_ratio_xz = fotkor_xz[fotkor_xz_shape[0]-2] / fotkor_xz[fotkor_xz_shape[0]-3]  # pomer mezi county v poslednim/predposlednim binu\n",
    "bg_ph_per_bin_xz = bg_ph_sum/(fotkor_xz_shape[0]-2 + last_bin_ratio_xz)\n",
    "\n",
    "fotkor_xz[:fotkor_xz_shape[0]-2] = fotkor_xz[:fotkor_xz_shape[0]-2] - bg_ph_per_bin_xz \n",
    "fotkor_xz[fotkor_xz_shape[0]-2] = fotkor_xz[fotkor_xz_shape[0]-2] - bg_ph_per_bin_xz * last_bin_ratio_xz\n",
    "# ------------------------------\n",
    "#----------- odecet pozadi v ose xy\n",
    "# ----- odecet pozadi\n",
    "all_photons_sum = np.sum(fotkor_xy, axis=0) # celkovy pocet fotonu = background + odraz Sxy + iont\n",
    "# chci odecist background + odraz = celkovy - iont\n",
    "\n",
    "bg_ph_sum = all_photons_sum - iont_photocounts * t_measure[2]  # celkovy pocet fotonu pozadi za cas mereni\n",
    "last_bin_ratio = fotkor_xy[fotkor_xy_shape[0] - 2] / fotkor_xy[fotkor_xy_shape[0] - 3]  # pomer mezi county v poslednim/predposlednim binu\n",
    "bg_ph_per_bin = bg_ph_sum / (fotkor_xy_shape[0] - 2 + last_bin_ratio)\n",
    "\n",
    "fotkor_xy[:fotkor_xy_shape[0] - 2] = fotkor_xy[:fotkor_xy_shape[0] - 2] - bg_ph_per_bin\n",
    "fotkor_xy[fotkor_xy_shape[0] - 2] = fotkor_xy[fotkor_xy_shape[0] - 2] - bg_ph_per_bin * last_bin_ratio\n",
    "    #-----------------------------\n",
    "#----------------------------------\n",
    "\n",
    "# vlozim signaly a voltage do matic\n",
    "fotkor = np.transpose( np.array( [fotkor_z, fotkor_xz, fotkor_xy] ) ) # tvar: [data, osa]\n",
    "voltages = np.transpose( np.array( [voltages_z, voltages_xz, voltages_xy] ) ) # tvar: [data, osa]\n",
    "\n",
    "fotkor_shape = np.shape(fotkor)\n",
    "\n",
    "# celkovy pocet detekovanych fotonu\n",
    "photon_sum = np.sum(fotkor, axis=0)\n",
    "photon_sum"
   ]
  },
  {
   "cell_type": "code",
   "execution_count": 3,
   "metadata": {},
   "outputs": [
    {
     "name": "stdout",
     "output_type": "stream",
     "text": [
      "30041329.139260367\n",
      "30041950.267927308\n",
      "30042206.05314373\n",
      "30041828.486777134\n",
      "282968.6479541819\n"
     ]
    }
   ],
   "source": [
    "# odhad periody triggeru\n",
    "Omega = np.zeros(fotkor_shape[1])\n",
    "Omega_sigma = np.zeros(fotkor_shape[1])\n",
    "\n",
    "for i in range(fotkor_shape[1]):\n",
    "    T_trig = ( fotkor[fotkor_shape[0]-2,i] / fotkor[fotkor_shape[0]-3,i] )* t_res + t_scale[fotkor_shape[0]-2]\n",
    "    T_trig_sigma = t_res\n",
    "    # frekvence buzeni pasti\n",
    "\n",
    "    drive_freq = 1/T_trig\n",
    "    drive_freq_sigma = 1/T_trig**2 *T_trig_sigma\n",
    "    Omega[i] = 2*np.pi * drive_freq\n",
    "    Omega_sigma[i] = 2*np.pi * drive_freq_sigma\n",
    "    print(drive_freq)\n",
    "    \n",
    "Omega = np.mean(Omega)\n",
    "Omega_sigma = np.sqrt(0.5*np.sum(Omega_sigma**2) )\n",
    "\n",
    "print(Omega/(2*np.pi))\n",
    "print(Omega_sigma/(2*np.pi))"
   ]
  },
  {
   "cell_type": "markdown",
   "metadata": {},
   "source": [
    "Fitovani histogramu"
   ]
  },
  {
   "cell_type": "code",
   "execution_count": 5,
   "metadata": {},
   "outputs": [],
   "source": [
    "# residua vcetne vah\n",
    "def likehood_transform(x, Omega, S, time_step, sigma):\n",
    "    # definuju funkci vracejici logaritmus pravdepodobnosti, ze z distrubuce dane sinusovkou, co fituji vyberu pozorovane body\n",
    "    # predpokladam, ze kazdy bod je normalne rozdelen kolem sinusovky\n",
    "    \n",
    "    len_S = len(S)\n",
    "    #print(len_S)\n",
    "    S_fit = x[0]*( 1 + x[1] * np.cos( Omega * time_step * np.arange(0, len_S) + x[2] ) )\n",
    "    \n",
    "    sum_term = ( (S - S_fit )/sigma )**2\n",
    "    log_term = np.log( np.ones(len_S) * sigma * np.sqrt(2*np.pi) )\n",
    "    \n",
    "    return( 0.5* np.sum( sum_term ) + np.sum(log_term) ) # vraci -log( likehood)\n",
    "\n",
    "def likehood_transform_jac(x, Omega, S, time_step, sigma):\n",
    "    # vektor jacob. likehood fce\n",
    "    len_S = len(S)\n",
    "    sum_term0 = 2/sigma**2 * (1 + x[1]*np.cos( Omega * time_step * np.arange(0, len_S) + x[2] ) ) *( x[0]*x[1] * np.cos( Omega * time_step * np.arange(0, len_S) + x[2] ) + x[0] - S)\n",
    "    \n",
    "    sum_term1 = 2/sigma**2 * x[0]*np.cos( Omega * time_step * np.arange(0, len_S) + x[2] )*( x[0]*x[1] * np.cos( Omega * time_step * np.arange(0, len_S) + x[2] ) + x[0] - S)\n",
    "        \n",
    "    sum_term2 = (-2/sigma**2) * x[0] * x[1] * ( x[0] * x[1] * np.cos( Omega * time_step * np.arange(0, len_S) + x[2] ) + x[0] - S)*np.sin( Omega * time_step * np.arange(0, len_S) + x[2] )\n",
    "        \n",
    "    return( 0.5 * np.array( [np.sum(sum_term0), np.sum(sum_term1), np.sum(sum_term2)] ) )\n",
    "\n",
    "def likehood_transform_sigma(x, Omega, S, time_step):\n",
    "    # definuju funkci vracejici logaritmus pravdepodobnosti, ze z distrubuce dane sinusovkou, co fituji vyberu pozorovane body\n",
    "    # predpokladam, ze kazdy bod je normalne rozdelen kolem sinusovky\n",
    "    \n",
    "    len_S = len(S)\n",
    "    #print(len_S)\n",
    "    S_fit = x[0]*( 1 + x[1] * np.cos( Omega * time_step * np.arange(0, len_S) + x[2] ) )\n",
    "    \n",
    "    sum_term = ( (S - S_fit )/x[3] )**2\n",
    "    log_term = np.log( np.ones(len_S) * x[3] * np.sqrt(2*np.pi) )\n",
    "    \n",
    "    return( 0.5* np.sum( sum_term ) + np.sum(log_term) ) # vraci -log( likehood)\n",
    "\n",
    "def fit_func(x, Omega, time_points):\n",
    "    return x[0] + x[1] * np.cos(Omega * time_points + x[2])"
   ]
  },
  {
   "cell_type": "code",
   "execution_count": 6,
   "metadata": {},
   "outputs": [
    {
     "name": "stdout",
     "output_type": "stream",
     "text": [
      "      fun: 807.708470705369\n",
      " hess_inv: array([[ 7.28691575e+01, -3.03641883e-05,  1.81675971e-02],\n",
      "       [-3.03641883e-05,  1.81621314e-06,  6.60337457e-06],\n",
      "       [ 1.81675971e-02,  6.60337457e-06,  7.62283745e-02]])\n",
      "      jac: array([ 3.80274251e-08,  1.34136712e-04, -8.37936702e-07])\n",
      "  message: 'Desired error not necessarily achieved due to precision loss.'\n",
      "     nfev: 100\n",
      "      nit: 17\n",
      "     njev: 88\n",
      "   status: 2\n",
      "  success: False\n",
      "        x: array([ 8.83479079e+03, -4.85846498e-03,  2.70726598e+00])\n",
      "\n",
      "\n",
      "      fun: 807.708470705369\n",
      " hess_inv: array([[ 7.28066065e+01, -1.81155721e-06,  1.52737356e-02],\n",
      "       [-1.81155721e-06,  1.87112346e-06, -3.48986007e-06],\n",
      "       [ 1.52737356e-02, -3.48986007e-06,  7.81186759e-02]])\n",
      "      jac: array([ 7.93457745e-09, -3.40683537e-06, -3.73773279e-08])\n",
      "  message: 'Desired error not necessarily achieved due to precision loss.'\n",
      "     nfev: 94\n",
      "      nit: 15\n",
      "     njev: 83\n",
      "   status: 2\n",
      "  success: False\n",
      "        x: array([ 8.83479079e+03,  4.85846523e-03, -4.34326614e-01])\n",
      "\n",
      "\n",
      "      fun: 806.5059386298675\n",
      " hess_inv: array([[ 7.59447201e+01, -1.75683727e-04, -1.21195281e-01],\n",
      "       [-1.75683727e-04,  1.72587408e-06, -6.59643148e-06],\n",
      "       [-1.21195281e-01, -6.59643148e-06,  2.19661316e-01]])\n",
      "      jac: array([ 3.07004914e-08, -1.40163137e-05, -7.90591568e-08])\n",
      "  message: 'Desired error not necessarily achieved due to precision loss.'\n",
      "     nfev: 78\n",
      "      nit: 15\n",
      "     njev: 67\n",
      "   status: 2\n",
      "  success: False\n",
      "        x: array([9.48369996e+03, 2.77801309e-03, 1.41219550e+00])\n",
      "\n",
      "\n",
      "      fun: 1325.7959158198782\n",
      " hess_inv: array([[ 5.86282172e+01, -5.60772337e-05, -1.60753354e-02],\n",
      "       [-5.60772337e-05,  2.28672186e-06,  4.99703649e-08],\n",
      "       [-1.60753354e-02,  4.99703649e-08,  7.83466276e-02]])\n",
      "      jac: array([6.12641882e-12, 1.91205913e-08, 7.34388106e-10])\n",
      "  message: 'Desired error not necessarily achieved due to precision loss.'\n",
      "     nfev: 20\n",
      "      nit: 16\n",
      "     njev: 19\n",
      "   status: 2\n",
      "  success: False\n",
      "        x: array([7.19085650e+03, 5.40557298e-03, 1.60671482e+00])\n",
      "\n",
      "\n"
     ]
    }
   ],
   "source": [
    "from scipy.optimize import minimize\n",
    "# cyklus fitujici vsechny foton-korelacni data\n",
    "\n",
    "x = np.zeros( (3,fotkor_shape[1]) )\n",
    "DeltaS_S_ratio = []\n",
    "sigmas = np.zeros((3,fotkor_shape[1]))\n",
    "Delta_S_S_ratio_sigma = []\n",
    "fot_phi = []\n",
    "fot_phi_sigma = []\n",
    "\n",
    "hist_sigma = 0.09088658 * np.sqrt( photon_sum ) # sigma binu jednotlivych fotkor-signalu\n",
    "\n",
    "for i in range(fotkor_shape[1]):\n",
    "    \n",
    "    # -----\n",
    "    #podminky urcujici prijimuti reseni\n",
    "    max_phi_unc = 0.9\n",
    "    phi0 = 1.8\n",
    "    \n",
    "    #--- zde budu zkouset postupne ruzne pocatecni body tak, aby minimalizace vybrala globalni minimum\n",
    "    x0 = [fotkor[:fotkor_shape[0]-2,i].mean(), 0.5* ( fotkor[:fotkor_shape[0]-2,i].max()\n",
    "    -fotkor[:fotkor_shape[0]-2,i].min() )/fotkor[:fotkor_shape[0]-2,i].mean(), phi0]\n",
    "#     x0 = [fotkor[:fotkor_shape[0]-2,i].mean(), 0.5* ( fotkor[:fotkor_shape[0]-2,i].max()\n",
    "#         -fotkor[:fotkor_shape[0]-2,i].min() )/fotkor[:fotkor_shape[0]-2,i].mean(), phi0, 100]\n",
    "#     fit = minimize(likehood_transform, x0, args=(Omega, fotkor[:fotkor_shape[0]-2,i], t_res, hist_sigma[i] ), tol=1e-10 )\n",
    "    fit = minimize(likehood_transform, x0, args=(Omega, fotkor[:fotkor_shape[0]-2,i], t_res, hist_sigma[i] ), tol=1e-10,\n",
    "                  jac=likehood_transform_jac)\n",
    "#     fit = minimize(likehood_transform_sigma, x0, args=(Omega, fotkor[:fotkor_shape[0]-2,i], t_res), tol=1e-10)\n",
    "    print(fit)\n",
    "    print('\\n')\n",
    "    if ( np.sqrt(fit.hess_inv[2,2]) > max_phi_unc ) or (fit.x[1] < 0):\n",
    "        x0 = [fotkor[:fotkor_shape[0]-2,i].mean(), 0.5* ( fotkor[:fotkor_shape[0]-2,i].max()\n",
    "        -fotkor[:fotkor_shape[0]-2,i].min() )/fotkor[:fotkor_shape[0]-2,i].mean(), -phi0]\n",
    "#         x0 = [fotkor[:fotkor_shape[0]-2,i].mean(), 0.5* ( fotkor[:fotkor_shape[0]-2,i].max()\n",
    "#             -fotkor[:fotkor_shape[0]-2,i].min() )/fotkor[:fotkor_shape[0]-2,i].mean(), -phi0, 100]\n",
    "        fit = minimize(likehood_transform, x0, args=(Omega, fotkor[:fotkor_shape[0]-2,i], t_res, hist_sigma[i] ), tol=1e-10 ,\n",
    "                      jac=likehood_transform_jac)\n",
    "#         fit = minimize(likehood_transform_sigma, x0, args=(Omega, fotkor[:fotkor_shape[0]-2,i], t_res), tol=1e-10)\n",
    "        print(fit)\n",
    "        print('\\n')\n",
    "        \n",
    "    #---- odhad nejistot parametru----\n",
    "#     C = fit.hess_inv  # variancni-kovariancni matice\n",
    "    C = fit.hess_inv\n",
    "    #------------------------------- \n",
    "    x[:,i] = fit.x\n",
    "    sigmas[:,i] = np.sqrt( np.diagonal(C) )\n",
    "    DeltaS_S_ratio.append(x[1,i]  )\n",
    "    \n",
    "    #---- faze fot-kor signalu\n",
    "    fot_phi.append( np.angle(DeltaS_S_ratio[i]*np.exp(1j*x[2,i])) )\n",
    "    \n",
    "    #---- sigma delta s ku s\n",
    "    Delta_S_S_ratio_sigma.append(np.sqrt( C[1,1]) )\n",
    "    \n",
    "    #---- sigma fot_phi\n",
    "    fot_phi_sigma.append(np.sqrt(C[2,2]))\n",
    "    \n",
    "    \n",
    "S_0 = x[0,:]  # parametry S_0\n",
    "DeltaS = x[1,:] * S_0 # delta S"
   ]
  },
  {
   "cell_type": "code",
   "execution_count": 7,
   "metadata": {},
   "outputs": [
    {
     "name": "stdout",
     "output_type": "stream",
     "text": [
      "[0.004858465230171026, 0.0027780130868199113, 0.0054055729773653475]\n",
      "[0.001367890147382089, 0.0013137252685446685, 0.0015121910786060145]\n",
      "[-0.43432661441748804, 1.4121954956935932, 1.6067148236222306]\n",
      "[0.2794971840346195, 0.4686803990734491, 0.27990467582913303]\n"
     ]
    }
   ],
   "source": [
    "print(DeltaS_S_ratio)\n",
    "print(Delta_S_S_ratio_sigma)\n",
    "print(fot_phi)\n",
    "print(fot_phi_sigma)"
   ]
  },
  {
   "cell_type": "code",
   "execution_count": 8,
   "metadata": {},
   "outputs": [
    {
     "name": "stdout",
     "output_type": "stream",
     "text": [
      "[4.85846523 2.77801309 5.40557298]\n",
      "[1.36789015 1.31372527 1.51219108]\n",
      "[-0.43432661441748804, 1.4121954956935932, 1.6067148236222306]\n",
      "[0.2794971840346195, 0.4686803990734491, 0.27990467582913303]\n"
     ]
    }
   ],
   "source": [
    "print(np.array(DeltaS_S_ratio)*1e3)\n",
    "print(np.array(Delta_S_S_ratio_sigma)*1e3)\n",
    "print(fot_phi)\n",
    "print(fot_phi_sigma)"
   ]
  },
  {
   "cell_type": "code",
   "execution_count": 9,
   "metadata": {},
   "outputs": [
    {
     "data": {
      "text/plain": [
       "array([ 97.41320144, 100.92642678,  87.88314029])"
      ]
     },
     "execution_count": 9,
     "metadata": {},
     "output_type": "execute_result"
    }
   ],
   "source": [
    "hist_sigma"
   ]
  },
  {
   "cell_type": "markdown",
   "metadata": {},
   "source": [
    "priblizne odpovida random samplingu -> vizualni kontrola"
   ]
  },
  {
   "cell_type": "code",
   "execution_count": 10,
   "metadata": {},
   "outputs": [],
   "source": [
    "# plot dat\n",
    "import matplotlib.pyplot as plt\n",
    "from matplotlib import rc\n",
    "from matplotlib import rcParams\n",
    "\n",
    "rcParams[\"font.size\"] = 16\n",
    "rcParams[\"mathtext.fontset\"] = \"cm\"\n",
    "rcParams[\"mathtext.rm\"] = \"serif\"\n",
    "rcParams[\"text.usetex\"] = \"true\";\n",
    "rc('text', usetex=True)"
   ]
  },
  {
   "cell_type": "code",
   "execution_count": 11,
   "metadata": {},
   "outputs": [
    {
     "data": {
      "image/png": "[encoded data removed]",
      "text/plain": [
       "<Figure size 432x288 with 1 Axes>"
      ]
     },
     "metadata": {
      "needs_background": "light"
     },
     "output_type": "display_data"
    },
    {
     "data": {
      "image/png": "[encoded data removed]",
      "text/plain": [
       "<Figure size 432x288 with 1 Axes>"
      ]
     },
     "metadata": {
      "needs_background": "light"
     },
     "output_type": "display_data"
    },
    {
     "data": {
      "image/png": "[encoded data removed]",
      "text/plain": [
       "<Figure size 432x288 with 1 Axes>"
      ]
     },
     "metadata": {
      "needs_background": "light"
     },
     "output_type": "display_data"
    }
   ],
   "source": [
    "# plot fitu vcetne errorbaru\n",
    "# my_dpi = 150\n",
    "# siz = 100\n",
    "# sizex = 16*siz\n",
    "# sizey = 9*siz\n",
    "# plot techto fitu\n",
    "time_fit = np.linspace(0, t_scale.max(), 200)\n",
    "\n",
    "for i in range(fotkor_shape[1]):\n",
    "    \n",
    "    fotkor_fit = fit_func( [S_0[i],DeltaS[i],x[2,i]], Omega, time_fit)\n",
    "    \n",
    "    plt.figure()\n",
    "    plt.errorbar(t_scale[:fotkor_shape[0]-2],fotkor[:fotkor_shape[0]-2,i],yerr=hist_sigma[i],fmt='.')\n",
    "    plt.plot(time_fit, fotkor_fit)\n",
    "    text = r'$\\frac{\\Delta S}{S_0}  = \\,\\,$' + r'${:.5f} \\pm {:.6f}$'.format(DeltaS_S_ratio[i], Delta_S_S_ratio_sigma[i])\n",
    "    plt.text(3e-8, fotkor[:,i].max()-500,text) \n",
    "    text2 = r'$\\varphi  = {:.5f} \\pm {:.3}$'.format(fot_phi[i], sigmas[2,i])\n",
    "    plt.text(3e-8, fotkor[:,i].max(),text2) \n"
   ]
  },
  {
   "cell_type": "markdown",
   "metadata": {},
   "source": [
    "ok"
   ]
  },
  {
   "cell_type": "markdown",
   "metadata": {},
   "source": [
    "## Urceni $\\beta$ + nejistoty"
   ]
  },
  {
   "cell_type": "code",
   "execution_count": 12,
   "metadata": {},
   "outputs": [],
   "source": [
    "# parametry vypoctu beta\n",
    "\n",
    "decay_rate = 2*np.pi * 21.008e6  # decay rate dle tabulek NISTu\n",
    "laser_detun = -32e6 * 2*np.pi  # detuning \n",
    "laser_detun_sigma = 4e6 * 2*np.pi # sigma detun"
   ]
  },
  {
   "cell_type": "markdown",
   "metadata": {},
   "source": [
    "Vyuzijeme nelinearniho sireni chyb. Tedy\n",
    "\\begin{equation}\n",
    "    \\mathcal{\\Sigma}^\\beta = \\mathcal{J}^\\beta \\mathcal{\\Sigma} \\mathcal{J }^{\\beta \\rm T}\n",
    "\\end{equation}"
   ]
  },
  {
   "cell_type": "markdown",
   "metadata": {},
   "source": [
    "Jakobian $\\mathcal{J}^\\beta$ vyjadrime pomoci jakobianu $\\mathcal{J}^g$, kde $F(\\beta, \\frac{\\Delta S}{S_0}, \\Omega, \\Delta)=0$, coz je rovnice, kterou resime numericky."
   ]
  },
  {
   "cell_type": "code",
   "execution_count": 13,
   "metadata": {},
   "outputs": [],
   "source": [
    "# numericke reseni deltaS/S -> beta\n",
    "\n",
    "from scipy.optimize import fsolve\n",
    "from scipy.special import j0, j1\n",
    "\n",
    "def get_A(decay_rate, detun):\n",
    "    # returns driven oscillator amplitude in point given by detun param.\n",
    "    return 1 / 2 * (decay_rate / 2 - detun * 1j) / (detun ** 2 + (decay_rate / 2) ** 2)\n",
    "\n",
    "def fl_signal(beta, laser_detun, Omega, decay_rate):\n",
    "    # function calculates deltaS/S0 photon-correlation signal\n",
    "    # input: beta, laser detuning, RF drive freq, decay rate\n",
    "    A_minus = get_A(decay_rate, laser_detun - Omega)\n",
    "    A_plus = get_A(decay_rate, laser_detun + Omega)\n",
    "    A = get_A(decay_rate, laser_detun)\n",
    "\n",
    "    numer = 2 * j0(beta) * j1(beta) * np.abs(np.conj(A) * A_plus - A * np.conj(A_minus))\n",
    "    denom = j0(beta) ** 2 * np.abs(A) ** 2 + j1(beta) ** 2 * (np.abs(A_plus) ** 2 + np.abs(A_minus) ** 2)\n",
    "\n",
    "    return numer / denom\n",
    "\n",
    "def get_beta(Omega, decay_rate, laser_detun, norm_mod_amp):\n",
    "    # function calculates the corresponding beta for given known parameters\n",
    "    # input: drive frequency, decay_rate, laser detuning, normalized modulation amplitude given by ph_corr_signal\n",
    "    # output: float value of beta\n",
    "    def root_func(beta, laser_detun, Omega, decay_rate, norm_mod_amp):\n",
    "        return fl_signal(beta, laser_detun, Omega, decay_rate) - norm_mod_amp\n",
    "\n",
    "    sol = fsolve(root_func, np.array([0.01]), args=(laser_detun, Omega, decay_rate, norm_mod_amp), full_output=1)\n",
    "    return float(sol[0])"
   ]
  },
  {
   "cell_type": "code",
   "execution_count": 14,
   "metadata": {},
   "outputs": [],
   "source": [
    "from scipy.optimize import approx_fprime, check_grad\n",
    "\n",
    "def root_func(x):\n",
    "    [beta, norm_mod_amp, Omega, laser_detun, decay_rate] = x\n",
    "    return fl_signal(beta, laser_detun, Omega, decay_rate) - norm_mod_amp\n",
    "\n",
    "def root_func_grad(x):\n",
    "#     [beta, norm_mod_amp, Omega, laser_detun, decay_rate] = x\n",
    "    epsilon = 5e-6\n",
    "    return( approx_fprime(x, root_func, x*epsilon ) )"
   ]
  },
  {
   "cell_type": "code",
   "execution_count": 15,
   "metadata": {},
   "outputs": [],
   "source": [
    "from scipy.optimize import approx_fprime, check_grad\n",
    "\n",
    "# get beta\n",
    "beta = np.zeros(fotkor_shape[1])\n",
    "beta_sigma = np.zeros(fotkor_shape[1])\n",
    "for k in range(fotkor_shape[1]):\n",
    "    beta[k] = get_beta(Omega, decay_rate, laser_detun, DeltaS_S_ratio[k])\n",
    "    \n",
    "    # get sigma beta\n",
    "    jacob_F = root_func_grad( np.array([beta[k], DeltaS_S_ratio[k], Omega, laser_detun, decay_rate]) ) \n",
    "    # [dF/dbeta, dF/ddeltaS/S, dF/dOmega, dF/dDelta, dF/dGamma]\n",
    "    \n",
    "    # variance-cov parametru\n",
    "    Sigma_param = np.diag([Delta_S_S_ratio_sigma[k]**2, Omega_sigma**2, laser_detun_sigma**2])\n",
    "    \n",
    "    beta_sigma[k] = np.sqrt( jacob_F[0]**-2 * jacob_F[1:-1] @ Sigma_param @ np.transpose( jacob_F[1:-1] ) )\n",
    "    \n",
    "    "
   ]
  },
  {
   "cell_type": "code",
   "execution_count": 18,
   "metadata": {},
   "outputs": [
    {
     "name": "stdout",
     "output_type": "stream",
     "text": [
      "[0.00169899 0.00097146 0.00189031]\n",
      "[0.00047876 0.00045954 0.00052928]\n"
     ]
    }
   ],
   "source": [
    "print(beta)\n",
    "print(beta_sigma)"
   ]
  },
  {
   "cell_type": "code",
   "execution_count": 19,
   "metadata": {},
   "outputs": [
    {
     "name": "stdout",
     "output_type": "stream",
     "text": [
      "[1.69898785 0.97145662 1.89031262]\n",
      "[0.47876409 0.45954493 0.52927821]\n"
     ]
    }
   ],
   "source": [
    "print(beta *1e3)\n",
    "print(beta_sigma *1e3)"
   ]
  },
  {
   "cell_type": "code",
   "execution_count": 20,
   "metadata": {},
   "outputs": [
    {
     "data": {
      "text/plain": [
       "2.8283619261084747e-09"
      ]
     },
     "execution_count": 20,
     "metadata": {},
     "output_type": "execute_result"
    }
   ],
   "source": [
    "jacob_F[2]**2  * Omega_sigma**2"
   ]
  },
  {
   "cell_type": "code",
   "execution_count": 21,
   "metadata": {},
   "outputs": [
    {
     "data": {
      "text/plain": [
       "4.005727246491093e-10"
      ]
     },
     "execution_count": 21,
     "metadata": {},
     "output_type": "execute_result"
    }
   ],
   "source": [
    "check_grad(root_func, root_func_grad,\n",
    "           np.array([beta[0], DeltaS_S_ratio[0], Omega, laser_detun, decay_rate]))"
   ]
  },
  {
   "cell_type": "code",
   "execution_count": 22,
   "metadata": {},
   "outputs": [
    {
     "data": {
      "text/plain": [
       "2.29070486915478e-06"
      ]
     },
     "execution_count": 22,
     "metadata": {},
     "output_type": "execute_result"
    }
   ],
   "source": [
    "jacob_F[1:-1] @ Sigma_param @ np.transpose( jacob_F[1:-1] )"
   ]
  },
  {
   "cell_type": "code",
   "execution_count": 23,
   "metadata": {},
   "outputs": [
    {
     "data": {
      "text/plain": [
       "array([ 2.85958317e+00, -1.00000000e+00,  2.68848352e-11,  1.21515512e-12,\n",
       "       -3.65961698e-11])"
      ]
     },
     "execution_count": 23,
     "metadata": {},
     "output_type": "execute_result"
    }
   ],
   "source": [
    "root_func_grad(np.array([beta[0], DeltaS_S_ratio[0], Omega, laser_detun, decay_rate]))"
   ]
  },
  {
   "cell_type": "markdown",
   "metadata": {},
   "source": [
    "## projekce indexu $\\beta$ do os $x,y$"
   ]
  },
  {
   "cell_type": "code",
   "execution_count": 24,
   "metadata": {},
   "outputs": [],
   "source": [
    "# definice funkci, ktere prepocitavaji prumety beta_z,beta_xz,beta_xy do os x,y,z\n",
    "\n",
    "# korekce funkce vracejici prumety beta pro svazek xy mirici lib. smerem\n",
    "def get_beta_xyz_phi_xyz_Sxy_z_proj(variables):\n",
    "    # input: beta = [beta_z, beta_xz, beta_xy]  variables = [beta, fot_phi, gamma, a, c]\n",
    "    #       fot_phi = [phi_z, phi_xz, phi_xy]\n",
    "    # jednotkovy vektor svazku Sxy = [a,b,c]\n",
    "\n",
    "    # output: beta_xyz = [beta_x, beta_y, beta_z]\n",
    "    \n",
    "    #### overeno\n",
    "    beta = variables[:3]\n",
    "    fot_phi = variables[3:6]\n",
    "    gamma = variables[6]\n",
    "    a = variables[7]\n",
    "    c = variables[8]\n",
    "    b = -np.sqrt(1 - c**2 - a**2)  # zde pozor na znamenko, je treba ho zadat rucne\n",
    "    \n",
    "    beta_x_comp = 1 / np.sin(gamma) * (\n",
    "                beta[1] * np.exp(1j * fot_phi[1]) - beta[0] * np.cos(gamma) * np.exp(1j * fot_phi[0]))\n",
    "    beta_y_comp = 1 / b * ( beta[2] * np.exp(1j * fot_phi[2]) - a*beta_x_comp - c*beta[0]*np.exp(1j * fot_phi[0]) )\n",
    "\n",
    "    return (np.array([np.abs(beta_x_comp), np.abs(beta_y_comp)]),\n",
    "            np.array([np.angle(beta_x_comp), np.angle(beta_y_comp)])\n",
    "            )\n",
    "\n",
    "def get_beta_x(variables):\n",
    "    #input: beta = [beta_z, beta_xz, beta_xy]  variables = [beta, fot_phi, gamma]\n",
    "    #       fot_phi = [phi_z, phi_xz, phi_xy]\n",
    "    beta = variables[:3]\n",
    "    fot_phi = variables[3:6]\n",
    "    gamma = variables[6]\n",
    "    a = variables[7]\n",
    "    c = variables[8]\n",
    "    b = -np.sqrt(1 - c**2 - a**2)  # zde pozor na znamenko, je treba ho zadat rucne\n",
    "    \n",
    "    beta_x_comp = 1/np.sin(gamma) * (beta[1]*np.exp(1j*fot_phi[1]) - beta[0]*np.cos(gamma)*np.exp(1j*fot_phi[0]) )\n",
    "    return( np.abs(beta_x_comp) )\n",
    "\n",
    "def get_phi_x(variables):\n",
    "    #input: beta = [beta_z, beta_xz, beta_xy]  variables = [beta, fot_phi, gamma]\n",
    "    #       fot_phi = [phi_z, phi_xz, phi_xy]\n",
    "    beta = variables[:3]\n",
    "    fot_phi = variables[3:6]\n",
    "    gamma = variables[6]\n",
    "    a = variables[7]\n",
    "    c = variables[8]\n",
    "    b = -np.sqrt(1 - c**2 - a**2)  # zde pozor na znamenko, je treba ho zadat rucne\n",
    "    \n",
    "    beta_x_comp = 1/np.sin(gamma) * (beta[1]*np.exp(1j*fot_phi[1]) - beta[0]*np.cos(gamma)*np.exp(1j*fot_phi[0]) )\n",
    "    return( np.angle(beta_x_comp) )\n",
    "\n",
    "def get_beta_y(variables):\n",
    "    #input: beta = [beta_z, beta_xz, beta_xy]  variables = [beta, fot_phi, gamma]\n",
    "    #       fot_phi = [phi_z, phi_xz, phi_xy]\n",
    "    beta = variables[:3]\n",
    "    fot_phi = variables[3:6]\n",
    "    gamma = variables[6]\n",
    "    a = variables[7]\n",
    "    c = variables[8]\n",
    "    b = -np.sqrt(1 - c**2 - a**2)  # zde pozor na znamenko, je treba ho zadat rucne\n",
    "    \n",
    "    beta_x_comp = 1 / np.sin(gamma) * (\n",
    "                beta[1] * np.exp(1j * fot_phi[1]) - beta[0] * np.cos(gamma) * np.exp(1j * fot_phi[0]))\n",
    "    beta_y_comp = 1 / b * ( beta[2] * np.exp(1j * fot_phi[2]) - a*beta_x_comp - c*beta[0]*np.exp(1j * fot_phi[0]) )\n",
    "\n",
    "    return( np.abs(beta_y_comp) )\n",
    "\n",
    "def get_phi_y(variables):\n",
    "    #input: beta = [beta_z, beta_xz, beta_xy]  variables = [beta, fot_phi, gamma]\n",
    "    #       fot_phi = [phi_z, phi_xz, phi_xy]\n",
    "    beta = variables[:3]\n",
    "    fot_phi = variables[3:6]\n",
    "    gamma = variables[6]\n",
    "    a = variables[7]\n",
    "    c = variables[8]\n",
    "    b = -np.sqrt(1 - c**2 - a**2)  # zde pozor na znamenko, je treba ho zadat rucne\n",
    "    \n",
    "    beta_x_comp = 1 / np.sin(gamma) * (\n",
    "                beta[1] * np.exp(1j * fot_phi[1]) - beta[0] * np.cos(gamma) * np.exp(1j * fot_phi[0]))\n",
    "    beta_y_comp = 1 / b * ( beta[2] * np.exp(1j * fot_phi[2]) - a*beta_x_comp - c*beta[0]*np.exp(1j * fot_phi[0]) )\n",
    "\n",
    "    \n",
    "    return( np.angle(beta_y_comp) )\n",
    "\n",
    "def get_beta_xyz_phi_xyz(variables):\n",
    "    #input: beta = [beta_z, beta_xz, beta_xy]  variables = [beta, fot_phi, gamma]\n",
    "    #       fot_phi = [phi_z, phi_xz, phi_xy]\n",
    "    \n",
    "    # output: beta_xyz = [beta_x, beta_y, beta_z]\n",
    "    beta = variables[:3]\n",
    "    fot_phi = variables[3:6]\n",
    "    gamma = variables[6]\n",
    "    epsilon = variables[7]\n",
    "    \n",
    "    beta_x_comp = 1/np.sin(gamma) * (beta[1]*np.exp(1j*fot_phi[1]) - beta[0]*np.cos(gamma)*np.exp(1j*fot_phi[0]) )\n",
    "    beta_y_comp = 1/np.cos(epsilon) * ( np.sin(epsilon) * beta_x_comp  - beta[2]*np.exp(1j*fot_phi[2]) )\n",
    "    \n",
    "    return(np.array( [np.abs(beta_x_comp), np.abs(beta_y_comp)]), \n",
    "           np.array( [np.angle(beta_x_comp), np.angle(beta_y_comp) ] ) \n",
    "          ) \n",
    "\n",
    "\n",
    "# def get_beta_x(variables):\n",
    "#     #input: beta = [beta_z, beta_xz, beta_xy]  variables = [beta, fot_phi, gamma]\n",
    "#     #       fot_phi = [phi_z, phi_xz, phi_xy]\n",
    "#     beta = variables[:3]\n",
    "#     fot_phi = variables[3:6]\n",
    "#     gamma = variables[6]\n",
    "#     epsilon = variables[7]\n",
    "    \n",
    "#     beta_x_comp = 1/np.sin(gamma) * (beta[1]*np.exp(1j*fot_phi[1]) - beta[0]*np.cos(gamma)*np.exp(1j*fot_phi[0]) )\n",
    "#     return( np.abs(beta_x_comp) )\n",
    "\n",
    "# def get_phi_x(variables):\n",
    "#     #input: beta = [beta_z, beta_xz, beta_xy]  variables = [beta, fot_phi, gamma]\n",
    "#     #       fot_phi = [phi_z, phi_xz, phi_xy]\n",
    "#     beta = variables[:3]\n",
    "#     fot_phi = variables[3:6]\n",
    "#     gamma = variables[6]\n",
    "#     epsilon = variables[7]\n",
    "    \n",
    "#     beta_x_comp = 1/np.sin(gamma) * (beta[1]*np.exp(1j*fot_phi[1]) - beta[0]*np.cos(gamma)*np.exp(1j*fot_phi[0]) )\n",
    "#     return( np.angle(beta_x_comp) )\n",
    "\n",
    "# def get_beta_y(variables):\n",
    "#     #input: beta = [beta_z, beta_xz, beta_xy]  variables = [beta, fot_phi, gamma]\n",
    "#     #       fot_phi = [phi_z, phi_xz, phi_xy]\n",
    "#     beta = variables[:3]\n",
    "#     fot_phi = variables[3:6]\n",
    "#     gamma = variables[6]\n",
    "#     epsilon = variables[7]\n",
    "    \n",
    "#     beta_x_comp = 1/np.sin(gamma) * (beta[1]*np.exp(1j*fot_phi[1]) - beta[0]*np.cos(gamma)*np.exp(1j*fot_phi[0]) )\n",
    "#     beta_y_comp = 1/np.cos(epsilon) * ( np.sin(epsilon) * beta_x_comp  - beta[2]*np.exp(1j*fot_phi[2]) )\n",
    "    \n",
    "#     return( np.abs(beta_y_comp) )\n",
    "\n",
    "# def get_phi_y(variables):\n",
    "#     #input: beta = [beta_z, beta_xz, beta_xy]  variables = [beta, fot_phi, gamma]\n",
    "#     #       fot_phi = [phi_z, phi_xz, phi_xy]\n",
    "#     beta = variables[:3]\n",
    "#     fot_phi = variables[3:6]\n",
    "#     gamma = variables[6]\n",
    "#     epsilon = variables[7]\n",
    "    \n",
    "#     beta_x_comp = 1/np.sin(gamma) * (beta[1]*np.exp(1j*fot_phi[1]) - beta[0]*np.cos(gamma)*np.exp(1j*fot_phi[0]) )\n",
    "#     beta_y_comp = 1/np.cos(epsilon) * ( np.sin(epsilon) * beta_x_comp  - beta[2]*np.exp(1j*fot_phi[2]) )\n",
    "    \n",
    "#     return( np.angle(beta_y_comp) )\n",
    "\n",
    "def get_beta_x_jac(variables):\n",
    "    #input: beta = [beta_z, beta_xz, beta_xy]  variables = [beta, fot_phi, gamma]\n",
    "    #       fot_phi = [phi_z, phi_xz, phi_xy]\n",
    "    # output: grad beta_x\n",
    "    epsi_err = 1e-8\n",
    "    return( approx_fprime(variables, get_beta_x, epsi_err) )\n",
    "\n",
    "def get_beta_y_jac(variables):\n",
    "    #input: beta = [beta_z, beta_xz, beta_xy]  variables = [beta, fot_phi, gamma]\n",
    "    #       fot_phi = [phi_z, phi_xz, phi_xy]\n",
    "    # output: grad beta_x\n",
    "    epsi_err = 1e-8\n",
    "    return( approx_fprime(variables, get_beta_y, epsi_err) )\n",
    "\n",
    "def get_phi_x_jac(variables):\n",
    "    #input: beta = [beta_z, beta_xz, beta_xy]  variables = [beta, fot_phi, gamma]\n",
    "    #       fot_phi = [phi_z, phi_xz, phi_xy]\n",
    "    # output: grad beta_x\n",
    "    epsi_err = 1e-8\n",
    "    return( approx_fprime(variables, get_phi_x, epsi_err) )\n",
    "\n",
    "def get_phi_y_jac(variables):\n",
    "    #input: beta = [beta_z, beta_xz, beta_xy]  variables = [beta, fot_phi, gamma]\n",
    "    #       fot_phi = [phi_z, phi_xz, phi_xy]\n",
    "    # output: grad beta_x\n",
    "    epsi_err = 1e-8\n",
    "    return( approx_fprime(variables, get_phi_y, epsi_err) )\n",
    "\n",
    "def get_beta_x_y_phi_x_y_jacob(variables):\n",
    "    #input: beta = [beta_z, beta_xz, beta_xy]  variables = [beta, fot_phi, gamma]\n",
    "    #       fot_phi = [phi_z, phi_xz, phi_xy]\n",
    "    # output: jacobian \n",
    "    \n",
    "    return( np.array([ get_beta_x_jac(variables), get_beta_y_jac(variables), \n",
    "                      get_phi_x_jac(variables), get_phi_y_jac(variables) ])\n",
    "          )\n",
    "  "
   ]
  },
  {
   "cell_type": "code",
   "execution_count": 25,
   "metadata": {},
   "outputs": [
    {
     "data": {
      "text/plain": [
       "(array([0.00245865, 0.00130326]), array([ 2.13958807, -1.91161231]))"
      ]
     },
     "execution_count": 25,
     "metadata": {},
     "output_type": "execute_result"
    }
   ],
   "source": [
    "get_beta_xyz_phi_xyz([beta[0],beta[1],beta[2], fot_phi[0],fot_phi[1],fot_phi[2], np.pi/4, 21/180 * np.pi])"
   ]
  },
  {
   "cell_type": "code",
   "execution_count": 26,
   "metadata": {},
   "outputs": [
    {
     "data": {
      "text/plain": [
       "(array([0.00245865, 0.00380577]), array([2.13958807, 2.93109892]))"
      ]
     },
     "execution_count": 26,
     "metadata": {},
     "output_type": "execute_result"
    }
   ],
   "source": [
    "# get_beta_xyz_phi_xyz_Sxy_z_proj([beta[0],beta[1],0.003, fot_phi[0],fot_phi[1],0, np.pi/4, 0.3572, -0.0722])\n",
    "get_beta_xyz_phi_xyz_Sxy_z_proj([beta[0],beta[1],0.003, fot_phi[0],fot_phi[1],0, np.pi/4, 0.3583679, 0])"
   ]
  },
  {
   "cell_type": "code",
   "execution_count": 27,
   "metadata": {},
   "outputs": [
    {
     "data": {
      "text/plain": [
       "8.023854248254295e-05"
      ]
     },
     "execution_count": 27,
     "metadata": {},
     "output_type": "execute_result"
    }
   ],
   "source": [
    "check_grad(get_phi_y, get_phi_y_jac, [beta[0],beta[1],0.003, fot_phi[0],fot_phi[1],0, np.pi/4, 0.3583679, 0])"
   ]
  },
  {
   "cell_type": "markdown",
   "metadata": {},
   "source": [
    "Prepocitam bety a phi na do os $x,y,z$"
   ]
  },
  {
   "cell_type": "code",
   "execution_count": 28,
   "metadata": {},
   "outputs": [],
   "source": [
    "## uhly detekcnich svazku\n",
    "gamma = 45.07/180 * np.pi\n",
    "gamma_sigma = 6/180 * np.pi\n",
    "# epsilon = 20/180 * np.pi\n",
    "# epsilon_sigma = 1/180 * np.pi\n",
    "Sxy_vec = np.array([85, -230, -20]) / np.sqrt(85**2 + 230**2 + 20**2)\n",
    "\n",
    "a = Sxy_vec[0]\n",
    "a_sigma = 0.02\n",
    "c = Sxy_vec[2]\n",
    "c_sigma = 0.008\n"
   ]
  },
  {
   "cell_type": "code",
   "execution_count": 52,
   "metadata": {},
   "outputs": [
    {
     "name": "stdout",
     "output_type": "stream",
     "text": [
      "[0.0024539  0.00131455 0.00169899]\n",
      "[0.00090002 0.000654   0.00047876]\n",
      "[ 2.13913353 -2.00207164 -0.43432661]\n",
      "[0.32896304 0.5090634  0.27949718]\n"
     ]
    }
   ],
   "source": [
    "[beta_x_y, phi_x_y] = get_beta_xyz_phi_xyz_Sxy_z_proj( [beta[0],beta[1],beta[2], fot_phi[0],fot_phi[1],fot_phi[2],gamma, a, c] )\n",
    "beta_xyz = np.append(beta_x_y, beta[0]) # [beta_x, beta_y, beta_z]\n",
    "phi_xyz = np.append(phi_x_y, fot_phi[0]) # [phi_x, phi_y, phi_z]\n",
    "\n",
    "#--- nejistoty zakonem sireni chyb\n",
    "# sirim kovariancni matici diag( sigma^2 beta, sigma^2 phi, simga^2 gamma, epsilon_sigma^2)\n",
    "\n",
    "# sigma_params = np.diag([beta_sigma[0]**2, beta_sigma[1]**2, 8e-4**2, fot_phi_sigma[0]**2, fot_phi_sigma[1]**2, \n",
    "#                         0.1**2, gamma_sigma**2, epsilon_sigma**2 ])\n",
    "\n",
    "sigma_params = np.diag([beta_sigma[0]**2, beta_sigma[1]**2, beta_sigma[2]**2, fot_phi_sigma[0]**2, fot_phi_sigma[1]**2, \n",
    "                        fot_phi_sigma[2]**2, gamma_sigma**2, a_sigma**2, c_sigma**2 ])\n",
    "\n",
    "jacob_beta_phi_xy = get_beta_x_y_phi_x_y_jacob([beta[0],beta[1],beta[2], fot_phi[0],fot_phi[1],fot_phi[2],gamma, a, c])\n",
    "\n",
    "sigma_beta_phi_xy = jacob_beta_phi_xy @ sigma_params @ np.transpose(jacob_beta_phi_xy)\n",
    "\n",
    "beta_xyz_sigma = np.sqrt( np.diag(sigma_beta_phi_xy)[:2] )\n",
    "phi_xyz_sigma = np.sqrt( np.diag(sigma_beta_phi_xy)[2:] )\n",
    "\n",
    "beta_xyz_sigma = np.append(beta_xyz_sigma, beta_sigma[0])\n",
    "phi_xyz_sigma = np.append(phi_xyz_sigma, fot_phi_sigma[0])\n",
    "\n",
    "print(beta_xyz)\n",
    "print(beta_xyz_sigma)\n",
    "print(phi_xyz)\n",
    "print(phi_xyz_sigma)"
   ]
  },
  {
   "cell_type": "code",
   "execution_count": 53,
   "metadata": {},
   "outputs": [
    {
     "name": "stdout",
     "output_type": "stream",
     "text": [
      "[2.45389854 1.31454725 1.69898785]\n",
      "[0.90001679 0.6540026  0.47876409]\n",
      "[ 2.13913353 -2.00207164 -0.43432661]\n",
      "[0.32896304 0.5090634  0.27949718]\n"
     ]
    }
   ],
   "source": [
    "print(beta_xyz*1e3)\n",
    "print(beta_xyz_sigma*1e3)\n",
    "print(phi_xyz)\n",
    "print(phi_xyz_sigma)"
   ]
  },
  {
   "cell_type": "code",
   "execution_count": 30,
   "metadata": {},
   "outputs": [
    {
     "data": {
      "text/plain": [
       "array([0.00090002, 0.000654  , 0.32896304, 0.5090634 ])"
      ]
     },
     "execution_count": 30,
     "metadata": {},
     "output_type": "execute_result"
    }
   ],
   "source": [
    "np.sqrt( np.diagonal(sigma_beta_phi_xy) )"
   ]
  },
  {
   "cell_type": "code",
   "execution_count": 31,
   "metadata": {},
   "outputs": [
    {
     "data": {
      "text/plain": [
       "array([[ 8.40850755e-01,  1.05543166e+00,  0.00000000e+00,\n",
       "        -9.11924442e-04,  9.11924486e-04,  0.00000000e+00,\n",
       "        -3.87999901e-03,  0.00000000e+00,  0.00000000e+00],\n",
       "       [-1.38944136e-03, -5.02720686e-01,  9.55017858e-01,\n",
       "         7.74088931e-04,  1.36567970e-04, -9.10656923e-04,\n",
       "         4.91001944e-04, -8.99395944e-04, -1.16724273e-04],\n",
       "       [ 2.18731090e+02, -3.82540129e+02,  0.00000000e+00,\n",
       "         5.82173332e-01,  4.17826707e-01,  0.00000000e+00,\n",
       "        -3.72531872e-01,  0.00000000e+00,  0.00000000e+00],\n",
       "       [-3.46596677e+02, -1.06942657e+02,  3.66472852e+02,\n",
       "        -1.79682935e-03, -3.71513043e-01,  1.37330982e+00,\n",
       "         1.05659308e+00, -1.67977463e+00,  1.38245695e+00]])"
      ]
     },
     "execution_count": 31,
     "metadata": {},
     "output_type": "execute_result"
    }
   ],
   "source": [
    "jacob_beta_phi_xy"
   ]
  },
  {
   "cell_type": "markdown",
   "metadata": {},
   "source": [
    "## transformace do soustavy $(xyz)^{\\prime}$"
   ]
  },
  {
   "cell_type": "code",
   "execution_count": 32,
   "metadata": {},
   "outputs": [],
   "source": [
    "def get_beta_xyz_prime(variables):\n",
    "    beta_complex_xyz = variables[:3] * np.exp(1j*variables[3:6])\n",
    "    return(  np.abs( 1/np.sqrt(2) * np.array( [ [1,-1,0], [1,1,0], [0,0,np.sqrt(2)] ] ) @ beta_complex_xyz ) )\n",
    "\n",
    "def get_phi_xyz_prime(variables):\n",
    "    beta_complex_xyz = variables[:3] * np.exp(1j*variables[3:6])\n",
    "    return(  np.angle( 1/np.sqrt(2) * np.array( [ [1,-1,0], [1,1,0], [0,0,np.sqrt(2)] ] ) @ beta_complex_xyz ) )\n",
    "\n",
    "def get_beta_x_prime(variables):\n",
    "    #input: variables: = [beta_x, beta_y , betaz, phi_x, phi_y, phi_z]\n",
    "    beta_complex_xyz = variables[:3] * np.exp(1j*variables[3:6])\n",
    "    return(  np.abs( 1/np.sqrt(2) * np.array( [ [1,-1,0], [1,1,0], [0,0,np.sqrt(2)] ] ) @ beta_complex_xyz )[0] )  \n",
    "\n",
    "def get_phi_x_prime(variables):\n",
    "    #input: variables: = [beta_x, beta_y , betaz, phi_x, phi_y, phi_z]\n",
    "    beta_complex_xyz = variables[:3] * np.exp(1j*variables[3:6])\n",
    "    return(  np.angle( 1/np.sqrt(2) * np.array( [ [1,-1,0], [1,1,0], [0,0,np.sqrt(2)] ] ) @ beta_complex_xyz )[0] )\n",
    "\n",
    "def get_beta_y_prime(variables):\n",
    "    #input: variables: = [beta_x, beta_y , betaz, phi_x, phi_y, phi_z]\n",
    "    beta_complex_xyz = variables[:3] * np.exp(1j*variables[3:6])\n",
    "    return(  np.abs( 1/np.sqrt(2) * np.array( [ [1,-1,0], [1,1,0], [0,0,np.sqrt(2)] ] ) @ beta_complex_xyz )[1] )  \n",
    "\n",
    "def get_phi_y_prime(variables):\n",
    "    #input: variables: = [beta_x, beta_y , betaz, phi_x, phi_y, phi_z]\n",
    "    beta_complex_xyz = variables[:3] * np.exp(1j*variables[3:6])\n",
    "    return(  np.angle( 1/np.sqrt(2) * np.array( [ [1,-1,0], [1,1,0], [0,0,np.sqrt(2)] ] ) @ beta_complex_xyz )[1] )\n",
    "\n",
    "def get_beta_z_prime(variables):\n",
    "    #input: variables: = [beta_x, beta_y , betaz, phi_x, phi_y, phi_z]\n",
    "    beta_complex_xyz = variables[:3] * np.exp(1j*variables[3:6])\n",
    "    return(  np.abs( 1/np.sqrt(2) * np.array( [ [1,-1,0], [1,1,0], [0,0,np.sqrt(2)] ] ) @ beta_complex_xyz )[2] )  \n",
    "\n",
    "def get_phi_z_prime(variables):\n",
    "    #input: variables: = [beta_x, beta_y , betaz, phi_x, phi_y, phi_z]\n",
    "    beta_complex_xyz = variables[:3] * np.exp(1j*variables[3:6])\n",
    "    return(  np.angle( 1/np.sqrt(2) * np.array( [ [1,-1,0], [1,1,0], [0,0,np.sqrt(2)] ] ) @ beta_complex_xyz )[2] )\n",
    "\n",
    "def get_beta_x_prime_jac(variables):\n",
    "    #input: variables: = [beta_x, beta_y , betaz, phi_x, phi_y, phi_z]\n",
    "    \n",
    "    epsi_err = 1e-8\n",
    "    return( approx_fprime(variables, get_beta_x_prime, epsi_err) )\n",
    "\n",
    "def get_phi_x_prime_jac(variables):\n",
    "    #input: variables: = [beta_x, beta_y , betaz, phi_x, phi_y, phi_z]\n",
    "    \n",
    "    epsi_err = 1e-8\n",
    "    return( approx_fprime(variables, get_phi_x_prime, epsi_err) ) \n",
    "           \n",
    "def get_beta_y_prime_jac(variables):\n",
    "    #input: variables: = [beta_x, beta_y , betaz, phi_x, phi_y, phi_z]\n",
    "    \n",
    "    epsi_err = 1e-8\n",
    "    return( approx_fprime(variables, get_beta_y_prime, epsi_err) )\n",
    "\n",
    "def get_phi_y_prime_jac(variables):\n",
    "    #input: variables: = [beta_x, beta_y , betaz, phi_x, phi_y, phi_z]\n",
    "    \n",
    "    epsi_err = 1e-8\n",
    "    return( approx_fprime(variables, get_phi_y_prime, epsi_err) )\n",
    "           \n",
    "def get_beta_z_prime_jac(variables):\n",
    "    #input: variables: = [beta_x, beta_y , betaz, phi_x, phi_y, phi_z]\n",
    "    \n",
    "    epsi_err = 1e-8\n",
    "    return( approx_fprime(variables, get_beta_z_prime, epsi_err) )\n",
    "\n",
    "def get_phi_z_prime_jac(variables):\n",
    "    #input: variables: = [beta_x, beta_y , betaz, phi_x, phi_y, phi_z]\n",
    "    \n",
    "    epsi_err = 1e-8\n",
    "    return( approx_fprime(variables, get_phi_z_prime, epsi_err) )\n",
    "\n",
    "def get_beta_x_y_phi_x_y_prime_jacob(variables):\n",
    "    #input: beta = [beta_z, beta_xz, beta_xy]  variables = [beta, fot_phi, gamma]\n",
    "    #       fot_phi = [phi_z, phi_xz, phi_xy]\n",
    "    # output: jacobian \n",
    "    \n",
    "    return( np.array([ get_beta_x_prime_jac(variables), get_beta_y_prime_jac(variables), get_beta_z_prime_jac(variables),\n",
    "                      get_phi_x_prime_jac(variables), get_phi_y_prime_jac(variables),\n",
    "                     get_phi_z_prime_jac(variables)])\n",
    "          )"
   ]
  },
  {
   "cell_type": "markdown",
   "metadata": {},
   "source": [
    "funkce transformuji beta do jine soustavy dle matice transformace"
   ]
  },
  {
   "cell_type": "markdown",
   "metadata": {},
   "source": [
    "jednotlive slozky maji amplitydy a faze:"
   ]
  },
  {
   "cell_type": "code",
   "execution_count": 33,
   "metadata": {},
   "outputs": [
    {
     "data": {
      "text/plain": [
       "array([0.00237039, 0.00145976, 0.00169899])"
      ]
     },
     "execution_count": 33,
     "metadata": {},
     "output_type": "execute_result"
    }
   ],
   "source": [
    "beta_xyz_prime = get_beta_xyz_prime(np.array( [beta_xyz[0],beta_xyz[1],beta_xyz[2], phi_xyz[0], phi_xyz[1], phi_xyz[2] ] ))\n",
    "beta_xyz_prime"
   ]
  },
  {
   "cell_type": "code",
   "execution_count": 34,
   "metadata": {},
   "outputs": [
    {
     "data": {
      "text/plain": [
       "array([ 1.80294439,  2.70445616, -0.43432661])"
      ]
     },
     "execution_count": 34,
     "metadata": {},
     "output_type": "execute_result"
    }
   ],
   "source": [
    "phi_xyz_prime = get_phi_xyz_prime(np.array( [beta_xyz[0],beta_xyz[1],beta_xyz[2], phi_xyz[0], phi_xyz[1], phi_xyz[2] ] ))\n",
    "phi_xyz_prime"
   ]
  },
  {
   "cell_type": "markdown",
   "metadata": {},
   "source": [
    "sireni nejistot: jacobian bude vypadat takto: $R \\cdot \\partial b_i /\\partial \\rm params $"
   ]
  },
  {
   "cell_type": "code",
   "execution_count": 35,
   "metadata": {},
   "outputs": [
    {
     "name": "stdout",
     "output_type": "stream",
     "text": [
      "            0           1    2         3         4    5\n",
      "0    0.667522    0.557122  0.0 -0.000572  0.000572  0.0\n",
      "1    0.597093   -0.004143  0.0  0.000930 -0.000930  0.0\n",
      "2    0.000000    0.000000  1.0  0.000000  0.000000  0.0\n",
      "3   98.409052 -183.702748  0.0  0.691038  0.308962  0.0\n",
      "4 -259.486788  484.392536  0.0  1.003732 -0.003732  0.0\n",
      "5    0.000000    0.000000  0.0  0.000000  0.000000  1.0\n"
     ]
    }
   ],
   "source": [
    "# jacobian\n",
    "# jacob_xyz_xyz_prime = trans_xyz_xyz_prime @ np.array( [ [np.exp(1j*phi_xyz[0]), 0, 0, 1j*beta_xyz[0]* np.exp(1j*phi_xyz[0]), 0, 0],\n",
    "#             [0, np.exp(1j*phi_xyz[1]), 0, 0, 1j*beta_xyz[1]* np.exp(1j*phi_xyz[1]), 0],\n",
    "#             [0, 0, np.exp(1j*phi_xyz[2]), 0, 0, 1j*beta_xyz[2]* np.exp(1j*phi_xyz[2])]\n",
    "#           ] )\n",
    "# jacob_xyz_xyz_prime\n",
    "\n",
    "jacob_xyz_xyz_prime = get_beta_x_y_phi_x_y_prime_jacob(np.array( [beta_xyz[0],beta_xyz[1],beta_xyz[2], phi_xyz[0], phi_xyz[1], phi_xyz[2] ] ))\n",
    "print( DataFrame(jacob_xyz_xyz_prime) )"
   ]
  },
  {
   "cell_type": "code",
   "execution_count": 36,
   "metadata": {},
   "outputs": [
    {
     "name": "stdout",
     "output_type": "stream",
     "text": [
      "              0             1             2         3         4         5\n",
      "0  8.100302e-07 -1.609979e-07  0.000000e+00  0.000015 -0.000210  0.000000\n",
      "1 -1.609979e-07  4.277194e-07  0.000000e+00  0.000086  0.000007  0.000000\n",
      "2  0.000000e+00  0.000000e+00  2.292151e-07  0.000000  0.000000  0.000000\n",
      "3  1.496834e-05  8.627571e-05  0.000000e+00  0.108217 -0.047234  0.000000\n",
      "4 -2.098861e-04  6.556241e-06  0.000000e+00 -0.047234  0.259146  0.000000\n",
      "5  0.000000e+00  0.000000e+00  0.000000e+00  0.000000  0.000000  0.078119\n",
      "              0             1         2         3\n",
      "0  8.100302e-07 -1.609979e-07  0.000015 -0.000210\n",
      "1 -1.609979e-07  4.277194e-07  0.000086  0.000007\n",
      "2  1.496834e-05  8.627571e-05  0.108217 -0.047234\n",
      "3 -2.098861e-04  6.556241e-06 -0.047234  0.259146\n"
     ]
    }
   ],
   "source": [
    "sigma_beta_phi_xy_trans = np.zeros((6,6))\n",
    "\n",
    "sigma_beta_phi_xy_trans[:2,:2] = sigma_beta_phi_xy[:2,:2]\n",
    "sigma_beta_phi_xy_trans[2,2] = beta_xyz_sigma[2]**2\n",
    "sigma_beta_phi_xy_trans[0, 3:5] = sigma_beta_phi_xy[0,2:4]\n",
    "sigma_beta_phi_xy_trans[1, 3:5] = sigma_beta_phi_xy[1,2:4]\n",
    "sigma_beta_phi_xy_trans[3, 3:5] = sigma_beta_phi_xy[2,2:4]\n",
    "sigma_beta_phi_xy_trans[4, 3:5] = sigma_beta_phi_xy[3,2:4]\n",
    "sigma_beta_phi_xy_trans[5,5] = phi_xyz_sigma[2]**2\n",
    "\n",
    "for i in range(6):\n",
    "    for k in range(i):\n",
    "        sigma_beta_phi_xy_trans[i,k] = sigma_beta_phi_xy_trans[k,i]\n",
    "        \n",
    "print( DataFrame(sigma_beta_phi_xy_trans) )\n",
    "print( DataFrame(sigma_beta_phi_xy) )"
   ]
  },
  {
   "cell_type": "code",
   "execution_count": 37,
   "metadata": {},
   "outputs": [],
   "source": [
    "# sireni chyb:\n",
    "sigma_beta_phi_xyz_prime = jacob_xyz_xyz_prime @ sigma_beta_phi_xy_trans @ np.transpose( jacob_xyz_xyz_prime ) "
   ]
  },
  {
   "cell_type": "code",
   "execution_count": 38,
   "metadata": {},
   "outputs": [],
   "source": [
    "beta_xyz_prime_sigma = np.sqrt( np.diag(sigma_beta_phi_xyz_prime)[:3] ) \n",
    "phi_xyz_prime_sigma = np.sqrt(  np.diag(sigma_beta_phi_xyz_prime)[3:6] ) "
   ]
  },
  {
   "cell_type": "code",
   "execution_count": 49,
   "metadata": {},
   "outputs": [
    {
     "name": "stdout",
     "output_type": "stream",
     "text": [
      "[0.00237039 0.00145976 0.00169899]\n",
      "[0.00055008 0.00096829 0.00047876]\n",
      "[ 1.80294439  2.70445616 -0.43432661]\n",
      "[0.22576323 0.61678513 0.27949718]\n"
     ]
    }
   ],
   "source": [
    "print(beta_xyz_prime)\n",
    "print(beta_xyz_prime_sigma)\n",
    "print(phi_xyz_prime)\n",
    "print(phi_xyz_prime_sigma)"
   ]
  },
  {
   "cell_type": "code",
   "execution_count": 50,
   "metadata": {},
   "outputs": [
    {
     "name": "stdout",
     "output_type": "stream",
     "text": [
      "[0.0024539  0.00131455 0.00169899]\n",
      "[ 2.13913353 -2.00207164 -0.43432661]\n"
     ]
    }
   ],
   "source": [
    "print(beta_xyz)\n",
    "print(phi_xyz)"
   ]
  },
  {
   "cell_type": "code",
   "execution_count": 40,
   "metadata": {},
   "outputs": [
    {
     "data": {
      "text/plain": [
       "array([0.22576323, 0.61678513])"
      ]
     },
     "execution_count": 40,
     "metadata": {},
     "output_type": "execute_result"
    }
   ],
   "source": [
    "np.sqrt( np.diag(sigma_beta_phi_xyz_prime)[3:-1])"
   ]
  },
  {
   "cell_type": "code",
   "execution_count": 41,
   "metadata": {},
   "outputs": [
    {
     "data": {
      "text/plain": [
       "array([[ 3.02591553e-07,  1.27167330e-07,  0.00000000e+00,\n",
       "         6.72490347e-06, -7.35547459e-05,  0.00000000e+00],\n",
       "       [ 1.27167330e-07,  9.37586136e-07,  0.00000000e+00,\n",
       "         5.16668460e-05, -3.62664783e-05,  0.00000000e+00],\n",
       "       [ 0.00000000e+00,  0.00000000e+00,  2.29215053e-07,\n",
       "         0.00000000e+00,  0.00000000e+00,  0.00000000e+00],\n",
       "       [ 6.72490347e-06,  5.16668460e-05,  0.00000000e+00,\n",
       "         5.09690356e-02,  1.57971936e-02,  0.00000000e+00],\n",
       "       [-7.35547459e-05, -3.62664783e-05,  0.00000000e+00,\n",
       "         1.57971936e-02,  3.80423901e-01,  0.00000000e+00],\n",
       "       [ 0.00000000e+00,  0.00000000e+00,  0.00000000e+00,\n",
       "         0.00000000e+00,  0.00000000e+00,  7.81186758e-02]])"
      ]
     },
     "execution_count": 41,
     "metadata": {},
     "output_type": "execute_result"
    }
   ],
   "source": [
    "sigma_beta_phi_xyz_prime"
   ]
  },
  {
   "cell_type": "markdown",
   "metadata": {},
   "source": [
    "## sedi, ok, ale neuvazuju korelaci mezi beta_z a phi_z, takze neni to idealka"
   ]
  },
  {
   "cell_type": "markdown",
   "metadata": {},
   "source": [
    "## vypocet elektrickeho pole"
   ]
  },
  {
   "cell_type": "code",
   "execution_count": 45,
   "metadata": {},
   "outputs": [],
   "source": [
    "# dalsi parametry\n",
    "m = 40 * 1.66053904e-27 # calcium mass\n",
    "k_vec = 2*np.pi * 1/(396.847e-9) # wave vector\n",
    "e = 1.60217662e-19 # elem charge"
   ]
  },
  {
   "cell_type": "code",
   "execution_count": 46,
   "metadata": {},
   "outputs": [
    {
     "name": "stdout",
     "output_type": "stream",
     "text": [
      "[2.28934365 1.22639561 1.58505618]\n",
      "[0.8407698  0.61058338 0.44765583]\n"
     ]
    },
    {
     "data": {
      "text/plain": [
       "array([0.83966296, 0.61014613, 0.44665886])"
      ]
     },
     "execution_count": 46,
     "metadata": {},
     "output_type": "execute_result"
    }
   ],
   "source": [
    "# get E-fields\n",
    "E_rf = (m*Omega**2 / (k_vec*e)) * beta_xyz\n",
    "E_rf_sigma = np.sqrt( (beta_xyz_sigma*m*Omega**2 / (k_vec*e))**2 + (2*m*Omega / (k_vec*e) * beta_xyz * Omega_sigma)**2  ) # propagase chyb\n",
    "\n",
    "print(E_rf)\n",
    "print(E_rf_sigma)\n",
    "m*Omega**2/(e*k_vec) * beta_xyz_sigma"
   ]
  },
  {
   "cell_type": "markdown",
   "metadata": {},
   "source": [
    "jak velkou roli hraje nejistota omega?"
   ]
  },
  {
   "cell_type": "code",
   "execution_count": 47,
   "metadata": {},
   "outputs": [
    {
     "data": {
      "text/plain": [
       "array([0.00065953, 0.00035844, 0.00111728])"
      ]
     },
     "execution_count": 47,
     "metadata": {},
     "output_type": "execute_result"
    }
   ],
   "source": [
    "beta_xyz**2 / Omega**2 * Omega_sigma**2 / beta_xyz_sigma**2"
   ]
  },
  {
   "cell_type": "code",
   "execution_count": 48,
   "metadata": {},
   "outputs": [
    {
     "name": "stdout",
     "output_type": "stream",
     "text": [
      "[2.21143856 1.36186638 1.58505618]\n",
      "[0.51488357 0.9037224  0.44765583]\n"
     ]
    }
   ],
   "source": [
    "## v soustave xyz prime:\n",
    "# get E-fields\n",
    "E_rf_prime = (m*Omega**2 / (k_vec*e)) * beta_xyz_prime\n",
    "E_rf_prime_sigma = np.sqrt( (beta_xyz_prime_sigma*m*Omega**2 / (k_vec*e))**2 + (2*m*Omega / (k_vec*e) * beta_xyz_prime * Omega_sigma)**2  ) # propagase chyb\n",
    "\n",
    "print(E_rf_prime)\n",
    "print(E_rf_prime_sigma)"
   ]
  },
  {
   "cell_type": "markdown",
   "metadata": {},
   "source": [
    "vidim, ze desetina procenta prislusi nejistote omega"
   ]
  },
  {
   "cell_type": "markdown",
   "metadata": {},
   "source": [
    "# Odhad freq. posuvu"
   ]
  },
  {
   "cell_type": "markdown",
   "metadata": {},
   "source": [
    "## Doppler shift"
   ]
  },
  {
   "cell_type": "code",
   "execution_count": 54,
   "metadata": {},
   "outputs": [
    {
     "name": "stdout",
     "output_type": "stream",
     "text": [
      "-4.2051793635716444e-21\n"
     ]
    }
   ],
   "source": [
    "c = 299792458 # rychlost svetla\n",
    "\n",
    "doppler_2nd_EMM = - (Omega /(2*c*k_vec))**2 * sum(beta_xyz**2)\n",
    "print(doppler_2nd_EMM)"
   ]
  },
  {
   "cell_type": "markdown",
   "metadata": {},
   "source": [
    "nejistota"
   ]
  },
  {
   "cell_type": "code",
   "execution_count": 55,
   "metadata": {},
   "outputs": [
    {
     "name": "stdout",
     "output_type": "stream",
     "text": [
      "              0             1             2             3\n",
      "0  3.161086e+12  0.000000e+00  0.000000e+00  0.000000e+00\n",
      "1  0.000000e+00  8.100302e-07 -1.609979e-07  0.000000e+00\n",
      "2  0.000000e+00 -1.609979e-07  4.277194e-07  0.000000e+00\n",
      "3  0.000000e+00  0.000000e+00  0.000000e+00  2.292151e-07\n"
     ]
    },
    {
     "data": {
      "text/html": [
       "<div>\n",
       "<style scoped>\n",
       "    .dataframe tbody tr th:only-of-type {\n",
       "        vertical-align: middle;\n",
       "    }\n",
       "\n",
       "    .dataframe tbody tr th {\n",
       "        vertical-align: top;\n",
       "    }\n",
       "\n",
       "    .dataframe thead th {\n",
       "        text-align: right;\n",
       "    }\n",
       "</style>\n",
       "<table border=\"1\" class=\"dataframe\">\n",
       "  <thead>\n",
       "    <tr style=\"text-align: right;\">\n",
       "      <th></th>\n",
       "      <th>0</th>\n",
       "      <th>1</th>\n",
       "      <th>2</th>\n",
       "      <th>3</th>\n",
       "    </tr>\n",
       "  </thead>\n",
       "  <tbody>\n",
       "    <tr>\n",
       "      <td>0</td>\n",
       "      <td>8.100302e-07</td>\n",
       "      <td>-1.609979e-07</td>\n",
       "      <td>0.000015</td>\n",
       "      <td>-0.000210</td>\n",
       "    </tr>\n",
       "    <tr>\n",
       "      <td>1</td>\n",
       "      <td>-1.609979e-07</td>\n",
       "      <td>4.277194e-07</td>\n",
       "      <td>0.000086</td>\n",
       "      <td>0.000007</td>\n",
       "    </tr>\n",
       "    <tr>\n",
       "      <td>2</td>\n",
       "      <td>1.496834e-05</td>\n",
       "      <td>8.627571e-05</td>\n",
       "      <td>0.108217</td>\n",
       "      <td>-0.047234</td>\n",
       "    </tr>\n",
       "    <tr>\n",
       "      <td>3</td>\n",
       "      <td>-2.098861e-04</td>\n",
       "      <td>6.556241e-06</td>\n",
       "      <td>-0.047234</td>\n",
       "      <td>0.259146</td>\n",
       "    </tr>\n",
       "  </tbody>\n",
       "</table>\n",
       "</div>"
      ],
      "text/plain": [
       "              0             1         2         3\n",
       "0  8.100302e-07 -1.609979e-07  0.000015 -0.000210\n",
       "1 -1.609979e-07  4.277194e-07  0.000086  0.000007\n",
       "2  1.496834e-05  8.627571e-05  0.108217 -0.047234\n",
       "3 -2.098861e-04  6.556241e-06 -0.047234  0.259146"
      ]
     },
     "execution_count": 55,
     "metadata": {},
     "output_type": "execute_result"
    }
   ],
   "source": [
    "jacob_doppler_EMM = - Omega/(2*c**2 * k_vec**2) * np.array( [sum(beta_xyz**2), Omega * beta_xyz[0], \n",
    "                                                             Omega* beta_xyz[1], Omega* beta_xyz[2]] )\n",
    "sigma_doppler_EMM_propagation = np.zeros((4,4))\n",
    "sigma_doppler_EMM_propagation[0,0] = Omega_sigma**2\n",
    "sigma_doppler_EMM_propagation[1,1:3] = sigma_beta_phi_xy[0,:2]\n",
    "sigma_doppler_EMM_propagation[2,1:3] = sigma_beta_phi_xy[1,:2]\n",
    "sigma_doppler_EMM_propagation[3,3] = beta_xyz_sigma[2]**2\n",
    "\n",
    "DataFrame(jacob_doppler_EMM)\n",
    "print( DataFrame(sigma_doppler_EMM_propagation) )\n",
    "DataFrame(sigma_beta_phi_xy)"
   ]
  },
  {
   "cell_type": "code",
   "execution_count": 56,
   "metadata": {},
   "outputs": [
    {
     "data": {
      "text/plain": [
       "1.81175320552997e-21"
      ]
     },
     "execution_count": 56,
     "metadata": {},
     "output_type": "execute_result"
    }
   ],
   "source": [
    "doppler_2nd_EMM_sigma = np.sqrt( jacob_doppler_EMM @ sigma_doppler_EMM_propagation @ np.transpose(jacob_doppler_EMM) )\n",
    "doppler_2nd_EMM_sigma"
   ]
  },
  {
   "cell_type": "code",
   "execution_count": 59,
   "metadata": {},
   "outputs": [
    {
     "name": "stdout",
     "output_type": "stream",
     "text": [
      "-2.8909638228987856e-18\n",
      "2.8909638228987856e-18\n"
     ]
    }
   ],
   "source": [
    "## prispevek sekularniho pohybu a IMM\n",
    "k_B = 1.38064852e-23\n",
    "T_d = 0.5e-3 # teplota iontu\n",
    "T_sigma = T_d # nejistota teploty\n",
    "\n",
    "doppler_2nd_sec_IMM = - 5/2 * k_B /(m*c**2) * T_d\n",
    "doppler_2nd_sec_IMM_sigma = 5/2 * k_B /(m*c**2) * T_sigma\n",
    "\n",
    "print(doppler_2nd_sec_IMM)\n",
    "print(doppler_2nd_sec_IMM_sigma)"
   ]
  },
  {
   "cell_type": "code",
   "execution_count": 60,
   "metadata": {},
   "outputs": [
    {
     "name": "stdout",
     "output_type": "stream",
     "text": [
      "-2.895169002262357e-18\n",
      "2.8909643906072657e-18\n"
     ]
    }
   ],
   "source": [
    "# celkovy doppler shift\n",
    "doppler_2nd = doppler_2nd_EMM + doppler_2nd_sec_IMM\n",
    "doppler_2nd_sigma = np.sqrt( doppler_2nd_EMM_sigma**2 + doppler_2nd_sec_IMM_sigma**2 )\n",
    "\n",
    "print(doppler_2nd)\n",
    "print(doppler_2nd_sigma)"
   ]
  },
  {
   "cell_type": "markdown",
   "metadata": {},
   "source": [
    "## Stark shift"
   ]
  },
  {
   "cell_type": "code",
   "execution_count": 65,
   "metadata": {},
   "outputs": [
    {
     "name": "stdout",
     "output_type": "stream",
     "text": [
      "6.175759969086883e-21\n"
     ]
    }
   ],
   "source": [
    "alpha = -7.2677e-40\n",
    "alpha_sigma = 0.0021e-40\n",
    "h = 6.62607004e-34\n",
    "f_0 = 411042129776401.7\n",
    "f_0_sigma = 1.1\n",
    "\n",
    "stark_2nd_EMM = -0.5 * alpha * m**2 * Omega**4 / ( h * f_0 * 2*e**2 * k_vec**2) * sum(beta_xyz**2)\n",
    "print(stark_2nd_EMM)"
   ]
  },
  {
   "cell_type": "code",
   "execution_count": 69,
   "metadata": {},
   "outputs": [
    {
     "name": "stdout",
     "output_type": "stream",
     "text": [
      "              0             1             2             3             4     5\n",
      "0  3.161086e+12  0.000000e+00  0.000000e+00  0.000000e+00  0.000000e+00  0.00\n",
      "1  0.000000e+00  8.100302e-07 -1.609979e-07  0.000000e+00  0.000000e+00  0.00\n",
      "2  0.000000e+00 -1.609979e-07  4.277194e-07  0.000000e+00  0.000000e+00  0.00\n",
      "3  0.000000e+00  0.000000e+00  0.000000e+00  2.292151e-07  0.000000e+00  0.00\n",
      "4  0.000000e+00  0.000000e+00  0.000000e+00  0.000000e+00  4.410000e-86  0.00\n",
      "5  0.000000e+00  0.000000e+00  0.000000e+00  0.000000e+00  0.000000e+00  1.21\n"
     ]
    },
    {
     "data": {
      "text/html": [
       "<div>\n",
       "<style scoped>\n",
       "    .dataframe tbody tr th:only-of-type {\n",
       "        vertical-align: middle;\n",
       "    }\n",
       "\n",
       "    .dataframe tbody tr th {\n",
       "        vertical-align: top;\n",
       "    }\n",
       "\n",
       "    .dataframe thead th {\n",
       "        text-align: right;\n",
       "    }\n",
       "</style>\n",
       "<table border=\"1\" class=\"dataframe\">\n",
       "  <thead>\n",
       "    <tr style=\"text-align: right;\">\n",
       "      <th></th>\n",
       "      <th>0</th>\n",
       "      <th>1</th>\n",
       "      <th>2</th>\n",
       "      <th>3</th>\n",
       "    </tr>\n",
       "  </thead>\n",
       "  <tbody>\n",
       "    <tr>\n",
       "      <td>0</td>\n",
       "      <td>8.100302e-07</td>\n",
       "      <td>-1.609979e-07</td>\n",
       "      <td>0.000015</td>\n",
       "      <td>-0.000210</td>\n",
       "    </tr>\n",
       "    <tr>\n",
       "      <td>1</td>\n",
       "      <td>-1.609979e-07</td>\n",
       "      <td>4.277194e-07</td>\n",
       "      <td>0.000086</td>\n",
       "      <td>0.000007</td>\n",
       "    </tr>\n",
       "    <tr>\n",
       "      <td>2</td>\n",
       "      <td>1.496834e-05</td>\n",
       "      <td>8.627571e-05</td>\n",
       "      <td>0.108217</td>\n",
       "      <td>-0.047234</td>\n",
       "    </tr>\n",
       "    <tr>\n",
       "      <td>3</td>\n",
       "      <td>-2.098861e-04</td>\n",
       "      <td>6.556241e-06</td>\n",
       "      <td>-0.047234</td>\n",
       "      <td>0.259146</td>\n",
       "    </tr>\n",
       "  </tbody>\n",
       "</table>\n",
       "</div>"
      ],
      "text/plain": [
       "              0             1         2         3\n",
       "0  8.100302e-07 -1.609979e-07  0.000015 -0.000210\n",
       "1 -1.609979e-07  4.277194e-07  0.000086  0.000007\n",
       "2  1.496834e-05  8.627571e-05  0.108217 -0.047234\n",
       "3 -2.098861e-04  6.556241e-06 -0.047234  0.259146"
      ]
     },
     "execution_count": 69,
     "metadata": {},
     "output_type": "execute_result"
    }
   ],
   "source": [
    "## nejistota:\n",
    "jacob_stark_EMM = m**2 * Omega**3 /(e**2 *h *k_vec**2 * f_0) * np.array( [-alpha *sum(beta_xyz**2), -0.5*alpha * Omega * beta_xyz[0],\n",
    "                                                                          -0.5*alpha * Omega * beta_xyz[1],  -0.5*alpha * Omega * beta_xyz[2],\n",
    "                                                                         -Omega/4 * sum(beta_xyz**2), alpha * Omega * sum(beta_xyz**2)/ (4*f_0) ] )\n",
    "\n",
    "# paramtry: omega, beta_x, beta_y, beta_z, alpha, f_0\n",
    "\n",
    "sigma_stark_EMM_propagation = np.zeros((6,6))\n",
    "sigma_stark_EMM_propagation[0,0] = Omega_sigma**2\n",
    "sigma_stark_EMM_propagation[1,1:3] = sigma_beta_phi_xy[0,:2]\n",
    "sigma_stark_EMM_propagation[2,1:3] = sigma_beta_phi_xy[1,:2]\n",
    "sigma_stark_EMM_propagation[3,3] = beta_xyz_sigma[2]**2\n",
    "sigma_stark_EMM_propagation[4,4] = alpha_sigma**2\n",
    "sigma_stark_EMM_propagation[5,5] = f_0_sigma**2\n",
    "\n",
    "DataFrame(jacob_stark_EMM)\n",
    "print( DataFrame(sigma_stark_EMM_propagation) )\n",
    "DataFrame(sigma_beta_phi_xy)"
   ]
  },
  {
   "cell_type": "code",
   "execution_count": 74,
   "metadata": {},
   "outputs": [
    {
     "data": {
      "text/plain": [
       "2.668375367408088e-21"
      ]
     },
     "execution_count": 74,
     "metadata": {},
     "output_type": "execute_result"
    }
   ],
   "source": [
    "# sedi s mathematikou\n",
    "stark_2nd_EMM_sigma = np.sqrt( jacob_stark_EMM @ sigma_stark_EMM_propagation @ np.transpose(jacob_stark_EMM) )\n",
    "stark_2nd_EMM_sigma"
   ]
  },
  {
   "cell_type": "code",
   "execution_count": 75,
   "metadata": {},
   "outputs": [
    {
     "data": {
      "text/plain": [
       "1.6982770156441172e-18"
      ]
     },
     "execution_count": 75,
     "metadata": {},
     "output_type": "execute_result"
    }
   ],
   "source": [
    "## prispevek sekularniho pohybu a IMM\n",
    "stark_2nd_sec_IMM = -0.5 * alpha * m * Omega**2 / (h*f_0 * e**2) * 2 * k_B * T_d\n",
    "stark_2nd_sec_IMM"
   ]
  },
  {
   "cell_type": "code",
   "execution_count": 77,
   "metadata": {},
   "outputs": [
    {
     "data": {
      "text/plain": [
       "1.6985784037233093e-18"
      ]
     },
     "execution_count": 77,
     "metadata": {},
     "output_type": "execute_result"
    }
   ],
   "source": [
    "jacob_stark_sec_IMM = (m*k_B*Omega)/(e**2 *h * f_0) * np.array([-2*T_d * alpha, -T_d*Omega, T_d*Omega * alpha / f_0, -alpha*Omega])\n",
    "\n",
    "#parametry: omega, alpha, f_0, T\n",
    "sigma_stark_sec_IMM_propagation = np.zeros((4,4) )\n",
    "sigma_stark_sec_IMM_propagation[0,0] = Omega_sigma**2\n",
    "sigma_stark_sec_IMM_propagation[1,1] = alpha_sigma**2\n",
    "sigma_stark_sec_IMM_propagation[2,2] = f_0_sigma**2\n",
    "sigma_stark_sec_IMM_propagation[3,3] = T_sigma **2\n",
    "\n",
    "stark_2nd_sec_IMM_sigma = np.sqrt( jacob_stark_sec_IMM @ sigma_stark_sec_IMM_propagation @ np.transpose(jacob_stark_sec_IMM) )\n",
    "stark_2nd_sec_IMM_sigma"
   ]
  },
  {
   "cell_type": "code",
   "execution_count": 78,
   "metadata": {},
   "outputs": [
    {
     "name": "stdout",
     "output_type": "stream",
     "text": [
      "1.704452775613204e-18\n",
      "1.6985804996591497e-18\n"
     ]
    }
   ],
   "source": [
    "# celkovy stark shift\n",
    "stark_2nd = stark_2nd_EMM + stark_2nd_sec_IMM\n",
    "stark_2nd_sigma = np.sqrt( stark_2nd_EMM_sigma**2 + stark_2nd_sec_IMM_sigma**2 )\n",
    "\n",
    "print(stark_2nd)\n",
    "print(stark_2nd_sigma)"
   ]
  },
  {
   "cell_type": "markdown",
   "metadata": {},
   "source": [
    "## kombinace obou shiftu"
   ]
  },
  {
   "cell_type": "code",
   "execution_count": 79,
   "metadata": {},
   "outputs": [
    {
     "name": "stdout",
     "output_type": "stream",
     "text": [
      "-1.190716226649153e-18\n",
      "3.353036060286493e-18\n",
      "1.9705806055152382e-21\n",
      "3.225318089605794e-21\n"
     ]
    }
   ],
   "source": [
    "motional_shift = stark_2nd + doppler_2nd\n",
    "motional_shift_sigma = np.sqrt(stark_2nd_sigma**2 + doppler_2nd_sigma**2)\n",
    "\n",
    "motional_shift_EMM = stark_2nd_EMM + doppler_2nd_EMM\n",
    "motional_shift_EMM_sigma = np.sqrt(stark_2nd_EMM_sigma**2 + doppler_2nd_EMM_sigma**2)\n",
    "\n",
    "print(motional_shift)\n",
    "print(motional_shift_sigma)\n",
    "\n",
    "print(motional_shift_EMM)\n",
    "print(motional_shift_EMM_sigma)"
   ]
  },
  {
   "cell_type": "code",
   "execution_count": null,
   "metadata": {},
   "outputs": [],
   "source": []
  }
 ],
 "metadata": {
  "kernelspec": {
   "display_name": "Python 3",
   "language": "python",
   "name": "python3"
  },
  "language_info": {
   "codemirror_mode": {
    "name": "ipython",
    "version": 3
   },
   "file_extension": ".py",
   "mimetype": "text/x-python",
   "name": "python",
   "nbconvert_exporter": "python",
   "pygments_lexer": "ipython3",
   "version": "3.7.4"
  }
 },
 "nbformat": 4,
 "nbformat_minor": 4
}
