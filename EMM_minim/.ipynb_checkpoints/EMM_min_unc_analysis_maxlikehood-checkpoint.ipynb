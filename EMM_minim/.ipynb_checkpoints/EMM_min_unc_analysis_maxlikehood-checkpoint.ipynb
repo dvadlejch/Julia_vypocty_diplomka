{
 "cells": [
  {
   "cell_type": "markdown",
   "metadata": {},
   "source": [
    "# Analyza nejistot minimalizace EMM"
   ]
  },
  {
   "cell_type": "code",
   "execution_count": 1,
   "metadata": {},
   "outputs": [],
   "source": [
    "# Setup some Jupyter env features\n",
    "%load_ext autoreload\n",
    "%autoreload 2\n",
    "%matplotlib inline\n",
    "\n",
    "from pandas import DataFrame"
   ]
  },
  {
   "cell_type": "markdown",
   "metadata": {},
   "source": [
    "Nejprve načtu histogramy odpovídající jednotlivým měřením"
   ]
  },
  {
   "cell_type": "code",
   "execution_count": 42,
   "metadata": {},
   "outputs": [
    {
     "data": {
      "text/plain": [
       "array([313002., 293578.])"
      ]
     },
     "execution_count": 42,
     "metadata": {},
     "output_type": "execute_result"
    }
   ],
   "source": [
    "import numpy as np\n",
    "\n",
    "\n",
    "# fotkor_z = np.genfromtxt(\"axial_EMM_10_03_2020_part2_delim.txt\", delimiter=\"\\t\")[:,1]\n",
    "# voltages_z = np.genfromtxt(\"axial_EMM_10_03_2020_part2_voltages.txt\", delimiter=\"\\t\")[1,:]\n",
    "# fotkor_xz = np.genfromtxt(\"sikmy_EMM_10_03_2020_part1_delim.txt\", delimiter=\"\\t\")[:,5]\n",
    "# voltages_xz = np.genfromtxt(\"sikmy_EMM_10_03_2020_part1_voltages.txt\", delimiter=\"\\t\")[5,:]\n",
    "\n",
    "# nacteni dat pouze v minimu EMM\n",
    "fotkor_z = np.genfromtxt(\"03_05_20_EMM_min_z_final_delim.txt\", delimiter=\"\\t\")[:,0]\n",
    "voltages_z = np.genfromtxt(\"03_05_20_EMM_min_z_final_voltages.txt\", delimiter=\"\\t\")[0,:]\n",
    "fotkor_xz = np.genfromtxt(\"03_05_20_EMM_min_xz_multiple_delim.txt\", delimiter=\"\\t\")[:,6]\n",
    "voltages_xz = np.genfromtxt(\"03_05_20_EMM_min_xz_multiple_voltages.txt\", delimiter=\"\\t\")[6,:]\n",
    "\n",
    "# print(voltages_z)\n",
    "# print(voltages_xz)\n",
    "\n",
    "# pomocne promene\n",
    "fotkor_z_shape = np.shape(fotkor_z)\n",
    "fotkor_xz_shape = np.shape(fotkor_xz)\n",
    "# dale predpokladam, ze signaly maji stejny pocet binu\n",
    "# fotkor_shape = np.array( [fotkor_z_shape, fotkor_xz_shape] )\n",
    "\n",
    "# parametry odecitani foton-korelacnich dat\n",
    "t_res = 256e-12  # casove rozliseni histogramu v s\n",
    "t_measure = [100, 85] # doba nacitani dat v s\n",
    "\n",
    "# casova skala foton-kor. dat\n",
    "t_scale_z = np.array( range(0,fotkor_z_shape[0]) ) *t_res\n",
    "t_scale_xz = np.array( range(0,fotkor_xz_shape[0]) ) *t_res\n",
    "\n",
    "t_scale = t_scale_z\n",
    "\n",
    "background_photocounts = [190, 130] # ph/s  tyto fotony jsou rovnomerne rozdeleny v prubehu RF periody\n",
    "\n",
    "#---------- odecet pozadi v ose z\n",
    "bg_ph_sum = background_photocounts[0] * t_measure[0]  # celkovy pocet fotonu pozadi za cas mereni\n",
    "\n",
    "last_bin_ratio_z = fotkor_z[fotkor_z_shape[0]-2] / fotkor_z[fotkor_z_shape[0]-3]  # pomer mezi county v poslednim/predposlednim binu\n",
    "bg_ph_per_bin_z = bg_ph_sum/(fotkor_z_shape[0]-2 + last_bin_ratio_z)\n",
    "\n",
    "fotkor_z[:fotkor_z_shape[0]-2] = fotkor_z[:fotkor_z_shape[0]-2] - bg_ph_per_bin_z \n",
    "fotkor_z[fotkor_z_shape[0]-2] = fotkor_z[fotkor_z_shape[0]-2] - bg_ph_per_bin_z * last_bin_ratio_z\n",
    "#--------------------\n",
    "#--------- odecet pozadi v ose xz\n",
    "bg_ph_sum = background_photocounts[1] * t_measure[1]  # celkovy pocet fotonu pozadi za cas mereni\n",
    "last_bin_ratio_xz = fotkor_xz[fotkor_xz_shape[0]-2] / fotkor_xz[fotkor_xz_shape[0]-3]  # pomer mezi county v poslednim/predposlednim binu\n",
    "bg_ph_per_bin_xz = bg_ph_sum/(fotkor_xz_shape[0]-2 + last_bin_ratio_xz)\n",
    "\n",
    "fotkor_xz[:fotkor_xz_shape[0]-2] = fotkor_xz[:fotkor_xz_shape[0]-2] - bg_ph_per_bin_xz \n",
    "fotkor_xz[fotkor_xz_shape[0]-2] = fotkor_xz[fotkor_xz_shape[0]-2] - bg_ph_per_bin_xz * last_bin_ratio_xz\n",
    "# ------------------------------\n",
    "#----------- odecet pozadi v ose xy\n",
    "\n",
    "#----------------------------------\n",
    "\n",
    "# vlozim signaly a voltage do matic\n",
    "fotkor = np.transpose( np.array( [fotkor_z, fotkor_xz] ) ) # tvar: [data, osa]\n",
    "voltages = np.transpose( np.array( [voltages_z, voltages_xz] ) ) # tvar: [data, osa]\n",
    "\n",
    "fotkor_shape = np.shape(fotkor)\n",
    "\n",
    "# celkovy pocet detekovanych fotonu\n",
    "photon_sum = np.sum(fotkor, axis=0)\n",
    "photon_sum"
   ]
  },
  {
   "cell_type": "code",
   "execution_count": 43,
   "metadata": {},
   "outputs": [
    {
     "name": "stdout",
     "output_type": "stream",
     "text": [
      "30036150.75204228\n",
      "30037521.471918117\n",
      "30036836.111980196\n",
      "230966.15040694075\n"
     ]
    }
   ],
   "source": [
    "# odhad periody triggeru\n",
    "Omega = np.zeros(fotkor_shape[1])\n",
    "Omega_sigma = np.zeros(fotkor_shape[1])\n",
    "\n",
    "for i in range(fotkor_shape[1]):\n",
    "    T_trig = ( fotkor[fotkor_shape[0]-2,i] / fotkor[fotkor_shape[0]-3,i] )* t_res + t_scale[fotkor_shape[0]-2]\n",
    "    T_trig_sigma = t_res\n",
    "    # frekvence buzeni pasti\n",
    "\n",
    "    drive_freq = 1/T_trig\n",
    "    drive_freq_sigma = 1/T_trig**2 *T_trig_sigma\n",
    "    Omega[i] = 2*np.pi * drive_freq\n",
    "    Omega_sigma[i] = 2*np.pi * drive_freq_sigma\n",
    "    print(drive_freq)\n",
    "    \n",
    "Omega = np.mean(Omega)\n",
    "Omega_sigma = np.sqrt(0.5*np.sum(Omega_sigma**2) )\n",
    "\n",
    "print(Omega/(2*np.pi))\n",
    "print(Omega_sigma/(2*np.pi))"
   ]
  },
  {
   "cell_type": "markdown",
   "metadata": {},
   "source": [
    "Fitovani histogramu"
   ]
  },
  {
   "cell_type": "code",
   "execution_count": 44,
   "metadata": {},
   "outputs": [],
   "source": [
    "# residua vcetne vah\n",
    "def likehood_transform(x, Omega, S, time_step, sigma):\n",
    "    # definuju funkci vracejici logaritmus pravdepodobnosti, ze z distrubuce dane sinusovkou, co fituji vyberu pozorovane body\n",
    "    # predpokladam, ze kazdy bod je normalne rozdelen kolem sinusovky\n",
    "    \n",
    "    len_S = len(S)\n",
    "    #print(len_S)\n",
    "    S_fit = x[0]*( 1 + x[1] * np.cos( Omega * time_step * np.arange(0, len_S) + x[2] ) )\n",
    "    \n",
    "    sum_term = ( (S - S_fit )/sigma )**2\n",
    "    log_term = np.log( np.ones(len_S) * sigma * np.sqrt(2*np.pi) )\n",
    "    \n",
    "    return( 0.5* np.sum( sum_term ) + np.sum(log_term) ) # vraci -log( likehood)\n",
    "\n",
    "def likehood_transform_jac(x, Omega, S, time_step, sigma):\n",
    "    # vektor jacob. likehood fce\n",
    "    len_S = len(S)\n",
    "    sum_term0 = 2/sigma**2 * (1 + x[1]*np.cos( Omega * time_step * np.arange(0, len_S) + x[2] ) ) *( x[0]*x[1] * np.cos( Omega * time_step * np.arange(0, len_S) + x[2] ) + x[0] - S)\n",
    "    \n",
    "    sum_term1 = 2/sigma**2 * x[0]*np.cos( Omega * time_step * np.arange(0, len_S) + x[2] )*( x[0]*x[1] * np.cos( Omega * time_step * np.arange(0, len_S) + x[2] ) + x[0] - S)\n",
    "        \n",
    "    sum_term2 = (-2/sigma**2) * x[0] * x[1] * ( x[0] * x[1] * np.cos( Omega * time_step * np.arange(0, len_S) + x[2] ) + x[0] - S)*np.sin( Omega * time_step * np.arange(0, len_S) + x[2] )\n",
    "        \n",
    "    return( 0.5 * np.array( [np.sum(sum_term0), np.sum(sum_term1), np.sum(sum_term2)] ) )\n",
    "\n",
    "def likehood_transform_sigma(x, Omega, S, time_step):\n",
    "    # definuju funkci vracejici logaritmus pravdepodobnosti, ze z distrubuce dane sinusovkou, co fituji vyberu pozorovane body\n",
    "    # predpokladam, ze kazdy bod je normalne rozdelen kolem sinusovky\n",
    "    \n",
    "    len_S = len(S)\n",
    "    #print(len_S)\n",
    "    S_fit = x[0]*( 1 + x[1] * np.cos( Omega * time_step * np.arange(0, len_S) + x[2] ) )\n",
    "    \n",
    "    sum_term = ( (S - S_fit )/x[3] )**2\n",
    "    log_term = np.log( np.ones(len_S) * x[3] * np.sqrt(2*np.pi) )\n",
    "    \n",
    "    return( 0.5* np.sum( sum_term ) + np.sum(log_term) ) # vraci -log( likehood)\n",
    "\n",
    "def fit_func(x, Omega, time_points):\n",
    "    return x[0] + x[1] * np.cos(Omega * time_points + x[2])"
   ]
  },
  {
   "cell_type": "code",
   "execution_count": 51,
   "metadata": {},
   "outputs": [
    {
     "name": "stdout",
     "output_type": "stream",
     "text": [
      "      fun: 679.7746688001598\n",
      " hess_inv: array([[1.98848997e+01, 1.11753054e-04, 1.60954054e-03],\n",
      "       [1.11753054e-04, 6.94552798e-06, 3.55229398e-06],\n",
      "       [1.60954054e-03, 3.55229398e-06, 3.31489381e-02]])\n",
      "      jac: array([ 1.12633153e-10, -1.63283207e-07,  7.27061722e-09])\n",
      "  message: 'Desired error not necessarily achieved due to precision loss.'\n",
      "     nfev: 18\n",
      "      nit: 13\n",
      "     njev: 17\n",
      "   status: 2\n",
      "  success: False\n",
      "        x: array([ 2.40674011e+03, -1.43219714e-02,  2.00888077e+00])\n",
      "\n",
      "\n",
      "      fun: 679.7746688001598\n",
      " hess_inv: array([[ 1.98865806e+01, -1.10136192e-04,  3.61008455e-04],\n",
      "       [-1.10136192e-04,  6.84947057e-06,  2.32327362e-07],\n",
      "       [ 3.61008455e-04,  2.32327362e-07,  3.34882364e-02]])\n",
      "      jac: array([-1.28970871e-09,  1.96506889e-07, -2.17763585e-10])\n",
      "  message: 'Desired error not necessarily achieved due to precision loss.'\n",
      "     nfev: 19\n",
      "      nit: 14\n",
      "     njev: 18\n",
      "   status: 2\n",
      "  success: False\n",
      "        x: array([ 2.40674011e+03,  1.43219714e-02, -1.13271188e+00])\n",
      "\n",
      "\n",
      "      fun: 699.9551422654241\n",
      " hess_inv: array([[ 1.86508225e+01,  6.74771592e-05,  3.59767961e-03],\n",
      "       [ 6.74771592e-05,  7.34315983e-06, -5.87590227e-06],\n",
      "       [ 3.59767961e-03, -5.87590227e-06,  1.55068604e-01]])\n",
      "      jac: array([ 1.49763997e-09, -5.73616660e-07, -1.19551697e-08])\n",
      "  message: 'Desired error not necessarily achieved due to precision loss.'\n",
      "     nfev: 19\n",
      "      nit: 13\n",
      "     njev: 18\n",
      "   status: 2\n",
      "  success: False\n",
      "        x: array([ 2.25748011e+03, -6.81932289e-03,  9.23003451e-01])\n",
      "\n",
      "\n",
      "      fun: 699.9551422654241\n",
      " hess_inv: array([[ 1.84511926e+01, -5.96117389e-05, -4.72268573e-03],\n",
      "       [-5.96117389e-05,  7.10934491e-06,  2.74853879e-06],\n",
      "       [-4.72268573e-03,  2.74853879e-06,  1.57248619e-01]])\n",
      "      jac: array([2.10579158e-11, 6.88743285e-09, 4.10945722e-10])\n",
      "  message: 'Desired error not necessarily achieved due to precision loss.'\n",
      "     nfev: 19\n",
      "      nit: 15\n",
      "     njev: 18\n",
      "   status: 2\n",
      "  success: False\n",
      "        x: array([ 2.25748011e+03,  6.81932288e-03, -2.21858920e+00])\n",
      "\n",
      "\n"
     ]
    }
   ],
   "source": [
    "from scipy.optimize import minimize\n",
    "# cyklus fitujici vsechny foton-korelacni data\n",
    "\n",
    "x = np.zeros( (3,fotkor_shape[1]) )\n",
    "DeltaS_S_ratio = []\n",
    "sigmas = np.zeros((3,fotkor_shape[1]))\n",
    "Delta_S_S_ratio_sigma = []\n",
    "fot_phi = []\n",
    "fot_phi_sigma = []\n",
    "\n",
    "hist_sigma = 0.09088658 * np.sqrt( photon_sum ) # sigma binu jednotlivych fotkor-signalu\n",
    "\n",
    "for i in range(fotkor_shape[1]):\n",
    "    \n",
    "    # -----\n",
    "    #podminky urcujici prijimuti reseni\n",
    "    max_phi_unc = 0.9\n",
    "    phi0 = 1.8\n",
    "    \n",
    "    #--- zde budu zkouset postupne ruzne pocatecni body tak, aby minimalizace vybrala globalni minimum\n",
    "    x0 = [fotkor[:fotkor_shape[0]-2,i].mean(), 0.5* ( fotkor[:fotkor_shape[0]-2,i].max()\n",
    "    -fotkor[:fotkor_shape[0]-2,i].min() )/fotkor[:fotkor_shape[0]-2,i].mean(), phi0]\n",
    "#     x0 = [fotkor[:fotkor_shape[0]-2,i].mean(), 0.5* ( fotkor[:fotkor_shape[0]-2,i].max()\n",
    "#         -fotkor[:fotkor_shape[0]-2,i].min() )/fotkor[:fotkor_shape[0]-2,i].mean(), phi0, 100]\n",
    "#     fit = minimize(likehood_transform, x0, args=(Omega, fotkor[:fotkor_shape[0]-2,i], t_res, hist_sigma[i] ), tol=1e-10 )\n",
    "    fit = minimize(likehood_transform, x0, args=(Omega, fotkor[:fotkor_shape[0]-2,i], t_res, hist_sigma[i] ), tol=1e-10,\n",
    "                  jac=likehood_transform_jac)\n",
    "#     fit = minimize(likehood_transform_sigma, x0, args=(Omega, fotkor[:fotkor_shape[0]-2,i], t_res), tol=1e-10)\n",
    "    print(fit)\n",
    "    print('\\n')\n",
    "    if ( np.sqrt(fit.hess_inv[2,2]) > max_phi_unc ) or (fit.x[1] < 0):\n",
    "        x0 = [fotkor[:fotkor_shape[0]-2,i].mean(), 0.5* ( fotkor[:fotkor_shape[0]-2,i].max()\n",
    "        -fotkor[:fotkor_shape[0]-2,i].min() )/fotkor[:fotkor_shape[0]-2,i].mean(), -phi0]\n",
    "#         x0 = [fotkor[:fotkor_shape[0]-2,i].mean(), 0.5* ( fotkor[:fotkor_shape[0]-2,i].max()\n",
    "#             -fotkor[:fotkor_shape[0]-2,i].min() )/fotkor[:fotkor_shape[0]-2,i].mean(), -phi0, 100]\n",
    "        fit = minimize(likehood_transform, x0, args=(Omega, fotkor[:fotkor_shape[0]-2,i], t_res, hist_sigma[i] ), tol=1e-10 ,\n",
    "                      jac=likehood_transform_jac)\n",
    "#         fit = minimize(likehood_transform_sigma, x0, args=(Omega, fotkor[:fotkor_shape[0]-2,i], t_res), tol=1e-10)\n",
    "        print(fit)\n",
    "        print('\\n')\n",
    "        \n",
    "    #---- odhad nejistot parametru----\n",
    "#     C = fit.hess_inv  # variancni-kovariancni matice\n",
    "    C = fit.hess_inv\n",
    "    #------------------------------- \n",
    "    x[:,i] = fit.x\n",
    "    sigmas[:,i] = np.sqrt( np.diagonal(C) )\n",
    "    DeltaS_S_ratio.append(x[1,i]  )\n",
    "    \n",
    "    #---- faze fot-kor signalu\n",
    "    fot_phi.append( np.angle(DeltaS_S_ratio[i]*np.exp(1j*x[2,i])) )\n",
    "    \n",
    "    #---- sigma delta s ku s\n",
    "    Delta_S_S_ratio_sigma.append(np.sqrt( C[1,1]) )\n",
    "    \n",
    "    #---- sigma fot_phi\n",
    "    fot_phi_sigma.append(np.sqrt(C[2,2]))\n",
    "    \n",
    "    \n",
    "S_0 = x[0,:]  # parametry S_0\n",
    "DeltaS = x[1,:] * S_0 # delta S"
   ]
  },
  {
   "cell_type": "code",
   "execution_count": 53,
   "metadata": {},
   "outputs": [
    {
     "name": "stdout",
     "output_type": "stream",
     "text": [
      "[0.014321971390548301, 0.006819322883127832]\n",
      "[0.0026171493220662695, 0.002666335484122352]\n",
      "[-1.1327118832949652, -2.2185892009092125]\n",
      "[0.1829979136257552, 0.3965458593784433]\n"
     ]
    }
   ],
   "source": [
    "print(DeltaS_S_ratio)\n",
    "print(Delta_S_S_ratio_sigma)\n",
    "print(fot_phi)\n",
    "print(fot_phi_sigma)"
   ]
  },
  {
   "cell_type": "code",
   "execution_count": 54,
   "metadata": {},
   "outputs": [
    {
     "data": {
      "text/plain": [
       "array([50.8479347 , 49.24492896])"
      ]
     },
     "execution_count": 54,
     "metadata": {},
     "output_type": "execute_result"
    }
   ],
   "source": [
    "hist_sigma"
   ]
  },
  {
   "cell_type": "markdown",
   "metadata": {},
   "source": [
    "priblizne odpovida random samplingu -> vizualni kontrola"
   ]
  },
  {
   "cell_type": "code",
   "execution_count": 55,
   "metadata": {},
   "outputs": [],
   "source": [
    "# plot dat\n",
    "import matplotlib.pyplot as plt\n",
    "from matplotlib import rc\n",
    "from matplotlib import rcParams\n",
    "\n",
    "rcParams[\"font.size\"] = 16\n",
    "rcParams[\"mathtext.fontset\"] = \"cm\"\n",
    "rcParams[\"mathtext.rm\"] = \"serif\"\n",
    "rcParams[\"text.usetex\"] = \"true\";\n",
    "rc('text', usetex=True)"
   ]
  },
  {
   "cell_type": "code",
   "execution_count": 56,
   "metadata": {},
   "outputs": [
    {
     "data": {
      "image/png": "[encoded data removed]",
      "text/plain": [
       "<Figure size 432x288 with 1 Axes>"
      ]
     },
     "metadata": {
      "needs_background": "light"
     },
     "output_type": "display_data"
    },
    {
     "data": {
      "image/png": "[encoded data removed]",
      "text/plain": [
       "<Figure size 432x288 with 1 Axes>"
      ]
     },
     "metadata": {
      "needs_background": "light"
     },
     "output_type": "display_data"
    }
   ],
   "source": [
    "# plot fitu vcetne errorbaru\n",
    "# my_dpi = 150\n",
    "# siz = 100\n",
    "# sizex = 16*siz\n",
    "# sizey = 9*siz\n",
    "# plot techto fitu\n",
    "time_fit = np.linspace(0, t_scale.max(), 200)\n",
    "\n",
    "for i in range(fotkor_shape[1]):\n",
    "    \n",
    "    fotkor_fit = fit_func( [S_0[i],DeltaS[i],x[2,i]], Omega, time_fit)\n",
    "    \n",
    "    plt.figure()\n",
    "    plt.errorbar(t_scale[:fotkor_shape[0]-2],fotkor[:fotkor_shape[0]-2,i],yerr=hist_sigma[i],fmt='.')\n",
    "    plt.plot(time_fit, fotkor_fit)\n",
    "    text = r'$\\frac{\\Delta S}{S_0}  = \\,\\,$' + r'${:.5f} \\pm {:.6f}$'.format(DeltaS_S_ratio[i], Delta_S_S_ratio_sigma[i])\n",
    "    plt.text(3e-8, fotkor[:,i].max()-500,text) \n",
    "    text2 = r'$\\varphi  = {:.5f} \\pm {:.3}$'.format(fot_phi[i], sigmas[2,i])\n",
    "    plt.text(3e-8, fotkor[:,i].max(),text2) \n"
   ]
  },
  {
   "cell_type": "markdown",
   "metadata": {},
   "source": [
    "ok"
   ]
  },
  {
   "cell_type": "markdown",
   "metadata": {},
   "source": [
    "## Urceni $\\beta$ + nejistoty"
   ]
  },
  {
   "cell_type": "code",
   "execution_count": 57,
   "metadata": {},
   "outputs": [],
   "source": [
    "# parametry vypoctu beta\n",
    "\n",
    "decay_rate = 2*np.pi * 21.008e6  # decay rate dle tabulek NISTu\n",
    "laser_detun = -32e6 * 2*np.pi  # detuning \n",
    "laser_detun_sigma = 4e6 * 2*np.pi # sigma detun"
   ]
  },
  {
   "cell_type": "markdown",
   "metadata": {},
   "source": [
    "Vyuzijeme nelinearniho sireni chyb. Tedy\n",
    "\\begin{equation}\n",
    "    \\mathcal{\\Sigma}^\\beta = \\mathcal{J}^\\beta \\mathcal{\\Sigma} \\mathcal{J }^{\\beta \\rm T}\n",
    "\\end{equation}"
   ]
  },
  {
   "cell_type": "markdown",
   "metadata": {},
   "source": [
    "Jakobian $\\mathcal{J}^\\beta$ vyjadrime pomoci jakobianu $\\mathcal{J}^g$, kde $F(\\beta, \\frac{\\Delta S}{S_0}, \\Omega, \\Delta)=0$, coz je rovnice, kterou resime numericky."
   ]
  },
  {
   "cell_type": "code",
   "execution_count": 58,
   "metadata": {},
   "outputs": [],
   "source": [
    "# numericke reseni deltaS/S -> beta\n",
    "\n",
    "from scipy.optimize import fsolve\n",
    "from scipy.special import j0, j1\n",
    "\n",
    "def get_A(decay_rate, detun):\n",
    "    # returns driven oscillator amplitude in point given by detun param.\n",
    "    return 1 / 2 * (decay_rate / 2 - detun * 1j) / (detun ** 2 + (decay_rate / 2) ** 2)\n",
    "\n",
    "def fl_signal(beta, laser_detun, Omega, decay_rate):\n",
    "    # function calculates deltaS/S0 photon-correlation signal\n",
    "    # input: beta, laser detuning, RF drive freq, decay rate\n",
    "    A_minus = get_A(decay_rate, laser_detun - Omega)\n",
    "    A_plus = get_A(decay_rate, laser_detun + Omega)\n",
    "    A = get_A(decay_rate, laser_detun)\n",
    "\n",
    "    numer = 2 * j0(beta) * j1(beta) * np.abs(np.conj(A) * A_plus - A * np.conj(A_minus))\n",
    "    denom = j0(beta) ** 2 * np.abs(A) ** 2 + j1(beta) ** 2 * (np.abs(A_plus) ** 2 + np.abs(A_minus) ** 2)\n",
    "\n",
    "    return numer / denom\n",
    "\n",
    "def get_beta(Omega, decay_rate, laser_detun, norm_mod_amp):\n",
    "    # function calculates the corresponding beta for given known parameters\n",
    "    # input: drive frequency, decay_rate, laser detuning, normalized modulation amplitude given by ph_corr_signal\n",
    "    # output: float value of beta\n",
    "    def root_func(beta, laser_detun, Omega, decay_rate, norm_mod_amp):\n",
    "        return fl_signal(beta, laser_detun, Omega, decay_rate) - norm_mod_amp\n",
    "\n",
    "    sol = fsolve(root_func, np.array([0.01]), args=(laser_detun, Omega, decay_rate, norm_mod_amp), full_output=1)\n",
    "    return float(sol[0])"
   ]
  },
  {
   "cell_type": "code",
   "execution_count": 59,
   "metadata": {},
   "outputs": [],
   "source": [
    "from scipy.optimize import approx_fprime, check_grad\n",
    "\n",
    "def root_func(x):\n",
    "    [beta, norm_mod_amp, Omega, laser_detun, decay_rate] = x\n",
    "    return fl_signal(beta, laser_detun, Omega, decay_rate) - norm_mod_amp\n",
    "\n",
    "def root_func_grad(x):\n",
    "#     [beta, norm_mod_amp, Omega, laser_detun, decay_rate] = x\n",
    "    epsilon = 5e-6\n",
    "    return( approx_fprime(x, root_func, x*epsilon ) )"
   ]
  },
  {
   "cell_type": "code",
   "execution_count": 60,
   "metadata": {},
   "outputs": [],
   "source": [
    "from scipy.optimize import approx_fprime, check_grad\n",
    "\n",
    "# get beta\n",
    "beta = np.zeros(fotkor_shape[1])\n",
    "beta_sigma = np.zeros(fotkor_shape[1])\n",
    "for k in range(fotkor_shape[1]):\n",
    "    beta[k] = get_beta(Omega, decay_rate, laser_detun, DeltaS_S_ratio[k])\n",
    "    \n",
    "    # get sigma beta\n",
    "    jacob_F = root_func_grad( np.array([beta[k], DeltaS_S_ratio[k], Omega, laser_detun, decay_rate]) ) \n",
    "    # [dF/dbeta, dF/ddeltaS/S, dF/dOmega, dF/dDelta, dF/dGamma]\n",
    "    \n",
    "    # variance-cov parametru\n",
    "    Sigma_param = np.diag([Delta_S_S_ratio_sigma[k]**2, Omega_sigma**2, laser_detun_sigma**2])\n",
    "    \n",
    "    beta_sigma[k] = np.sqrt( jacob_F[0]**-2 * jacob_F[1:-1] @ Sigma_param @ np.transpose( jacob_F[1:-1] ) )\n",
    "    \n",
    "    "
   ]
  },
  {
   "cell_type": "code",
   "execution_count": 61,
   "metadata": {},
   "outputs": [
    {
     "name": "stdout",
     "output_type": "stream",
     "text": [
      "[0.00500948 0.00238512]\n",
      "[0.00091698 0.00093293]\n"
     ]
    }
   ],
   "source": [
    "print(beta)\n",
    "print(beta_sigma)"
   ]
  },
  {
   "cell_type": "code",
   "execution_count": 28,
   "metadata": {},
   "outputs": [
    {
     "data": {
      "text/plain": [
       "3.006603578501729e-09"
      ]
     },
     "execution_count": 28,
     "metadata": {},
     "output_type": "execute_result"
    }
   ],
   "source": [
    "jacob_F[2]**2  * Omega_sigma**2"
   ]
  },
  {
   "cell_type": "code",
   "execution_count": 29,
   "metadata": {},
   "outputs": [
    {
     "data": {
      "text/plain": [
       "1.0635770267881193e-09"
      ]
     },
     "execution_count": 29,
     "metadata": {},
     "output_type": "execute_result"
    }
   ],
   "source": [
    "check_grad(root_func, root_func_grad,\n",
    "           np.array([beta[0], DeltaS_S_ratio[0], Omega, laser_detun, decay_rate]))"
   ]
  },
  {
   "cell_type": "code",
   "execution_count": 30,
   "metadata": {},
   "outputs": [
    {
     "data": {
      "text/plain": [
       "7.429037665530807e-06"
      ]
     },
     "execution_count": 30,
     "metadata": {},
     "output_type": "execute_result"
    }
   ],
   "source": [
    "jacob_F[1:-1] @ Sigma_param @ np.transpose( jacob_F[1:-1] )"
   ]
  },
  {
   "cell_type": "code",
   "execution_count": 31,
   "metadata": {},
   "outputs": [
    {
     "data": {
      "text/plain": [
       "array([ 2.85862366e+00, -1.00000000e+00,  7.93507987e-11,  3.68060868e-12,\n",
       "       -1.07851723e-10])"
      ]
     },
     "execution_count": 31,
     "metadata": {},
     "output_type": "execute_result"
    }
   ],
   "source": [
    "root_func_grad(np.array([beta[0], DeltaS_S_ratio[0], Omega, laser_detun, decay_rate]))"
   ]
  },
  {
   "cell_type": "markdown",
   "metadata": {},
   "source": [
    "## projekce indexu $\\beta$ do os $x,y$"
   ]
  },
  {
   "cell_type": "code",
   "execution_count": 101,
   "metadata": {},
   "outputs": [],
   "source": [
    "# definice funkci, ktere prepocitavaji prumety beta_z,beta_xz,beta_xy do os x,y,z\n",
    "\n",
    "# korekce funkce vracejici prumety beta pro svazek xy mirici lib. smerem\n",
    "def get_beta_xyz_phi_xyz_Sxy_z_proj(variables):\n",
    "    # input: beta = [beta_z, beta_xz, beta_xy]  variables = [beta, fot_phi, gamma, a, c]\n",
    "    #       fot_phi = [phi_z, phi_xz, phi_xy]\n",
    "    # jednotkovy vektor svazku Sxy = [a,b,c]\n",
    "\n",
    "    # output: beta_xyz = [beta_x, beta_y, beta_z]\n",
    "    \n",
    "    #### overeno\n",
    "    beta = variables[:3]\n",
    "    fot_phi = variables[3:6]\n",
    "    gamma = variables[6]\n",
    "    a = variables[7]\n",
    "    c = variables[8]\n",
    "    b = -np.sqrt(1 - c**2 - a**2)  # zde pozor na znamenko, je treba ho zadat rucne\n",
    "    \n",
    "    beta_x_comp = 1 / np.sin(gamma) * (\n",
    "                beta[1] * np.exp(1j * fot_phi[1]) - beta[0] * np.cos(gamma) * np.exp(1j * fot_phi[0]))\n",
    "    beta_y_comp = 1 / b * ( beta[2] * np.exp(1j * fot_phi[2]) - a*beta_x_comp - c*beta[0]*np.exp(1j * fot_phi[0]) )\n",
    "\n",
    "    return (np.array([np.abs(beta_x_comp), np.abs(beta_y_comp)]),\n",
    "            np.array([np.angle(beta_x_comp), np.angle(beta_y_comp)])\n",
    "            )\n",
    "\n",
    "def get_beta_x(variables):\n",
    "    #input: beta = [beta_z, beta_xz, beta_xy]  variables = [beta, fot_phi, gamma]\n",
    "    #       fot_phi = [phi_z, phi_xz, phi_xy]\n",
    "    beta = variables[:3]\n",
    "    fot_phi = variables[3:6]\n",
    "    gamma = variables[6]\n",
    "    a = variables[7]\n",
    "    c = variables[8]\n",
    "    b = -np.sqrt(1 - c**2 - a**2)  # zde pozor na znamenko, je treba ho zadat rucne\n",
    "    \n",
    "    beta_x_comp = 1/np.sin(gamma) * (beta[1]*np.exp(1j*fot_phi[1]) - beta[0]*np.cos(gamma)*np.exp(1j*fot_phi[0]) )\n",
    "    return( np.abs(beta_x_comp) )\n",
    "\n",
    "def get_phi_x(variables):\n",
    "    #input: beta = [beta_z, beta_xz, beta_xy]  variables = [beta, fot_phi, gamma]\n",
    "    #       fot_phi = [phi_z, phi_xz, phi_xy]\n",
    "    beta = variables[:3]\n",
    "    fot_phi = variables[3:6]\n",
    "    gamma = variables[6]\n",
    "    a = variables[7]\n",
    "    c = variables[8]\n",
    "    b = -np.sqrt(1 - c**2 - a**2)  # zde pozor na znamenko, je treba ho zadat rucne\n",
    "    \n",
    "    beta_x_comp = 1/np.sin(gamma) * (beta[1]*np.exp(1j*fot_phi[1]) - beta[0]*np.cos(gamma)*np.exp(1j*fot_phi[0]) )\n",
    "    return( np.angle(beta_x_comp) )\n",
    "\n",
    "def get_beta_y(variables):\n",
    "    #input: beta = [beta_z, beta_xz, beta_xy]  variables = [beta, fot_phi, gamma]\n",
    "    #       fot_phi = [phi_z, phi_xz, phi_xy]\n",
    "    beta = variables[:3]\n",
    "    fot_phi = variables[3:6]\n",
    "    gamma = variables[6]\n",
    "    a = variables[7]\n",
    "    c = variables[8]\n",
    "    b = -np.sqrt(1 - c**2 - a**2)  # zde pozor na znamenko, je treba ho zadat rucne\n",
    "    \n",
    "    beta_x_comp = 1 / np.sin(gamma) * (\n",
    "                beta[1] * np.exp(1j * fot_phi[1]) - beta[0] * np.cos(gamma) * np.exp(1j * fot_phi[0]))\n",
    "    beta_y_comp = 1 / b * ( beta[2] * np.exp(1j * fot_phi[2]) - a*beta_x_comp - c*beta[0]*np.exp(1j * fot_phi[0]) )\n",
    "\n",
    "    return( np.abs(beta_y_comp) )\n",
    "\n",
    "def get_phi_y(variables):\n",
    "    #input: beta = [beta_z, beta_xz, beta_xy]  variables = [beta, fot_phi, gamma]\n",
    "    #       fot_phi = [phi_z, phi_xz, phi_xy]\n",
    "    beta = variables[:3]\n",
    "    fot_phi = variables[3:6]\n",
    "    gamma = variables[6]\n",
    "    a = variables[7]\n",
    "    c = variables[8]\n",
    "    b = -np.sqrt(1 - c**2 - a**2)  # zde pozor na znamenko, je treba ho zadat rucne\n",
    "    \n",
    "    beta_x_comp = 1 / np.sin(gamma) * (\n",
    "                beta[1] * np.exp(1j * fot_phi[1]) - beta[0] * np.cos(gamma) * np.exp(1j * fot_phi[0]))\n",
    "    beta_y_comp = 1 / b * ( beta[2] * np.exp(1j * fot_phi[2]) - a*beta_x_comp - c*beta[0]*np.exp(1j * fot_phi[0]) )\n",
    "\n",
    "    \n",
    "    return( np.angle(beta_y_comp) )\n",
    "\n",
    "def get_beta_xyz_phi_xyz(variables):\n",
    "    #input: beta = [beta_z, beta_xz, beta_xy]  variables = [beta, fot_phi, gamma]\n",
    "    #       fot_phi = [phi_z, phi_xz, phi_xy]\n",
    "    \n",
    "    # output: beta_xyz = [beta_x, beta_y, beta_z]\n",
    "    beta = variables[:3]\n",
    "    fot_phi = variables[3:6]\n",
    "    gamma = variables[6]\n",
    "    epsilon = variables[7]\n",
    "    \n",
    "    beta_x_comp = 1/np.sin(gamma) * (beta[1]*np.exp(1j*fot_phi[1]) - beta[0]*np.cos(gamma)*np.exp(1j*fot_phi[0]) )\n",
    "    beta_y_comp = 1/np.cos(epsilon) * ( np.sin(epsilon) * beta_x_comp  - beta[2]*np.exp(1j*fot_phi[2]) )\n",
    "    \n",
    "    return(np.array( [np.abs(beta_x_comp), np.abs(beta_y_comp)]), \n",
    "           np.array( [np.angle(beta_x_comp), np.angle(beta_y_comp) ] ) \n",
    "          ) \n",
    "\n",
    "\n",
    "# def get_beta_x(variables):\n",
    "#     #input: beta = [beta_z, beta_xz, beta_xy]  variables = [beta, fot_phi, gamma]\n",
    "#     #       fot_phi = [phi_z, phi_xz, phi_xy]\n",
    "#     beta = variables[:3]\n",
    "#     fot_phi = variables[3:6]\n",
    "#     gamma = variables[6]\n",
    "#     epsilon = variables[7]\n",
    "    \n",
    "#     beta_x_comp = 1/np.sin(gamma) * (beta[1]*np.exp(1j*fot_phi[1]) - beta[0]*np.cos(gamma)*np.exp(1j*fot_phi[0]) )\n",
    "#     return( np.abs(beta_x_comp) )\n",
    "\n",
    "# def get_phi_x(variables):\n",
    "#     #input: beta = [beta_z, beta_xz, beta_xy]  variables = [beta, fot_phi, gamma]\n",
    "#     #       fot_phi = [phi_z, phi_xz, phi_xy]\n",
    "#     beta = variables[:3]\n",
    "#     fot_phi = variables[3:6]\n",
    "#     gamma = variables[6]\n",
    "#     epsilon = variables[7]\n",
    "    \n",
    "#     beta_x_comp = 1/np.sin(gamma) * (beta[1]*np.exp(1j*fot_phi[1]) - beta[0]*np.cos(gamma)*np.exp(1j*fot_phi[0]) )\n",
    "#     return( np.angle(beta_x_comp) )\n",
    "\n",
    "# def get_beta_y(variables):\n",
    "#     #input: beta = [beta_z, beta_xz, beta_xy]  variables = [beta, fot_phi, gamma]\n",
    "#     #       fot_phi = [phi_z, phi_xz, phi_xy]\n",
    "#     beta = variables[:3]\n",
    "#     fot_phi = variables[3:6]\n",
    "#     gamma = variables[6]\n",
    "#     epsilon = variables[7]\n",
    "    \n",
    "#     beta_x_comp = 1/np.sin(gamma) * (beta[1]*np.exp(1j*fot_phi[1]) - beta[0]*np.cos(gamma)*np.exp(1j*fot_phi[0]) )\n",
    "#     beta_y_comp = 1/np.cos(epsilon) * ( np.sin(epsilon) * beta_x_comp  - beta[2]*np.exp(1j*fot_phi[2]) )\n",
    "    \n",
    "#     return( np.abs(beta_y_comp) )\n",
    "\n",
    "# def get_phi_y(variables):\n",
    "#     #input: beta = [beta_z, beta_xz, beta_xy]  variables = [beta, fot_phi, gamma]\n",
    "#     #       fot_phi = [phi_z, phi_xz, phi_xy]\n",
    "#     beta = variables[:3]\n",
    "#     fot_phi = variables[3:6]\n",
    "#     gamma = variables[6]\n",
    "#     epsilon = variables[7]\n",
    "    \n",
    "#     beta_x_comp = 1/np.sin(gamma) * (beta[1]*np.exp(1j*fot_phi[1]) - beta[0]*np.cos(gamma)*np.exp(1j*fot_phi[0]) )\n",
    "#     beta_y_comp = 1/np.cos(epsilon) * ( np.sin(epsilon) * beta_x_comp  - beta[2]*np.exp(1j*fot_phi[2]) )\n",
    "    \n",
    "#     return( np.angle(beta_y_comp) )\n",
    "\n",
    "def get_beta_x_jac(variables):\n",
    "    #input: beta = [beta_z, beta_xz, beta_xy]  variables = [beta, fot_phi, gamma]\n",
    "    #       fot_phi = [phi_z, phi_xz, phi_xy]\n",
    "    # output: grad beta_x\n",
    "    epsi_err = 1e-8\n",
    "    return( approx_fprime(variables, get_beta_x, epsi_err) )\n",
    "\n",
    "def get_beta_y_jac(variables):\n",
    "    #input: beta = [beta_z, beta_xz, beta_xy]  variables = [beta, fot_phi, gamma]\n",
    "    #       fot_phi = [phi_z, phi_xz, phi_xy]\n",
    "    # output: grad beta_x\n",
    "    epsi_err = 1e-8\n",
    "    return( approx_fprime(variables, get_beta_y, epsi_err) )\n",
    "\n",
    "def get_phi_x_jac(variables):\n",
    "    #input: beta = [beta_z, beta_xz, beta_xy]  variables = [beta, fot_phi, gamma]\n",
    "    #       fot_phi = [phi_z, phi_xz, phi_xy]\n",
    "    # output: grad beta_x\n",
    "    epsi_err = 1e-8\n",
    "    return( approx_fprime(variables, get_phi_x, epsi_err) )\n",
    "\n",
    "def get_phi_y_jac(variables):\n",
    "    #input: beta = [beta_z, beta_xz, beta_xy]  variables = [beta, fot_phi, gamma]\n",
    "    #       fot_phi = [phi_z, phi_xz, phi_xy]\n",
    "    # output: grad beta_x\n",
    "    epsi_err = 1e-8\n",
    "    return( approx_fprime(variables, get_phi_y, epsi_err) )\n",
    "\n",
    "def get_beta_x_y_phi_x_y_jacob(variables):\n",
    "    #input: beta = [beta_z, beta_xz, beta_xy]  variables = [beta, fot_phi, gamma]\n",
    "    #       fot_phi = [phi_z, phi_xz, phi_xy]\n",
    "    # output: jacobian \n",
    "    \n",
    "    return( np.array([ get_beta_x_jac(variables), get_beta_y_jac(variables), \n",
    "                      get_phi_x_jac(variables), get_phi_y_jac(variables) ])\n",
    "          )\n",
    "  "
   ]
  },
  {
   "cell_type": "code",
   "execution_count": 71,
   "metadata": {},
   "outputs": [
    {
     "data": {
      "text/plain": [
       "(array([0.00455188, 0.00486243]), array([2.72385491, 2.99528632]))"
      ]
     },
     "execution_count": 71,
     "metadata": {},
     "output_type": "execute_result"
    }
   ],
   "source": [
    "get_beta_xyz_phi_xyz([beta[0],beta[1],0.003, fot_phi[0],fot_phi[1],0, np.pi/4, 21/180 * np.pi])"
   ]
  },
  {
   "cell_type": "code",
   "execution_count": 98,
   "metadata": {},
   "outputs": [
    {
     "data": {
      "text/plain": [
       "(array([0.00455188, 0.00486243]), array([2.72385491, 2.99528634]))"
      ]
     },
     "execution_count": 98,
     "metadata": {},
     "output_type": "execute_result"
    }
   ],
   "source": [
    "# get_beta_xyz_phi_xyz_Sxy_z_proj([beta[0],beta[1],0.003, fot_phi[0],fot_phi[1],0, np.pi/4, 0.3572, -0.0722])\n",
    "get_beta_xyz_phi_xyz_Sxy_z_proj([beta[0],beta[1],0.003, fot_phi[0],fot_phi[1],0, np.pi/4, 0.3583679, 0])"
   ]
  },
  {
   "cell_type": "code",
   "execution_count": 100,
   "metadata": {},
   "outputs": [
    {
     "data": {
      "text/plain": [
       "4.515336113824745e-05"
      ]
     },
     "execution_count": 100,
     "metadata": {},
     "output_type": "execute_result"
    }
   ],
   "source": [
    "check_grad(get_phi_y, get_phi_y_jac, [beta[0],beta[1],0.003, fot_phi[0],fot_phi[1],0, np.pi/4, 21/180 * np.pi])"
   ]
  },
  {
   "cell_type": "code",
   "execution_count": 102,
   "metadata": {},
   "outputs": [
    {
     "data": {
      "text/plain": [
       "4.5124895720102064e-05"
      ]
     },
     "execution_count": 102,
     "metadata": {},
     "output_type": "execute_result"
    }
   ],
   "source": [
    "check_grad(get_phi_y, get_phi_y_jac, [beta[0],beta[1],0.003, fot_phi[0],fot_phi[1],0, np.pi/4, 0.3583679, 0])"
   ]
  },
  {
   "cell_type": "code",
   "execution_count": 21,
   "metadata": {},
   "outputs": [
    {
     "data": {
      "text/plain": [
       "array([[ 9.76583956e-01,  1.39704899e+00,  0.00000000e+00,\n",
       "        -7.95845854e-04,  7.95845854e-04,  0.00000000e+00,\n",
       "        -1.22866956e-02,  0.00000000e+00],\n",
       "       [ 1.27823509e-01,  8.73160605e-02,  8.75656332e-01,\n",
       "         5.82001461e-04,  9.89259976e-04, -1.57126139e-03,\n",
       "        -1.26204407e-03,  4.58569836e-03],\n",
       "       [ 2.48022818e+01, -2.53247014e+01,  0.00000000e+00,\n",
       "         4.16486956e-01,  5.83513038e-01,  0.00000000e+00,\n",
       "        -9.17500964e-02,  0.00000000e+00],\n",
       "       [-4.60544187e+01, -7.99301551e+01,  1.53316131e+02,\n",
       "         1.38416123e-01,  9.26012600e-02,  7.68982611e-01,\n",
       "         6.30316732e-01, -2.26900245e+00]])"
      ]
     },
     "execution_count": 21,
     "metadata": {},
     "output_type": "execute_result"
    }
   ],
   "source": [
    "get_beta_x_y_phi_x_y_jacob( [beta[0],beta[1],0.003, fot_phi[0],fot_phi[1],0, np.pi/4, 0.2] )"
   ]
  },
  {
   "cell_type": "markdown",
   "metadata": {},
   "source": [
    "Prepocitam bety a phi na do os $x,y,z$"
   ]
  },
  {
   "cell_type": "code",
   "execution_count": 74,
   "metadata": {},
   "outputs": [],
   "source": [
    "## uhly detekcnich svazku\n",
    "gamma = 45.07/180 * np.pi\n",
    "gamma_sigma = 6/180 * np.pi\n",
    "# epsilon = 20/180 * np.pi\n",
    "# epsilon_sigma = 1/180 * np.pi\n",
    "\n",
    "a = 0.3572\n",
    "a_sigma = 0.01\n",
    "c = -0.0722\n",
    "c_sigma = 0.008\n"
   ]
  },
  {
   "cell_type": "code",
   "execution_count": 75,
   "metadata": {},
   "outputs": [
    {
     "name": "stdout",
     "output_type": "stream",
     "text": [
      "[0.00454171 0.00237238 0.00500948]\n",
      "[0.00183743 0.00085881 0.00091698]\n",
      "[ 2.72473783 -2.67869254 -1.13271188]\n",
      "[0.36139281 0.43285007 0.18299791]\n"
     ]
    }
   ],
   "source": [
    "[beta_x_y, phi_x_y] = get_beta_xyz_phi_xyz_Sxy_z_proj( [beta[0],beta[1],0.002, fot_phi[0],fot_phi[1],1.4,gamma, a, c] )\n",
    "beta_xyz = np.append(beta_x_y, beta[0]) # [beta_x, beta_y, beta_z]\n",
    "phi_xyz = np.append(phi_x_y, fot_phi[0]) # [phi_x, phi_y, phi_z]\n",
    "\n",
    "#--- nejistoty zakonem sireni chyb\n",
    "# sirim kovariancni matici diag( sigma^2 beta, sigma^2 phi, simga^2 gamma, epsilon_sigma^2)\n",
    "\n",
    "# sigma_params = np.diag([beta_sigma[0]**2, beta_sigma[1]**2, 8e-4**2, fot_phi_sigma[0]**2, fot_phi_sigma[1]**2, \n",
    "#                         0.1**2, gamma_sigma**2, epsilon_sigma**2 ])\n",
    "\n",
    "sigma_params = np.diag([beta_sigma[0]**2, beta_sigma[1]**2, 8e-4**2, fot_phi_sigma[0]**2, fot_phi_sigma[1]**2, \n",
    "                        0.1**2, gamma_sigma**2, a_sigma**2, c_sigma**2 ])\n",
    "\n",
    "jacob_beta_phi_xy = get_beta_x_y_phi_x_y_jacob([beta[0],beta[1],0.002, fot_phi[0],fot_phi[1],1.4,gamma, a, c])\n",
    "\n",
    "sigma_beta_phi_xy = jacob_beta_phi_xy @ sigma_params @ np.transpose(jacob_beta_phi_xy)\n",
    "\n",
    "beta_xyz_sigma = np.sqrt( np.diag(sigma_beta_phi_xy)[:2] )\n",
    "phi_xyz_sigma = np.sqrt( np.diag(sigma_beta_phi_xy)[2:] )\n",
    "\n",
    "beta_xyz_sigma = np.append(beta_xyz_sigma, beta_sigma[0])\n",
    "phi_xyz_sigma = np.append(phi_xyz_sigma, fot_phi_sigma[0])\n",
    "\n",
    "print(beta_xyz)\n",
    "print(beta_xyz_sigma)\n",
    "print(phi_xyz)\n",
    "print(phi_xyz_sigma)"
   ]
  },
  {
   "cell_type": "code",
   "execution_count": 76,
   "metadata": {},
   "outputs": [],
   "source": [
    "np.sqrt( np.diagonal(sigma_beta_phi_xy) )"
   ]
  },
  {
   "cell_type": "code",
   "execution_count": 78,
   "metadata": {},
   "outputs": [
    {
     "data": {
      "text/plain": [
       "array([[ 7.52690117e-01,  3.23307758e-01,  0.00000000e+00,\n",
       "         3.27952127e-03, -3.27952136e-03,  0.00000000e+00,\n",
       "        -8.31043533e-03,  0.00000000e+00,  0.00000000e+00],\n",
       "       [-1.14178807e-02,  4.85455435e-01,  6.35854700e-01,\n",
       "         2.30451803e-03, -5.73814694e-04, -1.73070338e-03,\n",
       "        -1.05991934e-03,  4.08555360e-03, -6.40368401e-05],\n",
       "       [-1.44144330e+02,  3.02747107e+02,  0.00000000e+00,\n",
       "         8.30212832e-01,  1.69787118e-01,  0.00000000e+00,\n",
       "         7.23856219e-01,  0.00000000e+00,  0.00000000e+00],\n",
       "       [-1.93911502e+02,  1.01408933e+02,  3.64760471e+02,\n",
       "        -2.41107578e-02,  4.88063545e-01,  5.36047295e-01,\n",
       "         1.37418548e+00, -1.58415041e+00,  2.26681944e+00]])"
      ]
     },
     "execution_count": 78,
     "metadata": {},
     "output_type": "execute_result"
    }
   ],
   "source": [
    "jacob_beta_phi_xy"
   ]
  },
  {
   "cell_type": "code",
   "execution_count": 77,
   "metadata": {},
   "outputs": [
    {
     "ename": "NameError",
     "evalue": "name 'epsilon_sigma' is not defined",
     "output_type": "error",
     "traceback": [
      "\u001b[0;31m---------------------------------------------------------------------------\u001b[0m",
      "\u001b[0;31mNameError\u001b[0m                                 Traceback (most recent call last)",
      "\u001b[0;32m<ipython-input-77-f371eae6b02d>\u001b[0m in \u001b[0;36m<module>\u001b[0;34m\u001b[0m\n\u001b[0;32m----> 1\u001b[0;31m get_beta_x_jac([beta[0],beta[1],0.05, fot_phi[0],fot_phi[1],0.5, gamma, epsilon_sigma]) @ np.diag([beta_sigma[0]**2, beta_sigma[1]**2, 8e-4**2, fot_phi_sigma[0]**2, fot_phi_sigma[1]**2, \n\u001b[0m\u001b[1;32m      2\u001b[0m                         0.1**2, gamma_sigma**2, epsilon_sigma**2 ])\n",
      "\u001b[0;31mNameError\u001b[0m: name 'epsilon_sigma' is not defined"
     ]
    }
   ],
   "source": [
    "get_beta_x_jac([beta[0],beta[1],0.05, fot_phi[0],fot_phi[1],0.5, gamma, epsilon_sigma]) @ np.diag([beta_sigma[0]**2, beta_sigma[1]**2, 8e-4**2, fot_phi_sigma[0]**2, fot_phi_sigma[1]**2, \n",
    "                        0.1**2, gamma_sigma**2, epsilon_sigma**2 ])"
   ]
  },
  {
   "cell_type": "code",
   "execution_count": 26,
   "metadata": {},
   "outputs": [
    {
     "data": {
      "text/plain": [
       "3.321758631549659e-06"
      ]
     },
     "execution_count": 26,
     "metadata": {},
     "output_type": "execute_result"
    }
   ],
   "source": [
    "get_beta_x_jac([beta[0],beta[1],0.05, fot_phi[0],fot_phi[1],0.5, gamma, epsilon_sigma]) @ np.diag([beta_sigma[0]**2, beta_sigma[1]**2, 8e-4**2, fot_phi_sigma[0]**2, fot_phi_sigma[1]**2, \n",
    "                        0.1**2, gamma_sigma**2, epsilon_sigma**2 ]) @ np.transpose( get_beta_x_jac([beta[0],beta[1],0.05, fot_phi[0],fot_phi[1],0.5, gamma, epsilon_sigma]) )"
   ]
  },
  {
   "cell_type": "markdown",
   "metadata": {},
   "source": [
    "## transformace do soustavy $(xyz)^{\\prime}$"
   ]
  },
  {
   "cell_type": "code",
   "execution_count": 79,
   "metadata": {},
   "outputs": [],
   "source": [
    "def get_beta_xyz_prime(variables):\n",
    "    beta_complex_xyz = variables[:3] * np.exp(1j*variables[3:6])\n",
    "    return(  np.abs( 1/np.sqrt(2) * np.array( [ [1,-1,0], [1,1,0], [0,0,np.sqrt(2)] ] ) @ beta_complex_xyz ) )\n",
    "\n",
    "def get_phi_xyz_prime(variables):\n",
    "    beta_complex_xyz = variables[:3] * np.exp(1j*variables[3:6])\n",
    "    return(  np.angle( 1/np.sqrt(2) * np.array( [ [1,-1,0], [1,1,0], [0,0,np.sqrt(2)] ] ) @ beta_complex_xyz ) )\n",
    "\n",
    "def get_beta_x_prime(variables):\n",
    "    #input: variables: = [beta_x, beta_y , betaz, phi_x, phi_y, phi_z]\n",
    "    beta_complex_xyz = variables[:3] * np.exp(1j*variables[3:6])\n",
    "    return(  np.abs( 1/np.sqrt(2) * np.array( [ [1,-1,0], [1,1,0], [0,0,np.sqrt(2)] ] ) @ beta_complex_xyz )[0] )  \n",
    "\n",
    "def get_phi_x_prime(variables):\n",
    "    #input: variables: = [beta_x, beta_y , betaz, phi_x, phi_y, phi_z]\n",
    "    beta_complex_xyz = variables[:3] * np.exp(1j*variables[3:6])\n",
    "    return(  np.angle( 1/np.sqrt(2) * np.array( [ [1,-1,0], [1,1,0], [0,0,np.sqrt(2)] ] ) @ beta_complex_xyz )[0] )\n",
    "\n",
    "def get_beta_y_prime(variables):\n",
    "    #input: variables: = [beta_x, beta_y , betaz, phi_x, phi_y, phi_z]\n",
    "    beta_complex_xyz = variables[:3] * np.exp(1j*variables[3:6])\n",
    "    return(  np.abs( 1/np.sqrt(2) * np.array( [ [1,-1,0], [1,1,0], [0,0,np.sqrt(2)] ] ) @ beta_complex_xyz )[1] )  \n",
    "\n",
    "def get_phi_y_prime(variables):\n",
    "    #input: variables: = [beta_x, beta_y , betaz, phi_x, phi_y, phi_z]\n",
    "    beta_complex_xyz = variables[:3] * np.exp(1j*variables[3:6])\n",
    "    return(  np.angle( 1/np.sqrt(2) * np.array( [ [1,-1,0], [1,1,0], [0,0,np.sqrt(2)] ] ) @ beta_complex_xyz )[1] )\n",
    "\n",
    "def get_beta_z_prime(variables):\n",
    "    #input: variables: = [beta_x, beta_y , betaz, phi_x, phi_y, phi_z]\n",
    "    beta_complex_xyz = variables[:3] * np.exp(1j*variables[3:6])\n",
    "    return(  np.abs( 1/np.sqrt(2) * np.array( [ [1,-1,0], [1,1,0], [0,0,np.sqrt(2)] ] ) @ beta_complex_xyz )[2] )  \n",
    "\n",
    "def get_phi_z_prime(variables):\n",
    "    #input: variables: = [beta_x, beta_y , betaz, phi_x, phi_y, phi_z]\n",
    "    beta_complex_xyz = variables[:3] * np.exp(1j*variables[3:6])\n",
    "    return(  np.angle( 1/np.sqrt(2) * np.array( [ [1,-1,0], [1,1,0], [0,0,np.sqrt(2)] ] ) @ beta_complex_xyz )[2] )\n",
    "\n",
    "def get_beta_x_prime_jac(variables):\n",
    "    #input: variables: = [beta_x, beta_y , betaz, phi_x, phi_y, phi_z]\n",
    "    \n",
    "    epsi_err = 1e-8\n",
    "    return( approx_fprime(variables, get_beta_x_prime, epsi_err) )\n",
    "\n",
    "def get_phi_x_prime_jac(variables):\n",
    "    #input: variables: = [beta_x, beta_y , betaz, phi_x, phi_y, phi_z]\n",
    "    \n",
    "    epsi_err = 1e-8\n",
    "    return( approx_fprime(variables, get_phi_x_prime, epsi_err) ) \n",
    "           \n",
    "def get_beta_y_prime_jac(variables):\n",
    "    #input: variables: = [beta_x, beta_y , betaz, phi_x, phi_y, phi_z]\n",
    "    \n",
    "    epsi_err = 1e-8\n",
    "    return( approx_fprime(variables, get_beta_y_prime, epsi_err) )\n",
    "\n",
    "def get_phi_y_prime_jac(variables):\n",
    "    #input: variables: = [beta_x, beta_y , betaz, phi_x, phi_y, phi_z]\n",
    "    \n",
    "    epsi_err = 1e-8\n",
    "    return( approx_fprime(variables, get_phi_y_prime, epsi_err) )\n",
    "           \n",
    "def get_beta_z_prime_jac(variables):\n",
    "    #input: variables: = [beta_x, beta_y , betaz, phi_x, phi_y, phi_z]\n",
    "    \n",
    "    epsi_err = 1e-8\n",
    "    return( approx_fprime(variables, get_beta_z_prime, epsi_err) )\n",
    "\n",
    "def get_phi_z_prime_jac(variables):\n",
    "    #input: variables: = [beta_x, beta_y , betaz, phi_x, phi_y, phi_z]\n",
    "    \n",
    "    epsi_err = 1e-8\n",
    "    return( approx_fprime(variables, get_phi_z_prime, epsi_err) )\n",
    "\n",
    "def get_beta_x_y_phi_x_y_prime_jacob(variables):\n",
    "    #input: beta = [beta_z, beta_xz, beta_xy]  variables = [beta, fot_phi, gamma]\n",
    "    #       fot_phi = [phi_z, phi_xz, phi_xy]\n",
    "    # output: jacobian \n",
    "    \n",
    "    return( np.array([ get_beta_x_prime_jac(variables), get_beta_y_prime_jac(variables), get_beta_z_prime_jac(variables),\n",
    "                      get_phi_x_prime_jac(variables), get_phi_y_prime_jac(variables),\n",
    "                     get_phi_z_prime_jac(variables)])\n",
    "          )"
   ]
  },
  {
   "cell_type": "markdown",
   "metadata": {},
   "source": [
    "funkce transformuji beta do jine soustavy dle matice transformace"
   ]
  },
  {
   "cell_type": "markdown",
   "metadata": {},
   "source": [
    "jednotlive slozky maji amplitydy a faze:"
   ]
  },
  {
   "cell_type": "code",
   "execution_count": 80,
   "metadata": {},
   "outputs": [
    {
     "data": {
      "text/plain": [
       "array([0.00250211, 0.00447155, 0.00500948])"
      ]
     },
     "execution_count": 80,
     "metadata": {},
     "output_type": "execute_result"
    }
   ],
   "source": [
    "beta_xyz_prime = get_beta_xyz_prime(np.array( [beta_xyz[0],beta_xyz[1],beta_xyz[2], phi_xyz[0], phi_xyz[1], phi_xyz[2] ] ))\n",
    "beta_xyz_prime"
   ]
  },
  {
   "cell_type": "code",
   "execution_count": 81,
   "metadata": {},
   "outputs": [
    {
     "data": {
      "text/plain": [
       "array([ 2.18182385,  3.01801171, -1.13271188])"
      ]
     },
     "execution_count": 81,
     "metadata": {},
     "output_type": "execute_result"
    }
   ],
   "source": [
    "phi_xyz_prime = get_phi_xyz_prime(np.array( [beta_xyz[0],beta_xyz[1],beta_xyz[2], phi_xyz[0], phi_xyz[1], phi_xyz[2] ] ))\n",
    "phi_xyz_prime"
   ]
  },
  {
   "cell_type": "markdown",
   "metadata": {},
   "source": [
    "sireni nejistot: jacobian bude vypadat takto: $R \\cdot \\partial b_i /\\partial \\rm params $"
   ]
  },
  {
   "cell_type": "code",
   "execution_count": 83,
   "metadata": {},
   "outputs": [
    {
     "name": "stdout",
     "output_type": "stream",
     "text": [
      "            0           1    2         3         4    5\n",
      "0    0.605430   -0.104358  0.0 -0.001659  0.001659  0.0\n",
      "1    0.676915    0.588945  0.0  0.000928 -0.000928  0.0\n",
      "2    0.000000    0.000000  1.0  0.000000  0.000000  0.0\n",
      "3  146.002572 -279.510004  0.0  1.098948 -0.098948  0.0\n",
      "4  -45.714723   87.516874  0.0  0.687536  0.312464  0.0\n",
      "5    0.000000    0.000000  0.0  0.000000  0.000000  1.0\n"
     ]
    }
   ],
   "source": [
    "# jacobian\n",
    "# jacob_xyz_xyz_prime = trans_xyz_xyz_prime @ np.array( [ [np.exp(1j*phi_xyz[0]), 0, 0, 1j*beta_xyz[0]* np.exp(1j*phi_xyz[0]), 0, 0],\n",
    "#             [0, np.exp(1j*phi_xyz[1]), 0, 0, 1j*beta_xyz[1]* np.exp(1j*phi_xyz[1]), 0],\n",
    "#             [0, 0, np.exp(1j*phi_xyz[2]), 0, 0, 1j*beta_xyz[2]* np.exp(1j*phi_xyz[2])]\n",
    "#           ] )\n",
    "# jacob_xyz_xyz_prime\n",
    "\n",
    "jacob_xyz_xyz_prime = get_beta_x_y_phi_x_y_prime_jacob(np.array( [beta_xyz[0],beta_xyz[1],beta_xyz[2], phi_xyz[0], phi_xyz[1], phi_xyz[2] ] ))\n",
    "print( DataFrame(jacob_xyz_xyz_prime) )"
   ]
  },
  {
   "cell_type": "code",
   "execution_count": 84,
   "metadata": {},
   "outputs": [
    {
     "name": "stdout",
     "output_type": "stream",
     "text": [
      "              0             1             2         3         4         5\n",
      "0  3.376148e-06  7.749823e-07  0.000000e+00 -0.000068 -0.000474  0.000000\n",
      "1  7.749823e-07  7.375501e-07  0.000000e+00  0.000170  0.000121  0.000000\n",
      "2  0.000000e+00  0.000000e+00  8.408609e-07  0.000000  0.000000  0.000000\n",
      "3 -6.838845e-05  1.696369e-04  0.000000e+00  0.130605  0.073493  0.000000\n",
      "4 -4.737701e-04  1.213409e-04  0.000000e+00  0.073493  0.187359  0.000000\n",
      "5  0.000000e+00  0.000000e+00  0.000000e+00  0.000000  0.000000  0.033488\n",
      "              0             1         2         3\n",
      "0  3.376148e-06  7.749823e-07 -0.000068 -0.000474\n",
      "1  7.749823e-07  7.375501e-07  0.000170  0.000121\n",
      "2 -6.838845e-05  1.696369e-04  0.130605  0.073493\n",
      "3 -4.737701e-04  1.213409e-04  0.073493  0.187359\n"
     ]
    }
   ],
   "source": [
    "sigma_beta_phi_xy_trans = np.zeros((6,6))\n",
    "\n",
    "sigma_beta_phi_xy_trans[:2,:2] = sigma_beta_phi_xy[:2,:2]\n",
    "sigma_beta_phi_xy_trans[2,2] = beta_xyz_sigma[2]**2\n",
    "sigma_beta_phi_xy_trans[0, 3:5] = sigma_beta_phi_xy[0,2:4]\n",
    "sigma_beta_phi_xy_trans[1, 3:5] = sigma_beta_phi_xy[1,2:4]\n",
    "sigma_beta_phi_xy_trans[3, 3:5] = sigma_beta_phi_xy[2,2:4]\n",
    "sigma_beta_phi_xy_trans[4, 3:5] = sigma_beta_phi_xy[3,2:4]\n",
    "sigma_beta_phi_xy_trans[5,5] = phi_xyz_sigma[2]**2\n",
    "\n",
    "for i in range(6):\n",
    "    for k in range(i):\n",
    "        sigma_beta_phi_xy_trans[i,k] = sigma_beta_phi_xy_trans[k,i]\n",
    "        \n",
    "print( DataFrame(sigma_beta_phi_xy_trans) )\n",
    "print( DataFrame(sigma_beta_phi_xy) )"
   ]
  },
  {
   "cell_type": "code",
   "execution_count": 85,
   "metadata": {},
   "outputs": [],
   "source": [
    "# sireni chyb:\n",
    "sigma_beta_phi_xyz_prime = jacob_xyz_xyz_prime @ sigma_beta_phi_xy_trans @ np.transpose( jacob_xyz_xyz_prime ) "
   ]
  },
  {
   "cell_type": "code",
   "execution_count": 86,
   "metadata": {},
   "outputs": [],
   "source": [
    "beta_xyz_prime_sigma = np.sqrt( np.diag(sigma_beta_phi_xyz_prime)[:3] ) \n",
    "phi_xyz_prime_sigma = np.sqrt(  np.diag(sigma_beta_phi_xyz_prime)[3:6] ) "
   ]
  },
  {
   "cell_type": "code",
   "execution_count": 87,
   "metadata": {},
   "outputs": [
    {
     "name": "stdout",
     "output_type": "stream",
     "text": [
      "[0.00250211 0.00447155 0.00500948]\n",
      "[0.00090587 0.00176931 0.00091698]\n",
      "[ 2.18182385  3.01801171 -1.13271188]\n",
      "[0.32273791 0.40372666 0.18299791]\n"
     ]
    }
   ],
   "source": [
    "print(beta_xyz_prime)\n",
    "print(beta_xyz_prime_sigma)\n",
    "print(phi_xyz_prime)\n",
    "print(phi_xyz_prime_sigma)"
   ]
  },
  {
   "cell_type": "code",
   "execution_count": 88,
   "metadata": {},
   "outputs": [
    {
     "data": {
      "text/plain": [
       "array([0.32273791, 0.40372666])"
      ]
     },
     "execution_count": 88,
     "metadata": {},
     "output_type": "execute_result"
    }
   ],
   "source": [
    "np.sqrt( np.diag(sigma_beta_phi_xyz_prime)[3:-1])"
   ]
  },
  {
   "cell_type": "code",
   "execution_count": 89,
   "metadata": {},
   "outputs": [
    {
     "data": {
      "text/plain": [
       "array([[ 8.20595150e-07,  1.01721409e-06,  0.00000000e+00,\n",
       "        -5.69587859e-05, -1.72022306e-04,  0.00000000e+00],\n",
       "       [ 1.01721409e-06,  3.13044614e-06,  0.00000000e+00,\n",
       "         3.26991525e-04, -9.22881336e-05,  0.00000000e+00],\n",
       "       [ 0.00000000e+00,  0.00000000e+00,  8.40860949e-07,\n",
       "         0.00000000e+00,  0.00000000e+00,  0.00000000e+00],\n",
       "       [-5.69587859e-05,  3.26991525e-04,  0.00000000e+00,\n",
       "         1.04159757e-01,  3.72344610e-02,  0.00000000e+00],\n",
       "       [-1.72022306e-04, -9.22881336e-05,  0.00000000e+00,\n",
       "         3.72344610e-02,  1.62995214e-01,  0.00000000e+00],\n",
       "       [ 0.00000000e+00,  0.00000000e+00,  0.00000000e+00,\n",
       "         0.00000000e+00,  0.00000000e+00,  3.34882360e-02]])"
      ]
     },
     "execution_count": 89,
     "metadata": {},
     "output_type": "execute_result"
    }
   ],
   "source": [
    "sigma_beta_phi_xyz_prime"
   ]
  },
  {
   "cell_type": "markdown",
   "metadata": {},
   "source": [
    "## sedi, ok, ale neuvazuju korelaci mezi beta_z a phi_z, takze neni to idealka"
   ]
  },
  {
   "cell_type": "markdown",
   "metadata": {},
   "source": [
    "## vypocet elektrickeho pole"
   ]
  },
  {
   "cell_type": "code",
   "execution_count": 90,
   "metadata": {},
   "outputs": [],
   "source": [
    "# dalsi parametry\n",
    "m = 40 * 1.66053904e-27 # calcium mass\n",
    "k_vec = 2*np.pi * 1/(397e-9) # wave vector\n",
    "e = 1.60217662e-19 # elem charge"
   ]
  },
  {
   "cell_type": "code",
   "execution_count": 91,
   "metadata": {},
   "outputs": [
    {
     "name": "stdout",
     "output_type": "stream",
     "text": [
      "[4.23737377 2.21340637 4.67380172]\n",
      "[1.7155435  0.80198222 0.85855252]\n"
     ]
    },
    {
     "data": {
      "text/plain": [
       "array([1.71430536, 0.8012595 , 0.85553844])"
      ]
     },
     "execution_count": 91,
     "metadata": {},
     "output_type": "execute_result"
    }
   ],
   "source": [
    "# get E-fields\n",
    "E_rf = (m*Omega**2 / (k_vec*e)) * beta_xyz\n",
    "E_rf_sigma = np.sqrt( (beta_xyz_sigma*m*Omega**2 / (k_vec*e))**2 + (2*m*Omega / (k_vec*e) * beta_xyz * Omega_sigma)**2  ) # propagase chyb\n",
    "\n",
    "print(E_rf)\n",
    "print(E_rf_sigma)\n",
    "m*Omega**2/(e*k_vec) * beta_xyz_sigma"
   ]
  },
  {
   "cell_type": "markdown",
   "metadata": {},
   "source": [
    "jak velkou roli hraje nejistota omega?"
   ]
  },
  {
   "cell_type": "code",
   "execution_count": 92,
   "metadata": {},
   "outputs": [
    {
     "data": {
      "text/plain": [
       "array([0.00036125, 0.00045119, 0.00176461])"
      ]
     },
     "execution_count": 92,
     "metadata": {},
     "output_type": "execute_result"
    }
   ],
   "source": [
    "beta_xyz**2 / Omega**2 * Omega_sigma**2 / beta_xyz_sigma**2"
   ]
  },
  {
   "cell_type": "markdown",
   "metadata": {},
   "source": [
    "vidim, ze desetina procenta prislusi nejistote omega"
   ]
  },
  {
   "cell_type": "markdown",
   "metadata": {},
   "source": [
    "# Odhad freq. posuvu"
   ]
  },
  {
   "cell_type": "markdown",
   "metadata": {},
   "source": [
    "## Doppler shift"
   ]
  },
  {
   "cell_type": "code",
   "execution_count": 93,
   "metadata": {},
   "outputs": [
    {
     "name": "stdout",
     "output_type": "stream",
     "text": [
      "-2.0310948636531946e-20\n"
     ]
    }
   ],
   "source": [
    "c = 299792458 # rychlost svetla\n",
    "\n",
    "doppler_2nd_EMM = - (Omega /(2*c*k_vec))**2 * sum(beta_xyz**2)\n",
    "print(doppler_2nd_EMM)"
   ]
  },
  {
   "cell_type": "markdown",
   "metadata": {},
   "source": [
    "nejistota"
   ]
  },
  {
   "cell_type": "code",
   "execution_count": 94,
   "metadata": {},
   "outputs": [
    {
     "name": "stdout",
     "output_type": "stream",
     "text": [
      "              0             1             2             3\n",
      "0  2.105991e+12  0.000000e+00  0.000000e+00  0.000000e+00\n",
      "1  0.000000e+00  3.376148e-06  7.749823e-07  0.000000e+00\n",
      "2  0.000000e+00  7.749823e-07  7.375501e-07  0.000000e+00\n",
      "3  0.000000e+00  0.000000e+00  0.000000e+00  8.408609e-07\n"
     ]
    },
    {
     "data": {
      "text/html": [
       "<div>\n",
       "<style scoped>\n",
       "    .dataframe tbody tr th:only-of-type {\n",
       "        vertical-align: middle;\n",
       "    }\n",
       "\n",
       "    .dataframe tbody tr th {\n",
       "        vertical-align: top;\n",
       "    }\n",
       "\n",
       "    .dataframe thead th {\n",
       "        text-align: right;\n",
       "    }\n",
       "</style>\n",
       "<table border=\"1\" class=\"dataframe\">\n",
       "  <thead>\n",
       "    <tr style=\"text-align: right;\">\n",
       "      <th></th>\n",
       "      <th>0</th>\n",
       "      <th>1</th>\n",
       "      <th>2</th>\n",
       "      <th>3</th>\n",
       "    </tr>\n",
       "  </thead>\n",
       "  <tbody>\n",
       "    <tr>\n",
       "      <td>0</td>\n",
       "      <td>3.376148e-06</td>\n",
       "      <td>7.749823e-07</td>\n",
       "      <td>-0.000068</td>\n",
       "      <td>-0.000474</td>\n",
       "    </tr>\n",
       "    <tr>\n",
       "      <td>1</td>\n",
       "      <td>7.749823e-07</td>\n",
       "      <td>7.375501e-07</td>\n",
       "      <td>0.000170</td>\n",
       "      <td>0.000121</td>\n",
       "    </tr>\n",
       "    <tr>\n",
       "      <td>2</td>\n",
       "      <td>-6.838845e-05</td>\n",
       "      <td>1.696369e-04</td>\n",
       "      <td>0.130605</td>\n",
       "      <td>0.073493</td>\n",
       "    </tr>\n",
       "    <tr>\n",
       "      <td>3</td>\n",
       "      <td>-4.737701e-04</td>\n",
       "      <td>1.213409e-04</td>\n",
       "      <td>0.073493</td>\n",
       "      <td>0.187359</td>\n",
       "    </tr>\n",
       "  </tbody>\n",
       "</table>\n",
       "</div>"
      ],
      "text/plain": [
       "              0             1         2         3\n",
       "0  3.376148e-06  7.749823e-07 -0.000068 -0.000474\n",
       "1  7.749823e-07  7.375501e-07  0.000170  0.000121\n",
       "2 -6.838845e-05  1.696369e-04  0.130605  0.073493\n",
       "3 -4.737701e-04  1.213409e-04  0.073493  0.187359"
      ]
     },
     "execution_count": 94,
     "metadata": {},
     "output_type": "execute_result"
    }
   ],
   "source": [
    "jacob_doppler_EMM = - Omega/(2*c**2 * k_vec**2) * np.array( [sum(beta_xyz**2), Omega * beta_xyz[0], \n",
    "                                                             Omega* beta_xyz[1], Omega* beta_xyz[2]] )\n",
    "sigma_doppler_EMM_propagation = np.zeros((4,4))\n",
    "sigma_doppler_EMM_propagation[0,0] = Omega_sigma**2\n",
    "sigma_doppler_EMM_propagation[1,1:3] = sigma_beta_phi_xy[0,:2]\n",
    "sigma_doppler_EMM_propagation[2,1:3] = sigma_beta_phi_xy[1,:2]\n",
    "sigma_doppler_EMM_propagation[3,3] = beta_xyz_sigma[2]**2\n",
    "\n",
    "DataFrame(jacob_doppler_EMM)\n",
    "print( DataFrame(sigma_doppler_EMM_propagation) )\n",
    "DataFrame(sigma_beta_phi_xy)"
   ]
  },
  {
   "cell_type": "code",
   "execution_count": 95,
   "metadata": {},
   "outputs": [
    {
     "data": {
      "text/plain": [
       "8.362565022387836e-21"
      ]
     },
     "execution_count": 95,
     "metadata": {},
     "output_type": "execute_result"
    }
   ],
   "source": [
    "doppler_2nd_EMM_sigma = np.sqrt( jacob_doppler_EMM @ sigma_doppler_EMM_propagation @ np.transpose(jacob_doppler_EMM) )\n",
    "doppler_2nd_EMM_sigma"
   ]
  },
  {
   "cell_type": "code",
   "execution_count": null,
   "metadata": {},
   "outputs": [],
   "source": []
  }
 ],
 "metadata": {
  "kernelspec": {
   "display_name": "Python 3",
   "language": "python",
   "name": "python3"
  },
  "language_info": {
   "codemirror_mode": {
    "name": "ipython",
    "version": 3
   },
   "file_extension": ".py",
   "mimetype": "text/x-python",
   "name": "python",
   "nbconvert_exporter": "python",
   "pygments_lexer": "ipython3",
   "version": "3.7.4"
  }
 },
 "nbformat": 4,
 "nbformat_minor": 4
}
