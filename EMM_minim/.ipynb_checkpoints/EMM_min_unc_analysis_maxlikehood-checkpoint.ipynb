{
 "cells": [
  {
   "cell_type": "markdown",
   "metadata": {},
   "source": [
    "# Analyza nejistot minimalizace EMM"
   ]
  },
  {
   "cell_type": "code",
   "execution_count": 1,
   "metadata": {},
   "outputs": [],
   "source": [
    "# Setup some Jupyter env features\n",
    "%load_ext autoreload\n",
    "%autoreload 2\n",
    "%matplotlib inline"
   ]
  },
  {
   "cell_type": "markdown",
   "metadata": {},
   "source": [
    "Nejprve načtu histogramy odpovídající jednotlivým měřením"
   ]
  },
  {
   "cell_type": "code",
   "execution_count": 2,
   "metadata": {},
   "outputs": [],
   "source": [
    "import numpy as np\n",
    "\n",
    "\n",
    "fotkor_z = np.genfromtxt(\"axial_EMM_10_03_2020_part2_delim.txt\", delimiter=\"\\t\")[:,1]\n",
    "voltages_z = np.genfromtxt(\"axial_EMM_10_03_2020_part2_voltages.txt\", delimiter=\"\\t\")[1,:]\n",
    "fotkor_xz = np.genfromtxt(\"sikmy_EMM_10_03_2020_part1_delim.txt\", delimiter=\"\\t\")[:,5]\n",
    "voltages_xz = np.genfromtxt(\"sikmy_EMM_10_03_2020_part1_voltages.txt\", delimiter=\"\\t\")[5,:]\n",
    "\n",
    "# pomocne promene\n",
    "fotkor_z_shape = np.shape(fotkor_z)\n",
    "fotkor_xz_shape = np.shape(fotkor_xz)\n",
    "# dale predpokladam, ze signaly maji stejny pocet binu\n",
    "# fotkor_shape = np.array( [fotkor_z_shape, fotkor_xz_shape] )\n",
    "\n",
    "# parametry odecitani foton-korelacnich dat\n",
    "t_res = 256e-12  # casove rozliseni histogramu v s\n",
    "t_measure = 150 # doba nacitani dat v s\n",
    "\n",
    "# casova skala foton-kor. dat\n",
    "t_scale_z = np.array( range(0,fotkor_z_shape[0]) ) *t_res\n",
    "t_scale_xz = np.array( range(0,fotkor_xz_shape[0]) ) *t_res\n",
    "\n",
    "t_scale = t_scale_z\n",
    "\n",
    "\n",
    "#---------- odecet pozadi\n",
    "# spolecne vsem merenim\n",
    "background_photocounts = 400 # ph/s  tyto fotony jsou rovnomerne rozdeleny v prubehu RF periody\n",
    "bg_ph_sum = background_photocounts * t_measure  # celkovy pocet fotonu pozadi za cas mereni\n",
    "#\n",
    "\n",
    "last_bin_ratio_z = fotkor_z[fotkor_z_shape[0]-2] / fotkor_z[fotkor_z_shape[0]-3]  # pomer mezi county v poslednim/predposlednim binu\n",
    "bg_ph_per_bin_z = bg_ph_sum/(fotkor_z_shape[0]-2 + last_bin_ratio_z)\n",
    "last_bin_ratio_xz = fotkor_xz[fotkor_xz_shape[0]-2] / fotkor_xz[fotkor_xz_shape[0]-3]  # pomer mezi county v poslednim/predposlednim binu\n",
    "bg_ph_per_bin_xz = bg_ph_sum/(fotkor_xz_shape[0]-2 + last_bin_ratio_xz)\n",
    "\n",
    "fotkor_z[:fotkor_z_shape[0]-2] = fotkor_z[:fotkor_z_shape[0]-2] - bg_ph_per_bin_z \n",
    "fotkor_z[fotkor_z_shape[0]-2] = fotkor_z[fotkor_z_shape[0]-2] - bg_ph_per_bin_z * last_bin_ratio_z\n",
    "fotkor_xz[:fotkor_xz_shape[0]-2] = fotkor_xz[:fotkor_xz_shape[0]-2] - bg_ph_per_bin_xz \n",
    "fotkor_xz[fotkor_xz_shape[0]-2] = fotkor_xz[fotkor_xz_shape[0]-2] - bg_ph_per_bin_xz * last_bin_ratio_xz\n",
    "# ------------------------------\n",
    "\n",
    "# vlozim signaly a voltage do matic\n",
    "fotkor = np.transpose( np.array( [fotkor_z, fotkor_xz] ) ) # tvar: [data, osa]\n",
    "voltages = np.transpose( np.array( [voltages_z, voltages_xz] ) ) # tvar: [data, osa]\n",
    "\n",
    "fotkor_shape = np.shape(fotkor)"
   ]
  },
  {
   "cell_type": "code",
   "execution_count": 3,
   "metadata": {},
   "outputs": [
    {
     "name": "stdout",
     "output_type": "stream",
     "text": [
      "30032035.976450287\n",
      "30032822.857731443\n",
      "30032429.417090867\n",
      "230898.38519217444\n"
     ]
    }
   ],
   "source": [
    "# odhad periody triggeru\n",
    "Omega = np.zeros(fotkor_shape[1])\n",
    "Omega_sigma = np.zeros(fotkor_shape[1])\n",
    "\n",
    "for i in range(fotkor_shape[1]):\n",
    "    T_trig = ( fotkor[fotkor_shape[0]-2,i] / fotkor[fotkor_shape[0]-3,i] )* t_res + t_scale[fotkor_shape[0]-2]\n",
    "    T_trig_sigma = t_res\n",
    "    # frekvence buzeni pasti\n",
    "\n",
    "    drive_freq = 1/T_trig\n",
    "    drive_freq_sigma = 1/T_trig**2 *T_trig_sigma\n",
    "    Omega[i] = 2*np.pi * drive_freq\n",
    "    Omega_sigma[i] = 2*np.pi * drive_freq_sigma\n",
    "    print(drive_freq)\n",
    "    \n",
    "Omega = np.mean(Omega)\n",
    "Omega_sigma = np.sqrt(0.5*np.sum(Omega_sigma**2) )\n",
    "\n",
    "print(Omega/(2*np.pi))\n",
    "print(Omega_sigma/(2*np.pi))"
   ]
  },
  {
   "cell_type": "markdown",
   "metadata": {},
   "source": [
    "Fitovani histogramu"
   ]
  },
  {
   "cell_type": "code",
   "execution_count": 40,
   "metadata": {},
   "outputs": [],
   "source": [
    "# residua vcetne vah\n",
    "def likehood_transform(x, Omega, S, time_step, sigma):\n",
    "    # definuju funkci vracejici logaritmus pravdepodobnosti, ze z distrubuce dane sinusovkou, co fituji vyberu pozorovane body\n",
    "    # predpokladam, ze kazdy bod je normalne rozdelen kolem sinusovky\n",
    "    \n",
    "    len_S = len(S)\n",
    "    #print(len_S)\n",
    "    S_fit = x[0]*( 1 + x[1] * np.cos( Omega * time_step * np.arange(0, len_S) + x[2] ) )\n",
    "    \n",
    "    sum_term = ( (S - S_fit )/sigma )**2\n",
    "    log_term = np.log( np.ones(len_S) * sigma * np.sqrt(2*np.pi) )\n",
    "    \n",
    "    return( 0.5* np.sum( sum_term ) + np.sum(log_term) ) # vraci -log( likehood)\n",
    "\n",
    "def fit_func(x, Omega, time_points):\n",
    "    return x[0] + x[1] * np.cos(Omega * time_points + x[2])"
   ]
  },
  {
   "cell_type": "code",
   "execution_count": 140,
   "metadata": {},
   "outputs": [
    {
     "name": "stdout",
     "output_type": "stream",
     "text": [
      "      fun: 767.7988848421435\n",
      " hess_inv: array([[ 3.49335043e-01,  0.00000000e+00, -4.32020486e-02],\n",
      "       [ 0.00000000e+00,  6.82075552e-09, -7.88713805e-09],\n",
      "       [-4.32020486e-02, -7.88713805e-09,  1.47441887e-02]])\n",
      "      jac: array([0.00000000e+00, 2.28881836e-05, 0.00000000e+00])\n",
      "  message: 'Desired error not necessarily achieved due to precision loss.'\n",
      "     nfev: 226\n",
      "      nit: 15\n",
      "     njev: 45\n",
      "   status: 2\n",
      "  success: False\n",
      "        x: array([ 6.66192742e+03, -1.04124311e-02,  1.71404598e+00])\n",
      "\n",
      "\n",
      "      fun: 767.798884842005\n",
      " hess_inv: array([[ 3.49939138e-02, -6.98549893e-06, -3.43216646e-02],\n",
      "       [-6.98549893e-06,  2.51653782e-06,  9.28029048e-06],\n",
      "       [-3.43216646e-02,  9.28029048e-06,  3.57889776e-02]])\n",
      "      jac: array([7.62939453e-06, 1.52587891e-05, 7.62939453e-06])\n",
      "  message: 'Desired error not necessarily achieved due to precision loss.'\n",
      "     nfev: 542\n",
      "      nit: 16\n",
      "     njev: 106\n",
      "   status: 2\n",
      "  success: False\n",
      "        x: array([ 6.66192757e+03,  1.04124161e-02, -1.42754651e+00])\n",
      "\n",
      "\n",
      "      fun: 795.6444806352447\n",
      " hess_inv: array([[ 6.02733124e+01,  1.98098646e-04, -3.55624942e-01],\n",
      "       [ 1.98098646e-04,  4.16011019e-06, -9.55370484e-07],\n",
      "       [-3.55624942e-01, -9.55370484e-07,  3.91130537e-02]])\n",
      "      jac: array([0., 0., 0.])\n",
      "  message: 'Optimization terminated successfully.'\n",
      "     nfev: 95\n",
      "      nit: 15\n",
      "     njev: 19\n",
      "   status: 0\n",
      "  success: True\n",
      "        x: array([6.67626638e+03, 1.01976274e-02, 1.34125385e+00])\n",
      "\n",
      "\n"
     ]
    }
   ],
   "source": [
    "from scipy.optimize import minimize\n",
    "# cyklus fitujici vsechny foton-korelacni data\n",
    "\n",
    "x = np.zeros( (3,fotkor_shape[1]) )\n",
    "DeltaS_S_ratio = []\n",
    "sigmas = np.zeros((3,fotkor_shape[1]))\n",
    "Delta_S_S_ratio_sigma = []\n",
    "fot_phi = []\n",
    "\n",
    "hist_sigma = [86,110] # sigma binu jednotlivych fotkor-signalu\n",
    "\n",
    "for i in range(fotkor_shape[1]):\n",
    "    \n",
    "    # -----\n",
    "    #podminky urcujici prijimuti reseni\n",
    "    max_phi_unc = 0.3\n",
    "    phi0 = 1.5\n",
    "    \n",
    "    #--- zde budu zkouset postupne ruzne pocatecni body tak, aby minimalizace vybrala globalni minimum\n",
    "    x0 = [fotkor[:fotkor_shape[0]-2,i].mean(), 0.5* ( fotkor[:fotkor_shape[0]-2,i].max()\n",
    "    -fotkor[:fotkor_shape[0]-2,i].min() )/fotkor[:fotkor_shape[0]-2,i].mean(), phi0]\n",
    "    \n",
    "    fit = minimize(likehood_transform, x0, args=(Omega, fotkor[:fotkor_shape[0]-2,i], t_res, hist_sigma[i] ), tol=1e-10 )\n",
    "    print(fit)\n",
    "    print('\\n')\n",
    "    if ( np.sqrt(fit.hess_inv[2,2]) > max_phi_unc ) or (fit.x[1] < 0):\n",
    "        x0 = [fotkor[:fotkor_shape[0]-2,i].mean(), 0.5* ( fotkor[:fotkor_shape[0]-2,i].max()\n",
    "        -fotkor[:fotkor_shape[0]-2,i].min() )/fotkor[:fotkor_shape[0]-2,i].mean(), -phi0]\n",
    "    \n",
    "        fit = minimize(likehood_transform, x0, args=(Omega, fotkor[:fotkor_shape[0]-2,i], t_res, hist_sigma[i] ), tol=1e-10 )\n",
    "        print(fit)\n",
    "        print('\\n')\n",
    "        \n",
    "    #---- odhad nejistot parametru----\n",
    "#     C = fit.hess_inv  # variancni-kovariancni matice\n",
    "    C = fit.hess_inv\n",
    "    #------------------------------- \n",
    "    x[:,i] = fit.x\n",
    "    sigmas[:,i] = np.sqrt( np.diagonal(C) )\n",
    "    DeltaS_S_ratio.append(x[1,i]  )\n",
    "    \n",
    "    #---- faze fot-kor signalu\n",
    "    fot_phi.append( np.angle(DeltaS_S_ratio[i]*np.exp(1j*x[2,i])) )\n",
    "    \n",
    "    #---- sigma delta s ku s\n",
    "    Delta_S_S_ratio_sigma.append(np.sqrt( C[1,1]) )\n",
    "    \n",
    "S_0 = x[0,:]  # parametry S_0\n",
    "DeltaS = x[1,:] * S_0 # delta S"
   ]
  },
  {
   "cell_type": "code",
   "execution_count": 142,
   "metadata": {},
   "outputs": [
    {
     "name": "stdout",
     "output_type": "stream",
     "text": [
      "[0.010412416097451605, 0.010197627439354094]\n",
      "[0.001586359927480201, 0.002039634817467594]\n",
      "[-1.427546505824729, 1.3412538473502291]\n",
      "[0.18917975 0.1977702 ]\n"
     ]
    }
   ],
   "source": [
    "print(DeltaS_S_ratio)\n",
    "print(Delta_S_S_ratio_sigma)\n",
    "print(fot_phi)\n",
    "print(sigmas[2,:])"
   ]
  },
  {
   "cell_type": "markdown",
   "metadata": {},
   "source": [
    "priblizne odpovida random samplingu -> vizualni kontrola"
   ]
  },
  {
   "cell_type": "code",
   "execution_count": 143,
   "metadata": {},
   "outputs": [],
   "source": [
    "# plot dat\n",
    "import matplotlib.pyplot as plt\n",
    "from matplotlib import rc\n",
    "from matplotlib import rcParams\n",
    "\n",
    "rcParams[\"font.size\"] = 16\n",
    "rcParams[\"mathtext.fontset\"] = \"cm\"\n",
    "rcParams[\"mathtext.rm\"] = \"serif\"\n",
    "rcParams[\"text.usetex\"] = \"true\";\n",
    "rc('text', usetex=True)"
   ]
  },
  {
   "cell_type": "code",
   "execution_count": 144,
   "metadata": {},
   "outputs": [
    {
     "data": {
      "image/png": "[encoded data removed]",
      "text/plain": [
       "<Figure size 432x288 with 1 Axes>"
      ]
     },
     "metadata": {
      "needs_background": "light"
     },
     "output_type": "display_data"
    },
    {
     "data": {
      "image/png": "[encoded data removed]",
      "text/plain": [
       "<Figure size 432x288 with 1 Axes>"
      ]
     },
     "metadata": {
      "needs_background": "light"
     },
     "output_type": "display_data"
    }
   ],
   "source": [
    "# plot fitu vcetne errorbaru\n",
    "# my_dpi = 150\n",
    "# siz = 100\n",
    "# sizex = 16*siz\n",
    "# sizey = 9*siz\n",
    "# plot techto fitu\n",
    "time_fit = np.linspace(0, t_scale.max(), 200)\n",
    "\n",
    "for i in range(fotkor_shape[1]):\n",
    "    \n",
    "    fotkor_fit = fit_func( [S_0[i],DeltaS[i],x[2,i]], Omega, time_fit)\n",
    "    \n",
    "    plt.figure()\n",
    "    plt.errorbar(t_scale[:fotkor_shape[0]-2],fotkor[:fotkor_shape[0]-2,i],yerr=hist_sigma[i],fmt='.')\n",
    "    plt.plot(time_fit, fotkor_fit)\n",
    "    text = r'$\\frac{\\Delta S}{S_0}  = \\,\\,$' + r'${:.5f} \\pm {:.6f}$'.format(DeltaS_S_ratio[i], Delta_S_S_ratio_sigma[i])\n",
    "    plt.text(3e-8, fotkor[:,i].max()-500,text) \n",
    "    text2 = r'$\\varphi  = {:.5f} \\pm {:.3}$'.format(fot_phi[i], sigmas[2,i])\n",
    "    plt.text(3e-8, fotkor[:,i].max(),text2) \n"
   ]
  },
  {
   "cell_type": "markdown",
   "metadata": {},
   "source": [
    "ok"
   ]
  },
  {
   "cell_type": "markdown",
   "metadata": {},
   "source": [
    "## Max. likehood test"
   ]
  },
  {
   "cell_type": "code",
   "execution_count": null,
   "metadata": {},
   "outputs": [],
   "source": []
  },
  {
   "cell_type": "markdown",
   "metadata": {},
   "source": [
    "likehood fce vypada ok. zkusim minimalizovat"
   ]
  },
  {
   "cell_type": "markdown",
   "metadata": {},
   "source": [
    "test vypada ok"
   ]
  },
  {
   "cell_type": "code",
   "execution_count": null,
   "metadata": {},
   "outputs": [],
   "source": []
  },
  {
   "cell_type": "code",
   "execution_count": null,
   "metadata": {},
   "outputs": [],
   "source": []
  }
 ],
 "metadata": {
  "kernelspec": {
   "display_name": "Python 3",
   "language": "python",
   "name": "python3"
  },
  "language_info": {
   "codemirror_mode": {
    "name": "ipython",
    "version": 3
   },
   "file_extension": ".py",
   "mimetype": "text/x-python",
   "name": "python",
   "nbconvert_exporter": "python",
   "pygments_lexer": "ipython3",
   "version": "3.7.4"
  }
 },
 "nbformat": 4,
 "nbformat_minor": 4
}
