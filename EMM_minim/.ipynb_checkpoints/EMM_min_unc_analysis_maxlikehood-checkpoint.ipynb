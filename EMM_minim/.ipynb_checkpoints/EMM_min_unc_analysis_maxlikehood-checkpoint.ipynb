{
 "cells": [
  {
   "cell_type": "markdown",
   "metadata": {},
   "source": [
    "# Analyza nejistot minimalizace EMM"
   ]
  },
  {
   "cell_type": "code",
   "execution_count": 108,
   "metadata": {},
   "outputs": [
    {
     "name": "stdout",
     "output_type": "stream",
     "text": [
      "The autoreload extension is already loaded. To reload it, use:\n",
      "  %reload_ext autoreload\n"
     ]
    }
   ],
   "source": [
    "# Setup some Jupyter env features\n",
    "%load_ext autoreload\n",
    "%autoreload 2\n",
    "%matplotlib inline\n",
    "\n",
    "from pandas import DataFrame"
   ]
  },
  {
   "cell_type": "markdown",
   "metadata": {},
   "source": [
    "Nejprve načtu histogramy odpovídající jednotlivým měřením"
   ]
  },
  {
   "cell_type": "code",
   "execution_count": 2,
   "metadata": {},
   "outputs": [],
   "source": [
    "import numpy as np\n",
    "\n",
    "\n",
    "fotkor_z = np.genfromtxt(\"axial_EMM_10_03_2020_part2_delim.txt\", delimiter=\"\\t\")[:,1]\n",
    "voltages_z = np.genfromtxt(\"axial_EMM_10_03_2020_part2_voltages.txt\", delimiter=\"\\t\")[1,:]\n",
    "fotkor_xz = np.genfromtxt(\"sikmy_EMM_10_03_2020_part1_delim.txt\", delimiter=\"\\t\")[:,5]\n",
    "voltages_xz = np.genfromtxt(\"sikmy_EMM_10_03_2020_part1_voltages.txt\", delimiter=\"\\t\")[5,:]\n",
    "\n",
    "# pomocne promene\n",
    "fotkor_z_shape = np.shape(fotkor_z)\n",
    "fotkor_xz_shape = np.shape(fotkor_xz)\n",
    "# dale predpokladam, ze signaly maji stejny pocet binu\n",
    "# fotkor_shape = np.array( [fotkor_z_shape, fotkor_xz_shape] )\n",
    "\n",
    "# parametry odecitani foton-korelacnich dat\n",
    "t_res = 256e-12  # casove rozliseni histogramu v s\n",
    "t_measure = 150 # doba nacitani dat v s\n",
    "\n",
    "# casova skala foton-kor. dat\n",
    "t_scale_z = np.array( range(0,fotkor_z_shape[0]) ) *t_res\n",
    "t_scale_xz = np.array( range(0,fotkor_xz_shape[0]) ) *t_res\n",
    "\n",
    "t_scale = t_scale_z\n",
    "\n",
    "\n",
    "#---------- odecet pozadi\n",
    "# spolecne vsem merenim\n",
    "background_photocounts = 400 # ph/s  tyto fotony jsou rovnomerne rozdeleny v prubehu RF periody\n",
    "bg_ph_sum = background_photocounts * t_measure  # celkovy pocet fotonu pozadi za cas mereni\n",
    "#\n",
    "\n",
    "last_bin_ratio_z = fotkor_z[fotkor_z_shape[0]-2] / fotkor_z[fotkor_z_shape[0]-3]  # pomer mezi county v poslednim/predposlednim binu\n",
    "bg_ph_per_bin_z = bg_ph_sum/(fotkor_z_shape[0]-2 + last_bin_ratio_z)\n",
    "last_bin_ratio_xz = fotkor_xz[fotkor_xz_shape[0]-2] / fotkor_xz[fotkor_xz_shape[0]-3]  # pomer mezi county v poslednim/predposlednim binu\n",
    "bg_ph_per_bin_xz = bg_ph_sum/(fotkor_xz_shape[0]-2 + last_bin_ratio_xz)\n",
    "\n",
    "fotkor_z[:fotkor_z_shape[0]-2] = fotkor_z[:fotkor_z_shape[0]-2] - bg_ph_per_bin_z \n",
    "fotkor_z[fotkor_z_shape[0]-2] = fotkor_z[fotkor_z_shape[0]-2] - bg_ph_per_bin_z * last_bin_ratio_z\n",
    "fotkor_xz[:fotkor_xz_shape[0]-2] = fotkor_xz[:fotkor_xz_shape[0]-2] - bg_ph_per_bin_xz \n",
    "fotkor_xz[fotkor_xz_shape[0]-2] = fotkor_xz[fotkor_xz_shape[0]-2] - bg_ph_per_bin_xz * last_bin_ratio_xz\n",
    "# ------------------------------\n",
    "\n",
    "# vlozim signaly a voltage do matic\n",
    "fotkor = np.transpose( np.array( [fotkor_z, fotkor_xz] ) ) # tvar: [data, osa]\n",
    "voltages = np.transpose( np.array( [voltages_z, voltages_xz] ) ) # tvar: [data, osa]\n",
    "\n",
    "fotkor_shape = np.shape(fotkor)"
   ]
  },
  {
   "cell_type": "code",
   "execution_count": 3,
   "metadata": {},
   "outputs": [
    {
     "name": "stdout",
     "output_type": "stream",
     "text": [
      "30032035.976450287\n",
      "30032822.857731443\n",
      "30032429.417090867\n",
      "230898.38519217444\n"
     ]
    }
   ],
   "source": [
    "# odhad periody triggeru\n",
    "Omega = np.zeros(fotkor_shape[1])\n",
    "Omega_sigma = np.zeros(fotkor_shape[1])\n",
    "\n",
    "for i in range(fotkor_shape[1]):\n",
    "    T_trig = ( fotkor[fotkor_shape[0]-2,i] / fotkor[fotkor_shape[0]-3,i] )* t_res + t_scale[fotkor_shape[0]-2]\n",
    "    T_trig_sigma = t_res\n",
    "    # frekvence buzeni pasti\n",
    "\n",
    "    drive_freq = 1/T_trig\n",
    "    drive_freq_sigma = 1/T_trig**2 *T_trig_sigma\n",
    "    Omega[i] = 2*np.pi * drive_freq\n",
    "    Omega_sigma[i] = 2*np.pi * drive_freq_sigma\n",
    "    print(drive_freq)\n",
    "    \n",
    "Omega = np.mean(Omega)\n",
    "Omega_sigma = np.sqrt(0.5*np.sum(Omega_sigma**2) )\n",
    "\n",
    "print(Omega/(2*np.pi))\n",
    "print(Omega_sigma/(2*np.pi))"
   ]
  },
  {
   "cell_type": "markdown",
   "metadata": {},
   "source": [
    "Fitovani histogramu"
   ]
  },
  {
   "cell_type": "code",
   "execution_count": 4,
   "metadata": {},
   "outputs": [],
   "source": [
    "# residua vcetne vah\n",
    "def likehood_transform(x, Omega, S, time_step, sigma):\n",
    "    # definuju funkci vracejici logaritmus pravdepodobnosti, ze z distrubuce dane sinusovkou, co fituji vyberu pozorovane body\n",
    "    # predpokladam, ze kazdy bod je normalne rozdelen kolem sinusovky\n",
    "    \n",
    "    len_S = len(S)\n",
    "    #print(len_S)\n",
    "    S_fit = x[0]*( 1 + x[1] * np.cos( Omega * time_step * np.arange(0, len_S) + x[2] ) )\n",
    "    \n",
    "    sum_term = ( (S - S_fit )/sigma )**2\n",
    "    log_term = np.log( np.ones(len_S) * sigma * np.sqrt(2*np.pi) )\n",
    "    \n",
    "    return( 0.5* np.sum( sum_term ) + np.sum(log_term) ) # vraci -log( likehood)\n",
    "\n",
    "def likehood_transform_jac(x, Omega, S, time_step, sigma):\n",
    "    # vektor jacob. likehood fce\n",
    "    len_S = len(S)\n",
    "    sum_term0 = 2/sigma**2 * (1 + x[1]*np.cos( Omega * time_step * np.arange(0, len_S) + x[2] ) ) *( x[0]*x[1] * np.cos( Omega * time_step * np.arange(0, len_S) + x[2] ) + x[0] - S)\n",
    "    \n",
    "    sum_term1 = 2/sigma**2 * x[0]*np.cos( Omega * time_step * np.arange(0, len_S) + x[2] )*( x[0]*x[1] * np.cos( Omega * time_step * np.arange(0, len_S) + x[2] ) + x[0] - S)\n",
    "        \n",
    "    sum_term2 = (-2/sigma**2) * x[0] * x[1] * ( x[0] * x[1] * np.cos( Omega * time_step * np.arange(0, len_S) + x[2] ) + x[0] - S)*np.sin( Omega * time_step * np.arange(0, len_S) + x[2] )\n",
    "        \n",
    "    return( 0.5 * np.array( [np.sum(sum_term0), np.sum(sum_term1), np.sum(sum_term2)] ) )\n",
    "\n",
    "def likehood_transform_sigma(x, Omega, S, time_step):\n",
    "    # definuju funkci vracejici logaritmus pravdepodobnosti, ze z distrubuce dane sinusovkou, co fituji vyberu pozorovane body\n",
    "    # predpokladam, ze kazdy bod je normalne rozdelen kolem sinusovky\n",
    "    \n",
    "    len_S = len(S)\n",
    "    #print(len_S)\n",
    "    S_fit = x[0]*( 1 + x[1] * np.cos( Omega * time_step * np.arange(0, len_S) + x[2] ) )\n",
    "    \n",
    "    sum_term = ( (S - S_fit )/x[3] )**2\n",
    "    log_term = np.log( np.ones(len_S) * x[3] * np.sqrt(2*np.pi) )\n",
    "    \n",
    "    return( 0.5* np.sum( sum_term ) + np.sum(log_term) ) # vraci -log( likehood)\n",
    "\n",
    "def fit_func(x, Omega, time_points):\n",
    "    return x[0] + x[1] * np.cos(Omega * time_points + x[2])"
   ]
  },
  {
   "cell_type": "code",
   "execution_count": 5,
   "metadata": {},
   "outputs": [
    {
     "name": "stdout",
     "output_type": "stream",
     "text": [
      "      fun: 767.7988848419911\n",
      " hess_inv: array([[ 5.67233521e+01, -1.46751190e-04, -4.54303460e-03],\n",
      "       [-1.46751190e-04,  2.55923096e-06, -3.64663918e-06],\n",
      "       [-4.54303460e-03, -3.64663918e-06,  2.36758350e-02]])\n",
      "      jac: array([-3.29296434e-11,  6.25449147e-07,  6.04823736e-09])\n",
      "  message: 'Desired error not necessarily achieved due to precision loss.'\n",
      "     nfev: 28\n",
      "      nit: 16\n",
      "     njev: 27\n",
      "   status: 2\n",
      "  success: False\n",
      "        x: array([ 6.66192755e+03,  1.04124236e-02, -1.42754652e+00])\n",
      "\n",
      "\n",
      "      fun: 795.6444806352281\n",
      " hess_inv: array([[ 9.27291852e+01, -1.29617354e-04,  1.43324513e-02],\n",
      "       [-1.29617354e-04,  4.21160547e-06, -6.03806135e-07],\n",
      "       [ 1.43324513e-02, -6.03806135e-07,  3.94698872e-02]])\n",
      "      jac: array([ 8.17573823e-09, -3.80934807e-07, -2.98114715e-08])\n",
      "  message: 'Desired error not necessarily achieved due to precision loss.'\n",
      "     nfev: 117\n",
      "      nit: 16\n",
      "     njev: 105\n",
      "   status: 2\n",
      "  success: False\n",
      "        x: array([6.67626634e+03, 1.01976349e-02, 1.34125376e+00])\n",
      "\n",
      "\n"
     ]
    }
   ],
   "source": [
    "from scipy.optimize import minimize\n",
    "# cyklus fitujici vsechny foton-korelacni data\n",
    "\n",
    "x = np.zeros( (3,fotkor_shape[1]) )\n",
    "DeltaS_S_ratio = []\n",
    "sigmas = np.zeros((3,fotkor_shape[1]))\n",
    "Delta_S_S_ratio_sigma = []\n",
    "fot_phi = []\n",
    "fot_phi_sigma = []\n",
    "\n",
    "hist_sigma = [86,110] # sigma binu jednotlivych fotkor-signalu\n",
    "\n",
    "for i in range(fotkor_shape[1]):\n",
    "    \n",
    "    # -----\n",
    "    #podminky urcujici prijimuti reseni\n",
    "    max_phi_unc = 0.3\n",
    "    phi0 = 0.01\n",
    "    \n",
    "    #--- zde budu zkouset postupne ruzne pocatecni body tak, aby minimalizace vybrala globalni minimum\n",
    "    x0 = [fotkor[:fotkor_shape[0]-2,i].mean(), 0.5* ( fotkor[:fotkor_shape[0]-2,i].max()\n",
    "    -fotkor[:fotkor_shape[0]-2,i].min() )/fotkor[:fotkor_shape[0]-2,i].mean(), phi0]\n",
    "#     x0 = [fotkor[:fotkor_shape[0]-2,i].mean(), 0.5* ( fotkor[:fotkor_shape[0]-2,i].max()\n",
    "#         -fotkor[:fotkor_shape[0]-2,i].min() )/fotkor[:fotkor_shape[0]-2,i].mean(), phi0, 100]\n",
    "#     fit = minimize(likehood_transform, x0, args=(Omega, fotkor[:fotkor_shape[0]-2,i], t_res, hist_sigma[i] ), tol=1e-10 )\n",
    "    fit = minimize(likehood_transform, x0, args=(Omega, fotkor[:fotkor_shape[0]-2,i], t_res, hist_sigma[i] ), tol=1e-10,\n",
    "                  jac=likehood_transform_jac)\n",
    "#     fit = minimize(likehood_transform_sigma, x0, args=(Omega, fotkor[:fotkor_shape[0]-2,i], t_res), tol=1e-10)\n",
    "    print(fit)\n",
    "    print('\\n')\n",
    "    if ( np.sqrt(fit.hess_inv[2,2]) > max_phi_unc ) or (fit.x[1] < 0):\n",
    "        x0 = [fotkor[:fotkor_shape[0]-2,i].mean(), 0.5* ( fotkor[:fotkor_shape[0]-2,i].max()\n",
    "        -fotkor[:fotkor_shape[0]-2,i].min() )/fotkor[:fotkor_shape[0]-2,i].mean(), -phi0]\n",
    "#         x0 = [fotkor[:fotkor_shape[0]-2,i].mean(), 0.5* ( fotkor[:fotkor_shape[0]-2,i].max()\n",
    "#             -fotkor[:fotkor_shape[0]-2,i].min() )/fotkor[:fotkor_shape[0]-2,i].mean(), -phi0, 100]\n",
    "        fit = minimize(likehood_transform, x0, args=(Omega, fotkor[:fotkor_shape[0]-2,i], t_res, hist_sigma[i] ), tol=1e-10 ,\n",
    "                      jac=likehood_transform_jac)\n",
    "#         fit = minimize(likehood_transform_sigma, x0, args=(Omega, fotkor[:fotkor_shape[0]-2,i], t_res), tol=1e-10)\n",
    "        print(fit)\n",
    "        print('\\n')\n",
    "        \n",
    "    #---- odhad nejistot parametru----\n",
    "#     C = fit.hess_inv  # variancni-kovariancni matice\n",
    "    C = fit.hess_inv\n",
    "    #------------------------------- \n",
    "    x[:,i] = fit.x\n",
    "    sigmas[:,i] = np.sqrt( np.diagonal(C) )\n",
    "    DeltaS_S_ratio.append(x[1,i]  )\n",
    "    \n",
    "    #---- faze fot-kor signalu\n",
    "    fot_phi.append( np.angle(DeltaS_S_ratio[i]*np.exp(1j*x[2,i])) )\n",
    "    \n",
    "    #---- sigma delta s ku s\n",
    "    Delta_S_S_ratio_sigma.append(np.sqrt( C[1,1]) )\n",
    "    \n",
    "    #---- sigma fot_phi\n",
    "    fot_phi_sigma.append(np.sqrt(C[2,2]))\n",
    "    \n",
    "    \n",
    "S_0 = x[0,:]  # parametry S_0\n",
    "DeltaS = x[1,:] * S_0 # delta S"
   ]
  },
  {
   "cell_type": "code",
   "execution_count": 6,
   "metadata": {},
   "outputs": [
    {
     "name": "stdout",
     "output_type": "stream",
     "text": [
      "[0.010412423563583918, 0.010197634945897033]\n",
      "[0.0015997596562353884, 0.0020522196436975324]\n",
      "[-1.4275465237743483, 1.3412537648757124]\n",
      "[0.15386953883677254, 0.19867029781364687]\n"
     ]
    }
   ],
   "source": [
    "print(DeltaS_S_ratio)\n",
    "print(Delta_S_S_ratio_sigma)\n",
    "print(fot_phi)\n",
    "print(fot_phi_sigma)"
   ]
  },
  {
   "cell_type": "markdown",
   "metadata": {},
   "source": [
    "priblizne odpovida random samplingu -> vizualni kontrola"
   ]
  },
  {
   "cell_type": "code",
   "execution_count": 7,
   "metadata": {},
   "outputs": [],
   "source": [
    "# plot dat\n",
    "import matplotlib.pyplot as plt\n",
    "from matplotlib import rc\n",
    "from matplotlib import rcParams\n",
    "\n",
    "rcParams[\"font.size\"] = 16\n",
    "rcParams[\"mathtext.fontset\"] = \"cm\"\n",
    "rcParams[\"mathtext.rm\"] = \"serif\"\n",
    "rcParams[\"text.usetex\"] = \"true\";\n",
    "rc('text', usetex=True)"
   ]
  },
  {
   "cell_type": "code",
   "execution_count": 8,
   "metadata": {},
   "outputs": [
    {
     "data": {
      "image/png": "[encoded data removed]",
      "text/plain": [
       "<Figure size 432x288 with 1 Axes>"
      ]
     },
     "metadata": {
      "needs_background": "light"
     },
     "output_type": "display_data"
    },
    {
     "data": {
      "image/png": "[encoded data removed]",
      "text/plain": [
       "<Figure size 432x288 with 1 Axes>"
      ]
     },
     "metadata": {
      "needs_background": "light"
     },
     "output_type": "display_data"
    }
   ],
   "source": [
    "# plot fitu vcetne errorbaru\n",
    "# my_dpi = 150\n",
    "# siz = 100\n",
    "# sizex = 16*siz\n",
    "# sizey = 9*siz\n",
    "# plot techto fitu\n",
    "time_fit = np.linspace(0, t_scale.max(), 200)\n",
    "\n",
    "for i in range(fotkor_shape[1]):\n",
    "    \n",
    "    fotkor_fit = fit_func( [S_0[i],DeltaS[i],x[2,i]], Omega, time_fit)\n",
    "    \n",
    "    plt.figure()\n",
    "    plt.errorbar(t_scale[:fotkor_shape[0]-2],fotkor[:fotkor_shape[0]-2,i],yerr=hist_sigma[i],fmt='.')\n",
    "    plt.plot(time_fit, fotkor_fit)\n",
    "    text = r'$\\frac{\\Delta S}{S_0}  = \\,\\,$' + r'${:.5f} \\pm {:.6f}$'.format(DeltaS_S_ratio[i], Delta_S_S_ratio_sigma[i])\n",
    "    plt.text(3e-8, fotkor[:,i].max()-500,text) \n",
    "    text2 = r'$\\varphi  = {:.5f} \\pm {:.3}$'.format(fot_phi[i], sigmas[2,i])\n",
    "    plt.text(3e-8, fotkor[:,i].max(),text2) \n"
   ]
  },
  {
   "cell_type": "markdown",
   "metadata": {},
   "source": [
    "ok"
   ]
  },
  {
   "cell_type": "markdown",
   "metadata": {},
   "source": [
    "## Urceni $\\beta$ + nejistoty"
   ]
  },
  {
   "cell_type": "code",
   "execution_count": 9,
   "metadata": {},
   "outputs": [],
   "source": [
    "# parametry vypoctu beta\n",
    "\n",
    "decay_rate = 2*np.pi * 21.008e6  # decay rate dle tabulek NISTu\n",
    "laser_detun = -30e6 * 2*np.pi  # detuning \n",
    "laser_detun_sigma = 5e6 * 2*np.pi # sigma detun"
   ]
  },
  {
   "cell_type": "markdown",
   "metadata": {},
   "source": [
    "Vyuzijeme nelinearniho sireni chyb. Tedy\n",
    "\\begin{equation}\n",
    "    \\mathcal{\\Sigma}^\\beta = \\mathcal{J}^\\beta \\mathcal{\\Sigma} \\mathcal{J }^{\\beta \\rm T}\n",
    "\\end{equation}"
   ]
  },
  {
   "cell_type": "markdown",
   "metadata": {},
   "source": [
    "Jakobian $\\mathcal{J}^\\beta$ vyjadrime pomoci jakobianu $\\mathcal{J}^g$, kde $F(\\beta, \\frac{\\Delta S}{S_0}, \\Omega, \\Delta)=0$, coz je rovnice, kterou resime numericky."
   ]
  },
  {
   "cell_type": "code",
   "execution_count": 10,
   "metadata": {},
   "outputs": [],
   "source": [
    "# numericke reseni deltaS/S -> beta\n",
    "\n",
    "from scipy.optimize import fsolve\n",
    "from scipy.special import j0, j1\n",
    "\n",
    "def get_A(decay_rate, detun):\n",
    "    # returns driven oscillator amplitude in point given by detun param.\n",
    "    return 1 / 2 * (decay_rate / 2 - detun * 1j) / (detun ** 2 + (decay_rate / 2) ** 2)\n",
    "\n",
    "def fl_signal(beta, laser_detun, Omega, decay_rate):\n",
    "    # function calculates deltaS/S0 photon-correlation signal\n",
    "    # input: beta, laser detuning, RF drive freq, decay rate\n",
    "    A_minus = get_A(decay_rate, laser_detun - Omega)\n",
    "    A_plus = get_A(decay_rate, laser_detun + Omega)\n",
    "    A = get_A(decay_rate, laser_detun)\n",
    "\n",
    "    numer = 2 * j0(beta) * j1(beta) * np.abs(np.conj(A) * A_plus - A * np.conj(A_minus))\n",
    "    denom = j0(beta) ** 2 * np.abs(A) ** 2 + j1(beta) ** 2 * (np.abs(A_plus) ** 2 + np.abs(A_minus) ** 2)\n",
    "\n",
    "    return numer / denom\n",
    "\n",
    "def get_beta(Omega, decay_rate, laser_detun, norm_mod_amp):\n",
    "    # function calculates the corresponding beta for given known parameters\n",
    "    # input: drive frequency, decay_rate, laser detuning, normalized modulation amplitude given by ph_corr_signal\n",
    "    # output: float value of beta\n",
    "    def root_func(beta, laser_detun, Omega, decay_rate, norm_mod_amp):\n",
    "        return fl_signal(beta, laser_detun, Omega, decay_rate) - norm_mod_amp\n",
    "\n",
    "    sol = fsolve(root_func, np.array([0.01]), args=(laser_detun, Omega, decay_rate, norm_mod_amp), full_output=1)\n",
    "    return float(sol[0])"
   ]
  },
  {
   "cell_type": "code",
   "execution_count": 11,
   "metadata": {},
   "outputs": [],
   "source": [
    "from scipy.optimize import approx_fprime, check_grad\n",
    "\n",
    "def root_func(x):\n",
    "    [beta, norm_mod_amp, Omega, laser_detun, decay_rate] = x\n",
    "    return fl_signal(beta, laser_detun, Omega, decay_rate) - norm_mod_amp\n",
    "\n",
    "def root_func_grad(x):\n",
    "#     [beta, norm_mod_amp, Omega, laser_detun, decay_rate] = x\n",
    "    epsilon = 5e-6\n",
    "    return( approx_fprime(x, root_func, x*epsilon ) )"
   ]
  },
  {
   "cell_type": "code",
   "execution_count": 139,
   "metadata": {},
   "outputs": [],
   "source": [
    "from scipy.optimize import approx_fprime, check_grad\n",
    "\n",
    "# get beta\n",
    "beta = np.zeros(fotkor_shape[1])\n",
    "beta_sigma = np.zeros(fotkor_shape[1])\n",
    "for k in range(fotkor_shape[1]):\n",
    "    beta[k] = get_beta(Omega, decay_rate, laser_detun, DeltaS_S_ratio[k])\n",
    "    \n",
    "    # get sigma beta\n",
    "    jacob_F = root_func_grad( np.array([beta[k], DeltaS_S_ratio[k], Omega, laser_detun, decay_rate]) ) \n",
    "    # [dF/dbeta, dF/ddeltaS/S, dF/dOmega, dF/dDelta, dF/dGamma]\n",
    "    \n",
    "    # variance-cov parametru\n",
    "    Sigma_param = np.diag([Delta_S_S_ratio_sigma[k]**2, Omega_sigma**2, laser_detun_sigma**2])\n",
    "    \n",
    "    beta_sigma[k] = np.sqrt( jacob_F[0]**-2 * jacob_F[1:-1] @ Sigma_param @ np.transpose( jacob_F[1:-1] ) )\n",
    "    \n",
    "    "
   ]
  },
  {
   "cell_type": "code",
   "execution_count": 140,
   "metadata": {},
   "outputs": [
    {
     "name": "stdout",
     "output_type": "stream",
     "text": [
      "[0.00369926 0.00362294]\n",
      "[0.00065391 0.00079493]\n"
     ]
    }
   ],
   "source": [
    "print(beta)\n",
    "print(beta_sigma)"
   ]
  },
  {
   "cell_type": "code",
   "execution_count": 20,
   "metadata": {},
   "outputs": [
    {
     "data": {
      "text/plain": [
       "1.5722452188384484e-09"
      ]
     },
     "execution_count": 20,
     "metadata": {},
     "output_type": "execute_result"
    }
   ],
   "source": [
    "jacob_F[2]**2  * Omega_sigma**2"
   ]
  },
  {
   "cell_type": "code",
   "execution_count": 56,
   "metadata": {},
   "outputs": [
    {
     "data": {
      "text/plain": [
       "array([ 2.81456273e+00, -1.00000000e+00,  2.79080874e-11, -2.89386544e-11,\n",
       "       -8.12218474e-11])"
      ]
     },
     "execution_count": 56,
     "metadata": {},
     "output_type": "execute_result"
    }
   ],
   "source": [
    "check_grad(root_func, root_func_grad,\n",
    "           np.array([beta[0], DeltaS_S_ratio[0], Omega, laser_detun, decay_rate]))"
   ]
  },
  {
   "cell_type": "code",
   "execution_count": 114,
   "metadata": {},
   "outputs": [
    {
     "data": {
      "text/plain": [
       "5.005898760060026e-06"
      ]
     },
     "execution_count": 114,
     "metadata": {},
     "output_type": "execute_result"
    }
   ],
   "source": [
    "jacob_F[1:-1] @ Sigma_param @ np.transpose( jacob_F[1:-1] )"
   ]
  },
  {
   "cell_type": "code",
   "execution_count": 90,
   "metadata": {},
   "outputs": [
    {
     "data": {
      "text/plain": [
       "array([ 2.81456275e+00, -1.00000000e+00,  2.79069127e-11, -2.89374831e-11,\n",
       "       -8.12214544e-11])"
      ]
     },
     "execution_count": 90,
     "metadata": {},
     "output_type": "execute_result"
    }
   ],
   "source": [
    "root_func_grad(np.array([beta[0], DeltaS_S_ratio[0], Omega, laser_detun, decay_rate]))"
   ]
  },
  {
   "cell_type": "markdown",
   "metadata": {},
   "source": [
    "## projekce indexu $\\beta$ do os $x,y$"
   ]
  },
  {
   "cell_type": "code",
   "execution_count": 128,
   "metadata": {},
   "outputs": [],
   "source": [
    "# definice funkci, ktere prepocitavaji prumety beta_z,beta_xz,beta_xy do os x,y,z\n",
    "\n",
    "def get_beta_xyz_phi_xyz(variables):\n",
    "    #input: beta = [beta_z, beta_xz, beta_xy]  variables = [beta, fot_phi, gamma]\n",
    "    #       fot_phi = [phi_z, phi_xz, phi_xy]\n",
    "    \n",
    "    # output: beta_xyz = [beta_x, beta_y, beta_z]\n",
    "    beta = variables[:3]\n",
    "    fot_phi = variables[3:6]\n",
    "    gamma = variables[6]\n",
    "    epsilon = variables[7]\n",
    "    \n",
    "    beta_x_comp = 1/np.sin(gamma) * (beta[1]*np.exp(1j*fot_phi[1]) - beta[0]*np.cos(gamma)*np.exp(1j*fot_phi[0]) )\n",
    "    beta_y_comp = 1/np.cos(epsilon) * ( np.sin(epsilon) * beta_x_comp  - beta[2]*np.exp(1j*fot_phi[2]) )\n",
    "    \n",
    "    return(np.array( [np.abs(beta_x_comp), np.abs(beta_y_comp)]), \n",
    "           np.array( [np.angle(beta_x_comp), np.angle(beta_y_comp) ] ) \n",
    "          ) \n",
    "\n",
    "\n",
    "def get_beta_x(variables):\n",
    "    #input: beta = [beta_z, beta_xz, beta_xy]  variables = [beta, fot_phi, gamma]\n",
    "    #       fot_phi = [phi_z, phi_xz, phi_xy]\n",
    "    beta = variables[:3]\n",
    "    fot_phi = variables[3:6]\n",
    "    gamma = variables[6]\n",
    "    epsilon = variables[7]\n",
    "    \n",
    "    beta_x_comp = 1/np.sin(gamma) * (beta[1]*np.exp(1j*fot_phi[1]) - beta[0]*np.cos(gamma)*np.exp(1j*fot_phi[0]) )\n",
    "    return( np.abs(beta_x_comp) )\n",
    "\n",
    "def get_phi_x(variables):\n",
    "    #input: beta = [beta_z, beta_xz, beta_xy]  variables = [beta, fot_phi, gamma]\n",
    "    #       fot_phi = [phi_z, phi_xz, phi_xy]\n",
    "    beta = variables[:3]\n",
    "    fot_phi = variables[3:6]\n",
    "    gamma = variables[6]\n",
    "    epsilon = variables[7]\n",
    "    \n",
    "    beta_x_comp = 1/np.sin(gamma) * (beta[1]*np.exp(1j*fot_phi[1]) - beta[0]*np.cos(gamma)*np.exp(1j*fot_phi[0]) )\n",
    "    return( np.angle(beta_x_comp) )\n",
    "\n",
    "def get_beta_y(variables):\n",
    "    #input: beta = [beta_z, beta_xz, beta_xy]  variables = [beta, fot_phi, gamma]\n",
    "    #       fot_phi = [phi_z, phi_xz, phi_xy]\n",
    "    beta = variables[:3]\n",
    "    fot_phi = variables[3:6]\n",
    "    gamma = variables[6]\n",
    "    epsilon = variables[7]\n",
    "    \n",
    "    beta_x_comp = 1/np.sin(gamma) * (beta[1]*np.exp(1j*fot_phi[1]) - beta[0]*np.cos(gamma)*np.exp(1j*fot_phi[0]) )\n",
    "    beta_y_comp = 1/np.cos(epsilon) * ( np.sin(epsilon) * beta_x_comp  - beta[2]*np.exp(1j*fot_phi[2]) )\n",
    "    \n",
    "    return( np.abs(beta_y_comp) )\n",
    "\n",
    "def get_phi_y(variables):\n",
    "    #input: beta = [beta_z, beta_xz, beta_xy]  variables = [beta, fot_phi, gamma]\n",
    "    #       fot_phi = [phi_z, phi_xz, phi_xy]\n",
    "    beta = variables[:3]\n",
    "    fot_phi = variables[3:6]\n",
    "    gamma = variables[6]\n",
    "    epsilon = variables[7]\n",
    "    \n",
    "    beta_x_comp = 1/np.sin(gamma) * (beta[1]*np.exp(1j*fot_phi[1]) - beta[0]*np.cos(gamma)*np.exp(1j*fot_phi[0]) )\n",
    "    beta_y_comp = 1/np.cos(epsilon) * ( np.sin(epsilon) * beta_x_comp  - beta[2]*np.exp(1j*fot_phi[2]) )\n",
    "    \n",
    "    return( np.angle(beta_y_comp) )\n",
    "\n",
    "def get_beta_x_jac(variables):\n",
    "    #input: beta = [beta_z, beta_xz, beta_xy]  variables = [beta, fot_phi, gamma]\n",
    "    #       fot_phi = [phi_z, phi_xz, phi_xy]\n",
    "    # output: grad beta_x\n",
    "    epsi_err = 1e-8\n",
    "    return( approx_fprime(variables, get_beta_x, epsi_err) )\n",
    "\n",
    "def get_beta_y_jac(variables):\n",
    "    #input: beta = [beta_z, beta_xz, beta_xy]  variables = [beta, fot_phi, gamma]\n",
    "    #       fot_phi = [phi_z, phi_xz, phi_xy]\n",
    "    # output: grad beta_x\n",
    "    epsi_err = 1e-8\n",
    "    return( approx_fprime(variables, get_beta_y, epsi_err) )\n",
    "\n",
    "def get_phi_x_jac(variables):\n",
    "    #input: beta = [beta_z, beta_xz, beta_xy]  variables = [beta, fot_phi, gamma]\n",
    "    #       fot_phi = [phi_z, phi_xz, phi_xy]\n",
    "    # output: grad beta_x\n",
    "    epsi_err = 1e-8\n",
    "    return( approx_fprime(variables, get_phi_x, epsi_err) )\n",
    "\n",
    "def get_phi_y_jac(variables):\n",
    "    #input: beta = [beta_z, beta_xz, beta_xy]  variables = [beta, fot_phi, gamma]\n",
    "    #       fot_phi = [phi_z, phi_xz, phi_xy]\n",
    "    # output: grad beta_x\n",
    "    epsi_err = 1e-8\n",
    "    return( approx_fprime(variables, get_phi_y, epsi_err) )\n",
    "\n",
    "def get_beta_x_y_phi_x_y_jacob(variables):\n",
    "    #input: beta = [beta_z, beta_xz, beta_xy]  variables = [beta, fot_phi, gamma]\n",
    "    #       fot_phi = [phi_z, phi_xz, phi_xy]\n",
    "    # output: jacobian \n",
    "    \n",
    "    return( np.array([ get_beta_x_jac(variables), get_beta_y_jac(variables), \n",
    "                      get_phi_x_jac(variables), get_phi_y_jac(variables) ])\n",
    "          )\n",
    "    "
   ]
  },
  {
   "cell_type": "code",
   "execution_count": 119,
   "metadata": {},
   "outputs": [
    {
     "data": {
      "text/plain": [
       "array([0.00867406, 0.00341616, 1.49721425, 2.6025512 ])"
      ]
     },
     "execution_count": 119,
     "metadata": {},
     "output_type": "execute_result"
    }
   ],
   "source": [
    "get_beta_xyz_phi_xyz([beta[0],beta[1],0.003, fot_phi[0],fot_phi[1],0, np.pi/4, 0.2])"
   ]
  },
  {
   "cell_type": "code",
   "execution_count": 156,
   "metadata": {},
   "outputs": [
    {
     "data": {
      "text/plain": [
       "0.0012001483246767775"
      ]
     },
     "execution_count": 156,
     "metadata": {},
     "output_type": "execute_result"
    }
   ],
   "source": [
    "check_grad(get_phi_y, get_phi_y_jac, [beta[0],beta[1],0.005, fot_phi[0],fot_phi[1],0, np.pi/4, 0.3])"
   ]
  },
  {
   "cell_type": "code",
   "execution_count": 117,
   "metadata": {},
   "outputs": [
    {
     "data": {
      "text/plain": [
       "array([[ 9.76583956e-01,  1.39704899e+00,  0.00000000e+00,\n",
       "        -7.95845854e-04,  7.95845854e-04,  0.00000000e+00,\n",
       "        -1.22866956e-02,  0.00000000e+00],\n",
       "       [ 1.27823509e-01,  8.73160605e-02,  8.75656332e-01,\n",
       "         5.82001461e-04,  9.89259976e-04, -1.57126139e-03,\n",
       "        -1.26204407e-03,  4.58569836e-03],\n",
       "       [ 2.48022818e+01, -2.53247014e+01,  0.00000000e+00,\n",
       "         4.16486956e-01,  5.83513038e-01,  0.00000000e+00,\n",
       "        -9.17500964e-02,  0.00000000e+00],\n",
       "       [-4.60544187e+01, -7.99301551e+01,  1.53316131e+02,\n",
       "         1.38416123e-01,  9.26012600e-02,  7.68982611e-01,\n",
       "         6.30316732e-01, -2.26900245e+00]])"
      ]
     },
     "execution_count": 117,
     "metadata": {},
     "output_type": "execute_result"
    }
   ],
   "source": [
    "get_beta_x_y_phi_x_y_jacob( [beta[0],beta[1],0.003, fot_phi[0],fot_phi[1],0, np.pi/4, 0.2] )"
   ]
  },
  {
   "cell_type": "markdown",
   "metadata": {},
   "source": [
    "Prepocitam bety a phi na do os $x,y,z$"
   ]
  },
  {
   "cell_type": "code",
   "execution_count": 129,
   "metadata": {},
   "outputs": [],
   "source": [
    "## uhly detekcnich svazku\n",
    "gamma = 45.07/180 * np.pi\n",
    "gamma_sigma = 6/180 * np.pi\n",
    "epsilon = 20/180 * np.pi\n",
    "epsilon_sigma = 1/180 * np.pi\n"
   ]
  },
  {
   "cell_type": "code",
   "execution_count": 131,
   "metadata": {},
   "outputs": [
    {
     "name": "stdout",
     "output_type": "stream",
     "text": [
      "[0.00865907 0.00184993 0.00369926]\n",
      "[0.00182257 0.0008146  0.00065391]\n",
      "[ 1.49710203 -1.74951379 -1.42754652]\n",
      "[0.13533187 0.10909656 0.15386954]\n"
     ]
    }
   ],
   "source": [
    "[beta_x_y, phi_x_y] = get_beta_xyz_phi_xyz( [beta[0],beta[1],0.002, fot_phi[0],fot_phi[1],1.4,gamma, epsilon_sigma] )\n",
    "beta_xyz = np.append(beta_x_y, beta[0]) # [beta_x, beta_y, beta_z]\n",
    "phi_xyz = np.append(phi_x_y, fot_phi[0]) # [phi_x, phi_y, phi_z]\n",
    "\n",
    "#--- nejistoty zakonem sireni chyb\n",
    "# sirim kovariancni matici diag( sigma^2 beta, sigma^2 phi, simga^2 gamma, epsilon_sigma^2)\n",
    "\n",
    "sigma_params = np.diag([beta_sigma[0]**2, beta_sigma[1]**2, 8e-4**2, fot_phi_sigma[0]**2, fot_phi_sigma[1]**2, \n",
    "                        0.1**2, gamma_sigma**2, epsilon_sigma**2 ])\n",
    "jacob_beta_phi_xy = get_beta_x_y_phi_x_y_jacob([beta[0],beta[1],0.002, fot_phi[0],fot_phi[1],1.4,gamma, epsilon_sigma])\n",
    "\n",
    "sigma_beta_phi_xy = jacob_beta_phi_xy @ sigma_params @ np.transpose(jacob_beta_phi_xy)\n",
    "\n",
    "beta_xyz_sigma = np.sqrt( np.diag(sigma_beta_phi_xy)[:2] )\n",
    "phi_xyz_sigma = np.sqrt( np.diag(sigma_beta_phi_xy)[2:] )\n",
    "\n",
    "beta_xyz_sigma = np.append(beta_xyz_sigma, beta_sigma[0])\n",
    "phi_xyz_sigma = np.append(phi_xyz_sigma, fot_phi_sigma[0])\n",
    "\n",
    "print(beta_xyz)\n",
    "print(beta_xyz_sigma)\n",
    "print(phi_xyz)\n",
    "print(phi_xyz_sigma)"
   ]
  },
  {
   "cell_type": "code",
   "execution_count": 146,
   "metadata": {},
   "outputs": [
    {
     "data": {
      "text/plain": [
       "array([0.00129659, 0.00080001, 0.13495983, 0.10018916])"
      ]
     },
     "execution_count": 146,
     "metadata": {},
     "output_type": "execute_result"
    }
   ],
   "source": [
    "np.sqrt( np.diagonal(sigma_beta_phi_xy) )"
   ]
  },
  {
   "cell_type": "code",
   "execution_count": 159,
   "metadata": {},
   "outputs": [
    {
     "data": {
      "text/plain": [
       "array([ 4.17585302e-07,  8.82812868e-07,  0.00000000e+00, -1.88423192e-05,\n",
       "        3.14119448e-05,  0.00000000e+00, -4.91467764e-10,  0.00000000e+00])"
      ]
     },
     "execution_count": 159,
     "metadata": {},
     "output_type": "execute_result"
    }
   ],
   "source": [
    "get_beta_x_jac([beta[0],beta[1],0.05, fot_phi[0],fot_phi[1],0.5, gamma, epsilon_sigma]) @ np.diag([beta_sigma[0]**2, beta_sigma[1]**2, 8e-4**2, fot_phi_sigma[0]**2, fot_phi_sigma[1]**2, \n",
    "                        0.1**2, gamma_sigma**2, epsilon_sigma**2 ])"
   ]
  },
  {
   "cell_type": "code",
   "execution_count": 160,
   "metadata": {},
   "outputs": [
    {
     "data": {
      "text/plain": [
       "1.681140940541085e-06"
      ]
     },
     "execution_count": 160,
     "metadata": {},
     "output_type": "execute_result"
    }
   ],
   "source": [
    "get_beta_x_jac([beta[0],beta[1],0.05, fot_phi[0],fot_phi[1],0.5, gamma, epsilon_sigma]) @ np.diag([beta_sigma[0]**2, beta_sigma[1]**2, 8e-4**2, fot_phi_sigma[0]**2, fot_phi_sigma[1]**2, \n",
    "                        0.1**2, gamma_sigma**2, epsilon_sigma**2 ]) @ np.transpose( get_beta_x_jac([beta[0],beta[1],0.05, fot_phi[0],fot_phi[1],0.5, gamma, epsilon_sigma]) )"
   ]
  },
  {
   "cell_type": "markdown",
   "metadata": {},
   "source": [
    "## transformace do soustavy $(xyz)^{\\prime}$"
   ]
  },
  {
   "cell_type": "code",
   "execution_count": 100,
   "metadata": {},
   "outputs": [],
   "source": [
    "def get_beta_xyz_prime(variables):\n",
    "    beta_complex_xyz = variables[:3] * np.exp(1j*variables[3:6])\n",
    "    return(  np.abs( 1/np.sqrt(2) * np.array( [ [1,-1,0], [1,1,0], [0,0,np.sqrt(2)] ] ) @ beta_complex_xyz ) )\n",
    "\n",
    "def get_phi_xyz_prime(variables):\n",
    "    beta_complex_xyz = variables[:3] * np.exp(1j*variables[3:6])\n",
    "    return(  np.angle( 1/np.sqrt(2) * np.array( [ [1,-1,0], [1,1,0], [0,0,np.sqrt(2)] ] ) @ beta_complex_xyz ) )\n",
    "\n",
    "def get_beta_x_prime(variables):\n",
    "    #input: variables: = [beta_x, beta_y , betaz, phi_x, phi_y, phi_z]\n",
    "    beta_complex_xyz = variables[:3] * np.exp(1j*variables[3:6])\n",
    "    return(  np.abs( 1/np.sqrt(2) * np.array( [ [1,-1,0], [1,1,0], [0,0,np.sqrt(2)] ] ) @ beta_complex_xyz )[0] )  \n",
    "\n",
    "def get_phi_x_prime(variables):\n",
    "    #input: variables: = [beta_x, beta_y , betaz, phi_x, phi_y, phi_z]\n",
    "    beta_complex_xyz = variables[:3] * np.exp(1j*variables[3:6])\n",
    "    return(  np.angle( 1/np.sqrt(2) * np.array( [ [1,-1,0], [1,1,0], [0,0,np.sqrt(2)] ] ) @ beta_complex_xyz )[0] )\n",
    "\n",
    "def get_beta_y_prime(variables):\n",
    "    #input: variables: = [beta_x, beta_y , betaz, phi_x, phi_y, phi_z]\n",
    "    beta_complex_xyz = variables[:3] * np.exp(1j*variables[3:6])\n",
    "    return(  np.abs( 1/np.sqrt(2) * np.array( [ [1,-1,0], [1,1,0], [0,0,np.sqrt(2)] ] ) @ beta_complex_xyz )[1] )  \n",
    "\n",
    "def get_phi_y_prime(variables):\n",
    "    #input: variables: = [beta_x, beta_y , betaz, phi_x, phi_y, phi_z]\n",
    "    beta_complex_xyz = variables[:3] * np.exp(1j*variables[3:6])\n",
    "    return(  np.angle( 1/np.sqrt(2) * np.array( [ [1,-1,0], [1,1,0], [0,0,np.sqrt(2)] ] ) @ beta_complex_xyz )[1] )\n",
    "\n",
    "def get_beta_z_prime(variables):\n",
    "    #input: variables: = [beta_x, beta_y , betaz, phi_x, phi_y, phi_z]\n",
    "    beta_complex_xyz = variables[:3] * np.exp(1j*variables[3:6])\n",
    "    return(  np.abs( 1/np.sqrt(2) * np.array( [ [1,-1,0], [1,1,0], [0,0,np.sqrt(2)] ] ) @ beta_complex_xyz )[2] )  \n",
    "\n",
    "def get_phi_z_prime(variables):\n",
    "    #input: variables: = [beta_x, beta_y , betaz, phi_x, phi_y, phi_z]\n",
    "    beta_complex_xyz = variables[:3] * np.exp(1j*variables[3:6])\n",
    "    return(  np.angle( 1/np.sqrt(2) * np.array( [ [1,-1,0], [1,1,0], [0,0,np.sqrt(2)] ] ) @ beta_complex_xyz )[2] )\n",
    "\n",
    "def get_beta_x_prime_jac(variables):\n",
    "    #input: variables: = [beta_x, beta_y , betaz, phi_x, phi_y, phi_z]\n",
    "    \n",
    "    epsi_err = 1e-8\n",
    "    return( approx_fprime(variables, get_beta_x_prime, epsi_err) )\n",
    "\n",
    "def get_phi_x_prime_jac(variables):\n",
    "    #input: variables: = [beta_x, beta_y , betaz, phi_x, phi_y, phi_z]\n",
    "    \n",
    "    epsi_err = 1e-8\n",
    "    return( approx_fprime(variables, get_phi_x_prime, epsi_err) ) \n",
    "           \n",
    "def get_beta_y_prime_jac(variables):\n",
    "    #input: variables: = [beta_x, beta_y , betaz, phi_x, phi_y, phi_z]\n",
    "    \n",
    "    epsi_err = 1e-8\n",
    "    return( approx_fprime(variables, get_beta_y_prime, epsi_err) )\n",
    "\n",
    "def get_phi_y_prime_jac(variables):\n",
    "    #input: variables: = [beta_x, beta_y , betaz, phi_x, phi_y, phi_z]\n",
    "    \n",
    "    epsi_err = 1e-8\n",
    "    return( approx_fprime(variables, get_phi_y_prime, epsi_err) )\n",
    "           \n",
    "def get_beta_z_prime_jac(variables):\n",
    "    #input: variables: = [beta_x, beta_y , betaz, phi_x, phi_y, phi_z]\n",
    "    \n",
    "    epsi_err = 1e-8\n",
    "    return( approx_fprime(variables, get_beta_z_prime, epsi_err) )\n",
    "\n",
    "def get_phi_z_prime_jac(variables):\n",
    "    #input: variables: = [beta_x, beta_y , betaz, phi_x, phi_y, phi_z]\n",
    "    \n",
    "    epsi_err = 1e-8\n",
    "    return( approx_fprime(variables, get_phi_z_prime, epsi_err) )\n",
    "\n",
    "def get_beta_x_y_phi_x_y_prime_jacob(variables):\n",
    "    #input: beta = [beta_z, beta_xz, beta_xy]  variables = [beta, fot_phi, gamma]\n",
    "    #       fot_phi = [phi_z, phi_xz, phi_xy]\n",
    "    # output: jacobian \n",
    "    \n",
    "    return( np.array([ get_beta_x_prime_jac(variables), get_beta_y_prime_jac(variables), get_beta_z_prime_jac(variables),\n",
    "                      get_phi_x_prime_jac(variables), get_phi_y_prime_jac(variables),\n",
    "                     get_phi_z_prime_jac(variables)])\n",
    "          )"
   ]
  },
  {
   "cell_type": "markdown",
   "metadata": {},
   "source": [
    "funkce transformuji beta do jine soustavy dle matice transformace"
   ]
  },
  {
   "cell_type": "markdown",
   "metadata": {},
   "source": [
    "jednotlive slozky maji amplitydy a faze:"
   ]
  },
  {
   "cell_type": "code",
   "execution_count": 132,
   "metadata": {},
   "outputs": [
    {
     "data": {
      "text/plain": [
       "array([0.00742505, 0.00482395, 0.00369926])"
      ]
     },
     "execution_count": 132,
     "metadata": {},
     "output_type": "execute_result"
    }
   ],
   "source": [
    "beta_xyz_prime = get_beta_xyz_prime(np.array( [beta_xyz[0],beta_xyz[1],beta_xyz[2], phi_xyz[0], phi_xyz[1], phi_xyz[2] ] ))\n",
    "beta_xyz_prime"
   ]
  },
  {
   "cell_type": "code",
   "execution_count": 133,
   "metadata": {},
   "outputs": [
    {
     "data": {
      "text/plain": [
       "array([ 1.47863265,  1.52553241, -1.42754652])"
      ]
     },
     "execution_count": 133,
     "metadata": {},
     "output_type": "execute_result"
    }
   ],
   "source": [
    "phi_xyz_prime = get_phi_xyz_prime(np.array( [beta_xyz[0],beta_xyz[1],beta_xyz[2], phi_xyz[0], phi_xyz[1], phi_xyz[2] ] ))\n",
    "phi_xyz_prime"
   ]
  },
  {
   "cell_type": "markdown",
   "metadata": {},
   "source": [
    "sireni nejistot: jacobian bude vypadat takto: $R \\cdot \\partial b_i /\\partial \\rm params $"
   ]
  },
  {
   "cell_type": "code",
   "execution_count": 134,
   "metadata": {},
   "outputs": [
    {
     "name": "stdout",
     "output_type": "stream",
     "text": [
      "          0          1    2         3         4             5\n",
      "0  0.706986   0.704460  0.0 -0.000113  0.000113  0.000000e+00\n",
      "1  0.706821  -0.700819  0.0  0.000174 -0.000174  0.000000e+00\n",
      "2  0.000000   0.000000  1.0  0.000000  0.000000 -4.336809e-11\n",
      "3  1.758786  -8.232451  0.0  0.824486  0.175514  0.000000e+00\n",
      "4 -4.166831  19.503981  0.0  1.268756 -0.268756  0.000000e+00\n",
      "5  0.000000   0.000000  0.0  0.000000  0.000000  1.000000e+00\n"
     ]
    }
   ],
   "source": [
    "# jacobian\n",
    "# jacob_xyz_xyz_prime = trans_xyz_xyz_prime @ np.array( [ [np.exp(1j*phi_xyz[0]), 0, 0, 1j*beta_xyz[0]* np.exp(1j*phi_xyz[0]), 0, 0],\n",
    "#             [0, np.exp(1j*phi_xyz[1]), 0, 0, 1j*beta_xyz[1]* np.exp(1j*phi_xyz[1]), 0],\n",
    "#             [0, 0, np.exp(1j*phi_xyz[2]), 0, 0, 1j*beta_xyz[2]* np.exp(1j*phi_xyz[2])]\n",
    "#           ] )\n",
    "# jacob_xyz_xyz_prime\n",
    "\n",
    "jacob_xyz_xyz_prime = get_beta_x_y_phi_x_y_prime_jacob(np.array( [beta_xyz[0],beta_xyz[1],beta_xyz[2], phi_xyz[0], phi_xyz[1], phi_xyz[2] ] ))\n",
    "print( DataFrame(jacob_xyz_xyz_prime) )"
   ]
  },
  {
   "cell_type": "code",
   "execution_count": 135,
   "metadata": {},
   "outputs": [
    {
     "name": "stdout",
     "output_type": "stream",
     "text": [
      "              0             1             2             3         4         5\n",
      "0  3.321759e-06 -5.749038e-08  0.000000e+00  1.083424e-05 -0.000004  0.000000\n",
      "1 -5.749038e-08  6.635769e-07  0.000000e+00  1.021180e-07  0.000004  0.000000\n",
      "2  0.000000e+00  0.000000e+00  4.275978e-07  0.000000e+00  0.000000  0.000000\n",
      "3  1.083424e-05  1.021180e-07  0.000000e+00  1.831472e-02 -0.001499  0.000000\n",
      "4 -4.165955e-06  3.900668e-06  0.000000e+00 -1.498837e-03  0.011902  0.000000\n",
      "5  0.000000e+00  0.000000e+00  0.000000e+00  0.000000e+00  0.000000  0.023676\n",
      "              0             1             2         3\n",
      "0  3.321759e-06 -5.749038e-08  1.083424e-05 -0.000004\n",
      "1 -5.749038e-08  6.635769e-07  1.021180e-07  0.000004\n",
      "2  1.083424e-05  1.021180e-07  1.831472e-02 -0.001499\n",
      "3 -4.165955e-06  3.900668e-06 -1.498837e-03  0.011902\n"
     ]
    }
   ],
   "source": [
    "sigma_beta_phi_xy_trans = np.zeros((6,6))\n",
    "\n",
    "sigma_beta_phi_xy_trans[:2,:2] = sigma_beta_phi_xy[:2,:2]\n",
    "sigma_beta_phi_xy_trans[2,2] = beta_xyz_sigma[2]**2\n",
    "sigma_beta_phi_xy_trans[0, 3:5] = sigma_beta_phi_xy[0,2:4]\n",
    "sigma_beta_phi_xy_trans[1, 3:5] = sigma_beta_phi_xy[1,2:4]\n",
    "sigma_beta_phi_xy_trans[3, 3:5] = sigma_beta_phi_xy[2,2:4]\n",
    "sigma_beta_phi_xy_trans[4, 3:5] = sigma_beta_phi_xy[3,2:4]\n",
    "sigma_beta_phi_xy_trans[5,5] = phi_xyz_sigma[2]**2\n",
    "\n",
    "for i in range(6):\n",
    "    for k in range(i):\n",
    "        sigma_beta_phi_xy_trans[i,k] = sigma_beta_phi_xy_trans[k,i]\n",
    "        \n",
    "print( DataFrame(sigma_beta_phi_xy_trans) )\n",
    "print( DataFrame(sigma_beta_phi_xy) )"
   ]
  },
  {
   "cell_type": "code",
   "execution_count": 136,
   "metadata": {},
   "outputs": [],
   "source": [
    "# sireni chyb:\n",
    "sigma_beta_phi_xyz_prime = jacob_xyz_xyz_prime @ sigma_beta_phi_xy_trans @ np.transpose( jacob_xyz_xyz_prime ) "
   ]
  },
  {
   "cell_type": "code",
   "execution_count": 137,
   "metadata": {},
   "outputs": [],
   "source": [
    "beta_xyz_prime_sigma = np.sqrt( np.diag(sigma_beta_phi_xyz_prime)[:3] ) \n",
    "phi_xyz_prime_sigma = np.sqrt(  np.diag(sigma_beta_phi_xyz_prime)[3:6] ) "
   ]
  },
  {
   "cell_type": "code",
   "execution_count": 138,
   "metadata": {},
   "outputs": [
    {
     "name": "stdout",
     "output_type": "stream",
     "text": [
      "[0.00742505 0.00482395 0.00369926]\n",
      "[0.0013896  0.00143109 0.00065391]\n",
      "[ 1.47863265  1.52553241 -1.42754652]\n",
      "[0.1116059  0.17754874 0.15386954]\n"
     ]
    }
   ],
   "source": [
    "print(beta_xyz_prime)\n",
    "print(beta_xyz_prime_sigma)\n",
    "print(phi_xyz_prime)\n",
    "print(phi_xyz_prime_sigma)"
   ]
  },
  {
   "cell_type": "code",
   "execution_count": 230,
   "metadata": {},
   "outputs": [
    {
     "data": {
      "text/plain": [
       "array([], dtype=float64)"
      ]
     },
     "execution_count": 230,
     "metadata": {},
     "output_type": "execute_result"
    }
   ],
   "source": [
    "np.sqrt( np.diag(sigma_beta_phi_xyz_prime)[3:-1])"
   ]
  },
  {
   "cell_type": "code",
   "execution_count": 231,
   "metadata": {},
   "outputs": [
    {
     "data": {
      "text/plain": [
       "array([[4.69498671e-06, 8.19512876e-08, 0.00000000e+00],\n",
       "       [8.19512876e-08, 2.56698285e-05, 0.00000000e+00],\n",
       "       [0.00000000e+00, 0.00000000e+00, 7.51589650e-07]])"
      ]
     },
     "execution_count": 231,
     "metadata": {},
     "output_type": "execute_result"
    }
   ],
   "source": [
    "sigma_beta_phi_xyz_prime"
   ]
  },
  {
   "cell_type": "markdown",
   "metadata": {},
   "source": [
    "## sedi, ok, ale neuvazuju korelaci mezi beta_z a phi_z, takze neni to idealka"
   ]
  },
  {
   "cell_type": "markdown",
   "metadata": {},
   "source": [
    "## vypocet elektrickeho pole"
   ]
  },
  {
   "cell_type": "code",
   "execution_count": 141,
   "metadata": {},
   "outputs": [],
   "source": [
    "# dalsi parametry\n",
    "m = 40 * 1.66053904e-27 # calcium mass\n",
    "k_vec = 2*np.pi * 1/(397e-9) # wave vector\n",
    "e = 1.60217662e-19 # elem charge"
   ]
  },
  {
   "cell_type": "code",
   "execution_count": 148,
   "metadata": {},
   "outputs": [
    {
     "name": "stdout",
     "output_type": "stream",
     "text": [
      "[8.07646653 1.72546158 3.45035956]\n",
      "[1.70447196 0.7602567  0.61221601]\n"
     ]
    },
    {
     "data": {
      "text/plain": [
       "array([1.69994172, 0.7597936 , 0.60991281])"
      ]
     },
     "execution_count": 148,
     "metadata": {},
     "output_type": "execute_result"
    }
   ],
   "source": [
    "# get E-fields\n",
    "E_rf = (m*Omega**2 / (k_vec*e)) * beta_xyz\n",
    "E_rf_sigma = np.sqrt( (beta_xyz_sigma*m*Omega**2 / (k_vec*e))**2 + (2*m*Omega / (k_vec*e) * beta_xyz * Omega_sigma)**2  ) # propagase chyb\n",
    "\n",
    "print(E_rf)\n",
    "print(E_rf_sigma)\n",
    "m*Omega**2/(e*k_vec) * beta_xyz_sigma"
   ]
  },
  {
   "cell_type": "markdown",
   "metadata": {},
   "source": [
    "jak velkou roli hraje nejistota omega?"
   ]
  },
  {
   "cell_type": "code",
   "execution_count": 146,
   "metadata": {},
   "outputs": [
    {
     "data": {
      "text/plain": [
       "array([0.00133425, 0.00030485, 0.00189171])"
      ]
     },
     "execution_count": 146,
     "metadata": {},
     "output_type": "execute_result"
    }
   ],
   "source": [
    "beta_xyz**2 / Omega**2 * Omega_sigma**2 / beta_xyz_sigma**2"
   ]
  },
  {
   "cell_type": "markdown",
   "metadata": {},
   "source": [
    "vidim, ze desetina procenta prislusi nejistote omega"
   ]
  },
  {
   "cell_type": "code",
   "execution_count": null,
   "metadata": {},
   "outputs": [],
   "source": []
  }
 ],
 "metadata": {
  "kernelspec": {
   "display_name": "Python 3",
   "language": "python",
   "name": "python3"
  },
  "language_info": {
   "codemirror_mode": {
    "name": "ipython",
    "version": 3
   },
   "file_extension": ".py",
   "mimetype": "text/x-python",
   "name": "python",
   "nbconvert_exporter": "python",
   "pygments_lexer": "ipython3",
   "version": "3.7.4"
  }
 },
 "nbformat": 4,
 "nbformat_minor": 4
}
