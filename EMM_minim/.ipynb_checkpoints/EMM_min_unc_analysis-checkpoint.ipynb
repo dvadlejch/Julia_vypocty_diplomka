{
 "cells": [
  {
   "cell_type": "markdown",
   "metadata": {},
   "source": [
    "# Analyza nejistot minimalizace EMM"
   ]
  },
  {
   "cell_type": "code",
   "execution_count": 1,
   "metadata": {},
   "outputs": [],
   "source": [
    "# Setup some Jupyter env features\n",
    "%load_ext autoreload\n",
    "%autoreload 2\n",
    "%matplotlib inline"
   ]
  },
  {
   "cell_type": "markdown",
   "metadata": {},
   "source": [
    "Nejprve načtu histogramy odpovídající jednotlivým měřením"
   ]
  },
  {
   "cell_type": "code",
   "execution_count": 130,
   "metadata": {},
   "outputs": [],
   "source": [
    "import numpy as np\n",
    "\n",
    "\n",
    "fotkor_z = np.genfromtxt(\"axial_EMM_10_03_2020_part2_delim.txt\", delimiter=\"\\t\")[:,1]\n",
    "voltages_z = np.genfromtxt(\"axial_EMM_10_03_2020_part2_voltages.txt\", delimiter=\"\\t\")[1,:]\n",
    "fotkor_xz = np.genfromtxt(\"sikmy_EMM_10_03_2020_part1_delim.txt\", delimiter=\"\\t\")[:,5]\n",
    "voltages_xz = np.genfromtxt(\"sikmy_EMM_10_03_2020_part1_voltages.txt\", delimiter=\"\\t\")[5,:]\n",
    "\n",
    "# pomocne promene\n",
    "fotkor_z_shape = np.shape(fotkor_z)\n",
    "fotkor_xz_shape = np.shape(fotkor_xz)\n",
    "# dale predpokladam, ze signaly maji stejny pocet binu\n",
    "# fotkor_shape = np.array( [fotkor_z_shape, fotkor_xz_shape] )\n",
    "\n",
    "# parametry odecitani foton-korelacnich dat\n",
    "t_res = 256e-12  # casove rozliseni histogramu v s\n",
    "t_measure = 150 # doba nacitani dat v s\n",
    "\n",
    "# casova skala foton-kor. dat\n",
    "t_scale_z = np.array( range(0,fotkor_z_shape[0]) ) *t_res\n",
    "t_scale_xz = np.array( range(0,fotkor_xz_shape[0]) ) *t_res\n",
    "\n",
    "t_scale = t_scale_z\n",
    "\n",
    "\n",
    "#---------- odecet pozadi\n",
    "# spolecne vsem merenim\n",
    "background_photocounts = 400 # ph/s  tyto fotony jsou rovnomerne rozdeleny v prubehu RF periody\n",
    "bg_ph_sum = background_photocounts * t_measure  # celkovy pocet fotonu pozadi za cas mereni\n",
    "#\n",
    "\n",
    "last_bin_ratio_z = fotkor_z[fotkor_z_shape[0]-2] / fotkor_z[fotkor_z_shape[0]-3]  # pomer mezi county v poslednim/predposlednim binu\n",
    "bg_ph_per_bin_z = bg_ph_sum/(fotkor_z_shape[0]-2 + last_bin_ratio_z)\n",
    "last_bin_ratio_xz = fotkor_xz[fotkor_xz_shape[0]-2] / fotkor_xz[fotkor_xz_shape[0]-3]  # pomer mezi county v poslednim/predposlednim binu\n",
    "bg_ph_per_bin_xz = bg_ph_sum/(fotkor_xz_shape[0]-2 + last_bin_ratio_xz)\n",
    "\n",
    "fotkor_z[:fotkor_z_shape[0]-2] = fotkor_z[:fotkor_z_shape[0]-2] - bg_ph_per_bin_z \n",
    "fotkor_z[fotkor_z_shape[0]-2] = fotkor_z[fotkor_z_shape[0]-2] - bg_ph_per_bin_z * last_bin_ratio_z\n",
    "fotkor_xz[:fotkor_xz_shape[0]-2] = fotkor_xz[:fotkor_xz_shape[0]-2] - bg_ph_per_bin_xz \n",
    "fotkor_xz[fotkor_xz_shape[0]-2] = fotkor_xz[fotkor_xz_shape[0]-2] - bg_ph_per_bin_xz * last_bin_ratio_xz\n",
    "# ------------------------------\n",
    "\n",
    "# vlozim signaly a voltage do matic\n",
    "fotkor = np.transpose( np.array( [fotkor_z, fotkor_xz] ) ) # tvar: [data, osa]\n",
    "voltages = np.transpose( np.array( [voltages_z, voltages_xz] ) ) # tvar: [data, osa]\n",
    "\n",
    "fotkor_shape = np.shape(fotkor)"
   ]
  },
  {
   "cell_type": "code",
   "execution_count": 131,
   "metadata": {},
   "outputs": [
    {
     "name": "stdout",
     "output_type": "stream",
     "text": [
      "30032035.976450287\n",
      "30032822.857731443\n",
      "30032429.417090867\n",
      "230898.38519217444\n"
     ]
    }
   ],
   "source": [
    "# odhad periody triggeru\n",
    "Omega = np.zeros(fotkor_shape[1])\n",
    "Omega_sigma = np.zeros(fotkor_shape[1])\n",
    "\n",
    "for i in range(fotkor_shape[1]):\n",
    "    T_trig = ( fotkor[fotkor_shape[0]-2,i] / fotkor[fotkor_shape[0]-3,i] )* t_res + t_scale[fotkor_shape[0]-2]\n",
    "    T_trig_sigma = t_res\n",
    "    # frekvence buzeni pasti\n",
    "\n",
    "    drive_freq = 1/T_trig\n",
    "    drive_freq_sigma = 1/T_trig**2 *T_trig_sigma\n",
    "    Omega[i] = 2*np.pi * drive_freq\n",
    "    Omega_sigma[i] = 2*np.pi * drive_freq_sigma\n",
    "    print(drive_freq)\n",
    "    \n",
    "Omega = np.mean(Omega)\n",
    "Omega_sigma = np.sqrt(0.5*np.sum(Omega_sigma**2) )\n",
    "\n",
    "print(Omega/(2*np.pi))\n",
    "print(Omega_sigma/(2*np.pi))"
   ]
  },
  {
   "cell_type": "markdown",
   "metadata": {},
   "source": [
    "Fitovani histogramu"
   ]
  },
  {
   "cell_type": "code",
   "execution_count": 132,
   "metadata": {},
   "outputs": [],
   "source": [
    "# residua vcetne vah\n",
    "# funkce vracejici residua\n",
    "def fit_resid_weight(x,W_vec, Omega, S, time_step):\n",
    "    # x = [S_0, Delta S, phi]\n",
    "    # W_vec .. vektor vah prislusejicich jednotlivym bodum\n",
    "    len_S = len(S)\n",
    "    #print(len_S)\n",
    "    S_fit = x[0] + x[1] * np.cos(Omega * time_step * np.arange(0, len_S) + x[2])\n",
    "    return( np.sqrt(W_vec) * (S - S_fit) )\n",
    "\n",
    "def fit_func(x, Omega, time_points):\n",
    "    return x[0] + x[1] * np.cos(Omega * time_points + x[2])"
   ]
  },
  {
   "cell_type": "code",
   "execution_count": 133,
   "metadata": {},
   "outputs": [],
   "source": [
    "from scipy.optimize import least_squares\n",
    "# cyklus fitujici vsechny foton-korelacni data\n",
    "\n",
    "x = np.zeros( (3,fotkor_shape[1]) )\n",
    "DeltaS_S_ratio = []\n",
    "sigmas = np.zeros((3,fotkor_shape[1]))\n",
    "Delta_S_S_ratio_sigma = []\n",
    "fot_phi = []\n",
    "\n",
    "hist_sigma = 100\n",
    "W_vec = 1/hist_sigma**2 * np.ones(fotkor_shape[0]-2)\n",
    "#W_vec = 1/30**2 * np.ones(fotkor_shape[0]-2)\n",
    "for i in range(fotkor_shape[1]):\n",
    "    x0 = [fotkor[:fotkor_shape[0]-2,i].mean(), 0.5* ( fotkor[:fotkor_shape[0]-2,i].max()\n",
    "        -fotkor[:fotkor_shape[0]-2,i].min() ), 1.5]\n",
    "#     W_vec = 1/hist_sigma**2 * np.ones(fotkor_shape[0]-2)\n",
    "\n",
    "    #fit = least_squares(fit_resid,x0, args=(Omega, fotkor_bezcond[:fotkor_shape[0]-2,0], t_res) , method=\"lm\", ftol=1e-10)\n",
    "    fit = least_squares(fit_resid_weight,x0, args=(W_vec,Omega, fotkor[:fotkor_shape[0]-2,i], t_res) , ftol=1e-10, xtol=1e-10)\n",
    "    \n",
    "    #---- odhad nejistot parametru----\n",
    "    jac = fit.jac\n",
    "    C = np.linalg.inv( np.matmul( np.transpose(jac), np.matmul( np.diag(W_vec), jac ) ) )  # variancni-kovariancni matice\n",
    "    resid_sq = fit.fun**2   # residua na druhou\n",
    "    g_fit = resid_sq.sum() * 1/( len(W_vec) - 3)   # goodnes of fit\n",
    "    #-------------------------------\n",
    "    \n",
    "    \n",
    "    x[:,i] = fit.x\n",
    "    sigmas[:,i] = np.sqrt( np.diagonal(C) )\n",
    "    DeltaS_S_ratio.append(x[1,i]/x[0,i]  )\n",
    "    \n",
    "    #---- faze fot-kor signalu\n",
    "    fot_phi.append( np.angle(DeltaS_S_ratio[i]*np.exp(1j*x[2,i])) )\n",
    "    \n",
    "    #---- sigma delta s ku s\n",
    "    S0 = fit.x[0]\n",
    "    DeltaS = fit.x[1]\n",
    "    Delta_S_S_ratio_sigma.append(np.sqrt( 1/S0**2 * C[0,0] + (DeltaS**2 / S0**4)*C[1,1] -2*(DeltaS/S0**3)*C[0,1]) )"
   ]
  },
  {
   "cell_type": "code",
   "execution_count": 137,
   "metadata": {},
   "outputs": [
    {
     "data": {
      "text/plain": [
       "[-1.4275464849099198, 1.3412538190451455]"
      ]
     },
     "execution_count": 137,
     "metadata": {},
     "output_type": "execute_result"
    }
   ],
   "source": [
    "DeltaS_S_ratio\n",
    "fot_phi"
   ]
  },
  {
   "cell_type": "markdown",
   "metadata": {},
   "source": [
    "vizualni kontrola"
   ]
  },
  {
   "cell_type": "code",
   "execution_count": 81,
   "metadata": {},
   "outputs": [],
   "source": [
    "# plot dat\n",
    "import matplotlib.pyplot as plt\n",
    "from matplotlib import rc\n",
    "from matplotlib import rcParams\n",
    "\n",
    "rcParams[\"font.size\"] = 16\n",
    "rcParams[\"mathtext.fontset\"] = \"cm\"\n",
    "rcParams[\"mathtext.rm\"] = \"serif\"\n",
    "rcParams[\"text.usetex\"] = \"true\";\n",
    "rc('text', usetex=True)"
   ]
  },
  {
   "cell_type": "code",
   "execution_count": 82,
   "metadata": {},
   "outputs": [
    {
     "data": {
      "image/png": "[encoded data removed]",
      "text/plain": [
       "<Figure size 432x288 with 1 Axes>"
      ]
     },
     "metadata": {
      "needs_background": "light"
     },
     "output_type": "display_data"
    },
    {
     "data": {
      "image/png": "[encoded data removed]",
      "text/plain": [
       "<Figure size 432x288 with 1 Axes>"
      ]
     },
     "metadata": {
      "needs_background": "light"
     },
     "output_type": "display_data"
    }
   ],
   "source": [
    "# plot fitu vcetne errorbaru\n",
    "# my_dpi = 150\n",
    "# siz = 100\n",
    "# sizex = 16*siz\n",
    "# sizey = 9*siz\n",
    "# plot techto fitu\n",
    "time_fit = np.linspace(0, t_scale.max(), 200)\n",
    "\n",
    "for i in range(fotkor_shape[1]):\n",
    "    \n",
    "    fotkor_fit = fit_func(x[:,i], Omega, time_fit)\n",
    "    \n",
    "    plt.figure()\n",
    "    plt.errorbar(t_scale[:fotkor_shape[0]-2],fotkor[:fotkor_shape[0]-2,i],yerr=1/np.sqrt(W_vec),fmt='.')\n",
    "    plt.plot(time_fit, fotkor_fit)\n",
    "    text = r'$\\frac{\\Delta S}{S_0}  = \\,\\,$' + r'${:.5f} \\pm {:.6f}$'.format(x[1,i]/x[0,i], Delta_S_S_ratio_sigma[i])\n",
    "    plt.text(3e-8, fotkor[:,i].max()-500,text) \n",
    "    text2 = r'$\\varphi  = {:.5f} \\pm {:.3}$'.format(fot_phi[i], sigmas[2,i])\n",
    "    plt.text(3e-8, fotkor[:,i].max(),text2) \n"
   ]
  },
  {
   "cell_type": "markdown",
   "metadata": {},
   "source": [
    "Vysledky nesedi s random gener testem. Zjistuju, ze bych mel k fitu pouzit metodu maximalizace Likehood funkce."
   ]
  },
  {
   "cell_type": "markdown",
   "metadata": {},
   "source": [
    "## Max. likehood test"
   ]
  },
  {
   "cell_type": "code",
   "execution_count": 98,
   "metadata": {},
   "outputs": [],
   "source": [
    "def likehood(x, Omega, S, time_step, sigma):\n",
    "    # definuju funkci vracejici logaritmus pravdepodobnosti, ze z distrubuce dane sinusovkou, co fituji vyberu pozorovane body\n",
    "    # predpokladam, ze kazdy bod je normalne rozdelen kolem sinusovky\n",
    "    \n",
    "    len_S = len(S)\n",
    "    #print(len_S)\n",
    "    S_fit = x[0] + x[1] * np.cos(Omega * time_step * np.arange(0, len_S) + x[2])\n",
    "    \n",
    "    sum_term = ( (S - S_fit )/sigma )**2\n",
    "    log_term = np.log( np.ones(len_S) * sigma * np.sqrt(2*np.pi) )\n",
    "    \n",
    "    return( 0.5* np.sum( sum_term ) + np.sum(log_term) ) # vraci - log( likehood)"
   ]
  },
  {
   "cell_type": "code",
   "execution_count": 120,
   "metadata": {},
   "outputs": [
    {
     "data": {
      "image/png": "[encoded data removed]",
      "text/plain": [
       "<Figure size 432x288 with 1 Axes>"
      ]
     },
     "metadata": {
      "needs_background": "light"
     },
     "output_type": "display_data"
    }
   ],
   "source": [
    "t = np.linspace(0, 10, 200)\n",
    "S = 1 + 3*np.cos(t + 4)\n",
    "t_step = 10/200\n",
    "\n",
    "x1 = np.linspace(0,10,200)\n",
    "\n",
    "plt.figure()\n",
    "for i in range(200):\n",
    "    plt.plot(x1[i], likehood([1,3,x1[i]], 1, S, t_step, 1), '.')\n",
    "# likehood([0,3,0], 40, [1,2,1,2,1,2], 0.5, 100)"
   ]
  },
  {
   "cell_type": "markdown",
   "metadata": {},
   "source": [
    "likehood fce vypada ok. zkusim minimalizovat"
   ]
  },
  {
   "cell_type": "code",
   "execution_count": 146,
   "metadata": {},
   "outputs": [],
   "source": [
    "# minimalizace likehood\n",
    "\n",
    "from scipy.optimize import minimize\n",
    "\n",
    "hist_sigma = 100\n",
    "x0 = [fotkor[:fotkor_shape[0]-2,1].mean(), 0.5* ( fotkor[:fotkor_shape[0]-2,1].max()\n",
    "    -fotkor[:fotkor_shape[0]-2,1].min() ), 1.5]\n",
    "    \n",
    "fit = minimize(likehood, x0, args=(Omega, fotkor[:fotkor_shape[0]-2,1], t_res, hist_sigma )  )\n",
    "\n",
    "DeltaS_S_ratio_likehood = fit.x[1]/fit.x[0]"
   ]
  },
  {
   "cell_type": "markdown",
   "metadata": {},
   "source": [
    "test vypada ok"
   ]
  },
  {
   "cell_type": "code",
   "execution_count": 158,
   "metadata": {},
   "outputs": [],
   "source": [
    "x = np.zeros( (3,fotkor_shape[1]) )\n",
    "DeltaS_S_ratio = []\n",
    "sigmas = np.zeros((3,fotkor_shape[1]))\n",
    "Delta_S_S_ratio_sigma = []\n",
    "fot_phi = []\n",
    "\n",
    "hist_sigma = 10\n",
    "# W_vec = 1/hist_sigma**2 * np.ones(fotkor_shape[0]-2)\n",
    "#W_vec = 1/30**2 * np.ones(fotkor_shape[0]-2)\n",
    "for i in range(fotkor_shape[1]):\n",
    "    x0 = [fotkor[:fotkor_shape[0]-2,i].mean(), 0.5* ( fotkor[:fotkor_shape[0]-2,i].max()\n",
    "        -fotkor[:fotkor_shape[0]-2,i].min() ), 1.5]\n",
    "#     W_vec = 1/hist_sigma**2 * np.ones(fotkor_shape[0]-2)\n",
    "\n",
    "    #fit = least_squares(fit_resid,x0, args=(Omega, fotkor_bezcond[:fotkor_shape[0]-2,0], t_res) , method=\"lm\", ftol=1e-10)\n",
    "#     fit = least_squares(fit_resid_weight,x0, args=(W_vec,Omega, fotkor[:fotkor_shape[0]-2,i], t_res) , ftol=1e-10, xtol=1e-10)\n",
    "    fit = minimize(likehood, x0, args=(Omega, fotkor[:fotkor_shape[0]-2,i], t_res, hist_sigma ), tol=1e-10)\n",
    "    #---- odhad nejistot parametru----\n",
    "#     jac = fit.jac\n",
    "    C = fit.hess_inv  # variancni-kovariancni matice\n",
    "#     resid_sq = fit.fun**2   # residua na druhou\n",
    "#     g_fit = resid_sq.sum() * 1/( len(W_vec) - 3)   # goodnes of fit\n",
    "    #-------------------------------\n",
    "    \n",
    "    \n",
    "    x[:,i] = fit.x\n",
    "    sigmas[:,i] = np.sqrt( np.diagonal(C) )\n",
    "    DeltaS_S_ratio.append(x[1,i]/x[0,i]  )\n",
    "    \n",
    "    #---- faze fot-kor signalu\n",
    "    fot_phi.append( np.angle(DeltaS_S_ratio[i]*np.exp(1j*x[2,i])) )\n",
    "    \n",
    "    #---- sigma delta s ku s\n",
    "    S0 = fit.x[0]\n",
    "    DeltaS = fit.x[1]\n",
    "    Delta_S_S_ratio_sigma.append(np.sqrt( 1/S0**2 * C[0,0] + (DeltaS**2 / S0**4)*C[1,1] -2*(DeltaS/S0**3)*C[0,1]) )"
   ]
  },
  {
   "cell_type": "code",
   "execution_count": 159,
   "metadata": {},
   "outputs": [
    {
     "data": {
      "text/plain": [
       "[0.01041243545040437, 0.01019762959014562]"
      ]
     },
     "execution_count": 159,
     "metadata": {},
     "output_type": "execute_result"
    }
   ],
   "source": [
    "DeltaS_S_ratio"
   ]
  },
  {
   "cell_type": "code",
   "execution_count": 160,
   "metadata": {},
   "outputs": [
    {
     "data": {
      "text/plain": [
       "[-1.4275465094094686, 1.3412537614193696]"
      ]
     },
     "execution_count": 160,
     "metadata": {},
     "output_type": "execute_result"
    }
   ],
   "source": [
    "fot_phi"
   ]
  },
  {
   "cell_type": "code",
   "execution_count": 161,
   "metadata": {},
   "outputs": [
    {
     "data": {
      "text/plain": [
       "[0.0007451500361287608, 9.828957747668253e-05]"
      ]
     },
     "execution_count": 161,
     "metadata": {},
     "output_type": "execute_result"
    }
   ],
   "source": [
    "Delta_S_S_ratio_sigma"
   ]
  },
  {
   "cell_type": "markdown",
   "metadata": {},
   "source": [
    "vypada, ze odhad nejistot funguje!!"
   ]
  },
  {
   "cell_type": "code",
   "execution_count": null,
   "metadata": {},
   "outputs": [],
   "source": []
  }
 ],
 "metadata": {
  "kernelspec": {
   "display_name": "Python 3",
   "language": "python",
   "name": "python3"
  },
  "language_info": {
   "codemirror_mode": {
    "name": "ipython",
    "version": 3
   },
   "file_extension": ".py",
   "mimetype": "text/x-python",
   "name": "python",
   "nbconvert_exporter": "python",
   "pygments_lexer": "ipython3",
   "version": "3.7.4"
  }
 },
 "nbformat": 4,
 "nbformat_minor": 4
}
