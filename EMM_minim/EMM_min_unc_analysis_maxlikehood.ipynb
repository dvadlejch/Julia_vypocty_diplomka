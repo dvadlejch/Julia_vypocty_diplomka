{
 "cells": [
  {
   "cell_type": "markdown",
   "metadata": {},
   "source": [
    "# Analyza nejistot minimalizace EMM"
   ]
  },
  {
   "cell_type": "code",
   "execution_count": 2,
   "metadata": {},
   "outputs": [
    {
     "name": "stdout",
     "output_type": "stream",
     "text": [
      "The autoreload extension is already loaded. To reload it, use:\n",
      "  %reload_ext autoreload\n"
     ]
    }
   ],
   "source": [
    "# Setup some Jupyter env features\n",
    "%load_ext autoreload\n",
    "%autoreload 2\n",
    "%matplotlib inline\n",
    "\n",
    "from pandas import DataFrame"
   ]
  },
  {
   "cell_type": "markdown",
   "metadata": {},
   "source": [
    "Nejprve načtu histogramy odpovídající jednotlivým měřením"
   ]
  },
  {
   "cell_type": "code",
   "execution_count": 5,
   "metadata": {},
   "outputs": [
    {
     "data": {
      "text/plain": [
       "array([313002., 293578., 690000.])"
      ]
     },
     "execution_count": 5,
     "metadata": {},
     "output_type": "execute_result"
    }
   ],
   "source": [
    "import numpy as np\n",
    "\n",
    "\n",
    "# fotkor_z = np.genfromtxt(\"axial_EMM_10_03_2020_part2_delim.txt\", delimiter=\"\\t\")[:,1]\n",
    "# voltages_z = np.genfromtxt(\"axial_EMM_10_03_2020_part2_voltages.txt\", delimiter=\"\\t\")[1,:]\n",
    "# fotkor_xz = np.genfromtxt(\"sikmy_EMM_10_03_2020_part1_delim.txt\", delimiter=\"\\t\")[:,5]\n",
    "# voltages_xz = np.genfromtxt(\"sikmy_EMM_10_03_2020_part1_voltages.txt\", delimiter=\"\\t\")[5,:]\n",
    "\n",
    "# nacteni dat pouze v minimu EMM\n",
    "fotkor_z = np.genfromtxt(\"03_05_20_EMM_min_z_final_delim.txt\", delimiter=\"\\t\")[:,0]\n",
    "voltages_z = np.genfromtxt(\"03_05_20_EMM_min_z_final_voltages.txt\", delimiter=\"\\t\")[0,:]\n",
    "fotkor_xz = np.genfromtxt(\"03_05_20_EMM_min_xz_multiple_delim.txt\", delimiter=\"\\t\")[:,6]\n",
    "voltages_xz = np.genfromtxt(\"03_05_20_EMM_min_xz_multiple_voltages.txt\", delimiter=\"\\t\")[6,:]\n",
    "fotkor_xy = np.genfromtxt(\"09_05_20_EMM_min_xy2_step3_delim.txt\", delimiter=\"\\t\")[:,-2]\n",
    "voltages_xy = np.genfromtxt(\"09_05_20_EMM_min_xy2_step3_voltages.txt\", delimiter=\"\\t\")[-1,:]\n",
    "\n",
    "# print(voltages_z)\n",
    "# print(voltages_xz)\n",
    "\n",
    "# pomocne promene\n",
    "fotkor_z_shape = np.shape(fotkor_z)\n",
    "fotkor_xz_shape = np.shape(fotkor_xz)\n",
    "fotkor_xy_shape = np.shape(fotkor_xy)\n",
    "# dale predpokladam, ze signaly maji stejny pocet binu\n",
    "# fotkor_shape = np.array( [fotkor_z_shape, fotkor_xz_shape] )\n",
    "\n",
    "# parametry odecitani foton-korelacnich dat\n",
    "t_res = 256e-12  # casove rozliseni histogramu v s\n",
    "t_measure = [100, 85, 300] # doba nacitani dat v s\n",
    "\n",
    "# casova skala foton-kor. dat\n",
    "t_scale_z = np.array( range(0,fotkor_z_shape[0]) ) *t_res\n",
    "t_scale_xz = np.array( range(0,fotkor_xz_shape[0]) ) *t_res\n",
    "t_scale_xy = np.array( range(0,fotkor_xy_shape[0]) ) *t_res\n",
    "t_scale = t_scale_z\n",
    "\n",
    "background_photocounts = [190, 130] # ph/s  tyto fotony jsou rovnomerne rozdeleny v prubehu RF periody\n",
    "iont_photocounts = 2300 # pro svazek xy, kde jsou problemy s kolisanim intenzity\n",
    "\n",
    "#---------- odecet pozadi v ose z\n",
    "bg_ph_sum = background_photocounts[0] * t_measure[0]  # celkovy pocet fotonu pozadi za cas mereni\n",
    "\n",
    "last_bin_ratio_z = fotkor_z[fotkor_z_shape[0]-2] / fotkor_z[fotkor_z_shape[0]-3]  # pomer mezi county v poslednim/predposlednim binu\n",
    "bg_ph_per_bin_z = bg_ph_sum/(fotkor_z_shape[0]-2 + last_bin_ratio_z)\n",
    "\n",
    "fotkor_z[:fotkor_z_shape[0]-2] = fotkor_z[:fotkor_z_shape[0]-2] - bg_ph_per_bin_z \n",
    "fotkor_z[fotkor_z_shape[0]-2] = fotkor_z[fotkor_z_shape[0]-2] - bg_ph_per_bin_z * last_bin_ratio_z\n",
    "#--------------------\n",
    "#--------- odecet pozadi v ose xz\n",
    "bg_ph_sum = background_photocounts[1] * t_measure[1]  # celkovy pocet fotonu pozadi za cas mereni\n",
    "last_bin_ratio_xz = fotkor_xz[fotkor_xz_shape[0]-2] / fotkor_xz[fotkor_xz_shape[0]-3]  # pomer mezi county v poslednim/predposlednim binu\n",
    "bg_ph_per_bin_xz = bg_ph_sum/(fotkor_xz_shape[0]-2 + last_bin_ratio_xz)\n",
    "\n",
    "fotkor_xz[:fotkor_xz_shape[0]-2] = fotkor_xz[:fotkor_xz_shape[0]-2] - bg_ph_per_bin_xz \n",
    "fotkor_xz[fotkor_xz_shape[0]-2] = fotkor_xz[fotkor_xz_shape[0]-2] - bg_ph_per_bin_xz * last_bin_ratio_xz\n",
    "# ------------------------------\n",
    "#----------- odecet pozadi v ose xy\n",
    "# ----- odecet pozadi\n",
    "all_photons_sum = np.sum(fotkor_xy, axis=0) # celkovy pocet fotonu = background + odraz Sxy + iont\n",
    "# chci odecist background + odraz = celkovy - iont\n",
    "\n",
    "bg_ph_sum = all_photons_sum - iont_photocounts * t_measure[2]  # celkovy pocet fotonu pozadi za cas mereni\n",
    "last_bin_ratio = fotkor_xy[fotkor_xy_shape[0] - 2] / fotkor_xy[fotkor_xy_shape[0] - 3]  # pomer mezi county v poslednim/predposlednim binu\n",
    "bg_ph_per_bin = bg_ph_sum / (fotkor_xy_shape[0] - 2 + last_bin_ratio)\n",
    "\n",
    "fotkor_xy[:fotkor_xy_shape[0] - 2] = fotkor_xy[:fotkor_xy_shape[0] - 2] - bg_ph_per_bin\n",
    "fotkor_xy[fotkor_xy_shape[0] - 2] = fotkor_xy[fotkor_xy_shape[0] - 2] - bg_ph_per_bin * last_bin_ratio\n",
    "    #-----------------------------\n",
    "#----------------------------------\n",
    "\n",
    "# vlozim signaly a voltage do matic\n",
    "fotkor = np.transpose( np.array( [fotkor_z, fotkor_xz, fotkor_xy] ) ) # tvar: [data, osa]\n",
    "voltages = np.transpose( np.array( [voltages_z, voltages_xz, voltages_xy] ) ) # tvar: [data, osa]\n",
    "\n",
    "fotkor_shape = np.shape(fotkor)\n",
    "\n",
    "# celkovy pocet detekovanych fotonu\n",
    "photon_sum = np.sum(fotkor, axis=0)\n",
    "photon_sum"
   ]
  },
  {
   "cell_type": "code",
   "execution_count": 6,
   "metadata": {},
   "outputs": [
    {
     "name": "stdout",
     "output_type": "stream",
     "text": [
      "30036150.75204228\n",
      "30037521.471918117\n",
      "30036473.98552793\n",
      "30036715.403162774\n",
      "282872.33448836074\n"
     ]
    }
   ],
   "source": [
    "# odhad periody triggeru\n",
    "Omega = np.zeros(fotkor_shape[1])\n",
    "Omega_sigma = np.zeros(fotkor_shape[1])\n",
    "\n",
    "for i in range(fotkor_shape[1]):\n",
    "    T_trig = ( fotkor[fotkor_shape[0]-2,i] / fotkor[fotkor_shape[0]-3,i] )* t_res + t_scale[fotkor_shape[0]-2]\n",
    "    T_trig_sigma = t_res\n",
    "    # frekvence buzeni pasti\n",
    "\n",
    "    drive_freq = 1/T_trig\n",
    "    drive_freq_sigma = 1/T_trig**2 *T_trig_sigma\n",
    "    Omega[i] = 2*np.pi * drive_freq\n",
    "    Omega_sigma[i] = 2*np.pi * drive_freq_sigma\n",
    "    print(drive_freq)\n",
    "    \n",
    "Omega = np.mean(Omega)\n",
    "Omega_sigma = np.sqrt(0.5*np.sum(Omega_sigma**2) )\n",
    "\n",
    "print(Omega/(2*np.pi))\n",
    "print(Omega_sigma/(2*np.pi))"
   ]
  },
  {
   "cell_type": "markdown",
   "metadata": {},
   "source": [
    "Fitovani histogramu"
   ]
  },
  {
   "cell_type": "code",
   "execution_count": 7,
   "metadata": {},
   "outputs": [],
   "source": [
    "# residua vcetne vah\n",
    "def likehood_transform(x, Omega, S, time_step, sigma):\n",
    "    # definuju funkci vracejici logaritmus pravdepodobnosti, ze z distrubuce dane sinusovkou, co fituji vyberu pozorovane body\n",
    "    # predpokladam, ze kazdy bod je normalne rozdelen kolem sinusovky\n",
    "    \n",
    "    len_S = len(S)\n",
    "    #print(len_S)\n",
    "    S_fit = x[0]*( 1 + x[1] * np.cos( Omega * time_step * np.arange(0, len_S) + x[2] ) )\n",
    "    \n",
    "    sum_term = ( (S - S_fit )/sigma )**2\n",
    "    log_term = np.log( np.ones(len_S) * sigma * np.sqrt(2*np.pi) )\n",
    "    \n",
    "    return( 0.5* np.sum( sum_term ) + np.sum(log_term) ) # vraci -log( likehood)\n",
    "\n",
    "def likehood_transform_jac(x, Omega, S, time_step, sigma):\n",
    "    # vektor jacob. likehood fce\n",
    "    len_S = len(S)\n",
    "    sum_term0 = 2/sigma**2 * (1 + x[1]*np.cos( Omega * time_step * np.arange(0, len_S) + x[2] ) ) *( x[0]*x[1] * np.cos( Omega * time_step * np.arange(0, len_S) + x[2] ) + x[0] - S)\n",
    "    \n",
    "    sum_term1 = 2/sigma**2 * x[0]*np.cos( Omega * time_step * np.arange(0, len_S) + x[2] )*( x[0]*x[1] * np.cos( Omega * time_step * np.arange(0, len_S) + x[2] ) + x[0] - S)\n",
    "        \n",
    "    sum_term2 = (-2/sigma**2) * x[0] * x[1] * ( x[0] * x[1] * np.cos( Omega * time_step * np.arange(0, len_S) + x[2] ) + x[0] - S)*np.sin( Omega * time_step * np.arange(0, len_S) + x[2] )\n",
    "        \n",
    "    return( 0.5 * np.array( [np.sum(sum_term0), np.sum(sum_term1), np.sum(sum_term2)] ) )\n",
    "\n",
    "def likehood_transform_sigma(x, Omega, S, time_step):\n",
    "    # definuju funkci vracejici logaritmus pravdepodobnosti, ze z distrubuce dane sinusovkou, co fituji vyberu pozorovane body\n",
    "    # predpokladam, ze kazdy bod je normalne rozdelen kolem sinusovky\n",
    "    \n",
    "    len_S = len(S)\n",
    "    #print(len_S)\n",
    "    S_fit = x[0]*( 1 + x[1] * np.cos( Omega * time_step * np.arange(0, len_S) + x[2] ) )\n",
    "    \n",
    "    sum_term = ( (S - S_fit )/x[3] )**2\n",
    "    log_term = np.log( np.ones(len_S) * x[3] * np.sqrt(2*np.pi) )\n",
    "    \n",
    "    return( 0.5* np.sum( sum_term ) + np.sum(log_term) ) # vraci -log( likehood)\n",
    "\n",
    "def fit_func(x, Omega, time_points):\n",
    "    return x[0] + x[1] * np.cos(Omega * time_points + x[2])"
   ]
  },
  {
   "cell_type": "code",
   "execution_count": 8,
   "metadata": {},
   "outputs": [
    {
     "name": "stdout",
     "output_type": "stream",
     "text": [
      "      fun: 679.7746806752816\n",
      " hess_inv: array([[1.98847334e+01, 1.11508446e-04, 1.65636999e-03],\n",
      "       [1.11508446e-04, 6.94525720e-06, 3.61536124e-06],\n",
      "       [1.65636999e-03, 3.61536124e-06, 3.31395853e-02]])\n",
      "      jac: array([ 1.24885741e-10, -1.80194071e-07,  7.98496624e-09])\n",
      "  message: 'Desired error not necessarily achieved due to precision loss.'\n",
      "     nfev: 18\n",
      "      nit: 13\n",
      "     njev: 17\n",
      "   status: 2\n",
      "  success: False\n",
      "        x: array([ 2.40674016e+03, -1.43219459e-02,  2.00889513e+00])\n",
      "\n",
      "\n",
      "      fun: 679.7746806752815\n",
      " hess_inv: array([[ 1.98868369e+01, -1.10705065e-04,  3.68693078e-04],\n",
      "       [-1.10705065e-04,  6.85074408e-06,  2.26480369e-07],\n",
      "       [ 3.68693078e-04,  2.26480369e-07,  3.34884928e-02]])\n",
      "      jac: array([-1.10683863e-09,  1.67880179e-07, -1.86192173e-10])\n",
      "  message: 'Desired error not necessarily achieved due to precision loss.'\n",
      "     nfev: 19\n",
      "      nit: 14\n",
      "     njev: 18\n",
      "   status: 2\n",
      "  success: False\n",
      "        x: array([ 2.40674016e+03,  1.43219459e-02, -1.13269753e+00])\n",
      "\n",
      "\n",
      "      fun: 699.9551472078825\n",
      " hess_inv: array([[ 1.85933587e+01,  4.83042630e-05, -6.56106970e-03],\n",
      "       [ 4.83042630e-05,  7.35061803e-06, -2.56601985e-06],\n",
      "       [-6.56106970e-03, -2.56601985e-06,  1.56644522e-01]])\n",
      "      jac: array([ 2.52808191e-12, -1.01599085e-08, -2.39557096e-10])\n",
      "  message: 'Desired error not necessarily achieved due to precision loss.'\n",
      "     nfev: 20\n",
      "      nit: 14\n",
      "     njev: 19\n",
      "   status: 2\n",
      "  success: False\n",
      "        x: array([ 2.25748007e+03, -6.81931465e-03,  9.23014625e-01])\n",
      "\n",
      "\n",
      "      fun: 699.9551472078824\n",
      " hess_inv: array([[ 1.85486372e+01, -6.72066915e-05, -1.62711109e-02],\n",
      "       [-6.72066915e-05,  7.10783128e-06,  8.19955773e-07],\n",
      "       [-1.62711109e-02,  8.19955773e-07,  1.54684613e-01]])\n",
      "      jac: array([-6.41844945e-10,  3.80619554e-07,  2.58314021e-08])\n",
      "  message: 'Desired error not necessarily achieved due to precision loss.'\n",
      "     nfev: 77\n",
      "      nit: 14\n",
      "     njev: 65\n",
      "   status: 2\n",
      "  success: False\n",
      "        x: array([ 2.25748007e+03,  6.81931466e-03, -2.21857802e+00])\n",
      "\n",
      "\n",
      "      fun: 923.5255151253552\n",
      " hess_inv: array([[ 4.35331210e+01, -7.45523646e-05,  5.03539340e-03],\n",
      "       [-7.45523646e-05,  3.07322187e-06,  1.85948710e-06],\n",
      "       [ 5.03539340e-03,  1.85948710e-06,  1.76175808e-01]])\n",
      "      jac: array([ 1.94967976e-10, -2.66389242e-06,  1.82054366e-09])\n",
      "  message: 'Desired error not necessarily achieved due to precision loss.'\n",
      "     nfev: 23\n",
      "      nit: 17\n",
      "     njev: 22\n",
      "   status: 2\n",
      "  success: False\n",
      "        x: array([ 5.30565960e+03, -4.20395955e-03,  4.85224720e-01])\n",
      "\n",
      "\n",
      "      fun: 923.5255151253552\n",
      " hess_inv: array([[ 4.35517413e+01,  9.88413443e-05,  6.22680701e-03],\n",
      "       [ 9.88413443e-05,  3.04985885e-06, -3.52734040e-06],\n",
      "       [ 6.22680701e-03, -3.52734040e-06,  1.76926025e-01]])\n",
      "      jac: array([-1.40716483e-09, -1.63011923e-05, -1.21900352e-08])\n",
      "  message: 'Desired error not necessarily achieved due to precision loss.'\n",
      "     nfev: 77\n",
      "      nit: 17\n",
      "     njev: 65\n",
      "   status: 2\n",
      "  success: False\n",
      "        x: array([ 5.30565960e+03,  4.20395949e-03, -2.65636794e+00])\n",
      "\n",
      "\n"
     ]
    }
   ],
   "source": [
    "from scipy.optimize import minimize\n",
    "# cyklus fitujici vsechny foton-korelacni data\n",
    "\n",
    "x = np.zeros( (3,fotkor_shape[1]) )\n",
    "DeltaS_S_ratio = []\n",
    "sigmas = np.zeros((3,fotkor_shape[1]))\n",
    "Delta_S_S_ratio_sigma = []\n",
    "fot_phi = []\n",
    "fot_phi_sigma = []\n",
    "\n",
    "hist_sigma = 0.09088658 * np.sqrt( photon_sum ) # sigma binu jednotlivych fotkor-signalu\n",
    "\n",
    "for i in range(fotkor_shape[1]):\n",
    "    \n",
    "    # -----\n",
    "    #podminky urcujici prijimuti reseni\n",
    "    max_phi_unc = 0.9\n",
    "    phi0 = 1.8\n",
    "    \n",
    "    #--- zde budu zkouset postupne ruzne pocatecni body tak, aby minimalizace vybrala globalni minimum\n",
    "    x0 = [fotkor[:fotkor_shape[0]-2,i].mean(), 0.5* ( fotkor[:fotkor_shape[0]-2,i].max()\n",
    "    -fotkor[:fotkor_shape[0]-2,i].min() )/fotkor[:fotkor_shape[0]-2,i].mean(), phi0]\n",
    "#     x0 = [fotkor[:fotkor_shape[0]-2,i].mean(), 0.5* ( fotkor[:fotkor_shape[0]-2,i].max()\n",
    "#         -fotkor[:fotkor_shape[0]-2,i].min() )/fotkor[:fotkor_shape[0]-2,i].mean(), phi0, 100]\n",
    "#     fit = minimize(likehood_transform, x0, args=(Omega, fotkor[:fotkor_shape[0]-2,i], t_res, hist_sigma[i] ), tol=1e-10 )\n",
    "    fit = minimize(likehood_transform, x0, args=(Omega, fotkor[:fotkor_shape[0]-2,i], t_res, hist_sigma[i] ), tol=1e-10,\n",
    "                  jac=likehood_transform_jac)\n",
    "#     fit = minimize(likehood_transform_sigma, x0, args=(Omega, fotkor[:fotkor_shape[0]-2,i], t_res), tol=1e-10)\n",
    "    print(fit)\n",
    "    print('\\n')\n",
    "    if ( np.sqrt(fit.hess_inv[2,2]) > max_phi_unc ) or (fit.x[1] < 0):\n",
    "        x0 = [fotkor[:fotkor_shape[0]-2,i].mean(), 0.5* ( fotkor[:fotkor_shape[0]-2,i].max()\n",
    "        -fotkor[:fotkor_shape[0]-2,i].min() )/fotkor[:fotkor_shape[0]-2,i].mean(), -phi0]\n",
    "#         x0 = [fotkor[:fotkor_shape[0]-2,i].mean(), 0.5* ( fotkor[:fotkor_shape[0]-2,i].max()\n",
    "#             -fotkor[:fotkor_shape[0]-2,i].min() )/fotkor[:fotkor_shape[0]-2,i].mean(), -phi0, 100]\n",
    "        fit = minimize(likehood_transform, x0, args=(Omega, fotkor[:fotkor_shape[0]-2,i], t_res, hist_sigma[i] ), tol=1e-10 ,\n",
    "                      jac=likehood_transform_jac)\n",
    "#         fit = minimize(likehood_transform_sigma, x0, args=(Omega, fotkor[:fotkor_shape[0]-2,i], t_res), tol=1e-10)\n",
    "        print(fit)\n",
    "        print('\\n')\n",
    "        \n",
    "    #---- odhad nejistot parametru----\n",
    "#     C = fit.hess_inv  # variancni-kovariancni matice\n",
    "    C = fit.hess_inv\n",
    "    #------------------------------- \n",
    "    x[:,i] = fit.x\n",
    "    sigmas[:,i] = np.sqrt( np.diagonal(C) )\n",
    "    DeltaS_S_ratio.append(x[1,i]  )\n",
    "    \n",
    "    #---- faze fot-kor signalu\n",
    "    fot_phi.append( np.angle(DeltaS_S_ratio[i]*np.exp(1j*x[2,i])) )\n",
    "    \n",
    "    #---- sigma delta s ku s\n",
    "    Delta_S_S_ratio_sigma.append(np.sqrt( C[1,1]) )\n",
    "    \n",
    "    #---- sigma fot_phi\n",
    "    fot_phi_sigma.append(np.sqrt(C[2,2]))\n",
    "    \n",
    "    \n",
    "S_0 = x[0,:]  # parametry S_0\n",
    "DeltaS = x[1,:] * S_0 # delta S"
   ]
  },
  {
   "cell_type": "code",
   "execution_count": 10,
   "metadata": {},
   "outputs": [
    {
     "name": "stdout",
     "output_type": "stream",
     "text": [
      "[0.014321945854616849, 0.006819314655267111, 0.004203959487991676]\n",
      "[0.0026173926101859374, 0.002666051627530826, 0.0017463845069717208]\n",
      "[-1.1326975285132972, -2.218578024368319, -2.656367936033438]\n",
      "[0.18299861426309116, 0.3932996479168543, 0.4206257539158516]\n"
     ]
    }
   ],
   "source": [
    "print(DeltaS_S_ratio)\n",
    "print(Delta_S_S_ratio_sigma)\n",
    "print(fot_phi)\n",
    "print(fot_phi_sigma)"
   ]
  },
  {
   "cell_type": "code",
   "execution_count": 11,
   "metadata": {},
   "outputs": [
    {
     "data": {
      "text/plain": [
       "array([50.8479347 , 49.24492896, 75.49606342])"
      ]
     },
     "execution_count": 11,
     "metadata": {},
     "output_type": "execute_result"
    }
   ],
   "source": [
    "hist_sigma"
   ]
  },
  {
   "cell_type": "markdown",
   "metadata": {},
   "source": [
    "priblizne odpovida random samplingu -> vizualni kontrola"
   ]
  },
  {
   "cell_type": "code",
   "execution_count": 12,
   "metadata": {},
   "outputs": [],
   "source": [
    "# plot dat\n",
    "import matplotlib.pyplot as plt\n",
    "from matplotlib import rc\n",
    "from matplotlib import rcParams\n",
    "\n",
    "rcParams[\"font.size\"] = 16\n",
    "rcParams[\"mathtext.fontset\"] = \"cm\"\n",
    "rcParams[\"mathtext.rm\"] = \"serif\"\n",
    "rcParams[\"text.usetex\"] = \"true\";\n",
    "rc('text', usetex=True)"
   ]
  },
  {
   "cell_type": "code",
   "execution_count": 13,
   "metadata": {},
   "outputs": [
    {
     "data": {
      "image/png": "[encoded data removed]",
      "text/plain": [
       "<Figure size 432x288 with 1 Axes>"
      ]
     },
     "metadata": {
      "needs_background": "light"
     },
     "output_type": "display_data"
    },
    {
     "data": {
      "image/png": "[encoded data removed]",
      "text/plain": [
       "<Figure size 432x288 with 1 Axes>"
      ]
     },
     "metadata": {
      "needs_background": "light"
     },
     "output_type": "display_data"
    },
    {
     "data": {
      "image/png": "[encoded data removed]",
      "text/plain": [
       "<Figure size 432x288 with 1 Axes>"
      ]
     },
     "metadata": {
      "needs_background": "light"
     },
     "output_type": "display_data"
    }
   ],
   "source": [
    "# plot fitu vcetne errorbaru\n",
    "# my_dpi = 150\n",
    "# siz = 100\n",
    "# sizex = 16*siz\n",
    "# sizey = 9*siz\n",
    "# plot techto fitu\n",
    "time_fit = np.linspace(0, t_scale.max(), 200)\n",
    "\n",
    "for i in range(fotkor_shape[1]):\n",
    "    \n",
    "    fotkor_fit = fit_func( [S_0[i],DeltaS[i],x[2,i]], Omega, time_fit)\n",
    "    \n",
    "    plt.figure()\n",
    "    plt.errorbar(t_scale[:fotkor_shape[0]-2],fotkor[:fotkor_shape[0]-2,i],yerr=hist_sigma[i],fmt='.')\n",
    "    plt.plot(time_fit, fotkor_fit)\n",
    "    text = r'$\\frac{\\Delta S}{S_0}  = \\,\\,$' + r'${:.5f} \\pm {:.6f}$'.format(DeltaS_S_ratio[i], Delta_S_S_ratio_sigma[i])\n",
    "    plt.text(3e-8, fotkor[:,i].max()-500,text) \n",
    "    text2 = r'$\\varphi  = {:.5f} \\pm {:.3}$'.format(fot_phi[i], sigmas[2,i])\n",
    "    plt.text(3e-8, fotkor[:,i].max(),text2) \n"
   ]
  },
  {
   "cell_type": "markdown",
   "metadata": {},
   "source": [
    "ok"
   ]
  },
  {
   "cell_type": "markdown",
   "metadata": {},
   "source": [
    "## Urceni $\\beta$ + nejistoty"
   ]
  },
  {
   "cell_type": "code",
   "execution_count": 14,
   "metadata": {},
   "outputs": [],
   "source": [
    "# parametry vypoctu beta\n",
    "\n",
    "decay_rate = 2*np.pi * 21.008e6  # decay rate dle tabulek NISTu\n",
    "laser_detun = -32e6 * 2*np.pi  # detuning \n",
    "laser_detun_sigma = 4e6 * 2*np.pi # sigma detun"
   ]
  },
  {
   "cell_type": "markdown",
   "metadata": {},
   "source": [
    "Vyuzijeme nelinearniho sireni chyb. Tedy\n",
    "\\begin{equation}\n",
    "    \\mathcal{\\Sigma}^\\beta = \\mathcal{J}^\\beta \\mathcal{\\Sigma} \\mathcal{J }^{\\beta \\rm T}\n",
    "\\end{equation}"
   ]
  },
  {
   "cell_type": "markdown",
   "metadata": {},
   "source": [
    "Jakobian $\\mathcal{J}^\\beta$ vyjadrime pomoci jakobianu $\\mathcal{J}^g$, kde $F(\\beta, \\frac{\\Delta S}{S_0}, \\Omega, \\Delta)=0$, coz je rovnice, kterou resime numericky."
   ]
  },
  {
   "cell_type": "code",
   "execution_count": 15,
   "metadata": {},
   "outputs": [],
   "source": [
    "# numericke reseni deltaS/S -> beta\n",
    "\n",
    "from scipy.optimize import fsolve\n",
    "from scipy.special import j0, j1\n",
    "\n",
    "def get_A(decay_rate, detun):\n",
    "    # returns driven oscillator amplitude in point given by detun param.\n",
    "    return 1 / 2 * (decay_rate / 2 - detun * 1j) / (detun ** 2 + (decay_rate / 2) ** 2)\n",
    "\n",
    "def fl_signal(beta, laser_detun, Omega, decay_rate):\n",
    "    # function calculates deltaS/S0 photon-correlation signal\n",
    "    # input: beta, laser detuning, RF drive freq, decay rate\n",
    "    A_minus = get_A(decay_rate, laser_detun - Omega)\n",
    "    A_plus = get_A(decay_rate, laser_detun + Omega)\n",
    "    A = get_A(decay_rate, laser_detun)\n",
    "\n",
    "    numer = 2 * j0(beta) * j1(beta) * np.abs(np.conj(A) * A_plus - A * np.conj(A_minus))\n",
    "    denom = j0(beta) ** 2 * np.abs(A) ** 2 + j1(beta) ** 2 * (np.abs(A_plus) ** 2 + np.abs(A_minus) ** 2)\n",
    "\n",
    "    return numer / denom\n",
    "\n",
    "def get_beta(Omega, decay_rate, laser_detun, norm_mod_amp):\n",
    "    # function calculates the corresponding beta for given known parameters\n",
    "    # input: drive frequency, decay_rate, laser detuning, normalized modulation amplitude given by ph_corr_signal\n",
    "    # output: float value of beta\n",
    "    def root_func(beta, laser_detun, Omega, decay_rate, norm_mod_amp):\n",
    "        return fl_signal(beta, laser_detun, Omega, decay_rate) - norm_mod_amp\n",
    "\n",
    "    sol = fsolve(root_func, np.array([0.01]), args=(laser_detun, Omega, decay_rate, norm_mod_amp), full_output=1)\n",
    "    return float(sol[0])"
   ]
  },
  {
   "cell_type": "code",
   "execution_count": 16,
   "metadata": {},
   "outputs": [],
   "source": [
    "from scipy.optimize import approx_fprime, check_grad\n",
    "\n",
    "def root_func(x):\n",
    "    [beta, norm_mod_amp, Omega, laser_detun, decay_rate] = x\n",
    "    return fl_signal(beta, laser_detun, Omega, decay_rate) - norm_mod_amp\n",
    "\n",
    "def root_func_grad(x):\n",
    "#     [beta, norm_mod_amp, Omega, laser_detun, decay_rate] = x\n",
    "    epsilon = 5e-6\n",
    "    return( approx_fprime(x, root_func, x*epsilon ) )"
   ]
  },
  {
   "cell_type": "code",
   "execution_count": 17,
   "metadata": {},
   "outputs": [],
   "source": [
    "from scipy.optimize import approx_fprime, check_grad\n",
    "\n",
    "# get beta\n",
    "beta = np.zeros(fotkor_shape[1])\n",
    "beta_sigma = np.zeros(fotkor_shape[1])\n",
    "for k in range(fotkor_shape[1]):\n",
    "    beta[k] = get_beta(Omega, decay_rate, laser_detun, DeltaS_S_ratio[k])\n",
    "    \n",
    "    # get sigma beta\n",
    "    jacob_F = root_func_grad( np.array([beta[k], DeltaS_S_ratio[k], Omega, laser_detun, decay_rate]) ) \n",
    "    # [dF/dbeta, dF/ddeltaS/S, dF/dOmega, dF/dDelta, dF/dGamma]\n",
    "    \n",
    "    # variance-cov parametru\n",
    "    Sigma_param = np.diag([Delta_S_S_ratio_sigma[k]**2, Omega_sigma**2, laser_detun_sigma**2])\n",
    "    \n",
    "    beta_sigma[k] = np.sqrt( jacob_F[0]**-2 * jacob_F[1:-1] @ Sigma_param @ np.transpose( jacob_F[1:-1] ) )\n",
    "    \n",
    "    "
   ]
  },
  {
   "cell_type": "code",
   "execution_count": 18,
   "metadata": {},
   "outputs": [
    {
     "name": "stdout",
     "output_type": "stream",
     "text": [
      "[0.00500949 0.00238513 0.00147037]\n",
      "[0.00091752 0.00093293 0.00061106]\n"
     ]
    }
   ],
   "source": [
    "print(beta)\n",
    "print(beta_sigma)"
   ]
  },
  {
   "cell_type": "code",
   "execution_count": 19,
   "metadata": {},
   "outputs": [
    {
     "data": {
      "text/plain": [
       "1.7140737870436097e-09"
      ]
     },
     "execution_count": 19,
     "metadata": {},
     "output_type": "execute_result"
    }
   ],
   "source": [
    "jacob_F[2]**2  * Omega_sigma**2"
   ]
  },
  {
   "cell_type": "code",
   "execution_count": 20,
   "metadata": {},
   "outputs": [
    {
     "data": {
      "text/plain": [
       "1.4624698899775844e-09"
      ]
     },
     "execution_count": 20,
     "metadata": {},
     "output_type": "execute_result"
    }
   ],
   "source": [
    "check_grad(root_func, root_func_grad,\n",
    "           np.array([beta[0], DeltaS_S_ratio[0], Omega, laser_detun, decay_rate]))"
   ]
  },
  {
   "cell_type": "code",
   "execution_count": 21,
   "metadata": {},
   "outputs": [
    {
     "data": {
      "text/plain": [
       "3.0523099394814405e-06"
      ]
     },
     "execution_count": 21,
     "metadata": {},
     "output_type": "execute_result"
    }
   ],
   "source": [
    "jacob_F[1:-1] @ Sigma_param @ np.transpose( jacob_F[1:-1] )"
   ]
  },
  {
   "cell_type": "code",
   "execution_count": 22,
   "metadata": {},
   "outputs": [
    {
     "data": {
      "text/plain": [
       "array([ 2.85861165e+00, -1.00000000e+00,  7.93531429e-11,  3.68291434e-12,\n",
       "       -1.07851107e-10])"
      ]
     },
     "execution_count": 22,
     "metadata": {},
     "output_type": "execute_result"
    }
   ],
   "source": [
    "root_func_grad(np.array([beta[0], DeltaS_S_ratio[0], Omega, laser_detun, decay_rate]))"
   ]
  },
  {
   "cell_type": "markdown",
   "metadata": {},
   "source": [
    "## projekce indexu $\\beta$ do os $x,y$"
   ]
  },
  {
   "cell_type": "code",
   "execution_count": 23,
   "metadata": {},
   "outputs": [],
   "source": [
    "# definice funkci, ktere prepocitavaji prumety beta_z,beta_xz,beta_xy do os x,y,z\n",
    "\n",
    "# korekce funkce vracejici prumety beta pro svazek xy mirici lib. smerem\n",
    "def get_beta_xyz_phi_xyz_Sxy_z_proj(variables):\n",
    "    # input: beta = [beta_z, beta_xz, beta_xy]  variables = [beta, fot_phi, gamma, a, c]\n",
    "    #       fot_phi = [phi_z, phi_xz, phi_xy]\n",
    "    # jednotkovy vektor svazku Sxy = [a,b,c]\n",
    "\n",
    "    # output: beta_xyz = [beta_x, beta_y, beta_z]\n",
    "    \n",
    "    #### overeno\n",
    "    beta = variables[:3]\n",
    "    fot_phi = variables[3:6]\n",
    "    gamma = variables[6]\n",
    "    a = variables[7]\n",
    "    c = variables[8]\n",
    "    b = -np.sqrt(1 - c**2 - a**2)  # zde pozor na znamenko, je treba ho zadat rucne\n",
    "    \n",
    "    beta_x_comp = 1 / np.sin(gamma) * (\n",
    "                beta[1] * np.exp(1j * fot_phi[1]) - beta[0] * np.cos(gamma) * np.exp(1j * fot_phi[0]))\n",
    "    beta_y_comp = 1 / b * ( beta[2] * np.exp(1j * fot_phi[2]) - a*beta_x_comp - c*beta[0]*np.exp(1j * fot_phi[0]) )\n",
    "\n",
    "    return (np.array([np.abs(beta_x_comp), np.abs(beta_y_comp)]),\n",
    "            np.array([np.angle(beta_x_comp), np.angle(beta_y_comp)])\n",
    "            )\n",
    "\n",
    "def get_beta_x(variables):\n",
    "    #input: beta = [beta_z, beta_xz, beta_xy]  variables = [beta, fot_phi, gamma]\n",
    "    #       fot_phi = [phi_z, phi_xz, phi_xy]\n",
    "    beta = variables[:3]\n",
    "    fot_phi = variables[3:6]\n",
    "    gamma = variables[6]\n",
    "    a = variables[7]\n",
    "    c = variables[8]\n",
    "    b = -np.sqrt(1 - c**2 - a**2)  # zde pozor na znamenko, je treba ho zadat rucne\n",
    "    \n",
    "    beta_x_comp = 1/np.sin(gamma) * (beta[1]*np.exp(1j*fot_phi[1]) - beta[0]*np.cos(gamma)*np.exp(1j*fot_phi[0]) )\n",
    "    return( np.abs(beta_x_comp) )\n",
    "\n",
    "def get_phi_x(variables):\n",
    "    #input: beta = [beta_z, beta_xz, beta_xy]  variables = [beta, fot_phi, gamma]\n",
    "    #       fot_phi = [phi_z, phi_xz, phi_xy]\n",
    "    beta = variables[:3]\n",
    "    fot_phi = variables[3:6]\n",
    "    gamma = variables[6]\n",
    "    a = variables[7]\n",
    "    c = variables[8]\n",
    "    b = -np.sqrt(1 - c**2 - a**2)  # zde pozor na znamenko, je treba ho zadat rucne\n",
    "    \n",
    "    beta_x_comp = 1/np.sin(gamma) * (beta[1]*np.exp(1j*fot_phi[1]) - beta[0]*np.cos(gamma)*np.exp(1j*fot_phi[0]) )\n",
    "    return( np.angle(beta_x_comp) )\n",
    "\n",
    "def get_beta_y(variables):\n",
    "    #input: beta = [beta_z, beta_xz, beta_xy]  variables = [beta, fot_phi, gamma]\n",
    "    #       fot_phi = [phi_z, phi_xz, phi_xy]\n",
    "    beta = variables[:3]\n",
    "    fot_phi = variables[3:6]\n",
    "    gamma = variables[6]\n",
    "    a = variables[7]\n",
    "    c = variables[8]\n",
    "    b = -np.sqrt(1 - c**2 - a**2)  # zde pozor na znamenko, je treba ho zadat rucne\n",
    "    \n",
    "    beta_x_comp = 1 / np.sin(gamma) * (\n",
    "                beta[1] * np.exp(1j * fot_phi[1]) - beta[0] * np.cos(gamma) * np.exp(1j * fot_phi[0]))\n",
    "    beta_y_comp = 1 / b * ( beta[2] * np.exp(1j * fot_phi[2]) - a*beta_x_comp - c*beta[0]*np.exp(1j * fot_phi[0]) )\n",
    "\n",
    "    return( np.abs(beta_y_comp) )\n",
    "\n",
    "def get_phi_y(variables):\n",
    "    #input: beta = [beta_z, beta_xz, beta_xy]  variables = [beta, fot_phi, gamma]\n",
    "    #       fot_phi = [phi_z, phi_xz, phi_xy]\n",
    "    beta = variables[:3]\n",
    "    fot_phi = variables[3:6]\n",
    "    gamma = variables[6]\n",
    "    a = variables[7]\n",
    "    c = variables[8]\n",
    "    b = -np.sqrt(1 - c**2 - a**2)  # zde pozor na znamenko, je treba ho zadat rucne\n",
    "    \n",
    "    beta_x_comp = 1 / np.sin(gamma) * (\n",
    "                beta[1] * np.exp(1j * fot_phi[1]) - beta[0] * np.cos(gamma) * np.exp(1j * fot_phi[0]))\n",
    "    beta_y_comp = 1 / b * ( beta[2] * np.exp(1j * fot_phi[2]) - a*beta_x_comp - c*beta[0]*np.exp(1j * fot_phi[0]) )\n",
    "\n",
    "    \n",
    "    return( np.angle(beta_y_comp) )\n",
    "\n",
    "def get_beta_xyz_phi_xyz(variables):\n",
    "    #input: beta = [beta_z, beta_xz, beta_xy]  variables = [beta, fot_phi, gamma]\n",
    "    #       fot_phi = [phi_z, phi_xz, phi_xy]\n",
    "    \n",
    "    # output: beta_xyz = [beta_x, beta_y, beta_z]\n",
    "    beta = variables[:3]\n",
    "    fot_phi = variables[3:6]\n",
    "    gamma = variables[6]\n",
    "    epsilon = variables[7]\n",
    "    \n",
    "    beta_x_comp = 1/np.sin(gamma) * (beta[1]*np.exp(1j*fot_phi[1]) - beta[0]*np.cos(gamma)*np.exp(1j*fot_phi[0]) )\n",
    "    beta_y_comp = 1/np.cos(epsilon) * ( np.sin(epsilon) * beta_x_comp  - beta[2]*np.exp(1j*fot_phi[2]) )\n",
    "    \n",
    "    return(np.array( [np.abs(beta_x_comp), np.abs(beta_y_comp)]), \n",
    "           np.array( [np.angle(beta_x_comp), np.angle(beta_y_comp) ] ) \n",
    "          ) \n",
    "\n",
    "\n",
    "# def get_beta_x(variables):\n",
    "#     #input: beta = [beta_z, beta_xz, beta_xy]  variables = [beta, fot_phi, gamma]\n",
    "#     #       fot_phi = [phi_z, phi_xz, phi_xy]\n",
    "#     beta = variables[:3]\n",
    "#     fot_phi = variables[3:6]\n",
    "#     gamma = variables[6]\n",
    "#     epsilon = variables[7]\n",
    "    \n",
    "#     beta_x_comp = 1/np.sin(gamma) * (beta[1]*np.exp(1j*fot_phi[1]) - beta[0]*np.cos(gamma)*np.exp(1j*fot_phi[0]) )\n",
    "#     return( np.abs(beta_x_comp) )\n",
    "\n",
    "# def get_phi_x(variables):\n",
    "#     #input: beta = [beta_z, beta_xz, beta_xy]  variables = [beta, fot_phi, gamma]\n",
    "#     #       fot_phi = [phi_z, phi_xz, phi_xy]\n",
    "#     beta = variables[:3]\n",
    "#     fot_phi = variables[3:6]\n",
    "#     gamma = variables[6]\n",
    "#     epsilon = variables[7]\n",
    "    \n",
    "#     beta_x_comp = 1/np.sin(gamma) * (beta[1]*np.exp(1j*fot_phi[1]) - beta[0]*np.cos(gamma)*np.exp(1j*fot_phi[0]) )\n",
    "#     return( np.angle(beta_x_comp) )\n",
    "\n",
    "# def get_beta_y(variables):\n",
    "#     #input: beta = [beta_z, beta_xz, beta_xy]  variables = [beta, fot_phi, gamma]\n",
    "#     #       fot_phi = [phi_z, phi_xz, phi_xy]\n",
    "#     beta = variables[:3]\n",
    "#     fot_phi = variables[3:6]\n",
    "#     gamma = variables[6]\n",
    "#     epsilon = variables[7]\n",
    "    \n",
    "#     beta_x_comp = 1/np.sin(gamma) * (beta[1]*np.exp(1j*fot_phi[1]) - beta[0]*np.cos(gamma)*np.exp(1j*fot_phi[0]) )\n",
    "#     beta_y_comp = 1/np.cos(epsilon) * ( np.sin(epsilon) * beta_x_comp  - beta[2]*np.exp(1j*fot_phi[2]) )\n",
    "    \n",
    "#     return( np.abs(beta_y_comp) )\n",
    "\n",
    "# def get_phi_y(variables):\n",
    "#     #input: beta = [beta_z, beta_xz, beta_xy]  variables = [beta, fot_phi, gamma]\n",
    "#     #       fot_phi = [phi_z, phi_xz, phi_xy]\n",
    "#     beta = variables[:3]\n",
    "#     fot_phi = variables[3:6]\n",
    "#     gamma = variables[6]\n",
    "#     epsilon = variables[7]\n",
    "    \n",
    "#     beta_x_comp = 1/np.sin(gamma) * (beta[1]*np.exp(1j*fot_phi[1]) - beta[0]*np.cos(gamma)*np.exp(1j*fot_phi[0]) )\n",
    "#     beta_y_comp = 1/np.cos(epsilon) * ( np.sin(epsilon) * beta_x_comp  - beta[2]*np.exp(1j*fot_phi[2]) )\n",
    "    \n",
    "#     return( np.angle(beta_y_comp) )\n",
    "\n",
    "def get_beta_x_jac(variables):\n",
    "    #input: beta = [beta_z, beta_xz, beta_xy]  variables = [beta, fot_phi, gamma]\n",
    "    #       fot_phi = [phi_z, phi_xz, phi_xy]\n",
    "    # output: grad beta_x\n",
    "    epsi_err = 1e-8\n",
    "    return( approx_fprime(variables, get_beta_x, epsi_err) )\n",
    "\n",
    "def get_beta_y_jac(variables):\n",
    "    #input: beta = [beta_z, beta_xz, beta_xy]  variables = [beta, fot_phi, gamma]\n",
    "    #       fot_phi = [phi_z, phi_xz, phi_xy]\n",
    "    # output: grad beta_x\n",
    "    epsi_err = 1e-8\n",
    "    return( approx_fprime(variables, get_beta_y, epsi_err) )\n",
    "\n",
    "def get_phi_x_jac(variables):\n",
    "    #input: beta = [beta_z, beta_xz, beta_xy]  variables = [beta, fot_phi, gamma]\n",
    "    #       fot_phi = [phi_z, phi_xz, phi_xy]\n",
    "    # output: grad beta_x\n",
    "    epsi_err = 1e-8\n",
    "    return( approx_fprime(variables, get_phi_x, epsi_err) )\n",
    "\n",
    "def get_phi_y_jac(variables):\n",
    "    #input: beta = [beta_z, beta_xz, beta_xy]  variables = [beta, fot_phi, gamma]\n",
    "    #       fot_phi = [phi_z, phi_xz, phi_xy]\n",
    "    # output: grad beta_x\n",
    "    epsi_err = 1e-8\n",
    "    return( approx_fprime(variables, get_phi_y, epsi_err) )\n",
    "\n",
    "def get_beta_x_y_phi_x_y_jacob(variables):\n",
    "    #input: beta = [beta_z, beta_xz, beta_xy]  variables = [beta, fot_phi, gamma]\n",
    "    #       fot_phi = [phi_z, phi_xz, phi_xy]\n",
    "    # output: jacobian \n",
    "    \n",
    "    return( np.array([ get_beta_x_jac(variables), get_beta_y_jac(variables), \n",
    "                      get_phi_x_jac(variables), get_phi_y_jac(variables) ])\n",
    "          )\n",
    "  "
   ]
  },
  {
   "cell_type": "code",
   "execution_count": 24,
   "metadata": {},
   "outputs": [
    {
     "data": {
      "text/plain": [
       "(array([0.0045519 , 0.00486245]), array([2.72386914, 2.99529079]))"
      ]
     },
     "execution_count": 24,
     "metadata": {},
     "output_type": "execute_result"
    }
   ],
   "source": [
    "get_beta_xyz_phi_xyz([beta[0],beta[1],0.003, fot_phi[0],fot_phi[1],0, np.pi/4, 21/180 * np.pi])"
   ]
  },
  {
   "cell_type": "code",
   "execution_count": 25,
   "metadata": {},
   "outputs": [
    {
     "data": {
      "text/plain": [
       "(array([0.0045519 , 0.00486245]), array([2.72386914, 2.9952908 ]))"
      ]
     },
     "execution_count": 25,
     "metadata": {},
     "output_type": "execute_result"
    }
   ],
   "source": [
    "# get_beta_xyz_phi_xyz_Sxy_z_proj([beta[0],beta[1],0.003, fot_phi[0],fot_phi[1],0, np.pi/4, 0.3572, -0.0722])\n",
    "get_beta_xyz_phi_xyz_Sxy_z_proj([beta[0],beta[1],0.003, fot_phi[0],fot_phi[1],0, np.pi/4, 0.3583679, 0])"
   ]
  },
  {
   "cell_type": "code",
   "execution_count": 26,
   "metadata": {},
   "outputs": [
    {
     "ename": "IndexError",
     "evalue": "list index out of range",
     "output_type": "error",
     "traceback": [
      "\u001b[0;31m---------------------------------------------------------------------------\u001b[0m",
      "\u001b[0;31mIndexError\u001b[0m                                Traceback (most recent call last)",
      "\u001b[0;32m<ipython-input-26-b983d433265d>\u001b[0m in \u001b[0;36m<module>\u001b[0;34m\u001b[0m\n\u001b[0;32m----> 1\u001b[0;31m \u001b[0mcheck_grad\u001b[0m\u001b[0;34m(\u001b[0m\u001b[0mget_phi_y\u001b[0m\u001b[0;34m,\u001b[0m \u001b[0mget_phi_y_jac\u001b[0m\u001b[0;34m,\u001b[0m \u001b[0;34m[\u001b[0m\u001b[0mbeta\u001b[0m\u001b[0;34m[\u001b[0m\u001b[0;36m0\u001b[0m\u001b[0;34m]\u001b[0m\u001b[0;34m,\u001b[0m\u001b[0mbeta\u001b[0m\u001b[0;34m[\u001b[0m\u001b[0;36m1\u001b[0m\u001b[0;34m]\u001b[0m\u001b[0;34m,\u001b[0m\u001b[0;36m0.003\u001b[0m\u001b[0;34m,\u001b[0m \u001b[0mfot_phi\u001b[0m\u001b[0;34m[\u001b[0m\u001b[0;36m0\u001b[0m\u001b[0;34m]\u001b[0m\u001b[0;34m,\u001b[0m\u001b[0mfot_phi\u001b[0m\u001b[0;34m[\u001b[0m\u001b[0;36m1\u001b[0m\u001b[0;34m]\u001b[0m\u001b[0;34m,\u001b[0m\u001b[0;36m0\u001b[0m\u001b[0;34m,\u001b[0m \u001b[0mnp\u001b[0m\u001b[0;34m.\u001b[0m\u001b[0mpi\u001b[0m\u001b[0;34m/\u001b[0m\u001b[0;36m4\u001b[0m\u001b[0;34m,\u001b[0m \u001b[0;36m21\u001b[0m\u001b[0;34m/\u001b[0m\u001b[0;36m180\u001b[0m \u001b[0;34m*\u001b[0m \u001b[0mnp\u001b[0m\u001b[0;34m.\u001b[0m\u001b[0mpi\u001b[0m\u001b[0;34m]\u001b[0m\u001b[0;34m)\u001b[0m\u001b[0;34m\u001b[0m\u001b[0;34m\u001b[0m\u001b[0m\n\u001b[0m",
      "\u001b[0;32m~/anaconda3/lib/python3.7/site-packages/scipy/optimize/optimize.py\u001b[0m in \u001b[0;36mcheck_grad\u001b[0;34m(func, grad, x0, *args, **kwargs)\u001b[0m\n\u001b[1;32m    802\u001b[0m         raise ValueError(\"Unknown keyword arguments: %r\" %\n\u001b[1;32m    803\u001b[0m                          (list(kwargs.keys()),))\n\u001b[0;32m--> 804\u001b[0;31m     return sqrt(sum((grad(x0, *args) -\n\u001b[0m\u001b[1;32m    805\u001b[0m                      approx_fprime(x0, func, step, *args))**2))\n\u001b[1;32m    806\u001b[0m \u001b[0;34m\u001b[0m\u001b[0m\n",
      "\u001b[0;32m<ipython-input-23-76ab0d853825>\u001b[0m in \u001b[0;36mget_phi_y_jac\u001b[0;34m(variables)\u001b[0m\n\u001b[1;32m    176\u001b[0m     \u001b[0;31m# output: grad beta_x\u001b[0m\u001b[0;34m\u001b[0m\u001b[0;34m\u001b[0m\u001b[0;34m\u001b[0m\u001b[0m\n\u001b[1;32m    177\u001b[0m     \u001b[0mepsi_err\u001b[0m \u001b[0;34m=\u001b[0m \u001b[0;36m1e-8\u001b[0m\u001b[0;34m\u001b[0m\u001b[0;34m\u001b[0m\u001b[0m\n\u001b[0;32m--> 178\u001b[0;31m     \u001b[0;32mreturn\u001b[0m\u001b[0;34m(\u001b[0m \u001b[0mapprox_fprime\u001b[0m\u001b[0;34m(\u001b[0m\u001b[0mvariables\u001b[0m\u001b[0;34m,\u001b[0m \u001b[0mget_phi_y\u001b[0m\u001b[0;34m,\u001b[0m \u001b[0mepsi_err\u001b[0m\u001b[0;34m)\u001b[0m \u001b[0;34m)\u001b[0m\u001b[0;34m\u001b[0m\u001b[0;34m\u001b[0m\u001b[0m\n\u001b[0m\u001b[1;32m    179\u001b[0m \u001b[0;34m\u001b[0m\u001b[0m\n\u001b[1;32m    180\u001b[0m \u001b[0;32mdef\u001b[0m \u001b[0mget_beta_x_y_phi_x_y_jacob\u001b[0m\u001b[0;34m(\u001b[0m\u001b[0mvariables\u001b[0m\u001b[0;34m)\u001b[0m\u001b[0;34m:\u001b[0m\u001b[0;34m\u001b[0m\u001b[0;34m\u001b[0m\u001b[0m\n",
      "\u001b[0;32m~/anaconda3/lib/python3.7/site-packages/scipy/optimize/optimize.py\u001b[0m in \u001b[0;36mapprox_fprime\u001b[0;34m(xk, f, epsilon, *args)\u001b[0m\n\u001b[1;32m    754\u001b[0m \u001b[0;34m\u001b[0m\u001b[0m\n\u001b[1;32m    755\u001b[0m     \"\"\"\n\u001b[0;32m--> 756\u001b[0;31m     \u001b[0;32mreturn\u001b[0m \u001b[0m_approx_fprime_helper\u001b[0m\u001b[0;34m(\u001b[0m\u001b[0mxk\u001b[0m\u001b[0;34m,\u001b[0m \u001b[0mf\u001b[0m\u001b[0;34m,\u001b[0m \u001b[0mepsilon\u001b[0m\u001b[0;34m,\u001b[0m \u001b[0margs\u001b[0m\u001b[0;34m=\u001b[0m\u001b[0margs\u001b[0m\u001b[0;34m)\u001b[0m\u001b[0;34m\u001b[0m\u001b[0;34m\u001b[0m\u001b[0m\n\u001b[0m\u001b[1;32m    757\u001b[0m \u001b[0;34m\u001b[0m\u001b[0m\n\u001b[1;32m    758\u001b[0m \u001b[0;34m\u001b[0m\u001b[0m\n",
      "\u001b[0;32m~/anaconda3/lib/python3.7/site-packages/scipy/optimize/optimize.py\u001b[0m in \u001b[0;36m_approx_fprime_helper\u001b[0;34m(xk, f, epsilon, args, f0)\u001b[0m\n\u001b[1;32m    688\u001b[0m     \"\"\"\n\u001b[1;32m    689\u001b[0m     \u001b[0;32mif\u001b[0m \u001b[0mf0\u001b[0m \u001b[0;32mis\u001b[0m \u001b[0;32mNone\u001b[0m\u001b[0;34m:\u001b[0m\u001b[0;34m\u001b[0m\u001b[0;34m\u001b[0m\u001b[0m\n\u001b[0;32m--> 690\u001b[0;31m         \u001b[0mf0\u001b[0m \u001b[0;34m=\u001b[0m \u001b[0mf\u001b[0m\u001b[0;34m(\u001b[0m\u001b[0;34m*\u001b[0m\u001b[0;34m(\u001b[0m\u001b[0;34m(\u001b[0m\u001b[0mxk\u001b[0m\u001b[0;34m,\u001b[0m\u001b[0;34m)\u001b[0m \u001b[0;34m+\u001b[0m \u001b[0margs\u001b[0m\u001b[0;34m)\u001b[0m\u001b[0;34m)\u001b[0m\u001b[0;34m\u001b[0m\u001b[0;34m\u001b[0m\u001b[0m\n\u001b[0m\u001b[1;32m    691\u001b[0m     \u001b[0mgrad\u001b[0m \u001b[0;34m=\u001b[0m \u001b[0mnumpy\u001b[0m\u001b[0;34m.\u001b[0m\u001b[0mzeros\u001b[0m\u001b[0;34m(\u001b[0m\u001b[0;34m(\u001b[0m\u001b[0mlen\u001b[0m\u001b[0;34m(\u001b[0m\u001b[0mxk\u001b[0m\u001b[0;34m)\u001b[0m\u001b[0;34m,\u001b[0m\u001b[0;34m)\u001b[0m\u001b[0;34m,\u001b[0m \u001b[0mfloat\u001b[0m\u001b[0;34m)\u001b[0m\u001b[0;34m\u001b[0m\u001b[0;34m\u001b[0m\u001b[0m\n\u001b[1;32m    692\u001b[0m     \u001b[0mei\u001b[0m \u001b[0;34m=\u001b[0m \u001b[0mnumpy\u001b[0m\u001b[0;34m.\u001b[0m\u001b[0mzeros\u001b[0m\u001b[0;34m(\u001b[0m\u001b[0;34m(\u001b[0m\u001b[0mlen\u001b[0m\u001b[0;34m(\u001b[0m\u001b[0mxk\u001b[0m\u001b[0;34m)\u001b[0m\u001b[0;34m,\u001b[0m\u001b[0;34m)\u001b[0m\u001b[0;34m,\u001b[0m \u001b[0mfloat\u001b[0m\u001b[0;34m)\u001b[0m\u001b[0;34m\u001b[0m\u001b[0;34m\u001b[0m\u001b[0m\n",
      "\u001b[0;32m<ipython-input-23-76ab0d853825>\u001b[0m in \u001b[0;36mget_phi_y\u001b[0;34m(variables)\u001b[0m\n\u001b[1;32m     74\u001b[0m     \u001b[0mgamma\u001b[0m \u001b[0;34m=\u001b[0m \u001b[0mvariables\u001b[0m\u001b[0;34m[\u001b[0m\u001b[0;36m6\u001b[0m\u001b[0;34m]\u001b[0m\u001b[0;34m\u001b[0m\u001b[0;34m\u001b[0m\u001b[0m\n\u001b[1;32m     75\u001b[0m     \u001b[0ma\u001b[0m \u001b[0;34m=\u001b[0m \u001b[0mvariables\u001b[0m\u001b[0;34m[\u001b[0m\u001b[0;36m7\u001b[0m\u001b[0;34m]\u001b[0m\u001b[0;34m\u001b[0m\u001b[0;34m\u001b[0m\u001b[0m\n\u001b[0;32m---> 76\u001b[0;31m     \u001b[0mc\u001b[0m \u001b[0;34m=\u001b[0m \u001b[0mvariables\u001b[0m\u001b[0;34m[\u001b[0m\u001b[0;36m8\u001b[0m\u001b[0;34m]\u001b[0m\u001b[0;34m\u001b[0m\u001b[0;34m\u001b[0m\u001b[0m\n\u001b[0m\u001b[1;32m     77\u001b[0m     \u001b[0mb\u001b[0m \u001b[0;34m=\u001b[0m \u001b[0;34m-\u001b[0m\u001b[0mnp\u001b[0m\u001b[0;34m.\u001b[0m\u001b[0msqrt\u001b[0m\u001b[0;34m(\u001b[0m\u001b[0;36m1\u001b[0m \u001b[0;34m-\u001b[0m \u001b[0mc\u001b[0m\u001b[0;34m**\u001b[0m\u001b[0;36m2\u001b[0m \u001b[0;34m-\u001b[0m \u001b[0ma\u001b[0m\u001b[0;34m**\u001b[0m\u001b[0;36m2\u001b[0m\u001b[0;34m)\u001b[0m  \u001b[0;31m# zde pozor na znamenko, je treba ho zadat rucne\u001b[0m\u001b[0;34m\u001b[0m\u001b[0;34m\u001b[0m\u001b[0m\n\u001b[1;32m     78\u001b[0m \u001b[0;34m\u001b[0m\u001b[0m\n",
      "\u001b[0;31mIndexError\u001b[0m: list index out of range"
     ]
    }
   ],
   "source": [
    "check_grad(get_phi_y, get_phi_y_jac, [beta[0],beta[1],0.003, fot_phi[0],fot_phi[1],0, np.pi/4, 21/180 * np.pi])"
   ]
  },
  {
   "cell_type": "code",
   "execution_count": 102,
   "metadata": {},
   "outputs": [
    {
     "data": {
      "text/plain": [
       "4.5124895720102064e-05"
      ]
     },
     "execution_count": 102,
     "metadata": {},
     "output_type": "execute_result"
    }
   ],
   "source": [
    "check_grad(get_phi_y, get_phi_y_jac, [beta[0],beta[1],0.003, fot_phi[0],fot_phi[1],0, np.pi/4, 0.3583679, 0])"
   ]
  },
  {
   "cell_type": "code",
   "execution_count": 27,
   "metadata": {},
   "outputs": [
    {
     "ename": "IndexError",
     "evalue": "list index out of range",
     "output_type": "error",
     "traceback": [
      "\u001b[0;31m---------------------------------------------------------------------------\u001b[0m",
      "\u001b[0;31mIndexError\u001b[0m                                Traceback (most recent call last)",
      "\u001b[0;32m<ipython-input-27-e17cfad8772d>\u001b[0m in \u001b[0;36m<module>\u001b[0;34m\u001b[0m\n\u001b[0;32m----> 1\u001b[0;31m \u001b[0mget_beta_x_y_phi_x_y_jacob\u001b[0m\u001b[0;34m(\u001b[0m \u001b[0;34m[\u001b[0m\u001b[0mbeta\u001b[0m\u001b[0;34m[\u001b[0m\u001b[0;36m0\u001b[0m\u001b[0;34m]\u001b[0m\u001b[0;34m,\u001b[0m\u001b[0mbeta\u001b[0m\u001b[0;34m[\u001b[0m\u001b[0;36m1\u001b[0m\u001b[0;34m]\u001b[0m\u001b[0;34m,\u001b[0m\u001b[0;36m0.003\u001b[0m\u001b[0;34m,\u001b[0m \u001b[0mfot_phi\u001b[0m\u001b[0;34m[\u001b[0m\u001b[0;36m0\u001b[0m\u001b[0;34m]\u001b[0m\u001b[0;34m,\u001b[0m\u001b[0mfot_phi\u001b[0m\u001b[0;34m[\u001b[0m\u001b[0;36m1\u001b[0m\u001b[0;34m]\u001b[0m\u001b[0;34m,\u001b[0m\u001b[0;36m0\u001b[0m\u001b[0;34m,\u001b[0m \u001b[0mnp\u001b[0m\u001b[0;34m.\u001b[0m\u001b[0mpi\u001b[0m\u001b[0;34m/\u001b[0m\u001b[0;36m4\u001b[0m\u001b[0;34m,\u001b[0m \u001b[0;36m0.2\u001b[0m\u001b[0;34m]\u001b[0m \u001b[0;34m)\u001b[0m\u001b[0;34m\u001b[0m\u001b[0;34m\u001b[0m\u001b[0m\n\u001b[0m",
      "\u001b[0;32m<ipython-input-23-76ab0d853825>\u001b[0m in \u001b[0;36mget_beta_x_y_phi_x_y_jacob\u001b[0;34m(variables)\u001b[0m\n\u001b[1;32m    183\u001b[0m     \u001b[0;31m# output: jacobian\u001b[0m\u001b[0;34m\u001b[0m\u001b[0;34m\u001b[0m\u001b[0;34m\u001b[0m\u001b[0m\n\u001b[1;32m    184\u001b[0m \u001b[0;34m\u001b[0m\u001b[0m\n\u001b[0;32m--> 185\u001b[0;31m     return( np.array([ get_beta_x_jac(variables), get_beta_y_jac(variables), \n\u001b[0m\u001b[1;32m    186\u001b[0m                       get_phi_x_jac(variables), get_phi_y_jac(variables) ])\n\u001b[1;32m    187\u001b[0m           )\n",
      "\u001b[0;32m<ipython-input-23-76ab0d853825>\u001b[0m in \u001b[0;36mget_beta_x_jac\u001b[0;34m(variables)\u001b[0m\n\u001b[1;32m    155\u001b[0m     \u001b[0;31m# output: grad beta_x\u001b[0m\u001b[0;34m\u001b[0m\u001b[0;34m\u001b[0m\u001b[0;34m\u001b[0m\u001b[0m\n\u001b[1;32m    156\u001b[0m     \u001b[0mepsi_err\u001b[0m \u001b[0;34m=\u001b[0m \u001b[0;36m1e-8\u001b[0m\u001b[0;34m\u001b[0m\u001b[0;34m\u001b[0m\u001b[0m\n\u001b[0;32m--> 157\u001b[0;31m     \u001b[0;32mreturn\u001b[0m\u001b[0;34m(\u001b[0m \u001b[0mapprox_fprime\u001b[0m\u001b[0;34m(\u001b[0m\u001b[0mvariables\u001b[0m\u001b[0;34m,\u001b[0m \u001b[0mget_beta_x\u001b[0m\u001b[0;34m,\u001b[0m \u001b[0mepsi_err\u001b[0m\u001b[0;34m)\u001b[0m \u001b[0;34m)\u001b[0m\u001b[0;34m\u001b[0m\u001b[0;34m\u001b[0m\u001b[0m\n\u001b[0m\u001b[1;32m    158\u001b[0m \u001b[0;34m\u001b[0m\u001b[0m\n\u001b[1;32m    159\u001b[0m \u001b[0;32mdef\u001b[0m \u001b[0mget_beta_y_jac\u001b[0m\u001b[0;34m(\u001b[0m\u001b[0mvariables\u001b[0m\u001b[0;34m)\u001b[0m\u001b[0;34m:\u001b[0m\u001b[0;34m\u001b[0m\u001b[0;34m\u001b[0m\u001b[0m\n",
      "\u001b[0;32m~/anaconda3/lib/python3.7/site-packages/scipy/optimize/optimize.py\u001b[0m in \u001b[0;36mapprox_fprime\u001b[0;34m(xk, f, epsilon, *args)\u001b[0m\n\u001b[1;32m    754\u001b[0m \u001b[0;34m\u001b[0m\u001b[0m\n\u001b[1;32m    755\u001b[0m     \"\"\"\n\u001b[0;32m--> 756\u001b[0;31m     \u001b[0;32mreturn\u001b[0m \u001b[0m_approx_fprime_helper\u001b[0m\u001b[0;34m(\u001b[0m\u001b[0mxk\u001b[0m\u001b[0;34m,\u001b[0m \u001b[0mf\u001b[0m\u001b[0;34m,\u001b[0m \u001b[0mepsilon\u001b[0m\u001b[0;34m,\u001b[0m \u001b[0margs\u001b[0m\u001b[0;34m=\u001b[0m\u001b[0margs\u001b[0m\u001b[0;34m)\u001b[0m\u001b[0;34m\u001b[0m\u001b[0;34m\u001b[0m\u001b[0m\n\u001b[0m\u001b[1;32m    757\u001b[0m \u001b[0;34m\u001b[0m\u001b[0m\n\u001b[1;32m    758\u001b[0m \u001b[0;34m\u001b[0m\u001b[0m\n",
      "\u001b[0;32m~/anaconda3/lib/python3.7/site-packages/scipy/optimize/optimize.py\u001b[0m in \u001b[0;36m_approx_fprime_helper\u001b[0;34m(xk, f, epsilon, args, f0)\u001b[0m\n\u001b[1;32m    688\u001b[0m     \"\"\"\n\u001b[1;32m    689\u001b[0m     \u001b[0;32mif\u001b[0m \u001b[0mf0\u001b[0m \u001b[0;32mis\u001b[0m \u001b[0;32mNone\u001b[0m\u001b[0;34m:\u001b[0m\u001b[0;34m\u001b[0m\u001b[0;34m\u001b[0m\u001b[0m\n\u001b[0;32m--> 690\u001b[0;31m         \u001b[0mf0\u001b[0m \u001b[0;34m=\u001b[0m \u001b[0mf\u001b[0m\u001b[0;34m(\u001b[0m\u001b[0;34m*\u001b[0m\u001b[0;34m(\u001b[0m\u001b[0;34m(\u001b[0m\u001b[0mxk\u001b[0m\u001b[0;34m,\u001b[0m\u001b[0;34m)\u001b[0m \u001b[0;34m+\u001b[0m \u001b[0margs\u001b[0m\u001b[0;34m)\u001b[0m\u001b[0;34m)\u001b[0m\u001b[0;34m\u001b[0m\u001b[0;34m\u001b[0m\u001b[0m\n\u001b[0m\u001b[1;32m    691\u001b[0m     \u001b[0mgrad\u001b[0m \u001b[0;34m=\u001b[0m \u001b[0mnumpy\u001b[0m\u001b[0;34m.\u001b[0m\u001b[0mzeros\u001b[0m\u001b[0;34m(\u001b[0m\u001b[0;34m(\u001b[0m\u001b[0mlen\u001b[0m\u001b[0;34m(\u001b[0m\u001b[0mxk\u001b[0m\u001b[0;34m)\u001b[0m\u001b[0;34m,\u001b[0m\u001b[0;34m)\u001b[0m\u001b[0;34m,\u001b[0m \u001b[0mfloat\u001b[0m\u001b[0;34m)\u001b[0m\u001b[0;34m\u001b[0m\u001b[0;34m\u001b[0m\u001b[0m\n\u001b[1;32m    692\u001b[0m     \u001b[0mei\u001b[0m \u001b[0;34m=\u001b[0m \u001b[0mnumpy\u001b[0m\u001b[0;34m.\u001b[0m\u001b[0mzeros\u001b[0m\u001b[0;34m(\u001b[0m\u001b[0;34m(\u001b[0m\u001b[0mlen\u001b[0m\u001b[0;34m(\u001b[0m\u001b[0mxk\u001b[0m\u001b[0;34m)\u001b[0m\u001b[0;34m,\u001b[0m\u001b[0;34m)\u001b[0m\u001b[0;34m,\u001b[0m \u001b[0mfloat\u001b[0m\u001b[0;34m)\u001b[0m\u001b[0;34m\u001b[0m\u001b[0;34m\u001b[0m\u001b[0m\n",
      "\u001b[0;32m<ipython-input-23-76ab0d853825>\u001b[0m in \u001b[0;36mget_beta_x\u001b[0;34m(variables)\u001b[0m\n\u001b[1;32m     32\u001b[0m     \u001b[0mgamma\u001b[0m \u001b[0;34m=\u001b[0m \u001b[0mvariables\u001b[0m\u001b[0;34m[\u001b[0m\u001b[0;36m6\u001b[0m\u001b[0;34m]\u001b[0m\u001b[0;34m\u001b[0m\u001b[0;34m\u001b[0m\u001b[0m\n\u001b[1;32m     33\u001b[0m     \u001b[0ma\u001b[0m \u001b[0;34m=\u001b[0m \u001b[0mvariables\u001b[0m\u001b[0;34m[\u001b[0m\u001b[0;36m7\u001b[0m\u001b[0;34m]\u001b[0m\u001b[0;34m\u001b[0m\u001b[0;34m\u001b[0m\u001b[0m\n\u001b[0;32m---> 34\u001b[0;31m     \u001b[0mc\u001b[0m \u001b[0;34m=\u001b[0m \u001b[0mvariables\u001b[0m\u001b[0;34m[\u001b[0m\u001b[0;36m8\u001b[0m\u001b[0;34m]\u001b[0m\u001b[0;34m\u001b[0m\u001b[0;34m\u001b[0m\u001b[0m\n\u001b[0m\u001b[1;32m     35\u001b[0m     \u001b[0mb\u001b[0m \u001b[0;34m=\u001b[0m \u001b[0;34m-\u001b[0m\u001b[0mnp\u001b[0m\u001b[0;34m.\u001b[0m\u001b[0msqrt\u001b[0m\u001b[0;34m(\u001b[0m\u001b[0;36m1\u001b[0m \u001b[0;34m-\u001b[0m \u001b[0mc\u001b[0m\u001b[0;34m**\u001b[0m\u001b[0;36m2\u001b[0m \u001b[0;34m-\u001b[0m \u001b[0ma\u001b[0m\u001b[0;34m**\u001b[0m\u001b[0;36m2\u001b[0m\u001b[0;34m)\u001b[0m  \u001b[0;31m# zde pozor na znamenko, je treba ho zadat rucne\u001b[0m\u001b[0;34m\u001b[0m\u001b[0;34m\u001b[0m\u001b[0m\n\u001b[1;32m     36\u001b[0m \u001b[0;34m\u001b[0m\u001b[0m\n",
      "\u001b[0;31mIndexError\u001b[0m: list index out of range"
     ]
    }
   ],
   "source": [
    "get_beta_x_y_phi_x_y_jacob( [beta[0],beta[1],0.003, fot_phi[0],fot_phi[1],0, np.pi/4, 0.2] )"
   ]
  },
  {
   "cell_type": "markdown",
   "metadata": {},
   "source": [
    "Prepocitam bety a phi na do os $x,y,z$"
   ]
  },
  {
   "cell_type": "code",
   "execution_count": 28,
   "metadata": {},
   "outputs": [],
   "source": [
    "## uhly detekcnich svazku\n",
    "gamma = 45.07/180 * np.pi\n",
    "gamma_sigma = 6/180 * np.pi\n",
    "# epsilon = 20/180 * np.pi\n",
    "# epsilon_sigma = 1/180 * np.pi\n",
    "Sxy_vec = np.array([85, -230, -20]) / np.sqrt(85**2 + 230**2 + 20**2)\n",
    "\n",
    "a = Sxy_vec[0]\n",
    "a_sigma = 0.01\n",
    "c = Sxy_vec[2]\n",
    "c_sigma = 0.008\n"
   ]
  },
  {
   "cell_type": "code",
   "execution_count": 29,
   "metadata": {},
   "outputs": [
    {
     "name": "stdout",
     "output_type": "stream",
     "text": [
      "[0.00454173 0.00232571 0.00500949]\n",
      "[0.00183007 0.00084287 0.00091752]\n",
      "[ 2.72475206 -2.68080874 -1.13269753]\n",
      "[0.36131814 0.43387966 0.18299861]\n"
     ]
    }
   ],
   "source": [
    "[beta_x_y, phi_x_y] = get_beta_xyz_phi_xyz_Sxy_z_proj( [beta[0],beta[1],0.002, fot_phi[0],fot_phi[1],1.4,gamma, a, c] )\n",
    "beta_xyz = np.append(beta_x_y, beta[0]) # [beta_x, beta_y, beta_z]\n",
    "phi_xyz = np.append(phi_x_y, fot_phi[0]) # [phi_x, phi_y, phi_z]\n",
    "\n",
    "#--- nejistoty zakonem sireni chyb\n",
    "# sirim kovariancni matici diag( sigma^2 beta, sigma^2 phi, simga^2 gamma, epsilon_sigma^2)\n",
    "\n",
    "# sigma_params = np.diag([beta_sigma[0]**2, beta_sigma[1]**2, 8e-4**2, fot_phi_sigma[0]**2, fot_phi_sigma[1]**2, \n",
    "#                         0.1**2, gamma_sigma**2, epsilon_sigma**2 ])\n",
    "\n",
    "sigma_params = np.diag([beta_sigma[0]**2, beta_sigma[1]**2, 8e-4**2, fot_phi_sigma[0]**2, fot_phi_sigma[1]**2, \n",
    "                        0.1**2, gamma_sigma**2, a_sigma**2, c_sigma**2 ])\n",
    "\n",
    "jacob_beta_phi_xy = get_beta_x_y_phi_x_y_jacob([beta[0],beta[1],0.002, fot_phi[0],fot_phi[1],1.4,gamma, a, c])\n",
    "\n",
    "sigma_beta_phi_xy = jacob_beta_phi_xy @ sigma_params @ np.transpose(jacob_beta_phi_xy)\n",
    "\n",
    "beta_xyz_sigma = np.sqrt( np.diag(sigma_beta_phi_xy)[:2] )\n",
    "phi_xyz_sigma = np.sqrt( np.diag(sigma_beta_phi_xy)[2:] )\n",
    "\n",
    "beta_xyz_sigma = np.append(beta_xyz_sigma, beta_sigma[0])\n",
    "phi_xyz_sigma = np.append(phi_xyz_sigma, fot_phi_sigma[0])\n",
    "\n",
    "print(beta_xyz)\n",
    "print(beta_xyz_sigma)\n",
    "print(phi_xyz)\n",
    "print(phi_xyz_sigma)"
   ]
  },
  {
   "cell_type": "code",
   "execution_count": 30,
   "metadata": {},
   "outputs": [
    {
     "data": {
      "text/plain": [
       "array([0.00183007, 0.00084287, 0.36131814, 0.43387966])"
      ]
     },
     "execution_count": 30,
     "metadata": {},
     "output_type": "execute_result"
    }
   ],
   "source": [
    "np.sqrt( np.diagonal(sigma_beta_phi_xy) )"
   ]
  },
  {
   "cell_type": "code",
   "execution_count": 31,
   "metadata": {},
   "outputs": [
    {
     "data": {
      "text/plain": [
       "array([[ 7.52690197e-01,  3.23311959e-01,  0.00000000e+00,\n",
       "         3.27952891e-03, -3.27952882e-03,  0.00000000e+00,\n",
       "        -8.31046672e-03,  0.00000000e+00,  0.00000000e+00],\n",
       "       [-1.03344537e-02,  4.67227477e-01,  6.31542213e-01,\n",
       "         2.28183774e-03, -5.55226741e-04, -1.72661095e-03,\n",
       "        -1.02789491e-03,  4.02355089e-03, -9.47748824e-05],\n",
       "       [-1.44143615e+02,  3.02745432e+02,  0.00000000e+00,\n",
       "         8.30210967e-01,  1.69789072e-01,  0.00000000e+00,\n",
       "         7.23854399e-01,  0.00000000e+00,  0.00000000e+00],\n",
       "       [-1.95855566e+02,  1.00092707e+02,  3.71200336e+02,\n",
       "        -2.22610375e-02,  4.79165374e-01,  5.43095657e-01,\n",
       "         1.34962090e+00, -1.60678724e+00,  2.30338615e+00]])"
      ]
     },
     "execution_count": 31,
     "metadata": {},
     "output_type": "execute_result"
    }
   ],
   "source": [
    "jacob_beta_phi_xy"
   ]
  },
  {
   "cell_type": "code",
   "execution_count": 77,
   "metadata": {},
   "outputs": [
    {
     "ename": "NameError",
     "evalue": "name 'epsilon_sigma' is not defined",
     "output_type": "error",
     "traceback": [
      "\u001b[0;31m---------------------------------------------------------------------------\u001b[0m",
      "\u001b[0;31mNameError\u001b[0m                                 Traceback (most recent call last)",
      "\u001b[0;32m<ipython-input-77-f371eae6b02d>\u001b[0m in \u001b[0;36m<module>\u001b[0;34m\u001b[0m\n\u001b[0;32m----> 1\u001b[0;31m get_beta_x_jac([beta[0],beta[1],0.05, fot_phi[0],fot_phi[1],0.5, gamma, epsilon_sigma]) @ np.diag([beta_sigma[0]**2, beta_sigma[1]**2, 8e-4**2, fot_phi_sigma[0]**2, fot_phi_sigma[1]**2, \n\u001b[0m\u001b[1;32m      2\u001b[0m                         0.1**2, gamma_sigma**2, epsilon_sigma**2 ])\n",
      "\u001b[0;31mNameError\u001b[0m: name 'epsilon_sigma' is not defined"
     ]
    }
   ],
   "source": [
    "get_beta_x_jac([beta[0],beta[1],0.05, fot_phi[0],fot_phi[1],0.5, gamma, epsilon_sigma]) @ np.diag([beta_sigma[0]**2, beta_sigma[1]**2, 8e-4**2, fot_phi_sigma[0]**2, fot_phi_sigma[1]**2, \n",
    "                        0.1**2, gamma_sigma**2, epsilon_sigma**2 ])"
   ]
  },
  {
   "cell_type": "code",
   "execution_count": 32,
   "metadata": {},
   "outputs": [
    {
     "ename": "NameError",
     "evalue": "name 'epsilon_sigma' is not defined",
     "output_type": "error",
     "traceback": [
      "\u001b[0;31m---------------------------------------------------------------------------\u001b[0m",
      "\u001b[0;31mNameError\u001b[0m                                 Traceback (most recent call last)",
      "\u001b[0;32m<ipython-input-32-370a35fa595c>\u001b[0m in \u001b[0;36m<module>\u001b[0;34m\u001b[0m\n\u001b[1;32m      1\u001b[0m get_beta_x_jac([beta[0],beta[1],0.05, fot_phi[0],fot_phi[1],0.5, gamma, epsilon_sigma]) @ np.diag([beta_sigma[0]**2, beta_sigma[1]**2, 8e-4**2, fot_phi_sigma[0]**2, fot_phi_sigma[1]**2, \n\u001b[0;32m----> 2\u001b[0;31m                         0.1**2, gamma_sigma**2, epsilon_sigma**2 ]) @ np.transpose( get_beta_x_jac([beta[0],beta[1],0.05, fot_phi[0],fot_phi[1],0.5, gamma, epsilon_sigma]) )\n\u001b[0m",
      "\u001b[0;31mNameError\u001b[0m: name 'epsilon_sigma' is not defined"
     ]
    }
   ],
   "source": [
    "get_beta_x_jac([beta[0],beta[1],0.05, fot_phi[0],fot_phi[1],0.5, gamma, epsilon_sigma]) @ np.diag([beta_sigma[0]**2, beta_sigma[1]**2, 8e-4**2, fot_phi_sigma[0]**2, fot_phi_sigma[1]**2, \n",
    "                        0.1**2, gamma_sigma**2, epsilon_sigma**2 ]) @ np.transpose( get_beta_x_jac([beta[0],beta[1],0.05, fot_phi[0],fot_phi[1],0.5, gamma, epsilon_sigma]) )"
   ]
  },
  {
   "cell_type": "markdown",
   "metadata": {},
   "source": [
    "## transformace do soustavy $(xyz)^{\\prime}$"
   ]
  },
  {
   "cell_type": "code",
   "execution_count": 33,
   "metadata": {},
   "outputs": [],
   "source": [
    "def get_beta_xyz_prime(variables):\n",
    "    beta_complex_xyz = variables[:3] * np.exp(1j*variables[3:6])\n",
    "    return(  np.abs( 1/np.sqrt(2) * np.array( [ [1,-1,0], [1,1,0], [0,0,np.sqrt(2)] ] ) @ beta_complex_xyz ) )\n",
    "\n",
    "def get_phi_xyz_prime(variables):\n",
    "    beta_complex_xyz = variables[:3] * np.exp(1j*variables[3:6])\n",
    "    return(  np.angle( 1/np.sqrt(2) * np.array( [ [1,-1,0], [1,1,0], [0,0,np.sqrt(2)] ] ) @ beta_complex_xyz ) )\n",
    "\n",
    "def get_beta_x_prime(variables):\n",
    "    #input: variables: = [beta_x, beta_y , betaz, phi_x, phi_y, phi_z]\n",
    "    beta_complex_xyz = variables[:3] * np.exp(1j*variables[3:6])\n",
    "    return(  np.abs( 1/np.sqrt(2) * np.array( [ [1,-1,0], [1,1,0], [0,0,np.sqrt(2)] ] ) @ beta_complex_xyz )[0] )  \n",
    "\n",
    "def get_phi_x_prime(variables):\n",
    "    #input: variables: = [beta_x, beta_y , betaz, phi_x, phi_y, phi_z]\n",
    "    beta_complex_xyz = variables[:3] * np.exp(1j*variables[3:6])\n",
    "    return(  np.angle( 1/np.sqrt(2) * np.array( [ [1,-1,0], [1,1,0], [0,0,np.sqrt(2)] ] ) @ beta_complex_xyz )[0] )\n",
    "\n",
    "def get_beta_y_prime(variables):\n",
    "    #input: variables: = [beta_x, beta_y , betaz, phi_x, phi_y, phi_z]\n",
    "    beta_complex_xyz = variables[:3] * np.exp(1j*variables[3:6])\n",
    "    return(  np.abs( 1/np.sqrt(2) * np.array( [ [1,-1,0], [1,1,0], [0,0,np.sqrt(2)] ] ) @ beta_complex_xyz )[1] )  \n",
    "\n",
    "def get_phi_y_prime(variables):\n",
    "    #input: variables: = [beta_x, beta_y , betaz, phi_x, phi_y, phi_z]\n",
    "    beta_complex_xyz = variables[:3] * np.exp(1j*variables[3:6])\n",
    "    return(  np.angle( 1/np.sqrt(2) * np.array( [ [1,-1,0], [1,1,0], [0,0,np.sqrt(2)] ] ) @ beta_complex_xyz )[1] )\n",
    "\n",
    "def get_beta_z_prime(variables):\n",
    "    #input: variables: = [beta_x, beta_y , betaz, phi_x, phi_y, phi_z]\n",
    "    beta_complex_xyz = variables[:3] * np.exp(1j*variables[3:6])\n",
    "    return(  np.abs( 1/np.sqrt(2) * np.array( [ [1,-1,0], [1,1,0], [0,0,np.sqrt(2)] ] ) @ beta_complex_xyz )[2] )  \n",
    "\n",
    "def get_phi_z_prime(variables):\n",
    "    #input: variables: = [beta_x, beta_y , betaz, phi_x, phi_y, phi_z]\n",
    "    beta_complex_xyz = variables[:3] * np.exp(1j*variables[3:6])\n",
    "    return(  np.angle( 1/np.sqrt(2) * np.array( [ [1,-1,0], [1,1,0], [0,0,np.sqrt(2)] ] ) @ beta_complex_xyz )[2] )\n",
    "\n",
    "def get_beta_x_prime_jac(variables):\n",
    "    #input: variables: = [beta_x, beta_y , betaz, phi_x, phi_y, phi_z]\n",
    "    \n",
    "    epsi_err = 1e-8\n",
    "    return( approx_fprime(variables, get_beta_x_prime, epsi_err) )\n",
    "\n",
    "def get_phi_x_prime_jac(variables):\n",
    "    #input: variables: = [beta_x, beta_y , betaz, phi_x, phi_y, phi_z]\n",
    "    \n",
    "    epsi_err = 1e-8\n",
    "    return( approx_fprime(variables, get_phi_x_prime, epsi_err) ) \n",
    "           \n",
    "def get_beta_y_prime_jac(variables):\n",
    "    #input: variables: = [beta_x, beta_y , betaz, phi_x, phi_y, phi_z]\n",
    "    \n",
    "    epsi_err = 1e-8\n",
    "    return( approx_fprime(variables, get_beta_y_prime, epsi_err) )\n",
    "\n",
    "def get_phi_y_prime_jac(variables):\n",
    "    #input: variables: = [beta_x, beta_y , betaz, phi_x, phi_y, phi_z]\n",
    "    \n",
    "    epsi_err = 1e-8\n",
    "    return( approx_fprime(variables, get_phi_y_prime, epsi_err) )\n",
    "           \n",
    "def get_beta_z_prime_jac(variables):\n",
    "    #input: variables: = [beta_x, beta_y , betaz, phi_x, phi_y, phi_z]\n",
    "    \n",
    "    epsi_err = 1e-8\n",
    "    return( approx_fprime(variables, get_beta_z_prime, epsi_err) )\n",
    "\n",
    "def get_phi_z_prime_jac(variables):\n",
    "    #input: variables: = [beta_x, beta_y , betaz, phi_x, phi_y, phi_z]\n",
    "    \n",
    "    epsi_err = 1e-8\n",
    "    return( approx_fprime(variables, get_phi_z_prime, epsi_err) )\n",
    "\n",
    "def get_beta_x_y_phi_x_y_prime_jacob(variables):\n",
    "    #input: beta = [beta_z, beta_xz, beta_xy]  variables = [beta, fot_phi, gamma]\n",
    "    #       fot_phi = [phi_z, phi_xz, phi_xy]\n",
    "    # output: jacobian \n",
    "    \n",
    "    return( np.array([ get_beta_x_prime_jac(variables), get_beta_y_prime_jac(variables), get_beta_z_prime_jac(variables),\n",
    "                      get_phi_x_prime_jac(variables), get_phi_y_prime_jac(variables),\n",
    "                     get_phi_z_prime_jac(variables)])\n",
    "          )"
   ]
  },
  {
   "cell_type": "markdown",
   "metadata": {},
   "source": [
    "funkce transformuji beta do jine soustavy dle matice transformace"
   ]
  },
  {
   "cell_type": "markdown",
   "metadata": {},
   "source": [
    "jednotlive slozky maji amplitydy a faze:"
   ]
  },
  {
   "cell_type": "code",
   "execution_count": 34,
   "metadata": {},
   "outputs": [
    {
     "data": {
      "text/plain": [
       "array([0.00250374, 0.00444607, 0.00500949])"
      ]
     },
     "execution_count": 34,
     "metadata": {},
     "output_type": "execute_result"
    }
   ],
   "source": [
    "beta_xyz_prime = get_beta_xyz_prime(np.array( [beta_xyz[0],beta_xyz[1],beta_xyz[2], phi_xyz[0], phi_xyz[1], phi_xyz[2] ] ))\n",
    "beta_xyz_prime"
   ]
  },
  {
   "cell_type": "code",
   "execution_count": 35,
   "metadata": {},
   "outputs": [
    {
     "data": {
      "text/plain": [
       "array([ 2.19508593,  3.01326027, -1.13269753])"
      ]
     },
     "execution_count": 35,
     "metadata": {},
     "output_type": "execute_result"
    }
   ],
   "source": [
    "phi_xyz_prime = get_phi_xyz_prime(np.array( [beta_xyz[0],beta_xyz[1],beta_xyz[2], phi_xyz[0], phi_xyz[1], phi_xyz[2] ] ))\n",
    "phi_xyz_prime"
   ]
  },
  {
   "cell_type": "markdown",
   "metadata": {},
   "source": [
    "sireni nejistot: jacobian bude vypadat takto: $R \\cdot \\partial b_i /\\partial \\rm params $"
   ]
  },
  {
   "cell_type": "code",
   "execution_count": 36,
   "metadata": {},
   "outputs": [
    {
     "name": "stdout",
     "output_type": "stream",
     "text": [
      "            0           1    2         3         4             5\n",
      "0    0.610216   -0.115101  0.0 -0.001623  0.001623  0.000000e+00\n",
      "1    0.677882    0.587911  0.0  0.000914 -0.000914  0.000000e+00\n",
      "2    0.000000    0.000000  1.0  0.000000  0.000000  8.673617e-11\n",
      "3  142.690846 -278.653076  0.0  1.106917 -0.106917  0.000000e+00\n",
      "4  -45.250667   88.367293  0.0  0.692468  0.307532  0.000000e+00\n",
      "5    0.000000    0.000000  0.0  0.000000  0.000000  1.000000e+00\n"
     ]
    }
   ],
   "source": [
    "# jacobian\n",
    "# jacob_xyz_xyz_prime = trans_xyz_xyz_prime @ np.array( [ [np.exp(1j*phi_xyz[0]), 0, 0, 1j*beta_xyz[0]* np.exp(1j*phi_xyz[0]), 0, 0],\n",
    "#             [0, np.exp(1j*phi_xyz[1]), 0, 0, 1j*beta_xyz[1]* np.exp(1j*phi_xyz[1]), 0],\n",
    "#             [0, 0, np.exp(1j*phi_xyz[2]), 0, 0, 1j*beta_xyz[2]* np.exp(1j*phi_xyz[2])]\n",
    "#           ] )\n",
    "# jacob_xyz_xyz_prime\n",
    "\n",
    "jacob_xyz_xyz_prime = get_beta_x_y_phi_x_y_prime_jacob(np.array( [beta_xyz[0],beta_xyz[1],beta_xyz[2], phi_xyz[0], phi_xyz[1], phi_xyz[2] ] ))\n",
    "print( DataFrame(jacob_xyz_xyz_prime) )"
   ]
  },
  {
   "cell_type": "code",
   "execution_count": 37,
   "metadata": {},
   "outputs": [
    {
     "name": "stdout",
     "output_type": "stream",
     "text": [
      "              0             1             2         3         4         5\n",
      "0  3.349145e-06  7.508734e-07  0.000000e+00 -0.000067 -0.000464  0.000000\n",
      "1  7.508734e-07  7.104224e-07  0.000000e+00  0.000165  0.000124  0.000000\n",
      "2  0.000000e+00  0.000000e+00  8.418366e-07  0.000000  0.000000  0.000000\n",
      "3 -6.706548e-05  1.650661e-04  0.000000e+00  0.130551  0.072819  0.000000\n",
      "4 -4.644555e-04  1.243366e-04  0.000000e+00  0.072819  0.188252  0.000000\n",
      "5  0.000000e+00  0.000000e+00  0.000000e+00  0.000000  0.000000  0.033488\n",
      "              0             1         2         3\n",
      "0  3.349145e-06  7.508734e-07 -0.000067 -0.000464\n",
      "1  7.508734e-07  7.104224e-07  0.000165  0.000124\n",
      "2 -6.706548e-05  1.650661e-04  0.130551  0.072819\n",
      "3 -4.644555e-04  1.243366e-04  0.072819  0.188252\n"
     ]
    }
   ],
   "source": [
    "sigma_beta_phi_xy_trans = np.zeros((6,6))\n",
    "\n",
    "sigma_beta_phi_xy_trans[:2,:2] = sigma_beta_phi_xy[:2,:2]\n",
    "sigma_beta_phi_xy_trans[2,2] = beta_xyz_sigma[2]**2\n",
    "sigma_beta_phi_xy_trans[0, 3:5] = sigma_beta_phi_xy[0,2:4]\n",
    "sigma_beta_phi_xy_trans[1, 3:5] = sigma_beta_phi_xy[1,2:4]\n",
    "sigma_beta_phi_xy_trans[3, 3:5] = sigma_beta_phi_xy[2,2:4]\n",
    "sigma_beta_phi_xy_trans[4, 3:5] = sigma_beta_phi_xy[3,2:4]\n",
    "sigma_beta_phi_xy_trans[5,5] = phi_xyz_sigma[2]**2\n",
    "\n",
    "for i in range(6):\n",
    "    for k in range(i):\n",
    "        sigma_beta_phi_xy_trans[i,k] = sigma_beta_phi_xy_trans[k,i]\n",
    "        \n",
    "print( DataFrame(sigma_beta_phi_xy_trans) )\n",
    "print( DataFrame(sigma_beta_phi_xy) )"
   ]
  },
  {
   "cell_type": "code",
   "execution_count": 38,
   "metadata": {},
   "outputs": [],
   "source": [
    "# sireni chyb:\n",
    "sigma_beta_phi_xyz_prime = jacob_xyz_xyz_prime @ sigma_beta_phi_xy_trans @ np.transpose( jacob_xyz_xyz_prime ) "
   ]
  },
  {
   "cell_type": "code",
   "execution_count": 39,
   "metadata": {},
   "outputs": [],
   "source": [
    "beta_xyz_prime_sigma = np.sqrt( np.diag(sigma_beta_phi_xyz_prime)[:3] ) \n",
    "phi_xyz_prime_sigma = np.sqrt(  np.diag(sigma_beta_phi_xyz_prime)[3:6] ) "
   ]
  },
  {
   "cell_type": "code",
   "execution_count": 40,
   "metadata": {},
   "outputs": [
    {
     "name": "stdout",
     "output_type": "stream",
     "text": [
      "[0.00250374 0.00444607 0.00500949]\n",
      "[0.0009139  0.00175034 0.00091752]\n",
      "[ 2.19508593  3.01326027 -1.13269753]\n",
      "[0.32723691 0.4023786  0.18299861]\n"
     ]
    }
   ],
   "source": [
    "print(beta_xyz_prime)\n",
    "print(beta_xyz_prime_sigma)\n",
    "print(phi_xyz_prime)\n",
    "print(phi_xyz_prime_sigma)"
   ]
  },
  {
   "cell_type": "code",
   "execution_count": 41,
   "metadata": {},
   "outputs": [
    {
     "data": {
      "text/plain": [
       "array([0.32723691, 0.4023786 ])"
      ]
     },
     "execution_count": 41,
     "metadata": {},
     "output_type": "execute_result"
    }
   ],
   "source": [
    "np.sqrt( np.diag(sigma_beta_phi_xyz_prime)[3:-1])"
   ]
  },
  {
   "cell_type": "code",
   "execution_count": 42,
   "metadata": {},
   "outputs": [
    {
     "data": {
      "text/plain": [
       "array([[ 8.35218196e-07,  1.03271044e-06,  0.00000000e+00,\n",
       "        -5.74118395e-05, -1.72289391e-04,  0.00000000e+00],\n",
       "       [ 1.03271044e-06,  3.06369006e-06,  0.00000000e+00,\n",
       "         3.22780361e-04, -8.84991204e-05,  0.00000000e+00],\n",
       "       [ 0.00000000e+00,  0.00000000e+00,  8.41836647e-07,\n",
       "         0.00000000e+00,  0.00000000e+00,  2.90466372e-12],\n",
       "       [-5.74118395e-05,  3.22780361e-04,  0.00000000e+00,\n",
       "         1.07083997e-01,  3.96624922e-02,  0.00000000e+00],\n",
       "       [-1.72289391e-04, -8.84991204e-05,  0.00000000e+00,\n",
       "         3.96624922e-02,  1.61908539e-01,  0.00000000e+00],\n",
       "       [ 0.00000000e+00,  0.00000000e+00,  2.90466372e-12,\n",
       "         0.00000000e+00,  0.00000000e+00,  3.34884924e-02]])"
      ]
     },
     "execution_count": 42,
     "metadata": {},
     "output_type": "execute_result"
    }
   ],
   "source": [
    "sigma_beta_phi_xyz_prime"
   ]
  },
  {
   "cell_type": "markdown",
   "metadata": {},
   "source": [
    "## sedi, ok, ale neuvazuju korelaci mezi beta_z a phi_z, takze neni to idealka"
   ]
  },
  {
   "cell_type": "markdown",
   "metadata": {},
   "source": [
    "## vypocet elektrickeho pole"
   ]
  },
  {
   "cell_type": "code",
   "execution_count": 43,
   "metadata": {},
   "outputs": [],
   "source": [
    "# dalsi parametry\n",
    "m = 40 * 1.66053904e-27 # calcium mass\n",
    "k_vec = 2*np.pi * 1/(397e-9) # wave vector\n",
    "e = 1.60217662e-19 # elem charge"
   ]
  },
  {
   "cell_type": "code",
   "execution_count": 44,
   "metadata": {},
   "outputs": [
    {
     "name": "stdout",
     "output_type": "stream",
     "text": [
      "[4.2373601  2.16984595 4.67377547]\n",
      "[1.70928656 0.78744095 0.86054229]\n"
     ]
    },
    {
     "data": {
      "text/plain": [
       "array([1.70742225, 0.78637965, 0.85602778])"
      ]
     },
     "execution_count": 44,
     "metadata": {},
     "output_type": "execute_result"
    }
   ],
   "source": [
    "# get E-fields\n",
    "E_rf = (m*Omega**2 / (k_vec*e)) * beta_xyz\n",
    "E_rf_sigma = np.sqrt( (beta_xyz_sigma*m*Omega**2 / (k_vec*e))**2 + (2*m*Omega / (k_vec*e) * beta_xyz * Omega_sigma)**2  ) # propagase chyb\n",
    "\n",
    "print(E_rf)\n",
    "print(E_rf_sigma)\n",
    "m*Omega**2/(e*k_vec) * beta_xyz_sigma"
   ]
  },
  {
   "cell_type": "markdown",
   "metadata": {},
   "source": [
    "jak velkou roli hraje nejistota omega?"
   ]
  },
  {
   "cell_type": "code",
   "execution_count": 45,
   "metadata": {},
   "outputs": [
    {
     "data": {
      "text/plain": [
       "array([0.00054624, 0.00067526, 0.00264385])"
      ]
     },
     "execution_count": 45,
     "metadata": {},
     "output_type": "execute_result"
    }
   ],
   "source": [
    "beta_xyz**2 / Omega**2 * Omega_sigma**2 / beta_xyz_sigma**2"
   ]
  },
  {
   "cell_type": "markdown",
   "metadata": {},
   "source": [
    "vidim, ze desetina procenta prislusi nejistote omega"
   ]
  },
  {
   "cell_type": "markdown",
   "metadata": {},
   "source": [
    "# Odhad freq. posuvu"
   ]
  },
  {
   "cell_type": "markdown",
   "metadata": {},
   "source": [
    "## Doppler shift"
   ]
  },
  {
   "cell_type": "code",
   "execution_count": 46,
   "metadata": {},
   "outputs": [
    {
     "name": "stdout",
     "output_type": "stream",
     "text": [
      "-2.022418661556924e-20\n"
     ]
    }
   ],
   "source": [
    "c = 299792458 # rychlost svetla\n",
    "\n",
    "doppler_2nd_EMM = - (Omega /(2*c*k_vec))**2 * sum(beta_xyz**2)\n",
    "print(doppler_2nd_EMM)"
   ]
  },
  {
   "cell_type": "markdown",
   "metadata": {},
   "source": [
    "nejistota"
   ]
  },
  {
   "cell_type": "code",
   "execution_count": 47,
   "metadata": {},
   "outputs": [
    {
     "name": "stdout",
     "output_type": "stream",
     "text": [
      "              0             1             2             3\n",
      "0  3.158935e+12  0.000000e+00  0.000000e+00  0.000000e+00\n",
      "1  0.000000e+00  3.349145e-06  7.508734e-07  0.000000e+00\n",
      "2  0.000000e+00  7.508734e-07  7.104224e-07  0.000000e+00\n",
      "3  0.000000e+00  0.000000e+00  0.000000e+00  8.418366e-07\n"
     ]
    },
    {
     "data": {
      "text/html": [
       "<div>\n",
       "<style scoped>\n",
       "    .dataframe tbody tr th:only-of-type {\n",
       "        vertical-align: middle;\n",
       "    }\n",
       "\n",
       "    .dataframe tbody tr th {\n",
       "        vertical-align: top;\n",
       "    }\n",
       "\n",
       "    .dataframe thead th {\n",
       "        text-align: right;\n",
       "    }\n",
       "</style>\n",
       "<table border=\"1\" class=\"dataframe\">\n",
       "  <thead>\n",
       "    <tr style=\"text-align: right;\">\n",
       "      <th></th>\n",
       "      <th>0</th>\n",
       "      <th>1</th>\n",
       "      <th>2</th>\n",
       "      <th>3</th>\n",
       "    </tr>\n",
       "  </thead>\n",
       "  <tbody>\n",
       "    <tr>\n",
       "      <td>0</td>\n",
       "      <td>3.349145e-06</td>\n",
       "      <td>7.508734e-07</td>\n",
       "      <td>-0.000067</td>\n",
       "      <td>-0.000464</td>\n",
       "    </tr>\n",
       "    <tr>\n",
       "      <td>1</td>\n",
       "      <td>7.508734e-07</td>\n",
       "      <td>7.104224e-07</td>\n",
       "      <td>0.000165</td>\n",
       "      <td>0.000124</td>\n",
       "    </tr>\n",
       "    <tr>\n",
       "      <td>2</td>\n",
       "      <td>-6.706548e-05</td>\n",
       "      <td>1.650661e-04</td>\n",
       "      <td>0.130551</td>\n",
       "      <td>0.072819</td>\n",
       "    </tr>\n",
       "    <tr>\n",
       "      <td>3</td>\n",
       "      <td>-4.644555e-04</td>\n",
       "      <td>1.243366e-04</td>\n",
       "      <td>0.072819</td>\n",
       "      <td>0.188252</td>\n",
       "    </tr>\n",
       "  </tbody>\n",
       "</table>\n",
       "</div>"
      ],
      "text/plain": [
       "              0             1         2         3\n",
       "0  3.349145e-06  7.508734e-07 -0.000067 -0.000464\n",
       "1  7.508734e-07  7.104224e-07  0.000165  0.000124\n",
       "2 -6.706548e-05  1.650661e-04  0.130551  0.072819\n",
       "3 -4.644555e-04  1.243366e-04  0.072819  0.188252"
      ]
     },
     "execution_count": 47,
     "metadata": {},
     "output_type": "execute_result"
    }
   ],
   "source": [
    "jacob_doppler_EMM = - Omega/(2*c**2 * k_vec**2) * np.array( [sum(beta_xyz**2), Omega * beta_xyz[0], \n",
    "                                                             Omega* beta_xyz[1], Omega* beta_xyz[2]] )\n",
    "sigma_doppler_EMM_propagation = np.zeros((4,4))\n",
    "sigma_doppler_EMM_propagation[0,0] = Omega_sigma**2\n",
    "sigma_doppler_EMM_propagation[1,1:3] = sigma_beta_phi_xy[0,:2]\n",
    "sigma_doppler_EMM_propagation[2,1:3] = sigma_beta_phi_xy[1,:2]\n",
    "sigma_doppler_EMM_propagation[3,3] = beta_xyz_sigma[2]**2\n",
    "\n",
    "DataFrame(jacob_doppler_EMM)\n",
    "print( DataFrame(sigma_doppler_EMM_propagation) )\n",
    "DataFrame(sigma_beta_phi_xy)"
   ]
  },
  {
   "cell_type": "code",
   "execution_count": 48,
   "metadata": {},
   "outputs": [
    {
     "data": {
      "text/plain": [
       "8.302340538150144e-21"
      ]
     },
     "execution_count": 48,
     "metadata": {},
     "output_type": "execute_result"
    }
   ],
   "source": [
    "doppler_2nd_EMM_sigma = np.sqrt( jacob_doppler_EMM @ sigma_doppler_EMM_propagation @ np.transpose(jacob_doppler_EMM) )\n",
    "doppler_2nd_EMM_sigma"
   ]
  },
  {
   "cell_type": "code",
   "execution_count": null,
   "metadata": {},
   "outputs": [],
   "source": []
  }
 ],
 "metadata": {
  "kernelspec": {
   "display_name": "Python 3",
   "language": "python",
   "name": "python3"
  },
  "language_info": {
   "codemirror_mode": {
    "name": "ipython",
    "version": 3
   },
   "file_extension": ".py",
   "mimetype": "text/x-python",
   "name": "python",
   "nbconvert_exporter": "python",
   "pygments_lexer": "ipython3",
   "version": "3.7.4"
  }
 },
 "nbformat": 4,
 "nbformat_minor": 4
}
