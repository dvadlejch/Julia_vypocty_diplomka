{
 "cells": [
  {
   "cell_type": "markdown",
   "metadata": {},
   "source": [
    "# Algoritmus minimalizace EMM"
   ]
  },
  {
   "cell_type": "markdown",
   "metadata": {},
   "source": [
    "Tento nb slouží k usnadnění procesu minimalizace EMM. "
   ]
  },
  {
   "cell_type": "code",
   "execution_count": 1,
   "metadata": {},
   "outputs": [],
   "source": [
    "# Setup some Jupyter env features\n",
    "%load_ext autoreload\n",
    "%autoreload 2\n",
    "%matplotlib inline"
   ]
  },
  {
   "cell_type": "code",
   "execution_count": 10,
   "metadata": {},
   "outputs": [],
   "source": [
    "import numpy as np\n",
    "\n",
    "####################### vstup\n",
    "\n",
    "# data z picoharpu ve formatu: array(  ) sloupce: jednotlive histogramy -- posledni radek nula\n",
    "# [data jednotlivych hist, cislo histogramy]\n",
    "fotkor = np.genfromtxt(\"axial_EMM_10_03_2020_part1_delim.txt\", delimiter=\"\\t\")[:,:8]\n",
    "\n",
    "# napeti ve formatu: array() radky odpovidaji jednotlivym histogramum, radek: [U_+, U_-, U_komp_x, U_komp_y], \\nu = U_+ - U_- / soucet\n",
    "# [cislo histogramy, [U_+, U_-, U_komp_x, U_komp_y]]\n",
    "voltages = np.genfromtxt(\"axial_EMM_10_03_2020_part1_voltages.txt\", delimiter=\"\\t\")\n",
    "\n",
    "\n",
    "# parametry odecitani foton-korelacnich dat\n",
    "t_res = 256e-12  # casove rozliseni histogramu v s\n",
    "t_measure = 150 # doba nacitani dat v s\n",
    "background_photocounts = 400 # ph/s  tyto fotony jsou rovnomerne rozdeleny v prubehu RF periody\n"
   ]
  },
  {
   "cell_type": "code",
   "execution_count": null,
   "metadata": {},
   "outputs": [],
   "source": []
  },
  {
   "cell_type": "code",
   "execution_count": null,
   "metadata": {},
   "outputs": [],
   "source": []
  },
  {
   "cell_type": "code",
   "execution_count": null,
   "metadata": {},
   "outputs": [],
   "source": []
  }
 ],
 "metadata": {
  "kernelspec": {
   "display_name": "Python 3",
   "language": "python",
   "name": "python3"
  },
  "language_info": {
   "codemirror_mode": {
    "name": "ipython",
    "version": 3
   },
   "file_extension": ".py",
   "mimetype": "text/x-python",
   "name": "python",
   "nbconvert_exporter": "python",
   "pygments_lexer": "ipython3",
   "version": "3.7.4"
  }
 },
 "nbformat": 4,
 "nbformat_minor": 4
}
